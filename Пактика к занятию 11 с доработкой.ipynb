{
 "cells": [
  {
   "cell_type": "markdown",
   "metadata": {
    "id": "pDrecLU-4QjS"
   },
   "source": [
    "# Практика"
   ]
  },
  {
   "cell_type": "markdown",
   "metadata": {
    "id": "gUvTNDlMaV-a"
   },
   "source": [
    "## Определение вероятности. События\n",
    "\n",
    "Требуется сгенерировать необходимые выборки и произвести по ним расчеты"
   ]
  },
  {
   "cell_type": "markdown",
   "metadata": {
    "id": "5V70InEBTgup"
   },
   "source": [
    "### Задача 1\n",
    "Брошено две монеты. Найти вероятность того, что монеты выпали разными сторонами"
   ]
  },
  {
   "cell_type": "code",
   "execution_count": 52,
   "metadata": {
    "id": "88Iw-SL3jYQV"
   },
   "outputs": [],
   "source": [
    "import pandas as pd\n",
    "import numpy as np\n",
    "import matplotlib.pyplot as plt\n",
    "import random\n",
    "import scipy.stats as sts\n",
    "%matplotlib inline\n",
    "from itertools import product,combinations\n",
    "import warnings\n",
    "warnings.filterwarnings('ignore')"
   ]
  },
  {
   "cell_type": "code",
   "execution_count": 53,
   "metadata": {},
   "outputs": [
    {
     "name": "stdout",
     "output_type": "stream",
     "text": [
      "Монеты выпали разными сторонами\n"
     ]
    }
   ],
   "source": [
    "import random\n",
    "\n",
    "# определяем список возможных исходов\n",
    "outcomes = ['орел-орел', 'орел-решка', 'решка-орел', 'решка-решка']\n",
    "\n",
    "# генерируем случайный исход из списка \n",
    "outcome = random.choice(outcomes)\n",
    "\n",
    "# выводим результат\n",
    "if outcome == 'орел-решка' or outcome == 'решка-орел':\n",
    "    print('Монеты выпали разными сторонами')\n",
    "else:\n",
    "    print('Монеты выпали одной стороной')"
   ]
  },
  {
   "cell_type": "code",
   "execution_count": 68,
   "metadata": {},
   "outputs": [
    {
     "name": "stdout",
     "output_type": "stream",
     "text": [
      "Вероятность того, что монеты выпали разными сторонами = 0.50054\n"
     ]
    }
   ],
   "source": [
    "#определяем возможные исходы по каждой  монете\n",
    "M1 = ['Орел', 'Решка']\n",
    "M2 = ['Орел', 'Решка']\n",
    "\n",
    "# задаем число экспериментов\n",
    "n = 100000\n",
    "x = 0\n",
    "\n",
    "for i in range(n):\n",
    "    if random.choice(M1) != random.choice(M2):\n",
    "    x += 1\n",
    "#P = x/n\n",
    "print('Вероятность того, что монеты выпали разными сторонами =', x/n)\n",
    "#print(f'Вероятность того, что монеты выпали разными сторонами {P}')"
   ]
  },
  {
   "cell_type": "markdown",
   "metadata": {
    "id": "t0XOMos2Tl0e"
   },
   "source": [
    "### Задача 2\n",
    "Брошено три монеты. Описать множество всех элементарных событий. Найти вероятности следующих событий:\n",
    "\n",
    "\n",
    "1.   A = {не выпало ни одного герба}\n",
    "2.   B = {выпало четное число гербов}\n",
    "3.   C = {на третьей монете выпал герб}\n"
   ]
  },
  {
   "cell_type": "code",
   "execution_count": 70,
   "metadata": {},
   "outputs": [
    {
     "name": "stdout",
     "output_type": "stream",
     "text": [
      "Mножество всех элементарных событий: \n",
      " [0 0 0 0 1 1 1 1] \n",
      " [0 0 1 1 0 0 1 1] \n",
      " [0 1 0 1 0 1 0 1]\n",
      "Вероятность события A = 0.12439\n",
      "Вероятность события B = 0.37515\n",
      "Вероятность события C = 0.50183\n"
     ]
    }
   ],
   "source": [
    "#определяем количество испытаний\n",
    "n = 100000\n",
    "A = 0\n",
    "B = 0\n",
    "C = 0\n",
    "\n",
    "M1 = [random.choice(range(0,2)) for i in range(n)]\n",
    "M2 = [random.choice(range(0,2)) for i in range(n)] \n",
    "M3 = [random.choice(range(0,2)) for i in range(n)] \n",
    "\n",
    "#определем вероятность\n",
    "for i in range(n):\n",
    "    if M1[i]== 1 and M2[i]==1 and M3[i]==1: #не выпало ни одного герба\n",
    "        A += 1 \n",
    "    if (M1[i]==1 and M2[i]==0 and M3[i]==0) or (M1[i]==0 and M2[i]==1 and M3[i]==0) or (M1[i]==0 and M2[i]== 0 and M3[i]==1): #выпало четное число гербов\n",
    "        B += 1\n",
    "    if M3[i] == 0: #на третьей монете выпал герб\n",
    "        C += 1 \n",
    "        \n",
    "uniq_events = np.unique ([M1, M2, M3], axis=1)\n",
    "\n",
    "print('Mножество всех элементарных событий: \\n', uniq_events[0],'\\n', uniq_events[1], '\\n', uniq_events[2])\n",
    "print('Вероятность события A =', A/n)\n",
    "print('Вероятность события B =', B/n)\n",
    "print('Вероятность события C =', C/n)\n",
    "\n",
    "\n",
    "\n"
   ]
  },
  {
   "cell_type": "markdown",
   "metadata": {},
   "source": [
    "Предлагается также решить задачи: \n",
    "\n",
    "### Задача 3\n",
    "Из двух претендентов E и L на ответственную должность три члена комиссии должны отобрать одного. Каждый член комиссии должен указать либо одного достойного, либо забраковать обоих. Претендент считается выбранным, если он был признана достойным хотя бы двумя членами комиссии.\n",
    "Найти вероятность событий:\n",
    "\n",
    "A = {рекомендован L}, B = {рекомендован E}\n"
   ]
  },
  {
   "cell_type": "code",
   "execution_count": 27,
   "metadata": {},
   "outputs": [
    {
     "name": "stdout",
     "output_type": "stream",
     "text": [
      "Вероятность события A (рекомендован L): 0.375\n",
      "Вероятность события B (рекомендован E): 0.375\n"
     ]
    }
   ],
   "source": [
    "# составляем все возможные комбинации решений каждого члена комиссии\n",
    "all_solutions = list(product(['рекомендован', 'не рекомендован'], repeat=3))\n",
    "\n",
    "# находим количество комбинаций, в которых L признан достойным хотя бы двумя членами комиссии\n",
    "count_L = 0\n",
    "for solution in all_solutions:\n",
    "    if solution.count('рекомендован') >= 2 and solution.count('не рекомендован') == 1 and solution[0] != 'approve':\n",
    "        count_L += 1\n",
    "\n",
    "# находим количество комбинаций, в которых E признан достойным хотя бы двумя членами комиссии\n",
    "count_E = 0\n",
    "for solution in all_solutions:\n",
    "    if solution.count('рекомендован') >= 2 and solution.count('не рекомендован') == 1 and solution[0] != 'approve':\n",
    "        count_E += 1\n",
    "\n",
    "# находим вероятность событий\n",
    "P_A = count_L / len(all_solutions)\n",
    "P_B = count_E / len(all_solutions)\n",
    "\n",
    "print(\"Вероятность события A (рекомендован L):\", P_A)\n",
    "print(\"Вероятность события B (рекомендован E):\", P_B)\n"
   ]
  },
  {
   "cell_type": "markdown",
   "metadata": {
    "id": "peM38mVfYa5B"
   },
   "source": [
    "### Задача 4\n",
    "Брошено две игральных кости. Описать множество элементарных событий. Найти вероятности событий:\n",
    "\n",
    "A = {вышло две \"шестерки\"}\n",
    "\n",
    "B = {сумма выпавших очков не меньше 11}\n",
    "\n",
    "C = {не выпала ни одна \"шестерка\"}"
   ]
  },
  {
   "cell_type": "code",
   "execution_count": 65,
   "metadata": {},
   "outputs": [
    {
     "name": "stdout",
     "output_type": "stream",
     "text": [
      "Mножество элементарных событий:  \n",
      " [1 1 1 1 1 1 2 2 2 2 2 2 3 3 3 3 3 3 4 4 4 4 4 4 5 5 5 5 5 5 6 6 6 6 6 6] \n",
      " [1 2 3 4 5 6 1 2 3 4 5 6 1 2 3 4 5 6 1 2 3 4 5 6 1 2 3 4 5 6 1 2 3 4 5 6]\n",
      "Вероятность события A = 0.02811\n",
      "Вероятность события B = 0.08328\n",
      "Вероятность события C = 0.69663\n"
     ]
    }
   ],
   "source": [
    "#определяем количество испытаний\n",
    "n = 100000\n",
    "A = 0\n",
    "B = 0\n",
    "C = 0\n",
    "k1 = [random.choice(range(1,7)) for i in range(n)] \n",
    "k2 = [random.choice(range(1,7)) for i in range(n)] \n",
    "#определяем вероятность событий \n",
    "for i in range(n):\n",
    "    if k1[i] == 6 and k2[i] == 6:\n",
    "        A+=1\n",
    "    if k1[i] + k2[i] >= 11:\n",
    "        B+=1\n",
    "    if k1[i]!=6 and k2[i]!=6:\n",
    "        C+=1\n",
    "        \n",
    "uniq_events = np.unique([k1, k2], axis=1)\n",
    "      \n",
    "print('Mножество элементарных событий:  \\n', uniq_events[0], '\\n' , uniq_events[1])  \n",
    "print('Вероятность события A =', A/n)\n",
    "print('Вероятность события B =', B/n)\n",
    "print('Вероятность события C =', C/n)\n",
    "\n"
   ]
  },
  {
   "cell_type": "markdown",
   "metadata": {
    "id": "f-Bi0p8haclB"
   },
   "source": [
    "## Вероятность суммы событий"
   ]
  },
  {
   "cell_type": "markdown",
   "metadata": {
    "id": "g7A7QlvGTnwZ"
   },
   "source": [
    "### Задача 5\n",
    "Брошены две игральные кости. Найти вероятность события D = {выпала хотя бы одна шестёрка}\n"
   ]
  },
  {
   "cell_type": "code",
   "execution_count": 71,
   "metadata": {
    "id": "vjtTJN-kUp9D"
   },
   "outputs": [
    {
     "name": "stdout",
     "output_type": "stream",
     "text": [
      "вероятность события D = 0.30639\n"
     ]
    }
   ],
   "source": [
    "#определяем количество испытаний\n",
    "n = 100000\n",
    "D = 0\n",
    "#определяем какое число выпадет на 1 и 2 игральной кости\n",
    "n1 = [random.choice(range(1,7)) for i in range(n)] \n",
    "n2 = [random.choice(range(1,7)) for i in range(n)] \n",
    "#вычисляем вероятность, что выпала хотя бы одна шестёрка\n",
    "for i in range(n):\n",
    "    if n1[i]==6 or n2[i] ==6 or (n1[i]==6 and n2[i] == 6):\n",
    "        D+=1\n",
    "print('вероятность события D =', D/n)"
   ]
  },
  {
   "cell_type": "markdown",
   "metadata": {
    "id": "R1bYSzQQbC6I"
   },
   "source": [
    "Предлагается также решить задачи: \n",
    "\n",
    "### Задача 6\n",
    "В телефонном номере три последние цифры стерлись. Считая, что все возможные значения стершихся цифр равновероятны, найти вероятность событий:\n",
    "\n",
    "A = {Стерлись различные цифры},\n",
    "\n",
    "B = {Стерлись одинаковые цифры},\n",
    "\n",
    "C = {Среди стершихся цифр хотя бы две совпадают},\n",
    "\n",
    "D = {Среди стершихся цифр хотя бы две различны}\n"
   ]
  },
  {
   "cell_type": "code",
   "execution_count": 72,
   "metadata": {},
   "outputs": [
    {
     "name": "stdout",
     "output_type": "stream",
     "text": [
      "Вероятность события A = 0.71834\n",
      "Вероятность события B = 0.01048\n",
      "Вероятность события C =  0.28166\n",
      "Вероятность события D =  0.98952\n"
     ]
    }
   ],
   "source": [
    "#определяем количество испытаний\n",
    "n = 100000\n",
    "A=0\n",
    "B=0\n",
    "C=0\n",
    "D=0\n",
    "#определяем три цифры \n",
    "n1 = [random.choice(range(0,10)) for i in range(n)] \n",
    "n2 = [random.choice(range(0,10)) for i in range(n)] \n",
    "n3 = [random.choice(range(0,10)) for i in range(n)] \n",
    "#вычисляем вероятность событий\n",
    "for i in range(n):\n",
    "    if n1[i]!=n2[i] and n2[i]!=n3[i] and n3[i]!=n1[i]:\n",
    "        A+=1\n",
    "    if n1[i]==n2[i] and n2[i]==n3[i] and n3[i]==n1[i]:\n",
    "        B+=1\n",
    "    if n1[i]==n2[i] or n2[i]==n3[i] or n3[i]==n1[i]:\n",
    "        C+=1\n",
    "    if n1[i]!=n2[i] or n2[i]!=n3[i] or n3[i]!=n1[i]:\n",
    "        D+=1\n",
    "\n",
    "print('Вероятность события A =', A/n)\n",
    "print('Вероятность события B =', B/n)\n",
    "print('Вероятность события C = ', C/n)\n",
    "print('Вероятность события D = ', D/n)"
   ]
  },
  {
   "cell_type": "markdown",
   "metadata": {
    "id": "RnugkR8BalK_"
   },
   "source": [
    "## Случайные величины"
   ]
  },
  {
   "cell_type": "markdown",
   "metadata": {
    "id": "yLoZDZ17UVsp"
   },
   "source": [
    "### Задача 7\n",
    "В лотерее имеется 10 билетов, из которых один выигрышный. Размер выигрыша 10 ден. ед.; стоимость билета 1 ден ед. Найти закон распределения случайной величины X, равной чистому выигрышу участника лотереи, который вытаскивает билет первым."
   ]
  },
  {
   "cell_type": "code",
   "execution_count": 35,
   "metadata": {
    "id": "oNk432sKUqzT"
   },
   "outputs": [
    {
     "data": {
      "text/plain": [
       "array([0, 1, 0, 0, 0, 0, 0, 0, 0, 0])"
      ]
     },
     "execution_count": 35,
     "metadata": {},
     "output_type": "execute_result"
    }
   ],
   "source": [
    "# задаётся один параметр -- вероятность успеха\n",
    "bernoulli_rv = sts.bernoulli(0.1) \n",
    "bernoulli_rv.rvs(10)"
   ]
  },
  {
   "cell_type": "code",
   "execution_count": 79,
   "metadata": {},
   "outputs": [
    {
     "data": {
      "text/plain": [
       "[]"
      ]
     },
     "execution_count": 79,
     "metadata": {},
     "output_type": "execute_result"
    },
    {
     "data": {
      "image/png": "[encoded data removed]",
      "text/plain": [
       "<Figure size 432x288 with 1 Axes>"
      ]
     },
     "metadata": {
      "needs_background": "light"
     },
     "output_type": "display_data"
    }
   ],
   "source": [
    "x = np.linspace(-1,9,10)\n",
    "cdf = bernoulli_rv.cdf(x) # вернёт массив из значений функции распределения\n",
    "plt.plot(x, cdf, color=\"darkblue\")\n",
    "plt.ylabel(\"$f(x)$\")\n",
    "plt.xlabel(\"$x$\")\n",
    "plt.plot()"
   ]
  },
  {
   "cell_type": "code",
   "execution_count": 41,
   "metadata": {},
   "outputs": [
    {
     "name": "stdout",
     "output_type": "stream",
     "text": [
      "Проигрыш -1 денежных единиц\n"
     ]
    }
   ],
   "source": [
    "# определяем номер выигрышного билета\n",
    "win_ticket = random.randint(1, 10) \n",
    "#считаем выигрыш\n",
    "if win_ticket == 1: \n",
    "    money_win = 10 - 1 \n",
    "    print(\"Выигрыш\", money_win, \"денежных единиц\")\n",
    "else: \n",
    "    money_win = -1 \n",
    "    print(\"Проигрыш\", money_win, \"денежных единиц\")"
   ]
  },
  {
   "cell_type": "code",
   "execution_count": 77,
   "metadata": {},
   "outputs": [
    {
     "name": "stdout",
     "output_type": "stream",
     "text": [
      "-1\n"
     ]
    }
   ],
   "source": [
    "# создаем список вероятностей\n",
    "p = [0.9, 0.1]\n",
    "\n",
    "# создаем закон распределения случайной величины X\n",
    "x = np.random.choice([-1, 9], size=1, p=p)\n",
    "\n",
    "# выводим результат\n",
    "print(x.item())"
   ]
  },
  {
   "cell_type": "markdown",
   "metadata": {
    "id": "U-NK9liSbpvb"
   },
   "source": [
    "Предлагается также решить задачу: \n",
    "\n",
    "### Задача 8\n",
    "Брошены две игральные кости. Найти закон распределения случайной величины $X$, равной сумме выпавших очков. Найти вероятности событий ${X <= 4}$, ${X > 4}$"
   ]
  },
  {
   "cell_type": "code",
   "execution_count": null,
   "metadata": {},
   "outputs": [],
   "source": [
    "#не получилось решить, сложно "
   ]
  },
  {
   "cell_type": "markdown",
   "metadata": {
    "id": "shgW4D83awjK"
   },
   "source": [
    "## Условные вероятности"
   ]
  },
  {
   "cell_type": "markdown",
   "metadata": {
    "id": "Fbu1RFZwWZrk"
   },
   "source": [
    "### Задача 9\n",
    "Из колоды (36 карт) вынимают последовательно без возвращения две карты. Найти вероятность того, что первой картой была шестерка, а второй — семерка. Найти условную вероятность того же события при условии, что обе карты бубновой масти.\n"
   ]
  },
  {
   "cell_type": "code",
   "execution_count": 42,
   "metadata": {
    "id": "037o56awW9-E"
   },
   "outputs": [
    {
     "name": "stdout",
     "output_type": "stream",
     "text": [
      "Вероятность того, что первой картой была шестерка, а второй — семерка 0.012698412698412697\n"
     ]
    }
   ],
   "source": [
    "# вероятность того, что первой картой была шестерка, а второй - семерка\n",
    "p1 = 4 / 36 #4 шестерки в колоде\n",
    "p2 = 4 / 35 #4 семерки из оставшихся карт\n",
    "p = p1 * p2\n",
    "print('Вероятность того, что первой картой была шестерка, а второй — семерка', p)\n"
   ]
  },
  {
   "cell_type": "code",
   "execution_count": 43,
   "metadata": {},
   "outputs": [
    {
     "name": "stdout",
     "output_type": "stream",
     "text": [
      "Вероятность того же события при условии, что обе карты бубновой масти = 0.027777777777777776\n"
     ]
    }
   ],
   "source": [
    "# Найти условную вероятность того же события при условии, что обе карты бубновой масти\n",
    "bubi = 9 / 36 #9 карт буби\n",
    "bubi_2 = 8 / 35 #осталось 8 буби и 35 карт\n",
    "bubi_3 = bubi * bubi_2 #2 карты буби вероятность\n",
    "p_cond = (2 / 36) * (1 / 35) / bubi_3\n",
    "print('Вероятность того же события при условии, что обе карты бубновой масти =', p_cond)\n"
   ]
  },
  {
   "cell_type": "markdown",
   "metadata": {
    "id": "hNVxtaz5c57b"
   },
   "source": [
    "Предлагается также решить задачу: \n",
    "\n",
    "### Задача 10\n",
    "Из урны, содержащей два белых и три черных шара, последовательно извлекают два шара; вынутые шары не возвращаются. Если первый шар оказался черным, то перед вторым извлечением в урну добавляют белый шар. В противном случае состав оставшихся шаров не меняют. Найти вероятности событий:\n",
    "\n",
    "$A$ = {извлечены два белых шара},\n",
    "\n",
    "$B$ = {извлечены два черных шара}\n",
    "\n",
    "Указание. Пусть событие $C_1$ = {первый шар белый}, событие $C_2$ = {второй шар белый}. Тогда $A = C_1C_2$, $B = \\overline C_1 \\overline C_2$ "
   ]
  },
  {
   "cell_type": "code",
   "execution_count": 50,
   "metadata": {
    "id": "WSLnhk2sdBt_"
   },
   "outputs": [
    {
     "name": "stdout",
     "output_type": "stream",
     "text": [
      "Вероятность события \"извлечены два белых шара\" = 0.087\n",
      "Вероятность события \"извлечены два черных шара\" = 0.258\n"
     ]
    }
   ],
   "source": [
    "# заполняем урну\n",
    "Urn_full =['white', 'white', 'black', 'black', 'black'] \n",
    "A=0 \n",
    "B=0\n",
    "i=0\n",
    "# задаем число экспериментов\n",
    "n=1000\n",
    "# генерируем выборку\n",
    "while i<n:\n",
    "    i+=1\n",
    "    Urn_full =['white', 'white', 'black', 'black', 'black'] \n",
    "    x=random.choice(Urn_full)\n",
    "    # Убираем первый шар\n",
    "    Urn_full.remove(x)\n",
    "    Urn_full2=Urn_full\n",
    "    \n",
    " # Если первый шар оказался черным, то перед вторым извлечением в урну добавляют белый шар     \n",
    "    if x == 'black': \n",
    "        Urn_full.append('white')\n",
    "        Urn_full2=Urn_full\n",
    "    \n",
    "    y=random.choice(Urn_full2)\n",
    "     \n",
    "    \n",
    "    if x =='white' and y == 'white':\n",
    "        A+=1 \n",
    "    elif x =='black' and y == 'black':\n",
    "        B+=1 \n",
    "   \n",
    "print('Вероятность события \"извлечены два белых шара\" =', A/n)\n",
    "print('Вероятность события \"извлечены два черных шара\" =', B/n)"
   ]
  },
  {
   "cell_type": "code",
   "execution_count": null,
   "metadata": {},
   "outputs": [],
   "source": []
  }
 ],
 "metadata": {
  "colab": {
   "collapsed_sections": [],
   "name": "Практика к занятию 11.ipynb",
   "provenance": []
  },
  "kernelspec": {
   "display_name": "Python 3",
   "language": "python",
   "name": "python3"
  },
  "language_info": {
   "codemirror_mode": {
    "name": "ipython",
    "version": 3
   },
   "file_extension": ".py",
   "mimetype": "text/x-python",
   "name": "python",
   "nbconvert_exporter": "python",
   "pygments_lexer": "ipython3",
   "version": "3.8.8"
  }
 },
 "nbformat": 4,
 "nbformat_minor": 1
}
