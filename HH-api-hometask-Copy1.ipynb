{
 "cells": [
  {
   "cell_type": "markdown",
   "metadata": {},
   "source": [
    "# Задание\n",
    "* Cкачайте все вакансии СБЕРа из api hh.ru (https://github.com/hhru/api у апи есть ограничение в 2000, подумайте как его обойти)\n",
    "* Извлеките все полные описания этих вакансий по запросу с https://api.hh.ru/vacancies/43326020 где 43326020 id вакансии\n",
    "* Создайте DataFrame в котором будут даты публикации вакансий, названия, описания,  только добавьте поле ключевые навыки\n",
    "* Переведите даты публикаций в формат datetime и постройте график опубликованных вакансий по датам\n",
    "* Переведите даты в дни недели, и определите день недели, в который больше всего публикуют вакансий\n",
    "* Найдите вакансии с использованием python, которые вам интересны\n",
    "* Определите по полю с ключевыми навыками, какие навыки больше всего востребованы для найденных вакансий\n",
    "* Постройте график наиболее востребованных навыков"
   ]
  },
  {
   "cell_type": "code",
   "execution_count": 2,
   "metadata": {},
   "outputs": [],
   "source": [
    "import requests\n",
    "from tqdm.auto import tqdm\n",
    "import json          # Для обработки полученных результатов\n",
    "import time          # Для задержки между запросами\n",
    "import os            # Для работы с файлами\n",
    "import csv\n",
    "import pandas as pd  \n",
    "from collections import defaultdict\n",
    "from pandas import json_normalize\n"
   ]
  },
  {
   "cell_type": "code",
   "execution_count": 3,
   "metadata": {},
   "outputs": [],
   "source": [
    "sber = '3529'\n",
    "page = 1\n",
    "num_per_page = 100\n",
    "#moscow = 1\n",
    "url = f'https://api.hh.ru/vacancies?employer_id={sber}&page={page}&per_page={num_per_page}'\n"
   ]
  },
  {
   "cell_type": "code",
   "execution_count": null,
   "metadata": {},
   "outputs": [],
   "source": [
    "#res.text"
   ]
  },
  {
   "cell_type": "code",
   "execution_count": 5,
   "metadata": {},
   "outputs": [
    {
     "data": {
      "text/plain": [
       "20"
      ]
     },
     "execution_count": 5,
     "metadata": {},
     "output_type": "execute_result"
    }
   ],
   "source": [
    "res = requests.get(url)\n",
    "vacancies = res.json()\n",
    "num_pages = vacancies.get('pages')\n",
    "num_pages"
   ]
  },
  {
   "cell_type": "code",
   "execution_count": 6,
   "metadata": {},
   "outputs": [
    {
     "data": {
      "text/plain": [
       "<Response [200]>"
      ]
     },
     "execution_count": 6,
     "metadata": {},
     "output_type": "execute_result"
    }
   ],
   "source": [
    "res\n"
   ]
  },
  {
   "cell_type": "code",
   "execution_count": 7,
   "metadata": {},
   "outputs": [],
   "source": [
    "vacancies = res.json()\n",
    "num_pages = vacancies.get('pages')\n",
    "vacancy_ids = [el.get('id') for el in vacancies.get('items')]"
   ]
  },
  {
   "cell_type": "code",
   "execution_count": 10,
   "metadata": {},
   "outputs": [
    {
     "data": {
      "text/plain": [
       "dict_keys(['items', 'found', 'pages', 'per_page', 'page', 'clusters', 'arguments', 'alternate_url'])"
      ]
     },
     "execution_count": 10,
     "metadata": {},
     "output_type": "execute_result"
    }
   ],
   "source": [
    "vacancies.keys()"
   ]
  },
  {
   "cell_type": "code",
   "execution_count": 43,
   "metadata": {},
   "outputs": [
    {
     "name": "stdout",
     "output_type": "stream",
     "text": [
      "[{'id': '77705940', 'premium': False, 'name': 'Менеджер по работе с ключевыми клиентами', 'department': {'id': '3529-3529-prof', 'name': 'Сбер для экспертов'}, 'has_test': False, 'response_letter_required': False, 'area': {'id': '1720', 'name': 'Гусь-Хрустальный', 'url': 'https://api.hh.ru/areas/1720'}, 'salary': {'from': 52000, 'to': None, 'currency': 'RUR', 'gross': True}, 'type': {'id': 'open', 'name': 'Открытая'}, 'address': None, 'response_url': None, 'sort_point_distance': None, 'published_at': '2023-03-06T10:51:50+0300', 'created_at': '2023-03-06T10:51:50+0300', 'archived': False, 'apply_alternate_url': 'https://hh.ru/applicant/vacancy_response?vacancyId=77705940', 'insider_interview': None, 'url': 'https://api.hh.ru/vacancies/77705940?host=hh.ru', 'adv_response_url': None, 'alternate_url': 'https://hh.ru/vacancy/77705940', 'relations': [], 'employer': {'id': '3529', 'name': 'СБЕР', 'url': 'https://api.hh.ru/employers/3529', 'alternate_url': 'https://hh.ru/employer/3529', 'logo_urls': {'240': 'https://hhcdn.ru/employer-logo/5756157.png', '90': 'https://hhcdn.ru/employer-logo/5756156.png', 'original': 'https://hhcdn.ru/employer-logo-original/1033849.png'}, 'vacancies_url': 'https://api.hh.ru/vacancies?employer_id=3529', 'trusted': True}, 'snippet': {'requirement': 'Высшее или неполное высшее образование. Опыт в сфере продаж корпоративным клиентам. Понимание основ ведения бизнеса. Умение выстраивать отношения с людьми. ', 'responsibility': 'Развивать бизнес клиентов из закрепленной базы, предлагая продукты и услуги Сбера. Проводить переговоры с клиентами на территории компаний-партнеров. '}, 'contacts': None, 'schedule': None, 'working_days': [], 'working_time_intervals': [], 'working_time_modes': [], 'accept_temporary': False, 'professional_roles': [{'id': '70', 'name': 'Менеджер по продажам, менеджер по работе с клиентами'}], 'accept_incomplete_resumes': False}, {'id': '77910060', 'premium': False, 'name': 'Менеджер по работе с клиентами (Остроленский)', 'department': {'id': '3529-3529-prof', 'name': 'Сбер для экспертов'}, 'has_test': False, 'response_letter_required': False, 'area': {'id': '5812', 'name': 'Фершампенуаз (Челябинская область)', 'url': 'https://api.hh.ru/areas/5812'}, 'salary': {'from': 21600, 'to': None, 'currency': 'RUR', 'gross': True}, 'type': {'id': 'open', 'name': 'Открытая'}, 'address': {'city': 'Остроленский', 'street': None, 'building': None, 'lat': 53.684426, 'lng': 59.724797, 'description': None, 'raw': 'Остроленский', 'metro': None, 'metro_stations': [], 'id': '11876491'}, 'response_url': None, 'sort_point_distance': None, 'published_at': '2023-03-10T16:57:24+0300', 'created_at': '2023-03-10T16:57:24+0300', 'archived': False, 'apply_alternate_url': 'https://hh.ru/applicant/vacancy_response?vacancyId=77910060', 'insider_interview': None, 'url': 'https://api.hh.ru/vacancies/77910060?host=hh.ru', 'adv_response_url': None, 'alternate_url': 'https://hh.ru/vacancy/77910060', 'relations': [], 'employer': {'id': '3529', 'name': 'СБЕР', 'url': 'https://api.hh.ru/employers/3529', 'alternate_url': 'https://hh.ru/employer/3529', 'logo_urls': {'240': 'https://hhcdn.ru/employer-logo/5756157.png', '90': 'https://hhcdn.ru/employer-logo/5756156.png', 'original': 'https://hhcdn.ru/employer-logo-original/1033849.png'}, 'vacancies_url': 'https://api.hh.ru/vacancies?employer_id=3529', 'trusted': True}, 'snippet': {'requirement': 'Специалист со средним профессиональным, неполным высшим или высшим образованием. Готов к работе, предполагающей ежедневное проведение однотипных операций.', 'responsibility': 'Осуществлять операции по обслуживанию клиентов. Проводить кассовые операции: прием, выдача, обмен денег. Предлагать продукты и сервисы Сбера. Консультировать клиентов по...'}, 'contacts': None, 'schedule': None, 'working_days': [], 'working_time_intervals': [], 'working_time_modes': [], 'accept_temporary': False, 'professional_roles': [{'id': '70', 'name': 'Менеджер по продажам, менеджер по работе с клиентами'}], 'accept_incomplete_resumes': True}, {'id': '78093585', 'premium': False, 'name': 'ТимЛид FullStack (Angular, C#)', 'department': {'id': '3529-3529-prof', 'name': 'Сбер для экспертов'}, 'has_test': False, 'response_letter_required': False, 'area': {'id': '1', 'name': 'Москва', 'url': 'https://api.hh.ru/areas/1'}, 'salary': None, 'type': {'id': 'open', 'name': 'Открытая'}, 'address': None, 'response_url': None, 'sort_point_distance': None, 'published_at': '2023-03-15T14:57:11+0300', 'created_at': '2023-03-15T14:57:11+0300', 'archived': False, 'apply_alternate_url': 'https://hh.ru/applicant/vacancy_response?vacancyId=78093585', 'insider_interview': None, 'url': 'https://api.hh.ru/vacancies/78093585?host=hh.ru', 'adv_response_url': None, 'alternate_url': 'https://hh.ru/vacancy/78093585', 'relations': [], 'employer': {'id': '3529', 'name': 'СБЕР', 'url': 'https://api.hh.ru/employers/3529', 'alternate_url': 'https://hh.ru/employer/3529', 'logo_urls': {'240': 'https://hhcdn.ru/employer-logo/5756157.png', '90': 'https://hhcdn.ru/employer-logo/5756156.png', 'original': 'https://hhcdn.ru/employer-logo-original/1033849.png'}, 'vacancies_url': 'https://api.hh.ru/vacancies?employer_id=3529', 'trusted': True}, 'snippet': {'requirement': 'Front: Angular, TypeScript, JavaScript, HTML, CSS. Back: .net, .net core, C#, ANSI SQL. WEB API (REST API и др.).', 'responsibility': 'Работа с бэклогом и командой по kanban-модели. Планирование спринтов, организация регулярных демо продукта. Декомпозиция целей на задачи и контроль...'}, 'contacts': None, 'schedule': None, 'working_days': [], 'working_time_intervals': [], 'working_time_modes': [], 'accept_temporary': False, 'professional_roles': [{'id': '96', 'name': 'Программист, разработчик'}], 'accept_incomplete_resumes': False}, {'id': '78510448', 'premium': False, 'name': 'Менеджер по работе с клиентами', 'department': {'id': '3529-3529-prof', 'name': 'Сбер для экспертов'}, 'has_test': False, 'response_letter_required': False, 'area': {'id': '5809', 'name': 'Тюбук', 'url': 'https://api.hh.ru/areas/5809'}, 'salary': {'from': 30900, 'to': None, 'currency': 'RUR', 'gross': True}, 'type': {'id': 'open', 'name': 'Открытая'}, 'address': {'city': 'Тюбук', 'street': None, 'building': None, 'lat': 56.048218, 'lng': 60.945176, 'description': None, 'raw': 'Тюбук', 'metro': None, 'metro_stations': [], 'id': '12984260'}, 'response_url': None, 'sort_point_distance': None, 'published_at': '2023-03-24T14:06:15+0300', 'created_at': '2023-03-24T14:06:15+0300', 'archived': False, 'apply_alternate_url': 'https://hh.ru/applicant/vacancy_response?vacancyId=78510448', 'insider_interview': None, 'url': 'https://api.hh.ru/vacancies/78510448?host=hh.ru', 'adv_response_url': None, 'alternate_url': 'https://hh.ru/vacancy/78510448', 'relations': [], 'employer': {'id': '3529', 'name': 'СБЕР', 'url': 'https://api.hh.ru/employers/3529', 'alternate_url': 'https://hh.ru/employer/3529', 'logo_urls': {'240': 'https://hhcdn.ru/employer-logo/5756157.png', '90': 'https://hhcdn.ru/employer-logo/5756156.png', 'original': 'https://hhcdn.ru/employer-logo-original/1033849.png'}, 'vacancies_url': 'https://api.hh.ru/vacancies?employer_id=3529', 'trusted': True}, 'snippet': {'requirement': 'Специалист со средним профессиональным, неполным высшим или высшим образованием. Владеешь программами Microsoft Office, Outlook. Готов к работе, предполагающей ежедневное проведение...', 'responsibility': 'Доброжелателен и готов помогать клиентам. Осуществлять операции по обслуживанию клиентов. Проводить кассовые операции: прием, выдача, обмен денег. Предлагать продукты и...'}, 'contacts': None, 'schedule': None, 'working_days': [], 'working_time_intervals': [], 'working_time_modes': [], 'accept_temporary': False, 'professional_roles': [{'id': '57', 'name': 'Кредитный специалист'}], 'accept_incomplete_resumes': True}, {'id': '71755865', 'premium': False, 'name': 'Оператор контактного центра', 'department': {'id': '3529-3529-stat', 'name': 'Сбер. Начало карьеры'}, 'has_test': False, 'response_letter_required': False, 'area': {'id': '24', 'name': 'Волгоград', 'url': 'https://api.hh.ru/areas/24'}, 'salary': {'from': 37000, 'to': 60000, 'currency': 'RUR', 'gross': True}, 'type': {'id': 'open', 'name': 'Открытая'}, 'address': {'city': 'Волгоград', 'street': 'проспект Героев Сталинграда', 'building': '50А', 'lat': 48.512935, 'lng': 44.543547, 'description': None, 'raw': 'Волгоград, проспект Героев Сталинграда, 50А', 'metro': None, 'metro_stations': [], 'id': '835842'}, 'response_url': None, 'sort_point_distance': None, 'published_at': '2023-03-21T13:16:51+0300', 'created_at': '2023-03-21T13:16:51+0300', 'archived': False, 'apply_alternate_url': 'https://hh.ru/applicant/vacancy_response?vacancyId=71755865', 'insider_interview': None, 'url': 'https://api.hh.ru/vacancies/71755865?host=hh.ru', 'adv_response_url': None, 'alternate_url': 'https://hh.ru/vacancy/71755865', 'relations': [], 'employer': {'id': '3529', 'name': 'СБЕР', 'url': 'https://api.hh.ru/employers/3529', 'alternate_url': 'https://hh.ru/employer/3529', 'logo_urls': {'240': 'https://hhcdn.ru/employer-logo/5756157.png', '90': 'https://hhcdn.ru/employer-logo/5756156.png', 'original': 'https://hhcdn.ru/employer-logo-original/1033849.png'}, 'vacancies_url': 'https://api.hh.ru/vacancies?employer_id=3529', 'trusted': True}, 'snippet': {'requirement': 'Ты будешь:', 'responsibility': 'Консультировать клиентов Сбера по телефону. Помогать клиентам Сбера решать вопросы по продуктам банка и экосистемы.'}, 'contacts': None, 'schedule': None, 'working_days': [], 'working_time_intervals': [], 'working_time_modes': [], 'accept_temporary': False, 'professional_roles': [{'id': '83', 'name': 'Оператор call-центра, специалист контактного центра'}], 'accept_incomplete_resumes': True}, {'id': '77882461', 'premium': False, 'name': 'OpenShift engineer', 'department': {'id': '3529-3529-prof', 'name': 'Сбер для экспертов'}, 'has_test': False, 'response_letter_required': False, 'area': {'id': '78', 'name': 'Самара', 'url': 'https://api.hh.ru/areas/78'}, 'salary': {'from': 170500, 'to': None, 'currency': 'RUR', 'gross': True}, 'type': {'id': 'open', 'name': 'Открытая'}, 'address': None, 'response_url': None, 'sort_point_distance': None, 'published_at': '2023-03-10T12:15:00+0300', 'created_at': '2023-03-10T12:15:00+0300', 'archived': False, 'apply_alternate_url': 'https://hh.ru/applicant/vacancy_response?vacancyId=77882461', 'insider_interview': None, 'url': 'https://api.hh.ru/vacancies/77882461?host=hh.ru', 'adv_response_url': None, 'alternate_url': 'https://hh.ru/vacancy/77882461', 'relations': [], 'employer': {'id': '3529', 'name': 'СБЕР', 'url': 'https://api.hh.ru/employers/3529', 'alternate_url': 'https://hh.ru/employer/3529', 'logo_urls': {'240': 'https://hhcdn.ru/employer-logo/5756157.png', '90': 'https://hhcdn.ru/employer-logo/5756156.png', 'original': 'https://hhcdn.ru/employer-logo-original/1033849.png'}, 'vacancies_url': 'https://api.hh.ru/vacancies?employer_id=3529', 'trusted': True}, 'snippet': {'requirement': 'Опыт работы с OpenShift/Kubernetes. Понимание принципов работы СУБД. Опыт работы с SQL-запросами и процедурами. Опыт администрирования SQL серверов. ', 'responsibility': 'Сопровождением автоматизированных систем с использованием OpenShift/Kubernetes, Kafka, Apache Ignite, nginx, PostgreSQL. Работой с SQL-запросами. Работой с системами сбора...'}, 'contacts': None, 'schedule': None, 'working_days': [], 'working_time_intervals': [], 'working_time_modes': [], 'accept_temporary': False, 'professional_roles': [{'id': '121', 'name': 'Специалист технической поддержки'}], 'accept_incomplete_resumes': False}, {'id': '78470471', 'premium': False, 'name': 'Старший юрисконсульт', 'department': {'id': '3529-3529-prof', 'name': 'Сбер для экспертов'}, 'has_test': False, 'response_letter_required': False, 'area': {'id': '66', 'name': 'Нижний Новгород', 'url': 'https://api.hh.ru/areas/66'}, 'salary': None, 'type': {'id': 'open', 'name': 'Открытая'}, 'address': None, 'response_url': None, 'sort_point_distance': None, 'published_at': '2023-03-23T17:22:34+0300', 'created_at': '2023-03-23T17:22:34+0300', 'archived': False, 'apply_alternate_url': 'https://hh.ru/applicant/vacancy_response?vacancyId=78470471', 'insider_interview': None, 'url': 'https://api.hh.ru/vacancies/78470471?host=hh.ru', 'adv_response_url': None, 'alternate_url': 'https://hh.ru/vacancy/78470471', 'relations': [], 'employer': {'id': '3529', 'name': 'СБЕР', 'url': 'https://api.hh.ru/employers/3529', 'alternate_url': 'https://hh.ru/employer/3529', 'logo_urls': {'240': 'https://hhcdn.ru/employer-logo/5756157.png', '90': 'https://hhcdn.ru/employer-logo/5756156.png', 'original': 'https://hhcdn.ru/employer-logo-original/1033849.png'}, 'vacancies_url': 'https://api.hh.ru/vacancies?employer_id=3529', 'trusted': True}, 'snippet': {'requirement': 'высшее юридическое образование по гражданско-правовой специализации. -уверенное знание гражданского законодательства. - опыт договорной работы от 1 года. -при отсутствии опыта...', 'responsibility': 'анализировать кредитную и залоговую документацию. - анализировать корпоративные процедуры одобрения сделок, анализировать правоспособности заемщика/залогодателя. - осуществлять правовую оценку концессионных соглашений и...'}, 'contacts': None, 'schedule': None, 'working_days': [], 'working_time_intervals': [], 'working_time_modes': [], 'accept_temporary': False, 'professional_roles': [{'id': '146', 'name': 'Юрист'}], 'accept_incomplete_resumes': False}, {'id': '76225121', 'premium': False, 'name': 'Старший менеджер по обслуживанию', 'department': {'id': '3529-3529-prof', 'name': 'Сбер для экспертов'}, 'has_test': False, 'response_letter_required': False, 'area': {'id': '3046', 'name': 'Красный Яр (Самарская область)', 'url': 'https://api.hh.ru/areas/3046'}, 'salary': {'from': 38300, 'to': None, 'currency': 'RUR', 'gross': True}, 'type': {'id': 'open', 'name': 'Открытая'}, 'address': {'city': 'Красный Яр', 'street': None, 'building': None, 'lat': 53.498062, 'lng': 50.389334, 'description': None, 'raw': 'Красный Яр', 'metro': None, 'metro_stations': [], 'id': '11434390'}, 'response_url': None, 'sort_point_distance': None, 'published_at': '2023-02-24T14:15:49+0300', 'created_at': '2023-02-24T14:15:49+0300', 'archived': False, 'apply_alternate_url': 'https://hh.ru/applicant/vacancy_response?vacancyId=76225121', 'insider_interview': None, 'url': 'https://api.hh.ru/vacancies/76225121?host=hh.ru', 'adv_response_url': None, 'alternate_url': 'https://hh.ru/vacancy/76225121', 'relations': [], 'employer': {'id': '3529', 'name': 'СБЕР', 'url': 'https://api.hh.ru/employers/3529', 'alternate_url': 'https://hh.ru/employer/3529', 'logo_urls': {'240': 'https://hhcdn.ru/employer-logo/5756157.png', '90': 'https://hhcdn.ru/employer-logo/5756156.png', 'original': 'https://hhcdn.ru/employer-logo-original/1033849.png'}, 'vacancies_url': 'https://api.hh.ru/vacancies?employer_id=3529', 'trusted': True}, 'snippet': {'requirement': 'Специалист со средним профессиональным, неполным высшим или высшим образованием. Владеешь программами Microsoft Office, Outlook. Готов к работе, предполагающей ежедневное проведение...', 'responsibility': 'Доброжелателен и готов помогать клиентам. Осуществлять операции по обслуживанию клиентов. Проводить кассовые операции: прием, выдача, обмен денег. Предлагать продукты и...'}, 'contacts': None, 'schedule': None, 'working_days': [], 'working_time_intervals': [], 'working_time_modes': [], 'accept_temporary': False, 'professional_roles': [{'id': '57', 'name': 'Кредитный специалист'}], 'accept_incomplete_resumes': True}, {'id': '77972045', 'premium': False, 'name': 'Senior Business Analyst', 'department': {'id': '3529-3529-it', 'name': 'Сбер. IT'}, 'has_test': False, 'response_letter_required': False, 'area': {'id': '1', 'name': 'Москва', 'url': 'https://api.hh.ru/areas/1'}, 'salary': None, 'type': {'id': 'open', 'name': 'Открытая'}, 'address': {'city': 'Москва', 'street': 'Кутузовский проспект', 'building': '32к1', 'lat': 55.741338, 'lng': 37.531127, 'description': None, 'raw': 'Москва, Кутузовский проспект, 32к1', 'metro': {'station_name': 'Кутузовская', 'line_name': 'Филевская', 'station_id': '4.73', 'line_id': '4', 'lat': 55.740544, 'lng': 37.5341}, 'metro_stations': [{'station_name': 'Кутузовская', 'line_name': 'Филевская', 'station_id': '4.73', 'line_id': '4', 'lat': 55.740544, 'lng': 37.5341}, {'station_name': 'Кутузовская', 'line_name': 'МЦК', 'station_id': '95.536', 'line_id': '95', 'lat': 55.740833, 'lng': 37.533333}], 'id': '731097'}, 'response_url': None, 'sort_point_distance': None, 'published_at': '2023-03-13T12:55:46+0300', 'created_at': '2023-03-13T12:55:46+0300', 'archived': False, 'apply_alternate_url': 'https://hh.ru/applicant/vacancy_response?vacancyId=77972045', 'insider_interview': None, 'url': 'https://api.hh.ru/vacancies/77972045?host=hh.ru', 'adv_response_url': None, 'alternate_url': 'https://hh.ru/vacancy/77972045', 'relations': [], 'employer': {'id': '3529', 'name': 'СБЕР', 'url': 'https://api.hh.ru/employers/3529', 'alternate_url': 'https://hh.ru/employer/3529', 'logo_urls': {'240': 'https://hhcdn.ru/employer-logo/5756157.png', '90': 'https://hhcdn.ru/employer-logo/5756156.png', 'original': 'https://hhcdn.ru/employer-logo-original/1033849.png'}, 'vacancies_url': 'https://api.hh.ru/vacancies?employer_id=3529', 'trusted': True}, 'snippet': {'requirement': 'Опыт работы в финансовой организации или консалтинге от 3 лет. Опыт работа в операционном консалтинге будет большим плюсом. ', 'responsibility': 'Работать с ключевыми клиентами, госкорпорациями и клиентами сегмента Enterprise: крупный бизнес – выручка от 2 млрд. руб. Осуществлять экспертную поддержку продаж...'}, 'contacts': None, 'schedule': None, 'working_days': [], 'working_time_intervals': [], 'working_time_modes': [], 'accept_temporary': False, 'professional_roles': [{'id': '150', 'name': 'Бизнес-аналитик'}], 'accept_incomplete_resumes': False}, {'id': '78286863', 'premium': False, 'name': 'Agile Coach', 'department': {'id': '3529-3529-prof', 'name': 'Сбер для экспертов'}, 'has_test': False, 'response_letter_required': False, 'area': {'id': '1', 'name': 'Москва', 'url': 'https://api.hh.ru/areas/1'}, 'salary': None, 'type': {'id': 'open', 'name': 'Открытая'}, 'address': None, 'response_url': None, 'sort_point_distance': None, 'published_at': '2023-03-20T14:50:15+0300', 'created_at': '2023-03-20T14:50:15+0300', 'archived': False, 'apply_alternate_url': 'https://hh.ru/applicant/vacancy_response?vacancyId=78286863', 'insider_interview': None, 'url': 'https://api.hh.ru/vacancies/78286863?host=hh.ru', 'adv_response_url': None, 'alternate_url': 'https://hh.ru/vacancy/78286863', 'relations': [], 'employer': {'id': '3529', 'name': 'СБЕР', 'url': 'https://api.hh.ru/employers/3529', 'alternate_url': 'https://hh.ru/employer/3529', 'logo_urls': {'240': 'https://hhcdn.ru/employer-logo/5756157.png', '90': 'https://hhcdn.ru/employer-logo/5756156.png', 'original': 'https://hhcdn.ru/employer-logo-original/1033849.png'}, 'vacancies_url': 'https://api.hh.ru/vacancies?employer_id=3529', 'trusted': True}, 'snippet': {'requirement': 'Проводить обучение agile-подходам и инструментам. Иметь опыт: Знать и уметь применять:', 'responsibility': 'В команду Сбера ищу Agile коуча для работы в 2х трайбах, блоков розницы и финансов. Проводить продуктовую трансформацию трайбов. '}, 'contacts': None, 'schedule': None, 'working_days': [], 'working_time_intervals': [], 'working_time_modes': [], 'accept_temporary': False, 'professional_roles': [{'id': '40', 'name': 'Другое'}], 'accept_incomplete_resumes': False}, {'id': '78374658', 'premium': False, 'name': 'Инженер сопровождения (Глобальные рынки)', 'department': {'id': '3529-3529-prof', 'name': 'Сбер для экспертов'}, 'has_test': False, 'response_letter_required': False, 'area': {'id': '1', 'name': 'Москва', 'url': 'https://api.hh.ru/areas/1'}, 'salary': None, 'type': {'id': 'open', 'name': 'Открытая'}, 'address': None, 'response_url': None, 'sort_point_distance': None, 'published_at': '2023-03-21T18:17:53+0300', 'created_at': '2023-03-21T18:17:53+0300', 'archived': False, 'apply_alternate_url': 'https://hh.ru/applicant/vacancy_response?vacancyId=78374658', 'insider_interview': None, 'url': 'https://api.hh.ru/vacancies/78374658?host=hh.ru', 'adv_response_url': None, 'alternate_url': 'https://hh.ru/vacancy/78374658', 'relations': [], 'employer': {'id': '3529', 'name': 'СБЕР', 'url': 'https://api.hh.ru/employers/3529', 'alternate_url': 'https://hh.ru/employer/3529', 'logo_urls': {'240': 'https://hhcdn.ru/employer-logo/5756157.png', '90': 'https://hhcdn.ru/employer-logo/5756156.png', 'original': 'https://hhcdn.ru/employer-logo-original/1033849.png'}, 'vacancies_url': 'https://api.hh.ru/vacancies?employer_id=3529', 'trusted': True}, 'snippet': {'requirement': 'Опыт работы сопровождения автоматизированных систем. ∙ Английский язык в сфере ИТ (чтение технической документации). ∙ Опыт работы с ОС Linux, СУБД Oracle...', 'responsibility': 'Мы разрабатываем продукты в сфере валютно-обменных операций и хеджированию валютных рисков. Наши решения позволяют банку устанавливать курсы валют и...'}, 'contacts': None, 'schedule': None, 'working_days': [], 'working_time_intervals': [], 'working_time_modes': [], 'accept_temporary': False, 'professional_roles': [{'id': '121', 'name': 'Специалист технической поддержки'}], 'accept_incomplete_resumes': False}, {'id': '78397941', 'premium': False, 'name': 'Специалист по недвижимости', 'department': {'id': '3529-3529-prof', 'name': 'Сбер для экспертов'}, 'has_test': False, 'response_letter_required': False, 'area': {'id': '26', 'name': 'Воронеж', 'url': 'https://api.hh.ru/areas/26'}, 'salary': None, 'type': {'id': 'open', 'name': 'Открытая'}, 'address': {'city': 'Воронеж', 'street': 'Кольцовская улица', 'building': '35А', 'lat': 51.667194, 'lng': 39.191906, 'description': None, 'raw': 'Воронеж, Кольцовская улица, 35А', 'metro': None, 'metro_stations': [], 'id': '12292272'}, 'response_url': None, 'sort_point_distance': None, 'published_at': '2023-03-23T18:38:59+0300', 'created_at': '2023-03-23T18:38:59+0300', 'archived': False, 'apply_alternate_url': 'https://hh.ru/applicant/vacancy_response?vacancyId=78397941', 'insider_interview': None, 'url': 'https://api.hh.ru/vacancies/78397941?host=hh.ru', 'adv_response_url': None, 'alternate_url': 'https://hh.ru/vacancy/78397941', 'relations': [], 'employer': {'id': '3529', 'name': 'СБЕР', 'url': 'https://api.hh.ru/employers/3529', 'alternate_url': 'https://hh.ru/employer/3529', 'logo_urls': {'240': 'https://hhcdn.ru/employer-logo/5756157.png', '90': 'https://hhcdn.ru/employer-logo/5756156.png', 'original': 'https://hhcdn.ru/employer-logo-original/1033849.png'}, 'vacancies_url': 'https://api.hh.ru/vacancies?employer_id=3529', 'trusted': True}, 'snippet': {'requirement': 'Знание нормативной документации, регламентирующей порядок приобретения и реализации недвижимого имущества. Знание принципов, правил и процедур по управлению недвижимым имуществом. ', 'responsibility': 'Анализ данных по затратам на аренду недвижимого имущества с целью оптимизации расходов. Подготовка претензий к контрагентам, обеспечение применения штрафных санкций. '}, 'contacts': None, 'schedule': None, 'working_days': [], 'working_time_intervals': [], 'working_time_modes': [], 'accept_temporary': False, 'professional_roles': [{'id': '6', 'name': 'Агент по недвижимости'}], 'accept_incomplete_resumes': False}, {'id': '78454739', 'premium': False, 'name': 'Менеджер по работе с ключевыми клиентами малого бизнеса', 'department': {'id': '3529-3529-prof', 'name': 'Сбер для экспертов'}, 'has_test': False, 'response_letter_required': False, 'area': {'id': '88', 'name': 'Казань', 'url': 'https://api.hh.ru/areas/88'}, 'salary': {'from': 67000, 'to': None, 'currency': 'RUR', 'gross': True}, 'type': {'id': 'open', 'name': 'Открытая'}, 'address': None, 'response_url': None, 'sort_point_distance': None, 'published_at': '2023-03-23T13:47:18+0300', 'created_at': '2023-03-23T13:47:18+0300', 'archived': False, 'apply_alternate_url': 'https://hh.ru/applicant/vacancy_response?vacancyId=78454739', 'insider_interview': None, 'url': 'https://api.hh.ru/vacancies/78454739?host=hh.ru', 'adv_response_url': None, 'alternate_url': 'https://hh.ru/vacancy/78454739', 'relations': [], 'employer': {'id': '3529', 'name': 'СБЕР', 'url': 'https://api.hh.ru/employers/3529', 'alternate_url': 'https://hh.ru/employer/3529', 'logo_urls': {'240': 'https://hhcdn.ru/employer-logo/5756157.png', '90': 'https://hhcdn.ru/employer-logo/5756156.png', 'original': 'https://hhcdn.ru/employer-logo-original/1033849.png'}, 'vacancies_url': 'https://api.hh.ru/vacancies?employer_id=3529', 'trusted': True}, 'snippet': {'requirement': 'Высшее или неполное высшее образование. Опыт в сфере продаж корпоративным клиентам. Понимание основ ведения бизнеса. Умение выстраивать отношения с людьми. ', 'responsibility': 'Развивать бизнес клиентов из закрепленной базы, предлагая продукты и услуги Сбера. Проводить переговоры с клиентами на территории компаний-партнеров. '}, 'contacts': None, 'schedule': None, 'working_days': [], 'working_time_intervals': [], 'working_time_modes': [], 'accept_temporary': False, 'professional_roles': [{'id': '70', 'name': 'Менеджер по продажам, менеджер по работе с клиентами'}], 'accept_incomplete_resumes': False}, {'id': '78509841', 'premium': False, 'name': 'Старший клиентский менеджер', 'department': {'id': '3529-3529-clients', 'name': 'Сбер. Работа с клиентами'}, 'has_test': False, 'response_letter_required': False, 'area': {'id': '1421', 'name': 'Тарко-Сале', 'url': 'https://api.hh.ru/areas/1421'}, 'salary': {'from': 107000, 'to': None, 'currency': 'RUR', 'gross': True}, 'type': {'id': 'open', 'name': 'Открытая'}, 'address': {'city': 'Тарко-Сале', 'street': None, 'building': None, 'lat': 64.911823, 'lng': 77.761055, 'description': None, 'raw': 'Тарко-Сале', 'metro': None, 'metro_stations': [], 'id': '7124187'}, 'response_url': None, 'sort_point_distance': None, 'published_at': '2023-03-24T13:54:58+0300', 'created_at': '2023-03-24T13:54:58+0300', 'archived': False, 'apply_alternate_url': 'https://hh.ru/applicant/vacancy_response?vacancyId=78509841', 'insider_interview': None, 'url': 'https://api.hh.ru/vacancies/78509841?host=hh.ru', 'adv_response_url': None, 'alternate_url': 'https://hh.ru/vacancy/78509841', 'relations': [], 'employer': {'id': '3529', 'name': 'СБЕР', 'url': 'https://api.hh.ru/employers/3529', 'alternate_url': 'https://hh.ru/employer/3529', 'logo_urls': {'240': 'https://hhcdn.ru/employer-logo/5756157.png', '90': 'https://hhcdn.ru/employer-logo/5756156.png', 'original': 'https://hhcdn.ru/employer-logo-original/1033849.png'}, 'vacancies_url': 'https://api.hh.ru/vacancies?employer_id=3529', 'trusted': True}, 'snippet': {'requirement': 'Специалист со средним профессиональным, неполным высшим или высшим образованием. Имеешь опыт работы в сфере продаж, обслуживания и консультирования клиентов от...', 'responsibility': 'Доброжелателен и готов помогать клиентам. Предлагать продукты и услуги Сбера. Консультировать клиентов по возникающим вопросам. Помогать клиентам оформлять услуги и...'}, 'contacts': None, 'schedule': None, 'working_days': [], 'working_time_intervals': [], 'working_time_modes': [], 'accept_temporary': False, 'professional_roles': [{'id': '70', 'name': 'Менеджер по продажам, менеджер по работе с клиентами'}], 'accept_incomplete_resumes': True}, {'id': '76412713', 'premium': False, 'name': 'Старший менеджер по обслуживанию (Фершампенуаз)', 'department': {'id': '3529-3529-prof', 'name': 'Сбер для экспертов'}, 'has_test': False, 'response_letter_required': False, 'area': {'id': '5812', 'name': 'Фершампенуаз (Челябинская область)', 'url': 'https://api.hh.ru/areas/5812'}, 'salary': {'from': 34700, 'to': None, 'currency': 'RUR', 'gross': True}, 'type': {'id': 'open', 'name': 'Открытая'}, 'address': {'city': 'Фершампенуаз', 'street': None, 'building': None, 'lat': 53.521495, 'lng': 59.822013, 'description': None, 'raw': 'Фершампенуаз', 'metro': None, 'metro_stations': [], 'id': '12642457'}, 'response_url': None, 'sort_point_distance': None, 'published_at': '2023-03-01T18:18:43+0300', 'created_at': '2023-03-01T18:18:43+0300', 'archived': False, 'apply_alternate_url': 'https://hh.ru/applicant/vacancy_response?vacancyId=76412713', 'insider_interview': None, 'url': 'https://api.hh.ru/vacancies/76412713?host=hh.ru', 'adv_response_url': None, 'alternate_url': 'https://hh.ru/vacancy/76412713', 'relations': [], 'employer': {'id': '3529', 'name': 'СБЕР', 'url': 'https://api.hh.ru/employers/3529', 'alternate_url': 'https://hh.ru/employer/3529', 'logo_urls': {'240': 'https://hhcdn.ru/employer-logo/5756157.png', '90': 'https://hhcdn.ru/employer-logo/5756156.png', 'original': 'https://hhcdn.ru/employer-logo-original/1033849.png'}, 'vacancies_url': 'https://api.hh.ru/vacancies?employer_id=3529', 'trusted': True}, 'snippet': {'requirement': 'Специалист со средним профессиональным, неполным высшим или высшим образованием. Владеешь программами Microsoft Office, Outlook. Готов к работе, предполагающей ежедневное проведение...', 'responsibility': 'Доброжелателен и готов помогать клиентам. Осуществлять операции по обслуживанию клиентов. Проводить кассовые операции: прием, выдача, обмен денег. Предлагать продукты и...'}, 'contacts': None, 'schedule': None, 'working_days': [], 'working_time_intervals': [], 'working_time_modes': [], 'accept_temporary': False, 'professional_roles': [{'id': '57', 'name': 'Кредитный специалист'}], 'accept_incomplete_resumes': True}, {'id': '76695896', 'premium': False, 'name': 'Менеджер по работе с клиентами (Элита)', 'department': {'id': '3529-3529-prof', 'name': 'Сбер для экспертов'}, 'has_test': False, 'response_letter_required': False, 'area': {'id': '4711', 'name': 'Москаленки', 'url': 'https://api.hh.ru/areas/4711'}, 'salary': {'from': 42100, 'to': None, 'currency': 'RUR', 'gross': True}, 'type': {'id': 'open', 'name': 'Открытая'}, 'address': {'city': 'Элита', 'street': None, 'building': None, 'lat': 54.912211, 'lng': 72.114658, 'description': None, 'raw': 'Элита', 'metro': None, 'metro_stations': [], 'id': '11854194'}, 'response_url': None, 'sort_point_distance': None, 'published_at': '2023-03-09T09:10:04+0300', 'created_at': '2023-03-09T09:10:04+0300', 'archived': False, 'apply_alternate_url': 'https://hh.ru/applicant/vacancy_response?vacancyId=76695896', 'insider_interview': None, 'url': 'https://api.hh.ru/vacancies/76695896?host=hh.ru', 'adv_response_url': None, 'alternate_url': 'https://hh.ru/vacancy/76695896', 'relations': [], 'employer': {'id': '3529', 'name': 'СБЕР', 'url': 'https://api.hh.ru/employers/3529', 'alternate_url': 'https://hh.ru/employer/3529', 'logo_urls': {'240': 'https://hhcdn.ru/employer-logo/5756157.png', '90': 'https://hhcdn.ru/employer-logo/5756156.png', 'original': 'https://hhcdn.ru/employer-logo-original/1033849.png'}, 'vacancies_url': 'https://api.hh.ru/vacancies?employer_id=3529', 'trusted': True}, 'snippet': {'requirement': 'Специалист со средним профессиональным, неполным высшим или высшим образованием. Владеешь программами Microsoft Office, Outlook. Готов к работе, предполагающей ежедневное проведение...', 'responsibility': 'Доброжелателен и готов помогать клиентам. Осуществлять операции по обслуживанию клиентов. Проводить кассовые операции: прием, выдача, обмен денег. Предлагать продукты и...'}, 'contacts': None, 'schedule': None, 'working_days': [], 'working_time_intervals': [], 'working_time_modes': [], 'accept_temporary': False, 'professional_roles': [{'id': '57', 'name': 'Кредитный специалист'}], 'accept_incomplete_resumes': True}, {'id': '78105055', 'premium': False, 'name': 'Менеджер по работе с клиентами (х. Хуторской)', 'department': {'id': '3529-3529-prof', 'name': 'Сбер для экспертов'}, 'has_test': False, 'response_letter_required': False, 'area': {'id': '4549', 'name': 'Ремонтное', 'url': 'https://api.hh.ru/areas/4549'}, 'salary': {'from': 7700, 'to': None, 'currency': 'RUR', 'gross': True}, 'type': {'id': 'open', 'name': 'Открытая'}, 'address': None, 'response_url': None, 'sort_point_distance': None, 'published_at': '2023-03-15T18:13:57+0300', 'created_at': '2023-03-15T18:13:57+0300', 'archived': False, 'apply_alternate_url': 'https://hh.ru/applicant/vacancy_response?vacancyId=78105055', 'insider_interview': None, 'url': 'https://api.hh.ru/vacancies/78105055?host=hh.ru', 'adv_response_url': None, 'alternate_url': 'https://hh.ru/vacancy/78105055', 'relations': [], 'employer': {'id': '3529', 'name': 'СБЕР', 'url': 'https://api.hh.ru/employers/3529', 'alternate_url': 'https://hh.ru/employer/3529', 'logo_urls': {'240': 'https://hhcdn.ru/employer-logo/5756157.png', '90': 'https://hhcdn.ru/employer-logo/5756156.png', 'original': 'https://hhcdn.ru/employer-logo-original/1033849.png'}, 'vacancies_url': 'https://api.hh.ru/vacancies?employer_id=3529', 'trusted': True}, 'snippet': {'requirement': 'Хочешь построить карьеру в банковской сфере. Ищешь работу с возможностью карьерного перемещения по всей стране. Специалист со средним профессиональным, неполным...', 'responsibility': 'Работать в отделении офиса Сбера. Проводить кассовые операции: прием, выдача, обмен денег. Предлагать продукты и сервисы Сбера. Консультировать клиентов по...'}, 'contacts': None, 'schedule': None, 'working_days': [], 'working_time_intervals': [{'id': 'from_four_to_six_hours_in_a_day', 'name': 'Можно работать сменами по\\xa04–6 часов в\\xa0день'}], 'working_time_modes': [{'id': 'start_after_sixteen', 'name': 'Можно начинать работать после 16:00'}], 'accept_temporary': False, 'professional_roles': [{'id': '70', 'name': 'Менеджер по продажам, менеджер по работе с клиентами'}], 'accept_incomplete_resumes': True}, {'id': '78147941', 'premium': False, 'name': 'Старший менеджер по обслуживанию (Зеленга)', 'department': {'id': '3529-3529-prof', 'name': 'Сбер для экспертов'}, 'has_test': False, 'response_letter_required': False, 'area': {'id': '5330', 'name': 'Тумак (Астраханская область)', 'url': 'https://api.hh.ru/areas/5330'}, 'salary': {'from': 27000, 'to': None, 'currency': 'RUR', 'gross': True}, 'type': {'id': 'open', 'name': 'Открытая'}, 'address': {'city': 'Зеленга', 'street': None, 'building': None, 'lat': 46.177483, 'lng': 48.608828, 'description': None, 'raw': 'Зеленга', 'metro': None, 'metro_stations': [], 'id': '11775821'}, 'response_url': None, 'sort_point_distance': None, 'published_at': '2023-03-16T16:03:13+0300', 'created_at': '2023-03-16T16:03:13+0300', 'archived': False, 'apply_alternate_url': 'https://hh.ru/applicant/vacancy_response?vacancyId=78147941', 'insider_interview': None, 'url': 'https://api.hh.ru/vacancies/78147941?host=hh.ru', 'adv_response_url': None, 'alternate_url': 'https://hh.ru/vacancy/78147941', 'relations': [], 'employer': {'id': '3529', 'name': 'СБЕР', 'url': 'https://api.hh.ru/employers/3529', 'alternate_url': 'https://hh.ru/employer/3529', 'logo_urls': {'240': 'https://hhcdn.ru/employer-logo/5756157.png', '90': 'https://hhcdn.ru/employer-logo/5756156.png', 'original': 'https://hhcdn.ru/employer-logo-original/1033849.png'}, 'vacancies_url': 'https://api.hh.ru/vacancies?employer_id=3529', 'trusted': True}, 'snippet': {'requirement': 'Специалист со средним профессиональным, неполным высшим или высшим образованием. Владеешь программами Microsoft Office, Outlook. Готов к работе, предполагающей ежедневное проведение...', 'responsibility': 'Доброжелателен и готов помогать клиентам. Осуществлять операции по обслуживанию клиентов. Проводить кассовые операции: прием, выдача, обмен денег. Предлагать продукты и...'}, 'contacts': None, 'schedule': None, 'working_days': [], 'working_time_intervals': [], 'working_time_modes': [], 'accept_temporary': False, 'professional_roles': [{'id': '70', 'name': 'Менеджер по продажам, менеджер по работе с клиентами'}], 'accept_incomplete_resumes': True}, {'id': '78282731', 'premium': False, 'name': 'Менеджер по обслуживанию', 'department': {'id': '3529-3529-stat', 'name': 'Сбер. Начало карьеры'}, 'has_test': False, 'response_letter_required': False, 'area': {'id': '1458', 'name': 'Тимашевск', 'url': 'https://api.hh.ru/areas/1458'}, 'salary': {'from': 27100, 'to': None, 'currency': 'RUR', 'gross': True}, 'type': {'id': 'open', 'name': 'Открытая'}, 'address': {'city': 'Тимашевск', 'street': None, 'building': None, 'lat': 45.615923, 'lng': 38.9351837, 'description': None, 'raw': 'Тимашевск', 'metro': None, 'metro_stations': [], 'id': '7015637'}, 'response_url': None, 'sort_point_distance': None, 'published_at': '2023-03-20T14:19:49+0300', 'created_at': '2023-03-20T14:19:49+0300', 'archived': False, 'apply_alternate_url': 'https://hh.ru/applicant/vacancy_response?vacancyId=78282731', 'insider_interview': None, 'url': 'https://api.hh.ru/vacancies/78282731?host=hh.ru', 'adv_response_url': None, 'alternate_url': 'https://hh.ru/vacancy/78282731', 'relations': [], 'employer': {'id': '3529', 'name': 'СБЕР', 'url': 'https://api.hh.ru/employers/3529', 'alternate_url': 'https://hh.ru/employer/3529', 'logo_urls': {'240': 'https://hhcdn.ru/employer-logo/5756157.png', '90': 'https://hhcdn.ru/employer-logo/5756156.png', 'original': 'https://hhcdn.ru/employer-logo-original/1033849.png'}, 'vacancies_url': 'https://api.hh.ru/vacancies?employer_id=3529', 'trusted': True}, 'snippet': {'requirement': 'Специалист со средним профессиональным, неполным высшим или высшим образованием. Владеешь программами Microsoft Office, Outlook. Готов к работе, предполагающей ежедневное проведение...', 'responsibility': 'Доброжелателен и готов помогать клиентам. Осуществлять операции по обслуживанию клиентов. Проводить кассовые операции: прием, выдача, обмен денег. Предлагать продукты и...'}, 'contacts': None, 'schedule': None, 'working_days': [], 'working_time_intervals': [], 'working_time_modes': [], 'accept_temporary': False, 'professional_roles': [{'id': '70', 'name': 'Менеджер по продажам, менеджер по работе с клиентами'}], 'accept_incomplete_resumes': True}, {'id': '78452049', 'premium': False, 'name': 'Менеджер по работе с клиентами (с. Курба)', 'department': {'id': '3529-3529-prof', 'name': 'Сбер для экспертов'}, 'has_test': False, 'response_letter_required': False, 'area': {'id': '6338', 'name': 'Красные Ткачи', 'url': 'https://api.hh.ru/areas/6338'}, 'salary': {'from': 34700, 'to': None, 'currency': 'RUR', 'gross': True}, 'type': {'id': 'open', 'name': 'Открытая'}, 'address': {'city': 'Курба', 'street': None, 'building': None, 'lat': 57.563826, 'lng': 39.488287, 'description': None, 'raw': 'Курба', 'metro': None, 'metro_stations': [], 'id': '12971559'}, 'response_url': None, 'sort_point_distance': None, 'published_at': '2023-03-23T13:04:27+0300', 'created_at': '2023-03-23T13:04:27+0300', 'archived': False, 'apply_alternate_url': 'https://hh.ru/applicant/vacancy_response?vacancyId=78452049', 'insider_interview': None, 'url': 'https://api.hh.ru/vacancies/78452049?host=hh.ru', 'adv_response_url': None, 'alternate_url': 'https://hh.ru/vacancy/78452049', 'relations': [], 'employer': {'id': '3529', 'name': 'СБЕР', 'url': 'https://api.hh.ru/employers/3529', 'alternate_url': 'https://hh.ru/employer/3529', 'logo_urls': {'240': 'https://hhcdn.ru/employer-logo/5756157.png', '90': 'https://hhcdn.ru/employer-logo/5756156.png', 'original': 'https://hhcdn.ru/employer-logo-original/1033849.png'}, 'vacancies_url': 'https://api.hh.ru/vacancies?employer_id=3529', 'trusted': True}, 'snippet': {'requirement': 'Специалист со средним профессиональным, неполным высшим или высшим образованием. Готов к работе, предполагающей ежедневное проведение однотипных операций.', 'responsibility': 'Осуществлять операции по обслуживанию клиентов. Проводить кассовые операции: прием, выдача, обмен денег. Предлагать продукты и сервисы Сбера. Консультировать клиентов по...'}, 'contacts': None, 'schedule': None, 'working_days': [], 'working_time_intervals': [], 'working_time_modes': [], 'accept_temporary': False, 'professional_roles': [{'id': '70', 'name': 'Менеджер по продажам, менеджер по работе с клиентами'}], 'accept_incomplete_resumes': True}, {'id': '76868912', 'premium': False, 'name': 'Старший менеджер по обслуживанию (пр-кт Рижский, 29/31)', 'department': {'id': '3529-3529-prof', 'name': 'Сбер для экспертов'}, 'has_test': False, 'response_letter_required': False, 'area': {'id': '75', 'name': 'Псков', 'url': 'https://api.hh.ru/areas/75'}, 'salary': {'from': 38300, 'to': None, 'currency': 'RUR', 'gross': True}, 'type': {'id': 'open', 'name': 'Открытая'}, 'address': {'city': 'Псков', 'street': None, 'building': None, 'lat': 57.819365, 'lng': 28.331786, 'description': None, 'raw': 'Псков', 'metro': None, 'metro_stations': [], 'id': '11682712'}, 'response_url': None, 'sort_point_distance': None, 'published_at': '2023-03-12T18:43:54+0300', 'created_at': '2023-03-12T18:43:54+0300', 'archived': False, 'apply_alternate_url': 'https://hh.ru/applicant/vacancy_response?vacancyId=76868912', 'insider_interview': None, 'url': 'https://api.hh.ru/vacancies/76868912?host=hh.ru', 'adv_response_url': None, 'alternate_url': 'https://hh.ru/vacancy/76868912', 'relations': [], 'employer': {'id': '3529', 'name': 'СБЕР', 'url': 'https://api.hh.ru/employers/3529', 'alternate_url': 'https://hh.ru/employer/3529', 'logo_urls': {'240': 'https://hhcdn.ru/employer-logo/5756157.png', '90': 'https://hhcdn.ru/employer-logo/5756156.png', 'original': 'https://hhcdn.ru/employer-logo-original/1033849.png'}, 'vacancies_url': 'https://api.hh.ru/vacancies?employer_id=3529', 'trusted': True}, 'snippet': {'requirement': 'Специалист со средним профессиональным, неполным высшим или высшим образованием. Владеешь программами Microsoft Office, Outlook. Готов к работе, предполагающей ежедневное проведение...', 'responsibility': 'Доброжелателен и готов помогать клиентам. Осуществлять операции по обслуживанию клиентов. Проводить кассовые операции: прием, выдача, обмен денег. Предлагать продукты и...'}, 'contacts': None, 'schedule': None, 'working_days': [], 'working_time_intervals': [], 'working_time_modes': [], 'accept_temporary': False, 'professional_roles': [{'id': '57', 'name': 'Кредитный специалист'}], 'accept_incomplete_resumes': True}, {'id': '77118515', 'premium': False, 'name': 'Старший менеджер по обслуживанию', 'department': {'id': '3529-3529-prof', 'name': 'Сбер для экспертов'}, 'has_test': False, 'response_letter_required': False, 'area': {'id': '2072', 'name': 'Пущино', 'url': 'https://api.hh.ru/areas/2072'}, 'salary': {'from': 57300, 'to': None, 'currency': 'RUR', 'gross': True}, 'type': {'id': 'open', 'name': 'Открытая'}, 'address': {'city': 'Пущино', 'street': None, 'building': None, 'lat': 54.832479, 'lng': 37.620977, 'description': None, 'raw': 'Пущино', 'metro': None, 'metro_stations': [], 'id': '11228146'}, 'response_url': None, 'sort_point_distance': None, 'published_at': '2023-03-19T11:15:43+0300', 'created_at': '2023-03-19T11:15:43+0300', 'archived': False, 'apply_alternate_url': 'https://hh.ru/applicant/vacancy_response?vacancyId=77118515', 'insider_interview': None, 'url': 'https://api.hh.ru/vacancies/77118515?host=hh.ru', 'adv_response_url': None, 'alternate_url': 'https://hh.ru/vacancy/77118515', 'relations': [], 'employer': {'id': '3529', 'name': 'СБЕР', 'url': 'https://api.hh.ru/employers/3529', 'alternate_url': 'https://hh.ru/employer/3529', 'logo_urls': {'240': 'https://hhcdn.ru/employer-logo/5756157.png', '90': 'https://hhcdn.ru/employer-logo/5756156.png', 'original': 'https://hhcdn.ru/employer-logo-original/1033849.png'}, 'vacancies_url': 'https://api.hh.ru/vacancies?employer_id=3529', 'trusted': True}, 'snippet': {'requirement': 'Специалист со средним профессиональным, неполным высшим или высшим образованием. Владеешь программами Microsoft Office, Outlook. Готов к работе, предполагающей ежедневное проведение...', 'responsibility': 'Доброжелателен и готов помогать клиентам. Осуществлять операции по обслуживанию клиентов. Проводить кассовые операции: прием, выдача, обмен денег. Предлагать продукты и...'}, 'contacts': None, 'schedule': None, 'working_days': [], 'working_time_intervals': [], 'working_time_modes': [], 'accept_temporary': False, 'professional_roles': [{'id': '57', 'name': 'Кредитный специалист'}], 'accept_incomplete_resumes': True}, {'id': '77895354', 'premium': False, 'name': 'Старший охранник (осуществляет охрану ценностей, боевого оружия (на посту))', 'department': {'id': '3529-3529-prof', 'name': 'Сбер для экспертов'}, 'has_test': False, 'response_letter_required': False, 'area': {'id': '98', 'name': 'Ульяновск', 'url': 'https://api.hh.ru/areas/98'}, 'salary': None, 'type': {'id': 'open', 'name': 'Открытая'}, 'address': None, 'response_url': None, 'sort_point_distance': None, 'published_at': '2023-03-10T13:27:35+0300', 'created_at': '2023-03-10T13:27:35+0300', 'archived': False, 'apply_alternate_url': 'https://hh.ru/applicant/vacancy_response?vacancyId=77895354', 'insider_interview': None, 'url': 'https://api.hh.ru/vacancies/77895354?host=hh.ru', 'adv_response_url': None, 'alternate_url': 'https://hh.ru/vacancy/77895354', 'relations': [], 'employer': {'id': '3529', 'name': 'СБЕР', 'url': 'https://api.hh.ru/employers/3529', 'alternate_url': 'https://hh.ru/employer/3529', 'logo_urls': {'240': 'https://hhcdn.ru/employer-logo/5756157.png', '90': 'https://hhcdn.ru/employer-logo/5756156.png', 'original': 'https://hhcdn.ru/employer-logo-original/1033849.png'}, 'vacancies_url': 'https://api.hh.ru/vacancies?employer_id=3529', 'trusted': True}, 'snippet': {'requirement': 'Образование не ниже среднего. Преимуществом будет опыт работы в правоохранительных органах, охранной структуре. Знание законодательства и нормативных актов, регламентирующих осуществление...', 'responsibility': 'Отслеживать пропускной внутриобъектовый пункт. Следить за видеонаблюдением. Осмотр автомобилей при въезде/выезде на территории банка.'}, 'contacts': None, 'schedule': None, 'working_days': [], 'working_time_intervals': [], 'working_time_modes': [], 'accept_temporary': False, 'professional_roles': [{'id': '120', 'name': 'Специалист службы безопасности'}], 'accept_incomplete_resumes': False}, {'id': '78175916', 'premium': False, 'name': 'Старший клиентский менеджер', 'department': {'id': '3529-3529-clients', 'name': 'Сбер. Работа с клиентами'}, 'has_test': False, 'response_letter_required': False, 'area': {'id': '1436', 'name': 'Малгобек', 'url': 'https://api.hh.ru/areas/1436'}, 'salary': {'from': 47400, 'to': None, 'currency': 'RUR', 'gross': True}, 'type': {'id': 'open', 'name': 'Открытая'}, 'address': {'city': 'Малгобек', 'street': None, 'building': None, 'lat': 43.5096646, 'lng': 44.5901963, 'description': None, 'raw': 'Малгобек', 'metro': None, 'metro_stations': [], 'id': '7648010'}, 'response_url': None, 'sort_point_distance': None, 'published_at': '2023-03-17T11:46:37+0300', 'created_at': '2023-03-17T11:46:37+0300', 'archived': False, 'apply_alternate_url': 'https://hh.ru/applicant/vacancy_response?vacancyId=78175916', 'insider_interview': None, 'url': 'https://api.hh.ru/vacancies/78175916?host=hh.ru', 'adv_response_url': None, 'alternate_url': 'https://hh.ru/vacancy/78175916', 'relations': [], 'employer': {'id': '3529', 'name': 'СБЕР', 'url': 'https://api.hh.ru/employers/3529', 'alternate_url': 'https://hh.ru/employer/3529', 'logo_urls': {'240': 'https://hhcdn.ru/employer-logo/5756157.png', '90': 'https://hhcdn.ru/employer-logo/5756156.png', 'original': 'https://hhcdn.ru/employer-logo-original/1033849.png'}, 'vacancies_url': 'https://api.hh.ru/vacancies?employer_id=3529', 'trusted': True}, 'snippet': {'requirement': 'Специалист со средним профессиональным, неполным высшим или высшим образованием. Имеешь опыт работы в сфере продаж, обслуживания и консультирования клиентов от...', 'responsibility': 'Доброжелателен и готов помогать клиентам. Предлагать продукты и услуги Сбера. Консультировать клиентов по возникающим вопросам. Помогать клиентам оформлять услуги и...'}, 'contacts': None, 'schedule': None, 'working_days': [], 'working_time_intervals': [], 'working_time_modes': [], 'accept_temporary': False, 'professional_roles': [{'id': '70', 'name': 'Менеджер по продажам, менеджер по работе с клиентами'}], 'accept_incomplete_resumes': True}, {'id': '78445215', 'premium': False, 'name': 'Специалист рекрутингового центра', 'department': {'id': '3529-3529-prof', 'name': 'Сбер для экспертов'}, 'has_test': False, 'response_letter_required': False, 'area': {'id': '26', 'name': 'Воронеж', 'url': 'https://api.hh.ru/areas/26'}, 'salary': None, 'type': {'id': 'open', 'name': 'Открытая'}, 'address': None, 'response_url': None, 'sort_point_distance': None, 'published_at': '2023-03-23T11:41:27+0300', 'created_at': '2023-03-23T11:41:27+0300', 'archived': False, 'apply_alternate_url': 'https://hh.ru/applicant/vacancy_response?vacancyId=78445215', 'insider_interview': None, 'url': 'https://api.hh.ru/vacancies/78445215?host=hh.ru', 'adv_response_url': None, 'alternate_url': 'https://hh.ru/vacancy/78445215', 'relations': [], 'employer': {'id': '3529', 'name': 'СБЕР', 'url': 'https://api.hh.ru/employers/3529', 'alternate_url': 'https://hh.ru/employer/3529', 'logo_urls': {'240': 'https://hhcdn.ru/employer-logo/5756157.png', '90': 'https://hhcdn.ru/employer-logo/5756156.png', 'original': 'https://hhcdn.ru/employer-logo-original/1033849.png'}, 'vacancies_url': 'https://api.hh.ru/vacancies?employer_id=3529', 'trusted': True}, 'snippet': {'requirement': 'Высшее/средне-специальное образование. Уверенное пользование ПК, программами MS Office. Опыт работы в HR, Call-центре, Retail/Telecom – компаниях, будет...', 'responsibility': 'Проводить телефонные интервью с кандидатами и консультировать соискателей по открытым вакансиям Банка. Участвовать в развивающих проектах компании: автоматизации инструментов отбора...'}, 'contacts': None, 'schedule': None, 'working_days': [], 'working_time_intervals': [], 'working_time_modes': [], 'accept_temporary': False, 'professional_roles': [{'id': '69', 'name': 'Менеджер по персоналу'}], 'accept_incomplete_resumes': False}, {'id': '69338438', 'premium': False, 'name': 'Старший клиентский менеджер', 'department': {'id': '3529-3529-stat', 'name': 'Сбер. Начало карьеры'}, 'has_test': False, 'response_letter_required': False, 'area': {'id': '1378', 'name': 'Пыть-Ях', 'url': 'https://api.hh.ru/areas/1378'}, 'salary': {'from': 123800, 'to': None, 'currency': 'RUR', 'gross': True}, 'type': {'id': 'open', 'name': 'Открытая'}, 'address': {'city': 'Пыть-Ях', 'street': None, 'building': None, 'lat': 60.758176, 'lng': 72.837281, 'description': None, 'raw': 'Пыть-Ях', 'metro': None, 'metro_stations': [], 'id': '11621733'}, 'response_url': None, 'sort_point_distance': None, 'published_at': '2023-03-24T12:38:47+0300', 'created_at': '2023-03-24T12:38:47+0300', 'archived': False, 'apply_alternate_url': 'https://hh.ru/applicant/vacancy_response?vacancyId=69338438', 'insider_interview': None, 'url': 'https://api.hh.ru/vacancies/69338438?host=hh.ru', 'adv_response_url': None, 'alternate_url': 'https://hh.ru/vacancy/69338438', 'relations': [], 'employer': {'id': '3529', 'name': 'СБЕР', 'url': 'https://api.hh.ru/employers/3529', 'alternate_url': 'https://hh.ru/employer/3529', 'logo_urls': {'240': 'https://hhcdn.ru/employer-logo/5756157.png', '90': 'https://hhcdn.ru/employer-logo/5756156.png', 'original': 'https://hhcdn.ru/employer-logo-original/1033849.png'}, 'vacancies_url': 'https://api.hh.ru/vacancies?employer_id=3529', 'trusted': True}, 'snippet': {'requirement': 'Специалист со средним профессиональным, неполным высшим или высшим образованием. Имеешь опыт работы в сфере продаж, обслуживания и консультирования клиентов от...', 'responsibility': 'Предлагать продукты и услуги Сбера. Консультировать клиентов по возникающим вопросам. Помогать клиентам оформлять услуги и необходимые для них документы. '}, 'contacts': None, 'schedule': None, 'working_days': [], 'working_time_intervals': [], 'working_time_modes': [], 'accept_temporary': False, 'professional_roles': [{'id': '57', 'name': 'Кредитный специалист'}], 'accept_incomplete_resumes': False}, {'id': '72880796', 'premium': False, 'name': 'Старший менеджер по обслуживанию (пгт Красная Поляна)', 'department': {'id': '3529-3529-stat', 'name': 'Сбер. Начало карьеры'}, 'has_test': False, 'response_letter_required': False, 'area': {'id': '2805', 'name': 'Красная Поляна', 'url': 'https://api.hh.ru/areas/2805'}, 'salary': {'from': 53500, 'to': 53500, 'currency': 'RUR', 'gross': True}, 'type': {'id': 'open', 'name': 'Открытая'}, 'address': None, 'response_url': None, 'sort_point_distance': None, 'published_at': '2023-03-22T12:51:15+0300', 'created_at': '2023-03-22T12:51:15+0300', 'archived': False, 'apply_alternate_url': 'https://hh.ru/applicant/vacancy_response?vacancyId=72880796', 'insider_interview': None, 'url': 'https://api.hh.ru/vacancies/72880796?host=hh.ru', 'adv_response_url': None, 'alternate_url': 'https://hh.ru/vacancy/72880796', 'relations': [], 'employer': {'id': '3529', 'name': 'СБЕР', 'url': 'https://api.hh.ru/employers/3529', 'alternate_url': 'https://hh.ru/employer/3529', 'logo_urls': {'240': 'https://hhcdn.ru/employer-logo/5756157.png', '90': 'https://hhcdn.ru/employer-logo/5756156.png', 'original': 'https://hhcdn.ru/employer-logo-original/1033849.png'}, 'vacancies_url': 'https://api.hh.ru/vacancies?employer_id=3529', 'trusted': True}, 'snippet': {'requirement': 'Хочешь построить карьеру в банковской сфере. Ищешь работу с возможностью карьерного перемещения по всей стране. Специалист со средним профессиональным, неполным...', 'responsibility': 'Работать в отделении офиса Сбера. Проводить кассовые операции: прием, выдача, обмен денег. Предлагать продукты и сервисы Сбера. Консультировать клиентов по...'}, 'contacts': None, 'schedule': None, 'working_days': [], 'working_time_intervals': [], 'working_time_modes': [], 'accept_temporary': False, 'professional_roles': [{'id': '70', 'name': 'Менеджер по продажам, менеджер по работе с клиентами'}], 'accept_incomplete_resumes': False}, {'id': '75857485', 'premium': False, 'name': 'Менеджер по работе с клиентами', 'department': {'id': '3529-3529-prof', 'name': 'Сбер для экспертов'}, 'has_test': False, 'response_letter_required': False, 'area': {'id': '5435', 'name': 'Назия', 'url': 'https://api.hh.ru/areas/5435'}, 'salary': {'from': 38300, 'to': None, 'currency': 'RUR', 'gross': True}, 'type': {'id': 'open', 'name': 'Открытая'}, 'address': {'city': 'Назия', 'street': None, 'building': None, 'lat': 59.838946, 'lng': 31.583687, 'description': None, 'raw': 'Назия', 'metro': None, 'metro_stations': [], 'id': '12525592'}, 'response_url': None, 'sort_point_distance': None, 'published_at': '2023-03-17T17:10:24+0300', 'created_at': '2023-03-17T17:10:24+0300', 'archived': False, 'apply_alternate_url': 'https://hh.ru/applicant/vacancy_response?vacancyId=75857485', 'insider_interview': None, 'url': 'https://api.hh.ru/vacancies/75857485?host=hh.ru', 'adv_response_url': None, 'alternate_url': 'https://hh.ru/vacancy/75857485', 'relations': [], 'employer': {'id': '3529', 'name': 'СБЕР', 'url': 'https://api.hh.ru/employers/3529', 'alternate_url': 'https://hh.ru/employer/3529', 'logo_urls': {'240': 'https://hhcdn.ru/employer-logo/5756157.png', '90': 'https://hhcdn.ru/employer-logo/5756156.png', 'original': 'https://hhcdn.ru/employer-logo-original/1033849.png'}, 'vacancies_url': 'https://api.hh.ru/vacancies?employer_id=3529', 'trusted': True}, 'snippet': {'requirement': 'Специалист со средним профессиональным, неполным высшим или высшим образованием. Владеешь программами Microsoft Office, Outlook. Готов к работе, предполагающей ежедневное проведение...', 'responsibility': 'Доброжелателен и готов помогать клиентам. Осуществлять операции по обслуживанию клиентов. Проводить кассовые операции: прием, выдача, обмен денег. Предлагать продукты и...'}, 'contacts': None, 'schedule': None, 'working_days': [], 'working_time_intervals': [], 'working_time_modes': [], 'accept_temporary': False, 'professional_roles': [{'id': '57', 'name': 'Кредитный специалист'}], 'accept_incomplete_resumes': True}, {'id': '77795290', 'premium': False, 'name': 'Ведущий специалист отдела строительного контроля', 'department': {'id': '3529-3529-prof', 'name': 'Сбер для экспертов'}, 'has_test': False, 'response_letter_required': False, 'area': {'id': '53', 'name': 'Краснодар', 'url': 'https://api.hh.ru/areas/53'}, 'salary': None, 'type': {'id': 'open', 'name': 'Открытая'}, 'address': None, 'response_url': None, 'sort_point_distance': None, 'published_at': '2023-03-08T23:44:19+0300', 'created_at': '2023-03-08T23:44:19+0300', 'archived': False, 'apply_alternate_url': 'https://hh.ru/applicant/vacancy_response?vacancyId=77795290', 'insider_interview': None, 'url': 'https://api.hh.ru/vacancies/77795290?host=hh.ru', 'adv_response_url': None, 'alternate_url': 'https://hh.ru/vacancy/77795290', 'relations': [], 'employer': {'id': '3529', 'name': 'СБЕР', 'url': 'https://api.hh.ru/employers/3529', 'alternate_url': 'https://hh.ru/employer/3529', 'logo_urls': {'240': 'https://hhcdn.ru/employer-logo/5756157.png', '90': 'https://hhcdn.ru/employer-logo/5756156.png', 'original': 'https://hhcdn.ru/employer-logo-original/1033849.png'}, 'vacancies_url': 'https://api.hh.ru/vacancies?employer_id=3529', 'trusted': True}, 'snippet': {'requirement': 'Высшее инженерное образование (в приоритете специальность «промышленное и гражданское строительство»). Опыт получения исходно-разрешительной и правоустанавливающей документации (ГПЗУ, согласований о...', 'responsibility': 'Проводить экспертизу исходно-разрешительной документации. Анализировать участников строительства. Оценивать сроки и стоимость реализации проектов. Выезжать на объект строительства для осмотра...'}, 'contacts': None, 'schedule': None, 'working_days': [], 'working_time_intervals': [], 'working_time_modes': [], 'accept_temporary': False, 'professional_roles': [{'id': '134', 'name': 'Финансовый аналитик, инвестиционный аналитик'}], 'accept_incomplete_resumes': False}, {'id': '78369285', 'premium': False, 'name': 'Клиентский менеджер прямых продаж', 'department': {'id': '3529-3529-stat', 'name': 'Сбер. Начало карьеры'}, 'has_test': False, 'response_letter_required': False, 'area': {'id': '147', 'name': 'Ханты-Мансийск', 'url': 'https://api.hh.ru/areas/147'}, 'salary': {'from': 102700, 'to': None, 'currency': 'RUR', 'gross': True}, 'type': {'id': 'open', 'name': 'Открытая'}, 'address': {'city': 'Ханты-Мансийск', 'street': None, 'building': None, 'lat': 61.0023984, 'lng': 69.0184798, 'description': None, 'raw': 'Ханты-Мансийск', 'metro': None, 'metro_stations': [], 'id': '11868353'}, 'response_url': None, 'sort_point_distance': None, 'published_at': '2023-03-21T16:26:39+0300', 'created_at': '2023-03-21T16:26:39+0300', 'archived': False, 'apply_alternate_url': 'https://hh.ru/applicant/vacancy_response?vacancyId=78369285', 'insider_interview': None, 'url': 'https://api.hh.ru/vacancies/78369285?host=hh.ru', 'adv_response_url': None, 'alternate_url': 'https://hh.ru/vacancy/78369285', 'relations': [], 'employer': {'id': '3529', 'name': 'СБЕР', 'url': 'https://api.hh.ru/employers/3529', 'alternate_url': 'https://hh.ru/employer/3529', 'logo_urls': {'240': 'https://hhcdn.ru/employer-logo/5756157.png', '90': 'https://hhcdn.ru/employer-logo/5756156.png', 'original': 'https://hhcdn.ru/employer-logo-original/1033849.png'}, 'vacancies_url': 'https://api.hh.ru/vacancies?employer_id=3529', 'trusted': True}, 'snippet': {'requirement': 'Специалист со средним профессиональным, неполным высшим или высшим образованием. Хочешь развивать навыки переговоров. Готов к высокому темпу работы.', 'responsibility': 'У каждого нашего клиента есть возможность получить квалифицированную консультацию и оформить продукт или сервис Сбера в удобном месте с помощью...'}, 'contacts': None, 'schedule': None, 'working_days': [], 'working_time_intervals': [], 'working_time_modes': [], 'accept_temporary': False, 'professional_roles': [{'id': '105', 'name': 'Руководитель отдела клиентского обслуживания'}], 'accept_incomplete_resumes': True}, {'id': '73796547', 'premium': False, 'name': 'Старший менеджер по обслуживанию', 'department': {'id': '3529-3529-prof', 'name': 'Сбер для экспертов'}, 'has_test': False, 'response_letter_required': False, 'area': {'id': '3657', 'name': 'Бакалы', 'url': 'https://api.hh.ru/areas/3657'}, 'salary': {'from': 23500, 'to': None, 'currency': 'RUR', 'gross': True}, 'type': {'id': 'open', 'name': 'Открытая'}, 'address': {'city': 'Бакалы', 'street': None, 'building': None, 'lat': 55.179632, 'lng': 53.795593, 'description': None, 'raw': 'Бакалы', 'metro': None, 'metro_stations': [], 'id': '12358816'}, 'response_url': None, 'sort_point_distance': None, 'published_at': '2023-03-22T11:42:43+0300', 'created_at': '2023-03-22T11:42:43+0300', 'archived': False, 'apply_alternate_url': 'https://hh.ru/applicant/vacancy_response?vacancyId=73796547', 'insider_interview': None, 'url': 'https://api.hh.ru/vacancies/73796547?host=hh.ru', 'adv_response_url': None, 'alternate_url': 'https://hh.ru/vacancy/73796547', 'relations': [], 'employer': {'id': '3529', 'name': 'СБЕР', 'url': 'https://api.hh.ru/employers/3529', 'alternate_url': 'https://hh.ru/employer/3529', 'logo_urls': {'240': 'https://hhcdn.ru/employer-logo/5756157.png', '90': 'https://hhcdn.ru/employer-logo/5756156.png', 'original': 'https://hhcdn.ru/employer-logo-original/1033849.png'}, 'vacancies_url': 'https://api.hh.ru/vacancies?employer_id=3529', 'trusted': True}, 'snippet': {'requirement': 'Специалист со средним профессиональным, неполным высшим или высшим образованием. Владеешь программами Microsoft Office, Outlook. Готов к работе, предполагающей ежедневное проведение...', 'responsibility': 'Доброжелателен и готов помогать клиентам. Осуществлять операции по обслуживанию клиентов. Проводить кассовые операции: прием, выдача, обмен денег. Предлагать продукты и...'}, 'contacts': None, 'schedule': None, 'working_days': [], 'working_time_intervals': [], 'working_time_modes': [], 'accept_temporary': False, 'professional_roles': [{'id': '57', 'name': 'Кредитный специалист'}], 'accept_incomplete_resumes': True}, {'id': '76094030', 'premium': False, 'name': 'Менеджер по работе с клиентами', 'department': {'id': '3529-3529-prof', 'name': 'Сбер для экспертов'}, 'has_test': False, 'response_letter_required': False, 'area': {'id': '6793', 'name': 'Берендеево', 'url': 'https://api.hh.ru/areas/6793'}, 'salary': {'from': 26000, 'to': None, 'currency': 'RUR', 'gross': True}, 'type': {'id': 'open', 'name': 'Открытая'}, 'address': {'city': 'Берендеево', 'street': None, 'building': None, 'lat': 56.598319, 'lng': 39.020049, 'description': None, 'raw': 'Берендеево', 'metro': None, 'metro_stations': [], 'id': '11320742'}, 'response_url': None, 'sort_point_distance': None, 'published_at': '2023-03-24T13:47:42+0300', 'created_at': '2023-03-24T13:47:42+0300', 'archived': False, 'apply_alternate_url': 'https://hh.ru/applicant/vacancy_response?vacancyId=76094030', 'insider_interview': None, 'url': 'https://api.hh.ru/vacancies/76094030?host=hh.ru', 'adv_response_url': None, 'alternate_url': 'https://hh.ru/vacancy/76094030', 'relations': [], 'employer': {'id': '3529', 'name': 'СБЕР', 'url': 'https://api.hh.ru/employers/3529', 'alternate_url': 'https://hh.ru/employer/3529', 'logo_urls': {'240': 'https://hhcdn.ru/employer-logo/5756157.png', '90': 'https://hhcdn.ru/employer-logo/5756156.png', 'original': 'https://hhcdn.ru/employer-logo-original/1033849.png'}, 'vacancies_url': 'https://api.hh.ru/vacancies?employer_id=3529', 'trusted': True}, 'snippet': {'requirement': 'Специалист со средним профессиональным, неполным высшим или высшим образованием. Готов к работе, предполагающей ежедневное проведение однотипных операций.', 'responsibility': 'Осуществлять операции по обслуживанию клиентов. Проводить кассовые операции: прием, выдача, обмен денег. Предлагать продукты и сервисы Сбера. Консультировать клиентов по...'}, 'contacts': None, 'schedule': None, 'working_days': [], 'working_time_intervals': [], 'working_time_modes': [], 'accept_temporary': False, 'professional_roles': [{'id': '70', 'name': 'Менеджер по продажам, менеджер по работе с клиентами'}], 'accept_incomplete_resumes': True}, {'id': '76414667', 'premium': False, 'name': 'Менеджер по работе с клиентами (Пушкарное)', 'department': {'id': '3529-3529-prof', 'name': 'Сбер для экспертов'}, 'has_test': False, 'response_letter_required': False, 'area': {'id': '3832', 'name': 'Коренево', 'url': 'https://api.hh.ru/areas/3832'}, 'salary': {'from': 9500, 'to': None, 'currency': 'RUR', 'gross': True}, 'type': {'id': 'open', 'name': 'Открытая'}, 'address': {'city': 'Пушкарное', 'street': None, 'building': None, 'lat': 51.480833, 'lng': 34.826165, 'description': None, 'raw': 'Пушкарное', 'metro': None, 'metro_stations': [], 'id': '12642811'}, 'response_url': None, 'sort_point_distance': None, 'published_at': '2023-03-01T18:21:28+0300', 'created_at': '2023-03-01T18:21:28+0300', 'archived': False, 'apply_alternate_url': 'https://hh.ru/applicant/vacancy_response?vacancyId=76414667', 'insider_interview': None, 'url': 'https://api.hh.ru/vacancies/76414667?host=hh.ru', 'adv_response_url': None, 'alternate_url': 'https://hh.ru/vacancy/76414667', 'relations': [], 'employer': {'id': '3529', 'name': 'СБЕР', 'url': 'https://api.hh.ru/employers/3529', 'alternate_url': 'https://hh.ru/employer/3529', 'logo_urls': {'240': 'https://hhcdn.ru/employer-logo/5756157.png', '90': 'https://hhcdn.ru/employer-logo/5756156.png', 'original': 'https://hhcdn.ru/employer-logo-original/1033849.png'}, 'vacancies_url': 'https://api.hh.ru/vacancies?employer_id=3529', 'trusted': True}, 'snippet': {'requirement': 'Специалист со средним профессиональным, неполным высшим или высшим образованием. Владеешь программами Microsoft Office, Outlook. Готов к работе, предполагающей ежедневное проведение...', 'responsibility': 'Доброжелателен и готов помогать клиентам. Осуществлять операции по обслуживанию клиентов. Проводить кассовые операции: прием, выдача, обмен денег. Предлагать продукты и...'}, 'contacts': None, 'schedule': None, 'working_days': [], 'working_time_intervals': [], 'working_time_modes': [], 'accept_temporary': False, 'professional_roles': [{'id': '57', 'name': 'Кредитный специалист'}], 'accept_incomplete_resumes': True}, {'id': '76838746', 'premium': False, 'name': 'Старший клиентский менеджер', 'department': {'id': '3529-3529-clients', 'name': 'Сбер. Работа с клиентами'}, 'has_test': False, 'response_letter_required': False, 'area': {'id': '4571', 'name': 'Городище', 'url': 'https://api.hh.ru/areas/4571'}, 'salary': {'from': 43200, 'to': None, 'currency': 'RUR', 'gross': True}, 'type': {'id': 'open', 'name': 'Открытая'}, 'address': {'city': 'Городище', 'street': None, 'building': None, 'lat': 48.80967, 'lng': 44.476174, 'description': None, 'raw': 'Городище', 'metro': None, 'metro_stations': [], 'id': '11578918'}, 'response_url': None, 'sort_point_distance': None, 'published_at': '2023-03-12T09:48:21+0300', 'created_at': '2023-03-12T09:48:21+0300', 'archived': False, 'apply_alternate_url': 'https://hh.ru/applicant/vacancy_response?vacancyId=76838746', 'insider_interview': None, 'url': 'https://api.hh.ru/vacancies/76838746?host=hh.ru', 'adv_response_url': None, 'alternate_url': 'https://hh.ru/vacancy/76838746', 'relations': [], 'employer': {'id': '3529', 'name': 'СБЕР', 'url': 'https://api.hh.ru/employers/3529', 'alternate_url': 'https://hh.ru/employer/3529', 'logo_urls': {'240': 'https://hhcdn.ru/employer-logo/5756157.png', '90': 'https://hhcdn.ru/employer-logo/5756156.png', 'original': 'https://hhcdn.ru/employer-logo-original/1033849.png'}, 'vacancies_url': 'https://api.hh.ru/vacancies?employer_id=3529', 'trusted': True}, 'snippet': {'requirement': 'Специалист со средним профессиональным, неполным высшим или высшим образованием. Имеешь опыт работы в сфере продаж, обслуживания и консультирования клиентов от...', 'responsibility': 'Доброжелателен и готов помогать клиентам. Предлагать продукты и услуги Сбера. Консультировать клиентов по возникающим вопросам. Помогать клиентам оформлять услуги и...'}, 'contacts': None, 'schedule': None, 'working_days': [], 'working_time_intervals': [], 'working_time_modes': [], 'accept_temporary': False, 'professional_roles': [{'id': '70', 'name': 'Менеджер по продажам, менеджер по работе с клиентами'}], 'accept_incomplete_resumes': True}, {'id': '77759102', 'premium': False, 'name': 'DevOps инженер', 'department': {'id': '3529-3529-it', 'name': 'Сбер. IT'}, 'has_test': False, 'response_letter_required': False, 'area': {'id': '2', 'name': 'Санкт-Петербург', 'url': 'https://api.hh.ru/areas/2'}, 'salary': None, 'type': {'id': 'open', 'name': 'Открытая'}, 'address': None, 'response_url': None, 'sort_point_distance': None, 'published_at': '2023-03-07T12:17:14+0300', 'created_at': '2023-03-07T12:17:14+0300', 'archived': False, 'apply_alternate_url': 'https://hh.ru/applicant/vacancy_response?vacancyId=77759102', 'insider_interview': None, 'url': 'https://api.hh.ru/vacancies/77759102?host=hh.ru', 'adv_response_url': None, 'alternate_url': 'https://hh.ru/vacancy/77759102', 'relations': [], 'employer': {'id': '3529', 'name': 'СБЕР', 'url': 'https://api.hh.ru/employers/3529', 'alternate_url': 'https://hh.ru/employer/3529', 'logo_urls': {'240': 'https://hhcdn.ru/employer-logo/5756157.png', '90': 'https://hhcdn.ru/employer-logo/5756156.png', 'original': 'https://hhcdn.ru/employer-logo-original/1033849.png'}, 'vacancies_url': 'https://api.hh.ru/vacancies?employer_id=3529', 'trusted': True}, 'snippet': {'requirement': 'Опыт работы в качестве DevOps-инженера от 1 года. Понимание жизненного цикла DevOps. Опыт настройки и эксплуатации инструментов Continuous Integration...', 'responsibility': 'Настройка и диагностика инструментов процесса DevOps. Администрирование контейнеризированных приложений (Docker/OpenShift/Istio), настройка параметров (Ansible, Git/Bitbucket, система управления секретами...'}, 'contacts': None, 'schedule': None, 'working_days': [], 'working_time_intervals': [], 'working_time_modes': [], 'accept_temporary': False, 'professional_roles': [{'id': '160', 'name': 'DevOps-инженер'}], 'accept_incomplete_resumes': False}, {'id': '77765653', 'premium': False, 'name': 'Data Scientist', 'department': {'id': '3529-3529-data', 'name': 'Сбер. Data Science'}, 'has_test': False, 'response_letter_required': False, 'area': {'id': '1', 'name': 'Москва', 'url': 'https://api.hh.ru/areas/1'}, 'salary': None, 'type': {'id': 'open', 'name': 'Открытая'}, 'address': None, 'response_url': None, 'sort_point_distance': None, 'published_at': '2023-03-07T14:27:41+0300', 'created_at': '2023-03-07T14:27:41+0300', 'archived': False, 'apply_alternate_url': 'https://hh.ru/applicant/vacancy_response?vacancyId=77765653', 'insider_interview': None, 'url': 'https://api.hh.ru/vacancies/77765653?host=hh.ru', 'adv_response_url': None, 'alternate_url': 'https://hh.ru/vacancy/77765653', 'relations': [], 'employer': {'id': '3529', 'name': 'СБЕР', 'url': 'https://api.hh.ru/employers/3529', 'alternate_url': 'https://hh.ru/employer/3529', 'logo_urls': {'240': 'https://hhcdn.ru/employer-logo/5756157.png', '90': 'https://hhcdn.ru/employer-logo/5756156.png', 'original': 'https://hhcdn.ru/employer-logo-original/1033849.png'}, 'vacancies_url': 'https://api.hh.ru/vacancies?employer_id=3529', 'trusted': True}, 'snippet': {'requirement': 'Не менее 3 лет в области Data Science, реализованные и внедренные решения. Опыт постановки и проведения ad-hoc исследований, оценка...', 'responsibility': 'Построение промышленных рекомендательных систем для продажи продуктов экосистемы и продуктов банка, встраивание их в сквозные бизнес-процессы банка. '}, 'contacts': None, 'schedule': None, 'working_days': [], 'working_time_intervals': [], 'working_time_modes': [], 'accept_temporary': False, 'professional_roles': [{'id': '10', 'name': 'Аналитик'}], 'accept_incomplete_resumes': False}, {'id': '77959978', 'premium': False, 'name': 'Бизнес-аналитик (разработка АБС для индийского филиала Банка)', 'department': {'id': '3529-3529-prof', 'name': 'Сбер для экспертов'}, 'has_test': False, 'response_letter_required': False, 'area': {'id': '1', 'name': 'Москва', 'url': 'https://api.hh.ru/areas/1'}, 'salary': None, 'type': {'id': 'open', 'name': 'Открытая'}, 'address': None, 'response_url': None, 'sort_point_distance': None, 'published_at': '2023-03-13T11:01:54+0300', 'created_at': '2023-03-13T11:01:54+0300', 'archived': False, 'apply_alternate_url': 'https://hh.ru/applicant/vacancy_response?vacancyId=77959978', 'insider_interview': None, 'url': 'https://api.hh.ru/vacancies/77959978?host=hh.ru', 'adv_response_url': None, 'alternate_url': 'https://hh.ru/vacancy/77959978', 'relations': [], 'employer': {'id': '3529', 'name': 'СБЕР', 'url': 'https://api.hh.ru/employers/3529', 'alternate_url': 'https://hh.ru/employer/3529', 'logo_urls': {'240': 'https://hhcdn.ru/employer-logo/5756157.png', '90': 'https://hhcdn.ru/employer-logo/5756156.png', 'original': 'https://hhcdn.ru/employer-logo-original/1033849.png'}, 'vacancies_url': 'https://api.hh.ru/vacancies?employer_id=3529', 'trusted': True}, 'snippet': {'requirement': 'Высшее техническое образование (информационные технологии). Знание предметных областей: клиенты и счета, операционная работа отделения банка, KYC, переводы/транзакции. ', 'responsibility': 'Собирать, анализировать и систематизировать бизнес-требования, генерировать идеи, предлагать решения с учётом принятых технических ограничений и интеграционных взаимодействий. '}, 'contacts': None, 'schedule': None, 'working_days': [], 'working_time_intervals': [], 'working_time_modes': [], 'accept_temporary': False, 'professional_roles': [{'id': '10', 'name': 'Аналитик'}], 'accept_incomplete_resumes': False}, {'id': '78367840', 'premium': False, 'name': 'Старший кредитный аналитик малого бизнеса', 'department': {'id': '3529-3529-prof', 'name': 'Сбер для экспертов'}, 'has_test': False, 'response_letter_required': False, 'area': {'id': '2041', 'name': 'Мытищи', 'url': 'https://api.hh.ru/areas/2041'}, 'salary': {'from': 144000, 'to': None, 'currency': 'RUR', 'gross': True}, 'type': {'id': 'open', 'name': 'Открытая'}, 'address': None, 'response_url': None, 'sort_point_distance': None, 'published_at': '2023-03-24T09:02:03+0300', 'created_at': '2023-03-24T09:02:03+0300', 'archived': False, 'apply_alternate_url': 'https://hh.ru/applicant/vacancy_response?vacancyId=78367840', 'insider_interview': None, 'url': 'https://api.hh.ru/vacancies/78367840?host=hh.ru', 'adv_response_url': None, 'alternate_url': 'https://hh.ru/vacancy/78367840', 'relations': [], 'employer': {'id': '3529', 'name': 'СБЕР', 'url': 'https://api.hh.ru/employers/3529', 'alternate_url': 'https://hh.ru/employer/3529', 'logo_urls': {'240': 'https://hhcdn.ru/employer-logo/5756157.png', '90': 'https://hhcdn.ru/employer-logo/5756156.png', 'original': 'https://hhcdn.ru/employer-logo-original/1033849.png'}, 'vacancies_url': 'https://api.hh.ru/vacancies?employer_id=3529', 'trusted': True}, 'snippet': {'requirement': 'Высшее\\\\неполное высшее образование. Опыт работы в кредитовании корпоративных клиентов, андеррайтинга, аудита или консалтинга корпоративных клиентов от 1-го года...', 'responsibility': 'Осуществление проведение комплексной экспертизы сделки (лимита), в том числе полный финансовый анализ заемщика и (при необходимости) основных участников сделки, а...'}, 'contacts': None, 'schedule': None, 'working_days': [], 'working_time_intervals': [], 'working_time_modes': [], 'accept_temporary': False, 'professional_roles': [{'id': '136', 'name': 'Финансовый контролер'}], 'accept_incomplete_resumes': False}, {'id': '78370776', 'premium': False, 'name': 'Менеджер по работе с ключевыми клиентами малого бизнеса', 'department': {'id': '3529-3529-prof', 'name': 'Сбер для экспертов'}, 'has_test': False, 'response_letter_required': False, 'area': {'id': '2', 'name': 'Санкт-Петербург', 'url': 'https://api.hh.ru/areas/2'}, 'salary': {'from': 85500, 'to': None, 'currency': 'RUR', 'gross': True}, 'type': {'id': 'open', 'name': 'Открытая'}, 'address': {'city': 'Гатчина', 'street': None, 'building': None, 'lat': 59.565237, 'lng': 30.1282473, 'description': None, 'raw': 'Гатчина', 'metro': None, 'metro_stations': [], 'id': '11884352'}, 'response_url': None, 'sort_point_distance': None, 'published_at': '2023-03-23T14:53:58+0300', 'created_at': '2023-03-23T14:53:58+0300', 'archived': False, 'apply_alternate_url': 'https://hh.ru/applicant/vacancy_response?vacancyId=78370776', 'insider_interview': None, 'url': 'https://api.hh.ru/vacancies/78370776?host=hh.ru', 'adv_response_url': None, 'alternate_url': 'https://hh.ru/vacancy/78370776', 'relations': [], 'employer': {'id': '3529', 'name': 'СБЕР', 'url': 'https://api.hh.ru/employers/3529', 'alternate_url': 'https://hh.ru/employer/3529', 'logo_urls': {'240': 'https://hhcdn.ru/employer-logo/5756157.png', '90': 'https://hhcdn.ru/employer-logo/5756156.png', 'original': 'https://hhcdn.ru/employer-logo-original/1033849.png'}, 'vacancies_url': 'https://api.hh.ru/vacancies?employer_id=3529', 'trusted': True}, 'snippet': {'requirement': 'Высшее или неполное высшее образование. Опыт в сфере продаж корпоративным клиентам. Понимание основ ведения бизнеса. Умение выстраивать отношения с людьми. ', 'responsibility': 'Развивать бизнес клиентов из закрепленной базы, предлагая продукты и услуги Сбера. Проводить переговоры с клиентами на территории компаний-партнеров. '}, 'contacts': None, 'schedule': None, 'working_days': [], 'working_time_intervals': [], 'working_time_modes': [], 'accept_temporary': False, 'professional_roles': [{'id': '70', 'name': 'Менеджер по продажам, менеджер по работе с клиентами'}], 'accept_incomplete_resumes': False}, {'id': '66844151', 'premium': False, 'name': 'Старший менеджер по обслуживанию (с. Париж)', 'department': {'id': '3529-3529-prof', 'name': 'Сбер для экспертов'}, 'has_test': False, 'response_letter_required': False, 'area': {'id': '5812', 'name': 'Фершампенуаз (Челябинская область)', 'url': 'https://api.hh.ru/areas/5812'}, 'salary': {'from': 21700, 'to': None, 'currency': 'RUR', 'gross': True}, 'type': {'id': 'open', 'name': 'Открытая'}, 'address': {'city': 'село Париж', 'street': 'улица Гагарина', 'building': '26', 'lat': 53.293754, 'lng': 60.104039, 'description': None, 'raw': 'село Париж, улица Гагарина, 26', 'metro': None, 'metro_stations': [], 'id': '11111565'}, 'response_url': None, 'sort_point_distance': None, 'published_at': '2023-03-22T09:22:00+0300', 'created_at': '2023-03-22T09:22:00+0300', 'archived': False, 'apply_alternate_url': 'https://hh.ru/applicant/vacancy_response?vacancyId=66844151', 'insider_interview': None, 'url': 'https://api.hh.ru/vacancies/66844151?host=hh.ru', 'adv_response_url': None, 'alternate_url': 'https://hh.ru/vacancy/66844151', 'relations': [], 'employer': {'id': '3529', 'name': 'СБЕР', 'url': 'https://api.hh.ru/employers/3529', 'alternate_url': 'https://hh.ru/employer/3529', 'logo_urls': {'240': 'https://hhcdn.ru/employer-logo/5756157.png', '90': 'https://hhcdn.ru/employer-logo/5756156.png', 'original': 'https://hhcdn.ru/employer-logo-original/1033849.png'}, 'vacancies_url': 'https://api.hh.ru/vacancies?employer_id=3529', 'trusted': True}, 'snippet': {'requirement': 'Хочешь стать экспертом в банковской сфере. Доброжелателен и готов помогать клиентам. Специалист со средним профессиональным, неполным высшим или высшим образованием. ', 'responsibility': 'Осуществлять операции по обслуживанию клиентов. Проводить кассовые операции: прием, выдача, обмен денег. Предлагать продукты и сервисы Сбера. Консультировать клиентов по...'}, 'contacts': None, 'schedule': None, 'working_days': [], 'working_time_intervals': [], 'working_time_modes': [], 'accept_temporary': False, 'professional_roles': [{'id': '97', 'name': 'Продавец-консультант, продавец-кассир'}], 'accept_incomplete_resumes': False}, {'id': '67849261', 'premium': False, 'name': 'Старший менеджер по обслуживанию (с. Царев)', 'department': {'id': '3529-3529-prof', 'name': 'Сбер для экспертов'}, 'has_test': False, 'response_letter_required': False, 'area': {'id': '1520', 'name': 'Ленинск', 'url': 'https://api.hh.ru/areas/1520'}, 'salary': {'from': 6800, 'to': None, 'currency': 'RUR', 'gross': True}, 'type': {'id': 'open', 'name': 'Открытая'}, 'address': None, 'response_url': None, 'sort_point_distance': None, 'published_at': '2023-03-08T09:31:38+0300', 'created_at': '2023-03-08T09:31:38+0300', 'archived': False, 'apply_alternate_url': 'https://hh.ru/applicant/vacancy_response?vacancyId=67849261', 'insider_interview': None, 'url': 'https://api.hh.ru/vacancies/67849261?host=hh.ru', 'adv_response_url': None, 'alternate_url': 'https://hh.ru/vacancy/67849261', 'relations': [], 'employer': {'id': '3529', 'name': 'СБЕР', 'url': 'https://api.hh.ru/employers/3529', 'alternate_url': 'https://hh.ru/employer/3529', 'logo_urls': {'240': 'https://hhcdn.ru/employer-logo/5756157.png', '90': 'https://hhcdn.ru/employer-logo/5756156.png', 'original': 'https://hhcdn.ru/employer-logo-original/1033849.png'}, 'vacancies_url': 'https://api.hh.ru/vacancies?employer_id=3529', 'trusted': True}, 'snippet': {'requirement': 'Специалист со средним профессиональным, неполным высшим или высшим образованием. Хочешь работать в надежной компании. Имеешь опыт работы в сфере продаж...', 'responsibility': 'Проводить кассовые операции: прием, выдача, обмен денег. Предлагать продукты и сервисы Сбера. Консультировать клиентов по возникающим вопросам.'}, 'contacts': None, 'schedule': None, 'working_days': [], 'working_time_intervals': [], 'working_time_modes': [], 'accept_temporary': False, 'professional_roles': [{'id': '70', 'name': 'Менеджер по продажам, менеджер по работе с клиентами'}], 'accept_incomplete_resumes': True}, {'id': '73341984', 'premium': False, 'name': 'Старший клиентский менеджер', 'department': {'id': '3529-3529-clients', 'name': 'Сбер. Работа с клиентами'}, 'has_test': False, 'response_letter_required': False, 'area': {'id': '5175', 'name': 'Лиман (Астраханская область)', 'url': 'https://api.hh.ru/areas/5175'}, 'salary': {'from': 34600, 'to': None, 'currency': 'RUR', 'gross': True}, 'type': {'id': 'open', 'name': 'Открытая'}, 'address': {'city': 'Лиман', 'street': None, 'building': None, 'lat': 45.781837, 'lng': 47.223815, 'description': None, 'raw': 'Лиман', 'metro': None, 'metro_stations': [], 'id': '11447827'}, 'response_url': None, 'sort_point_distance': None, 'published_at': '2023-03-13T16:19:03+0300', 'created_at': '2023-03-13T16:19:03+0300', 'archived': False, 'apply_alternate_url': 'https://hh.ru/applicant/vacancy_response?vacancyId=73341984', 'insider_interview': None, 'url': 'https://api.hh.ru/vacancies/73341984?host=hh.ru', 'adv_response_url': None, 'alternate_url': 'https://hh.ru/vacancy/73341984', 'relations': [], 'employer': {'id': '3529', 'name': 'СБЕР', 'url': 'https://api.hh.ru/employers/3529', 'alternate_url': 'https://hh.ru/employer/3529', 'logo_urls': {'240': 'https://hhcdn.ru/employer-logo/5756157.png', '90': 'https://hhcdn.ru/employer-logo/5756156.png', 'original': 'https://hhcdn.ru/employer-logo-original/1033849.png'}, 'vacancies_url': 'https://api.hh.ru/vacancies?employer_id=3529', 'trusted': True}, 'snippet': {'requirement': 'Специалист со средним профессиональным, неполным высшим или высшим образованием. Имеешь опыт работы в сфере продаж, обслуживания и консультирования клиентов от...', 'responsibility': 'Доброжелателен и готов помогать клиентам. Предлагать продукты и услуги Сбера. Консультировать клиентов по возникающим вопросам. Помогать клиентам оформлять услуги и...'}, 'contacts': None, 'schedule': None, 'working_days': [], 'working_time_intervals': [], 'working_time_modes': [], 'accept_temporary': False, 'professional_roles': [{'id': '105', 'name': 'Руководитель отдела клиентского обслуживания'}], 'accept_incomplete_resumes': True}, {'id': '75572109', 'premium': False, 'name': 'Старший менеджер по обслуживанию', 'department': {'id': '3529-3529-prof', 'name': 'Сбер для экспертов'}, 'has_test': False, 'response_letter_required': False, 'area': {'id': '5795', 'name': 'Локомотивный (Челябинская область)', 'url': 'https://api.hh.ru/areas/5795'}, 'salary': {'from': 27000, 'to': None, 'currency': 'RUR', 'gross': True}, 'type': {'id': 'open', 'name': 'Открытая'}, 'address': {'city': 'Снежный', 'street': None, 'building': None, 'lat': 52.861489, 'lng': 60.018995, 'description': None, 'raw': 'Снежный', 'metro': None, 'metro_stations': [], 'id': '11875444'}, 'response_url': None, 'sort_point_distance': None, 'published_at': '2023-03-10T16:43:36+0300', 'created_at': '2023-03-10T16:43:36+0300', 'archived': False, 'apply_alternate_url': 'https://hh.ru/applicant/vacancy_response?vacancyId=75572109', 'insider_interview': None, 'url': 'https://api.hh.ru/vacancies/75572109?host=hh.ru', 'adv_response_url': None, 'alternate_url': 'https://hh.ru/vacancy/75572109', 'relations': [], 'employer': {'id': '3529', 'name': 'СБЕР', 'url': 'https://api.hh.ru/employers/3529', 'alternate_url': 'https://hh.ru/employer/3529', 'logo_urls': {'240': 'https://hhcdn.ru/employer-logo/5756157.png', '90': 'https://hhcdn.ru/employer-logo/5756156.png', 'original': 'https://hhcdn.ru/employer-logo-original/1033849.png'}, 'vacancies_url': 'https://api.hh.ru/vacancies?employer_id=3529', 'trusted': True}, 'snippet': {'requirement': 'Специалист со средним профессиональным, неполным высшим или высшим образованием. Владеешь программами Microsoft Office, Outlook. Готов к работе, предполагающей ежедневное проведение...', 'responsibility': 'Доброжелателен и готов помогать клиентам. Осуществлять операции по обслуживанию клиентов. Проводить кассовые операции: прием, выдача, обмен денег. Предлагать продукты и...'}, 'contacts': None, 'schedule': None, 'working_days': [], 'working_time_intervals': [], 'working_time_modes': [], 'accept_temporary': False, 'professional_roles': [{'id': '57', 'name': 'Кредитный специалист'}], 'accept_incomplete_resumes': True}, {'id': '75573566', 'premium': False, 'name': 'Старший менеджер по обслуживанию (Нагайбакский)', 'department': {'id': '3529-3529-prof', 'name': 'Сбер для экспертов'}, 'has_test': False, 'response_letter_required': False, 'area': {'id': '5812', 'name': 'Фершампенуаз (Челябинская область)', 'url': 'https://api.hh.ru/areas/5812'}, 'salary': {'from': 13500, 'to': None, 'currency': 'RUR', 'gross': True}, 'type': {'id': 'open', 'name': 'Открытая'}, 'address': {'city': 'Нагайбакский', 'street': None, 'building': None, 'lat': 53.546204, 'lng': 59.533537, 'description': None, 'raw': 'Нагайбакский', 'metro': None, 'metro_stations': [], 'id': '11876017'}, 'response_url': None, 'sort_point_distance': None, 'published_at': '2023-03-10T17:49:27+0300', 'created_at': '2023-03-10T17:49:27+0300', 'archived': False, 'apply_alternate_url': 'https://hh.ru/applicant/vacancy_response?vacancyId=75573566', 'insider_interview': None, 'url': 'https://api.hh.ru/vacancies/75573566?host=hh.ru', 'adv_response_url': None, 'alternate_url': 'https://hh.ru/vacancy/75573566', 'relations': [], 'employer': {'id': '3529', 'name': 'СБЕР', 'url': 'https://api.hh.ru/employers/3529', 'alternate_url': 'https://hh.ru/employer/3529', 'logo_urls': {'240': 'https://hhcdn.ru/employer-logo/5756157.png', '90': 'https://hhcdn.ru/employer-logo/5756156.png', 'original': 'https://hhcdn.ru/employer-logo-original/1033849.png'}, 'vacancies_url': 'https://api.hh.ru/vacancies?employer_id=3529', 'trusted': True}, 'snippet': {'requirement': 'Специалист со средним профессиональным, неполным высшим или высшим образованием. Хочешь работать в надежной компании. Имеешь опыт работы в сфере продаж...', 'responsibility': 'Проводить кассовые операции: прием, выдача, обмен денег. Предлагать продукты и сервисы Сбера. Консультировать клиентов по возникающим вопросам.'}, 'contacts': None, 'schedule': None, 'working_days': [], 'working_time_intervals': [], 'working_time_modes': [], 'accept_temporary': False, 'professional_roles': [{'id': '70', 'name': 'Менеджер по продажам, менеджер по работе с клиентами'}], 'accept_incomplete_resumes': True}, {'id': '77492666', 'premium': False, 'name': 'Data scientist (Центр валидации моделей розничного бизнеса)', 'department': {'id': '3529-3529-data', 'name': 'Сбер. Data Science'}, 'has_test': False, 'response_letter_required': False, 'area': {'id': '1', 'name': 'Москва', 'url': 'https://api.hh.ru/areas/1'}, 'salary': None, 'type': {'id': 'open', 'name': 'Открытая'}, 'address': {'city': 'Москва', 'street': 'Кутузовский проспект', 'building': '32к1', 'lat': 55.741338, 'lng': 37.531127, 'description': None, 'raw': 'Москва, Кутузовский проспект, 32к1', 'metro': {'station_name': 'Кутузовская', 'line_name': 'Филевская', 'station_id': '4.73', 'line_id': '4', 'lat': 55.740544, 'lng': 37.5341}, 'metro_stations': [{'station_name': 'Кутузовская', 'line_name': 'Филевская', 'station_id': '4.73', 'line_id': '4', 'lat': 55.740544, 'lng': 37.5341}, {'station_name': 'Кутузовская', 'line_name': 'МЦК', 'station_id': '95.536', 'line_id': '95', 'lat': 55.740833, 'lng': 37.533333}], 'id': '731097'}, 'response_url': None, 'sort_point_distance': None, 'published_at': '2023-02-28T15:44:11+0300', 'created_at': '2023-02-28T15:44:11+0300', 'archived': False, 'apply_alternate_url': 'https://hh.ru/applicant/vacancy_response?vacancyId=77492666', 'insider_interview': None, 'url': 'https://api.hh.ru/vacancies/77492666?host=hh.ru', 'adv_response_url': None, 'alternate_url': 'https://hh.ru/vacancy/77492666', 'relations': [], 'employer': {'id': '3529', 'name': 'СБЕР', 'url': 'https://api.hh.ru/employers/3529', 'alternate_url': 'https://hh.ru/employer/3529', 'logo_urls': {'240': 'https://hhcdn.ru/employer-logo/5756157.png', '90': 'https://hhcdn.ru/employer-logo/5756156.png', 'original': 'https://hhcdn.ru/employer-logo-original/1033849.png'}, 'vacancies_url': 'https://api.hh.ru/vacancies?employer_id=3529', 'trusted': True}, 'snippet': {'requirement': 'Знание машинного обучения и статистического анализа (интересен любой опыт). Знание мат. статистики, алгоритмов, структур данных. Знание Python и/или R...', 'responsibility': 'Участие в построении системы управления капиталом крупнейшего российского Банка. Работа с самыми совершенными риск-моделями на российском рынке, влияющими на...'}, 'contacts': None, 'schedule': None, 'working_days': [], 'working_time_intervals': [], 'working_time_modes': [], 'accept_temporary': False, 'professional_roles': [{'id': '10', 'name': 'Аналитик'}], 'accept_incomplete_resumes': False}, {'id': '77691884', 'premium': False, 'name': 'Менеджер по привлечению корпоративных клиентов', 'department': {'id': '3529-3529-prof', 'name': 'Сбер для экспертов'}, 'has_test': False, 'response_letter_required': False, 'area': {'id': '3', 'name': 'Екатеринбург', 'url': 'https://api.hh.ru/areas/3'}, 'salary': None, 'type': {'id': 'open', 'name': 'Открытая'}, 'address': None, 'response_url': None, 'sort_point_distance': None, 'published_at': '2023-03-06T07:26:37+0300', 'created_at': '2023-03-06T07:26:37+0300', 'archived': False, 'apply_alternate_url': 'https://hh.ru/applicant/vacancy_response?vacancyId=77691884', 'insider_interview': None, 'url': 'https://api.hh.ru/vacancies/77691884?host=hh.ru', 'adv_response_url': None, 'alternate_url': 'https://hh.ru/vacancy/77691884', 'relations': [], 'employer': {'id': '3529', 'name': 'СБЕР', 'url': 'https://api.hh.ru/employers/3529', 'alternate_url': 'https://hh.ru/employer/3529', 'logo_urls': {'240': 'https://hhcdn.ru/employer-logo/5756157.png', '90': 'https://hhcdn.ru/employer-logo/5756156.png', 'original': 'https://hhcdn.ru/employer-logo-original/1033849.png'}, 'vacancies_url': 'https://api.hh.ru/vacancies?employer_id=3529', 'trusted': True}, 'snippet': {'requirement': 'Высшее или неполное высшее образование. Опыт в сфере продаж корпоративным клиентам. Знание основных потребностей бизнеса и банковских продуктов для юридических...', 'responsibility': 'Привлекать новых клиентов малого бизнеса на обслуживание в Сбер. Проводить встречи на территории клиента. Продавать продукты банка и экосистемы.'}, 'contacts': None, 'schedule': None, 'working_days': [], 'working_time_intervals': [], 'working_time_modes': [], 'accept_temporary': False, 'professional_roles': [{'id': '70', 'name': 'Менеджер по продажам, менеджер по работе с клиентами'}], 'accept_incomplete_resumes': False}, {'id': '77772600', 'premium': False, 'name': 'Менеджер по работе с клиентами', 'department': {'id': '3529-3529-prof', 'name': 'Сбер для экспертов'}, 'has_test': False, 'response_letter_required': False, 'area': {'id': '4946', 'name': 'Угловское', 'url': 'https://api.hh.ru/areas/4946'}, 'salary': {'from': 34700, 'to': None, 'currency': 'RUR', 'gross': True}, 'type': {'id': 'open', 'name': 'Открытая'}, 'address': {'city': 'Угловское', 'street': None, 'building': None, 'lat': 51.35794, 'lng': 80.188653, 'description': None, 'raw': 'Угловское', 'metro': None, 'metro_stations': [], 'id': '12869547'}, 'response_url': None, 'sort_point_distance': None, 'published_at': '2023-03-07T16:48:53+0300', 'created_at': '2023-03-07T16:48:53+0300', 'archived': False, 'apply_alternate_url': 'https://hh.ru/applicant/vacancy_response?vacancyId=77772600', 'insider_interview': None, 'url': 'https://api.hh.ru/vacancies/77772600?host=hh.ru', 'adv_response_url': None, 'alternate_url': 'https://hh.ru/vacancy/77772600', 'relations': [], 'employer': {'id': '3529', 'name': 'СБЕР', 'url': 'https://api.hh.ru/employers/3529', 'alternate_url': 'https://hh.ru/employer/3529', 'logo_urls': {'240': 'https://hhcdn.ru/employer-logo/5756157.png', '90': 'https://hhcdn.ru/employer-logo/5756156.png', 'original': 'https://hhcdn.ru/employer-logo-original/1033849.png'}, 'vacancies_url': 'https://api.hh.ru/vacancies?employer_id=3529', 'trusted': True}, 'snippet': {'requirement': 'Специалист со средним профессиональным, неполным высшим или высшим образованием. Владеешь программами Microsoft Office, Outlook. Готов к работе, предполагающей ежедневное проведение...', 'responsibility': 'Доброжелателен и готов помогать клиентам. Осуществлять операции по обслуживанию клиентов. Проводить кассовые операции: прием, выдача, обмен денег. Предлагать продукты и...'}, 'contacts': None, 'schedule': None, 'working_days': [], 'working_time_intervals': [], 'working_time_modes': [], 'accept_temporary': False, 'professional_roles': [{'id': '57', 'name': 'Кредитный специалист'}], 'accept_incomplete_resumes': True}, {'id': '77985867', 'premium': False, 'name': 'Инженер по сопровождению', 'department': {'id': '3529-3529-it', 'name': 'Сбер. IT'}, 'has_test': False, 'response_letter_required': False, 'area': {'id': '1', 'name': 'Москва', 'url': 'https://api.hh.ru/areas/1'}, 'salary': None, 'type': {'id': 'open', 'name': 'Открытая'}, 'address': {'city': 'Москва', 'street': 'Кутузовский проспект', 'building': '32к1', 'lat': 55.741338, 'lng': 37.531127, 'description': None, 'raw': 'Москва, Кутузовский проспект, 32к1', 'metro': {'station_name': 'Кутузовская', 'line_name': 'Филевская', 'station_id': '4.73', 'line_id': '4', 'lat': 55.740544, 'lng': 37.5341}, 'metro_stations': [{'station_name': 'Кутузовская', 'line_name': 'Филевская', 'station_id': '4.73', 'line_id': '4', 'lat': 55.740544, 'lng': 37.5341}, {'station_name': 'Кутузовская', 'line_name': 'МЦК', 'station_id': '95.536', 'line_id': '95', 'lat': 55.740833, 'lng': 37.533333}], 'id': '731097'}, 'response_url': None, 'sort_point_distance': None, 'published_at': '2023-03-13T15:21:21+0300', 'created_at': '2023-03-13T15:21:21+0300', 'archived': False, 'apply_alternate_url': 'https://hh.ru/applicant/vacancy_response?vacancyId=77985867', 'insider_interview': None, 'url': 'https://api.hh.ru/vacancies/77985867?host=hh.ru', 'adv_response_url': None, 'alternate_url': 'https://hh.ru/vacancy/77985867', 'relations': [], 'employer': {'id': '3529', 'name': 'СБЕР', 'url': 'https://api.hh.ru/employers/3529', 'alternate_url': 'https://hh.ru/employer/3529', 'logo_urls': {'240': 'https://hhcdn.ru/employer-logo/5756157.png', '90': 'https://hhcdn.ru/employer-logo/5756156.png', 'original': 'https://hhcdn.ru/employer-logo-original/1033849.png'}, 'vacancies_url': 'https://api.hh.ru/vacancies?employer_id=3529', 'trusted': True}, 'snippet': {'requirement': 'Знание основ SQL, умение писать несложные запросы. Scripting: Bash, Powershell или Python. Опыт написания скриптов на одном из языков. ', 'responsibility': 'Администрирование автоматизированных систем управления кредитными рисками на уровне прикладного администратора (управление обновлениями, настройками, мониторинг, восстановление после сбоев, планирование изменений, предупреждение...'}, 'contacts': None, 'schedule': None, 'working_days': [], 'working_time_intervals': [], 'working_time_modes': [], 'accept_temporary': False, 'professional_roles': [{'id': '121', 'name': 'Специалист технической поддержки'}], 'accept_incomplete_resumes': False}, {'id': '78272005', 'premium': False, 'name': 'Менеджер по работе с клиентами', 'department': {'id': '3529-3529-prof', 'name': 'Сбер для экспертов'}, 'has_test': False, 'response_letter_required': False, 'area': {'id': '4723', 'name': 'Полтавка', 'url': 'https://api.hh.ru/areas/4723'}, 'salary': {'from': 20900, 'to': None, 'currency': 'RUR', 'gross': True}, 'type': {'id': 'open', 'name': 'Открытая'}, 'address': {'city': 'Вольное', 'street': None, 'building': None, 'lat': 54.287055, 'lng': 71.356255, 'description': None, 'raw': 'Вольное', 'metro': None, 'metro_stations': [], 'id': '11429952'}, 'response_url': None, 'sort_point_distance': None, 'published_at': '2023-03-20T12:33:04+0300', 'created_at': '2023-03-20T12:33:04+0300', 'archived': False, 'apply_alternate_url': 'https://hh.ru/applicant/vacancy_response?vacancyId=78272005', 'insider_interview': None, 'url': 'https://api.hh.ru/vacancies/78272005?host=hh.ru', 'adv_response_url': None, 'alternate_url': 'https://hh.ru/vacancy/78272005', 'relations': [], 'employer': {'id': '3529', 'name': 'СБЕР', 'url': 'https://api.hh.ru/employers/3529', 'alternate_url': 'https://hh.ru/employer/3529', 'logo_urls': {'240': 'https://hhcdn.ru/employer-logo/5756157.png', '90': 'https://hhcdn.ru/employer-logo/5756156.png', 'original': 'https://hhcdn.ru/employer-logo-original/1033849.png'}, 'vacancies_url': 'https://api.hh.ru/vacancies?employer_id=3529', 'trusted': True}, 'snippet': {'requirement': 'Специалист со средним профессиональным, неполным высшим или высшим образованием. Готов к работе, предполагающей ежедневное проведение однотипных операций.', 'responsibility': 'Осуществлять операции по обслуживанию клиентов. Проводить кассовые операции: прием, выдача, обмен денег. Предлагать продукты и сервисы Сбера. Консультировать клиентов по...'}, 'contacts': None, 'schedule': None, 'working_days': [], 'working_time_intervals': [], 'working_time_modes': [], 'accept_temporary': False, 'professional_roles': [{'id': '70', 'name': 'Менеджер по продажам, менеджер по работе с клиентами'}], 'accept_incomplete_resumes': True}, {'id': '78368817', 'premium': False, 'name': 'Старший менеджер по обслуживанию (село Сухобузимское)', 'department': {'id': '3529-3529-prof', 'name': 'Сбер для экспертов'}, 'has_test': False, 'response_letter_required': False, 'area': {'id': '4773', 'name': 'Сухобузимское', 'url': 'https://api.hh.ru/areas/4773'}, 'salary': {'from': 38300, 'to': None, 'currency': 'RUR', 'gross': True}, 'type': {'id': 'open', 'name': 'Открытая'}, 'address': {'city': 'Сухобузимское', 'street': None, 'building': None, 'lat': 56.501188, 'lng': 93.274771, 'description': None, 'raw': 'Сухобузимское', 'metro': None, 'metro_stations': [], 'id': '12850663'}, 'response_url': None, 'sort_point_distance': None, 'published_at': '2023-03-21T16:17:23+0300', 'created_at': '2023-03-21T16:17:23+0300', 'archived': False, 'apply_alternate_url': 'https://hh.ru/applicant/vacancy_response?vacancyId=78368817', 'insider_interview': None, 'url': 'https://api.hh.ru/vacancies/78368817?host=hh.ru', 'adv_response_url': None, 'alternate_url': 'https://hh.ru/vacancy/78368817', 'relations': [], 'employer': {'id': '3529', 'name': 'СБЕР', 'url': 'https://api.hh.ru/employers/3529', 'alternate_url': 'https://hh.ru/employer/3529', 'logo_urls': {'240': 'https://hhcdn.ru/employer-logo/5756157.png', '90': 'https://hhcdn.ru/employer-logo/5756156.png', 'original': 'https://hhcdn.ru/employer-logo-original/1033849.png'}, 'vacancies_url': 'https://api.hh.ru/vacancies?employer_id=3529', 'trusted': True}, 'snippet': {'requirement': 'Специалист со средним профессиональным, неполным высшим или высшим образованием. Владеешь программами Microsoft Office, Outlook. Готов к работе, предполагающей ежедневное проведение...', 'responsibility': 'Доброжелателен и готов помогать клиентам. Осуществлять операции по обслуживанию клиентов. Проводить кассовые операции: прием, выдача, обмен денег. Предлагать продукты и...'}, 'contacts': None, 'schedule': None, 'working_days': [], 'working_time_intervals': [], 'working_time_modes': [], 'accept_temporary': False, 'professional_roles': [{'id': '70', 'name': 'Менеджер по продажам, менеджер по работе с клиентами'}], 'accept_incomplete_resumes': True}, {'id': '78420014', 'premium': False, 'name': 'Менеджер по сделкам с недвижимостью', 'department': {'id': '3529-3529-prof', 'name': 'Сбер для экспертов'}, 'has_test': False, 'response_letter_required': False, 'area': {'id': '78', 'name': 'Самара', 'url': 'https://api.hh.ru/areas/78'}, 'salary': {'from': 57000, 'to': None, 'currency': 'RUR', 'gross': True}, 'type': {'id': 'open', 'name': 'Открытая'}, 'address': None, 'response_url': None, 'sort_point_distance': None, 'published_at': '2023-03-22T17:04:19+0300', 'created_at': '2023-03-22T17:04:19+0300', 'archived': False, 'apply_alternate_url': 'https://hh.ru/applicant/vacancy_response?vacancyId=78420014', 'insider_interview': None, 'url': 'https://api.hh.ru/vacancies/78420014?host=hh.ru', 'adv_response_url': None, 'alternate_url': 'https://hh.ru/vacancy/78420014', 'relations': [], 'employer': {'id': '3529', 'name': 'СБЕР', 'url': 'https://api.hh.ru/employers/3529', 'alternate_url': 'https://hh.ru/employer/3529', 'logo_urls': {'240': 'https://hhcdn.ru/employer-logo/5756157.png', '90': 'https://hhcdn.ru/employer-logo/5756156.png', 'original': 'https://hhcdn.ru/employer-logo-original/1033849.png'}, 'vacancies_url': 'https://api.hh.ru/vacancies?employer_id=3529', 'trusted': True}, 'snippet': {'requirement': 'Образование высшее. Опыт работы в продажах (приветствуется). Опыт работы в сфере кредитования (приветствуется). Опыт работы в call-центре (приветствуется). ', 'responsibility': 'Продажи дистанционных сервисов Банка (Консьерж-сервис: подбор объекта недвижимости на первичном/вторичном рынке недвижимости, сопровождение сделки до получения ключей от...'}, 'contacts': None, 'schedule': None, 'working_days': [], 'working_time_intervals': [], 'working_time_modes': [], 'accept_temporary': False, 'professional_roles': [{'id': '70', 'name': 'Менеджер по продажам, менеджер по работе с клиентами'}], 'accept_incomplete_resumes': False}, {'id': '78510361', 'premium': False, 'name': 'Java разработчик / специалист по межсистемной интеграции', 'department': {'id': '3529-3529-prof', 'name': 'Сбер для экспертов'}, 'has_test': False, 'response_letter_required': False, 'area': {'id': '3', 'name': 'Екатеринбург', 'url': 'https://api.hh.ru/areas/3'}, 'salary': None, 'type': {'id': 'open', 'name': 'Открытая'}, 'address': None, 'response_url': None, 'sort_point_distance': None, 'published_at': '2023-03-24T14:04:22+0300', 'created_at': '2023-03-24T14:04:22+0300', 'archived': False, 'apply_alternate_url': 'https://hh.ru/applicant/vacancy_response?vacancyId=78510361', 'insider_interview': None, 'url': 'https://api.hh.ru/vacancies/78510361?host=hh.ru', 'adv_response_url': None, 'alternate_url': 'https://hh.ru/vacancy/78510361', 'relations': [], 'employer': {'id': '3529', 'name': 'СБЕР', 'url': 'https://api.hh.ru/employers/3529', 'alternate_url': 'https://hh.ru/employer/3529', 'logo_urls': {'240': 'https://hhcdn.ru/employer-logo/5756157.png', '90': 'https://hhcdn.ru/employer-logo/5756156.png', 'original': 'https://hhcdn.ru/employer-logo-original/1033849.png'}, 'vacancies_url': 'https://api.hh.ru/vacancies?employer_id=3529', 'trusted': True}, 'snippet': {'requirement': 'Знания и опыт коммерческой разработки Java 8, Spring/Spring Boot. Понимание концепций message queuing и web-сервисов. Опыт участия в...', 'responsibility': 'Проектирование, разработка, конфигурирование, отладка, тестирование, проведение ПСИ микросервисных приложений в OpenShift. Разработка тест-кейсов, участие в настройке трубы DevOps. '}, 'contacts': None, 'schedule': None, 'working_days': [], 'working_time_intervals': [], 'working_time_modes': [], 'accept_temporary': False, 'professional_roles': [{'id': '121', 'name': 'Специалист технической поддержки'}], 'accept_incomplete_resumes': False}, {'id': '74176909', 'premium': False, 'name': 'Клиентский менеджер (прямых продаж)', 'department': {'id': '3529-3529-stat', 'name': 'Сбер. Начало карьеры'}, 'has_test': False, 'response_letter_required': False, 'area': {'id': '88', 'name': 'Казань', 'url': 'https://api.hh.ru/areas/88'}, 'salary': {'from': 56000, 'to': None, 'currency': 'RUR', 'gross': True}, 'type': {'id': 'open', 'name': 'Открытая'}, 'address': {'city': 'Казань', 'street': None, 'building': None, 'lat': 55.7943584, 'lng': 49.1114975, 'description': None, 'raw': 'Казань', 'metro': None, 'metro_stations': [], 'id': '7015080'}, 'response_url': None, 'sort_point_distance': None, 'published_at': '2023-03-18T18:44:08+0300', 'created_at': '2023-03-18T18:44:08+0300', 'archived': False, 'apply_alternate_url': 'https://hh.ru/applicant/vacancy_response?vacancyId=74176909', 'insider_interview': None, 'url': 'https://api.hh.ru/vacancies/74176909?host=hh.ru', 'adv_response_url': None, 'alternate_url': 'https://hh.ru/vacancy/74176909', 'relations': [], 'employer': {'id': '3529', 'name': 'СБЕР', 'url': 'https://api.hh.ru/employers/3529', 'alternate_url': 'https://hh.ru/employer/3529', 'logo_urls': {'240': 'https://hhcdn.ru/employer-logo/5756157.png', '90': 'https://hhcdn.ru/employer-logo/5756156.png', 'original': 'https://hhcdn.ru/employer-logo-original/1033849.png'}, 'vacancies_url': 'https://api.hh.ru/vacancies?employer_id=3529', 'trusted': True}, 'snippet': {'requirement': 'Специалист со средним полным, средним профессиональным, неполным высшим или высшим образованием. Хочешь развивать навыки переговоров. Готов к высокому темпу работы.', 'responsibility': 'Выезжать к клиентам на индивидуальные консультации. Проводить презентации сервисов Сбера на территории компаний-партнеров. Предлагать сервисы Сбера и помогать с...'}, 'contacts': None, 'schedule': None, 'working_days': [], 'working_time_intervals': [], 'working_time_modes': [], 'accept_temporary': False, 'professional_roles': [{'id': '105', 'name': 'Руководитель отдела клиентского обслуживания'}], 'accept_incomplete_resumes': True}, {'id': '77752613', 'premium': False, 'name': 'Дизайнер UXUI', 'department': {'id': '3529-3529-prof', 'name': 'Сбер для экспертов'}, 'has_test': False, 'response_letter_required': False, 'area': {'id': '2', 'name': 'Санкт-Петербург', 'url': 'https://api.hh.ru/areas/2'}, 'salary': None, 'type': {'id': 'open', 'name': 'Открытая'}, 'address': None, 'response_url': None, 'sort_point_distance': None, 'published_at': '2023-03-07T10:29:02+0300', 'created_at': '2023-03-07T10:29:02+0300', 'archived': False, 'apply_alternate_url': 'https://hh.ru/applicant/vacancy_response?vacancyId=77752613', 'insider_interview': None, 'url': 'https://api.hh.ru/vacancies/77752613?host=hh.ru', 'adv_response_url': None, 'alternate_url': 'https://hh.ru/vacancy/77752613', 'relations': [], 'employer': {'id': '3529', 'name': 'СБЕР', 'url': 'https://api.hh.ru/employers/3529', 'alternate_url': 'https://hh.ru/employer/3529', 'logo_urls': {'240': 'https://hhcdn.ru/employer-logo/5756157.png', '90': 'https://hhcdn.ru/employer-logo/5756156.png', 'original': 'https://hhcdn.ru/employer-logo-original/1033849.png'}, 'vacancies_url': 'https://api.hh.ru/vacancies?employer_id=3529', 'trusted': True}, 'snippet': {'requirement': 'Sber Private Banking. Работаешь в качестве UI / UX дизайнера не менее 3 лет. Как адвокат истца, всегда отстаиваешь интересы пользователя...', 'responsibility': 'Делать интерфейсы под различные платформы (iOS / Android / Web). Прокачивать дизайн продуктов для высокодоходного сегмента клиентов. Предлагать уникальные UI / UX решения...'}, 'contacts': None, 'schedule': None, 'working_days': [], 'working_time_intervals': [], 'working_time_modes': [], 'accept_temporary': False, 'professional_roles': [{'id': '96', 'name': 'Программист, разработчик'}], 'accept_incomplete_resumes': False}, {'id': '77849860', 'premium': False, 'name': 'BI Developer', 'department': {'id': '3529-3529-it', 'name': 'Сбер. IT'}, 'has_test': False, 'response_letter_required': False, 'area': {'id': '1', 'name': 'Москва', 'url': 'https://api.hh.ru/areas/1'}, 'salary': None, 'type': {'id': 'open', 'name': 'Открытая'}, 'address': {'city': 'Москва', 'street': 'Новоданиловская набережная', 'building': '10', 'lat': 55.695905, 'lng': 37.625361, 'description': None, 'raw': 'Москва, Новоданиловская набережная, 10', 'metro': {'station_name': 'Тульская', 'line_name': 'Серпуховско-Тимирязевская', 'station_id': '9.142', 'line_id': '9', 'lat': 55.70961, 'lng': 37.622569}, 'metro_stations': [{'station_name': 'Тульская', 'line_name': 'Серпуховско-Тимирязевская', 'station_id': '9.142', 'line_id': '9', 'lat': 55.70961, 'lng': 37.622569}], 'id': '146841'}, 'response_url': None, 'sort_point_distance': None, 'published_at': '2023-03-09T17:58:59+0300', 'created_at': '2023-03-09T17:58:59+0300', 'archived': False, 'apply_alternate_url': 'https://hh.ru/applicant/vacancy_response?vacancyId=77849860', 'insider_interview': None, 'url': 'https://api.hh.ru/vacancies/77849860?host=hh.ru', 'adv_response_url': None, 'alternate_url': 'https://hh.ru/vacancy/77849860', 'relations': [], 'employer': {'id': '3529', 'name': 'СБЕР', 'url': 'https://api.hh.ru/employers/3529', 'alternate_url': 'https://hh.ru/employer/3529', 'logo_urls': {'240': 'https://hhcdn.ru/employer-logo/5756157.png', '90': 'https://hhcdn.ru/employer-logo/5756156.png', 'original': 'https://hhcdn.ru/employer-logo-original/1033849.png'}, 'vacancies_url': 'https://api.hh.ru/vacancies?employer_id=3529', 'trusted': True}, 'snippet': {'requirement': 'Высшее экономическое/техническое образование. Знание HTML5, CSS3, JavaScript, React. Опыт использования других фреймворков и библиотек JavaScript UI. ', 'responsibility': 'Доработка функциональности текущих BI систем, а также новых с открытым кодом. Доработка интерфейсов BI систем и модулей. Поддержка существующего функционала. '}, 'contacts': None, 'schedule': None, 'working_days': [], 'working_time_intervals': [], 'working_time_modes': [], 'accept_temporary': False, 'professional_roles': [{'id': '96', 'name': 'Программист, разработчик'}], 'accept_incomplete_resumes': False}, {'id': '78074774', 'premium': False, 'name': 'Front-end developer (HR платформа)', 'department': {'id': '3529-3529-it', 'name': 'Сбер. IT'}, 'has_test': False, 'response_letter_required': False, 'area': {'id': '1', 'name': 'Москва', 'url': 'https://api.hh.ru/areas/1'}, 'salary': None, 'type': {'id': 'open', 'name': 'Открытая'}, 'address': None, 'response_url': None, 'sort_point_distance': None, 'published_at': '2023-03-15T10:46:25+0300', 'created_at': '2023-03-15T10:46:25+0300', 'archived': False, 'apply_alternate_url': 'https://hh.ru/applicant/vacancy_response?vacancyId=78074774', 'insider_interview': None, 'url': 'https://api.hh.ru/vacancies/78074774?host=hh.ru', 'adv_response_url': None, 'alternate_url': 'https://hh.ru/vacancy/78074774', 'relations': [], 'employer': {'id': '3529', 'name': 'СБЕР', 'url': 'https://api.hh.ru/employers/3529', 'alternate_url': 'https://hh.ru/employer/3529', 'logo_urls': {'240': 'https://hhcdn.ru/employer-logo/5756157.png', '90': 'https://hhcdn.ru/employer-logo/5756156.png', 'original': 'https://hhcdn.ru/employer-logo-original/1033849.png'}, 'vacancies_url': 'https://api.hh.ru/vacancies?employer_id=3529', 'trusted': True}, 'snippet': {'requirement': 'Опыт разработки JS не менее двух лет. Уверенные знания ES6. Умение работать с кодом написанном в функциональном и ООП...', 'responsibility': 'Анализ и поддержка существующих проектов. Верстка по заданному дизайну. Контроль качества разработок подрядчиков. Участие в тестировании разработок.'}, 'contacts': None, 'schedule': None, 'working_days': [], 'working_time_intervals': [], 'working_time_modes': [], 'accept_temporary': False, 'professional_roles': [{'id': '96', 'name': 'Программист, разработчик'}], 'accept_incomplete_resumes': False}, {'id': '78277485', 'premium': False, 'name': 'Заместитель руководителя офиса', 'department': {'id': '3529-3529-prof', 'name': 'Сбер для экспертов'}, 'has_test': False, 'response_letter_required': False, 'area': {'id': '1105', 'name': 'Вязьма', 'url': 'https://api.hh.ru/areas/1105'}, 'salary': {'from': 70000, 'to': None, 'currency': 'RUR', 'gross': True}, 'type': {'id': 'open', 'name': 'Открытая'}, 'address': None, 'response_url': None, 'sort_point_distance': None, 'published_at': '2023-03-20T13:25:18+0300', 'created_at': '2023-03-20T13:25:18+0300', 'archived': False, 'apply_alternate_url': 'https://hh.ru/applicant/vacancy_response?vacancyId=78277485', 'insider_interview': None, 'url': 'https://api.hh.ru/vacancies/78277485?host=hh.ru', 'adv_response_url': None, 'alternate_url': 'https://hh.ru/vacancy/78277485', 'relations': [], 'employer': {'id': '3529', 'name': 'СБЕР', 'url': 'https://api.hh.ru/employers/3529', 'alternate_url': 'https://hh.ru/employer/3529', 'logo_urls': {'240': 'https://hhcdn.ru/employer-logo/5756157.png', '90': 'https://hhcdn.ru/employer-logo/5756156.png', 'original': 'https://hhcdn.ru/employer-logo-original/1033849.png'}, 'vacancies_url': 'https://api.hh.ru/vacancies?employer_id=3529', 'trusted': True}, 'snippet': {'requirement': 'Высшее образование. Знание кассовой дисциплины. Опыт работы руководителем ВСП от 6 месяцев. Опыт активных продаж от 1 года. ', 'responsibility': 'Контроль выполнения планов продаж и целевых показателей ВСП. Контроль за соблюдением сотрудниками служебных обязанностей, стандартов сервиса. Планирование и разработка мероприятий...'}, 'contacts': None, 'schedule': None, 'working_days': [], 'working_time_intervals': [], 'working_time_modes': [], 'accept_temporary': False, 'professional_roles': [{'id': '134', 'name': 'Финансовый аналитик, инвестиционный аналитик'}], 'accept_incomplete_resumes': False}, {'id': '78299559', 'premium': False, 'name': 'Старший клиентский менеджер (Нефтекумск)', 'department': {'id': '3529-3529-clients', 'name': 'Сбер. Работа с клиентами'}, 'has_test': False, 'response_letter_required': False, 'area': {'id': '1495', 'name': 'Нефтекумск', 'url': 'https://api.hh.ru/areas/1495'}, 'salary': {'from': 47400, 'to': None, 'currency': 'RUR', 'gross': True}, 'type': {'id': 'open', 'name': 'Открытая'}, 'address': {'city': 'Нефтекумск', 'street': None, 'building': None, 'lat': 44.7544552, 'lng': 44.9865347, 'description': None, 'raw': 'Нефтекумск', 'metro': None, 'metro_stations': [], 'id': '6831618'}, 'response_url': None, 'sort_point_distance': None, 'published_at': '2023-03-20T17:00:39+0300', 'created_at': '2023-03-20T17:00:39+0300', 'archived': False, 'apply_alternate_url': 'https://hh.ru/applicant/vacancy_response?vacancyId=78299559', 'insider_interview': None, 'url': 'https://api.hh.ru/vacancies/78299559?host=hh.ru', 'adv_response_url': None, 'alternate_url': 'https://hh.ru/vacancy/78299559', 'relations': [], 'employer': {'id': '3529', 'name': 'СБЕР', 'url': 'https://api.hh.ru/employers/3529', 'alternate_url': 'https://hh.ru/employer/3529', 'logo_urls': {'240': 'https://hhcdn.ru/employer-logo/5756157.png', '90': 'https://hhcdn.ru/employer-logo/5756156.png', 'original': 'https://hhcdn.ru/employer-logo-original/1033849.png'}, 'vacancies_url': 'https://api.hh.ru/vacancies?employer_id=3529', 'trusted': True}, 'snippet': {'requirement': 'Специалист со средним профессиональным, неполным высшим или высшим образованием. Имеешь опыт работы в сфере продаж, обслуживания и консультирования клиентов от...', 'responsibility': 'Доброжелателен и готов помогать клиентам. Предлагать продукты и услуги Сбера. Консультировать клиентов по возникающим вопросам. Помогать клиентам оформлять услуги и...'}, 'contacts': None, 'schedule': None, 'working_days': [], 'working_time_intervals': [], 'working_time_modes': [], 'accept_temporary': False, 'professional_roles': [{'id': '70', 'name': 'Менеджер по продажам, менеджер по работе с клиентами'}], 'accept_incomplete_resumes': True}, {'id': '78466230', 'premium': False, 'name': 'Исследователь продуктов розничного бизнеса', 'department': {'id': '3529-3529-prof', 'name': 'Сбер для экспертов'}, 'has_test': False, 'response_letter_required': False, 'area': {'id': '1', 'name': 'Москва', 'url': 'https://api.hh.ru/areas/1'}, 'salary': None, 'type': {'id': 'open', 'name': 'Открытая'}, 'address': None, 'response_url': None, 'sort_point_distance': None, 'published_at': '2023-03-23T16:17:10+0300', 'created_at': '2023-03-23T16:17:10+0300', 'archived': False, 'apply_alternate_url': 'https://hh.ru/applicant/vacancy_response?vacancyId=78466230', 'insider_interview': None, 'url': 'https://api.hh.ru/vacancies/78466230?host=hh.ru', 'adv_response_url': None, 'alternate_url': 'https://hh.ru/vacancy/78466230', 'relations': [], 'employer': {'id': '3529', 'name': 'СБЕР', 'url': 'https://api.hh.ru/employers/3529', 'alternate_url': 'https://hh.ru/employer/3529', 'logo_urls': {'240': 'https://hhcdn.ru/employer-logo/5756157.png', '90': 'https://hhcdn.ru/employer-logo/5756156.png', 'original': 'https://hhcdn.ru/employer-logo-original/1033849.png'}, 'vacancies_url': 'https://api.hh.ru/vacancies?employer_id=3529', 'trusted': True}, 'snippet': {'requirement': 'Высшее образование по направлению: социология, маркетинг, экономика, менеджмент, математика, статистика, психология. Опыт работы в сфере маркетинговых исследований более 5 лет. ', 'responsibility': 'Взаимодействие с бизнес-заказчиками: обсуждение бизнес-задачи, согласование дизайна исследования, вовлечение в процесс исследования, активация / презентация результатов, подготовка отчетов / аналитических...'}, 'contacts': None, 'schedule': None, 'working_days': [], 'working_time_intervals': [], 'working_time_modes': [], 'accept_temporary': False, 'professional_roles': [{'id': '68', 'name': 'Менеджер по маркетингу, интернет-маркетолог'}], 'accept_incomplete_resumes': False}, {'id': '78481307', 'premium': False, 'name': 'Team Lead группы сопровождения (Сочи)', 'department': {'id': '3529-3529-it', 'name': 'Сбер. IT'}, 'has_test': False, 'response_letter_required': False, 'area': {'id': '237', 'name': 'Сочи', 'url': 'https://api.hh.ru/areas/237'}, 'salary': None, 'type': {'id': 'open', 'name': 'Открытая'}, 'address': None, 'response_url': None, 'sort_point_distance': None, 'published_at': '2023-03-23T23:21:23+0300', 'created_at': '2023-03-23T23:21:23+0300', 'archived': False, 'apply_alternate_url': 'https://hh.ru/applicant/vacancy_response?vacancyId=78481307', 'insider_interview': None, 'url': 'https://api.hh.ru/vacancies/78481307?host=hh.ru', 'adv_response_url': None, 'alternate_url': 'https://hh.ru/vacancy/78481307', 'relations': [], 'employer': {'id': '3529', 'name': 'СБЕР', 'url': 'https://api.hh.ru/employers/3529', 'alternate_url': 'https://hh.ru/employer/3529', 'logo_urls': {'240': 'https://hhcdn.ru/employer-logo/5756157.png', '90': 'https://hhcdn.ru/employer-logo/5756156.png', 'original': 'https://hhcdn.ru/employer-logo-original/1033849.png'}, 'vacancies_url': 'https://api.hh.ru/vacancies?employer_id=3529', 'trusted': True}, 'snippet': {'requirement': 'Опыт работы с Windows и/или Linux системами (пользователь/продвинутый пользователь). Высшее техническое образование. Опыт разработки скриптов на Bash/Python. ', 'responsibility': 'Создание цифровых банковских сервисов для оптимизации процесса взаимодействия с ключевыми клиентами. Разработка уникальных digital-решений. Автоматизация нюансов кредитного процесса для...'}, 'contacts': None, 'schedule': None, 'working_days': [], 'working_time_intervals': [], 'working_time_modes': [], 'accept_temporary': False, 'professional_roles': [{'id': '121', 'name': 'Специалист технической поддержки'}], 'accept_incomplete_resumes': False}, {'id': '77088964', 'premium': False, 'name': 'Product analyst', 'department': {'id': '3529-3529-it', 'name': 'Сбер. IT'}, 'has_test': False, 'response_letter_required': False, 'area': {'id': '1', 'name': 'Москва', 'url': 'https://api.hh.ru/areas/1'}, 'salary': None, 'type': {'id': 'open', 'name': 'Открытая'}, 'address': {'city': 'Москва', 'street': 'Кутузовский проспект', 'building': '32', 'lat': 55.740421, 'lng': 37.532071, 'description': None, 'raw': 'Москва, Кутузовский проспект, 32', 'metro': {'station_name': 'Кутузовская', 'line_name': 'МЦК', 'station_id': '95.536', 'line_id': '95', 'lat': 55.740833, 'lng': 37.533333}, 'metro_stations': [{'station_name': 'Кутузовская', 'line_name': 'МЦК', 'station_id': '95.536', 'line_id': '95', 'lat': 55.740833, 'lng': 37.533333}], 'id': '823806'}, 'response_url': None, 'sort_point_distance': None, 'published_at': '2023-03-16T10:41:25+0300', 'created_at': '2023-03-16T10:41:25+0300', 'archived': False, 'apply_alternate_url': 'https://hh.ru/applicant/vacancy_response?vacancyId=77088964', 'insider_interview': None, 'url': 'https://api.hh.ru/vacancies/77088964?host=hh.ru', 'adv_response_url': None, 'alternate_url': 'https://hh.ru/vacancy/77088964', 'relations': [], 'employer': {'id': '3529', 'name': 'СБЕР', 'url': 'https://api.hh.ru/employers/3529', 'alternate_url': 'https://hh.ru/employer/3529', 'logo_urls': {'240': 'https://hhcdn.ru/employer-logo/5756157.png', '90': 'https://hhcdn.ru/employer-logo/5756156.png', 'original': 'https://hhcdn.ru/employer-logo-original/1033849.png'}, 'vacancies_url': 'https://api.hh.ru/vacancies?employer_id=3529', 'trusted': True}, 'snippet': {'requirement': 'Отлично владеете SQL, знаете диалекты PostgreSQL и ClickHouse. Умеете проектировать и строить дашборды в Metabase (предпочтительно) или аналогичном инструменте - Redash...', 'responsibility': 'Строить дашборды по ключевым показателям направления. Выявлять причины отклонений показателей. Формировать ключевые витрины для продуктовой аналитики направления. Проектировать доработки в...'}, 'contacts': None, 'schedule': None, 'working_days': [], 'working_time_intervals': [], 'working_time_modes': [], 'accept_temporary': False, 'professional_roles': [{'id': '164', 'name': 'Продуктовый аналитик'}], 'accept_incomplete_resumes': False}, {'id': '77527418', 'premium': False, 'name': 'Руководитель направления в миддл-офис (сопровождение процессов контрольно-сверочной инфраструктуры)', 'department': {'id': '3529-3529-prof', 'name': 'Сбер для экспертов'}, 'has_test': False, 'response_letter_required': False, 'area': {'id': '1', 'name': 'Москва', 'url': 'https://api.hh.ru/areas/1'}, 'salary': None, 'type': {'id': 'open', 'name': 'Открытая'}, 'address': None, 'response_url': None, 'sort_point_distance': None, 'published_at': '2023-03-01T10:20:19+0300', 'created_at': '2023-03-01T10:20:19+0300', 'archived': False, 'apply_alternate_url': 'https://hh.ru/applicant/vacancy_response?vacancyId=77527418', 'insider_interview': None, 'url': 'https://api.hh.ru/vacancies/77527418?host=hh.ru', 'adv_response_url': None, 'alternate_url': 'https://hh.ru/vacancy/77527418', 'relations': [], 'employer': {'id': '3529', 'name': 'СБЕР', 'url': 'https://api.hh.ru/employers/3529', 'alternate_url': 'https://hh.ru/employer/3529', 'logo_urls': {'240': 'https://hhcdn.ru/employer-logo/5756157.png', '90': 'https://hhcdn.ru/employer-logo/5756156.png', 'original': 'https://hhcdn.ru/employer-logo-original/1033849.png'}, 'vacancies_url': 'https://api.hh.ru/vacancies?employer_id=3529', 'trusted': True}, 'snippet': {'requirement': 'Высшее образование (техническое, физико-математическое, IT, экономическое). Опыт работы в инвестиционной или банковской деятельности приветствуется. Знание приложений MS Office на...', 'responsibility': 'Ежедневная подготовка отчетности по данным бизнес систем для операционного управления. Правильно и своевременно вносить информацию по сделкам и прочим операциям...'}, 'contacts': None, 'schedule': None, 'working_days': [], 'working_time_intervals': [], 'working_time_modes': [], 'accept_temporary': False, 'professional_roles': [{'id': '40', 'name': 'Другое'}], 'accept_incomplete_resumes': False}, {'id': '77765994', 'premium': False, 'name': 'Системный аналитик', 'department': {'id': '3529-3529-prof', 'name': 'Сбер для экспертов'}, 'has_test': False, 'response_letter_required': False, 'area': {'id': '2', 'name': 'Санкт-Петербург', 'url': 'https://api.hh.ru/areas/2'}, 'salary': {'from': 200000, 'to': None, 'currency': 'RUR', 'gross': True}, 'type': {'id': 'open', 'name': 'Открытая'}, 'address': None, 'response_url': None, 'sort_point_distance': None, 'published_at': '2023-03-07T14:32:04+0300', 'created_at': '2023-03-07T14:32:04+0300', 'archived': False, 'apply_alternate_url': 'https://hh.ru/applicant/vacancy_response?vacancyId=77765994', 'insider_interview': None, 'url': 'https://api.hh.ru/vacancies/77765994?host=hh.ru', 'adv_response_url': None, 'alternate_url': 'https://hh.ru/vacancy/77765994', 'relations': [], 'employer': {'id': '3529', 'name': 'СБЕР', 'url': 'https://api.hh.ru/employers/3529', 'alternate_url': 'https://hh.ru/employer/3529', 'logo_urls': {'240': 'https://hhcdn.ru/employer-logo/5756157.png', '90': 'https://hhcdn.ru/employer-logo/5756156.png', 'original': 'https://hhcdn.ru/employer-logo-original/1033849.png'}, 'vacancies_url': 'https://api.hh.ru/vacancies?employer_id=3529', 'trusted': True}, 'snippet': {'requirement': 'Опыт по реализации интеграционных проектов. Опыт проектирования прототипов интерфейсов. Навыки проектирования API. Знание SQL на уровне базовых запросов. ', 'responsibility': 'Разработка и согласование системных требований для реализации изменений в автоматизированной системе. Активное взаимодействие с владельцем продукта, разработчиками, тестировщиками и смежными...'}, 'contacts': None, 'schedule': None, 'working_days': [], 'working_time_intervals': [], 'working_time_modes': [], 'accept_temporary': False, 'professional_roles': [{'id': '10', 'name': 'Аналитик'}], 'accept_incomplete_resumes': False}, {'id': '78140763', 'premium': False, 'name': 'Менеджер по работе с клиентами ДомКлик', 'department': {'id': '3529-3529-prof', 'name': 'Сбер для экспертов'}, 'has_test': False, 'response_letter_required': False, 'area': {'id': '78', 'name': 'Самара', 'url': 'https://api.hh.ru/areas/78'}, 'salary': {'from': 57000, 'to': 65000, 'currency': 'RUR', 'gross': True}, 'type': {'id': 'open', 'name': 'Открытая'}, 'address': None, 'response_url': None, 'sort_point_distance': None, 'published_at': '2023-03-16T14:16:15+0300', 'created_at': '2023-03-16T14:16:15+0300', 'archived': False, 'apply_alternate_url': 'https://hh.ru/applicant/vacancy_response?vacancyId=78140763', 'insider_interview': None, 'url': 'https://api.hh.ru/vacancies/78140763?host=hh.ru', 'adv_response_url': None, 'alternate_url': 'https://hh.ru/vacancy/78140763', 'relations': [], 'employer': {'id': '3529', 'name': 'СБЕР', 'url': 'https://api.hh.ru/employers/3529', 'alternate_url': 'https://hh.ru/employer/3529', 'logo_urls': {'240': 'https://hhcdn.ru/employer-logo/5756157.png', '90': 'https://hhcdn.ru/employer-logo/5756156.png', 'original': 'https://hhcdn.ru/employer-logo-original/1033849.png'}, 'vacancies_url': 'https://api.hh.ru/vacancies?employer_id=3529', 'trusted': True}, 'snippet': {'requirement': 'Специалист с высшим или неоконченном высшим образованием. Хочешь получить опыт работы в недвижимости, ипотечном кредитовании и построить карьеру в банковской...', 'responsibility': 'Дистанционно консультировать клиентов по ипотечным и жилищным программам, неипотечным сделкам, необходимому пакету документов для проведения сделки. Структурировать ипотечные сделки. '}, 'contacts': None, 'schedule': None, 'working_days': [], 'working_time_intervals': [], 'working_time_modes': [], 'accept_temporary': False, 'professional_roles': [{'id': '134', 'name': 'Финансовый аналитик, инвестиционный аналитик'}], 'accept_incomplete_resumes': False}, {'id': '78168807', 'premium': False, 'name': 'Руководитель проектов по финансированию сложноструктурированных сделок', 'department': {'id': '3529-3529-prof', 'name': 'Сбер для экспертов'}, 'has_test': False, 'response_letter_required': False, 'area': {'id': '2', 'name': 'Санкт-Петербург', 'url': 'https://api.hh.ru/areas/2'}, 'salary': None, 'type': {'id': 'open', 'name': 'Открытая'}, 'address': None, 'response_url': None, 'sort_point_distance': None, 'published_at': '2023-03-17T10:13:56+0300', 'created_at': '2023-03-17T10:13:56+0300', 'archived': False, 'apply_alternate_url': 'https://hh.ru/applicant/vacancy_response?vacancyId=78168807', 'insider_interview': None, 'url': 'https://api.hh.ru/vacancies/78168807?host=hh.ru', 'adv_response_url': None, 'alternate_url': 'https://hh.ru/vacancy/78168807', 'relations': [], 'employer': {'id': '3529', 'name': 'СБЕР', 'url': 'https://api.hh.ru/employers/3529', 'alternate_url': 'https://hh.ru/employer/3529', 'logo_urls': {'240': 'https://hhcdn.ru/employer-logo/5756157.png', '90': 'https://hhcdn.ru/employer-logo/5756156.png', 'original': 'https://hhcdn.ru/employer-logo-original/1033849.png'}, 'vacancies_url': 'https://api.hh.ru/vacancies?employer_id=3529', 'trusted': True}, 'snippet': {'requirement': 'Высшее экономическое образование в области финансов, экономики, управления, юриспруденции. Опыт анализа рынка, выявление перспективных проектов с целью реализации, подготовки аналитического...', 'responsibility': 'Анализ рынка, выявление перспективных проектов с целью реализации. Осуществление подготовки аналитического материала для предварительного анализа. Формирование предложения, обсуждение инвестиционных возможностей...'}, 'contacts': None, 'schedule': None, 'working_days': [], 'working_time_intervals': [], 'working_time_modes': [], 'accept_temporary': False, 'professional_roles': [{'id': '137', 'name': 'Финансовый менеджер'}], 'accept_incomplete_resumes': False}, {'id': '78302178', 'premium': False, 'name': 'Старший клиентский менеджер (Георгиевск)', 'department': {'id': '3529-3529-clients', 'name': 'Сбер. Работа с клиентами'}, 'has_test': False, 'response_letter_required': False, 'area': {'id': '1484', 'name': 'Георгиевск', 'url': 'https://api.hh.ru/areas/1484'}, 'salary': {'from': 47400, 'to': None, 'currency': 'RUR', 'gross': True}, 'type': {'id': 'open', 'name': 'Открытая'}, 'address': {'city': 'Георгиевск', 'street': None, 'building': None, 'lat': 44.1485694, 'lng': 43.4739851, 'description': None, 'raw': 'Георгиевск', 'metro': None, 'metro_stations': [], 'id': '7015631'}, 'response_url': None, 'sort_point_distance': None, 'published_at': '2023-03-20T17:36:26+0300', 'created_at': '2023-03-20T17:36:26+0300', 'archived': False, 'apply_alternate_url': 'https://hh.ru/applicant/vacancy_response?vacancyId=78302178', 'insider_interview': None, 'url': 'https://api.hh.ru/vacancies/78302178?host=hh.ru', 'adv_response_url': None, 'alternate_url': 'https://hh.ru/vacancy/78302178', 'relations': [], 'employer': {'id': '3529', 'name': 'СБЕР', 'url': 'https://api.hh.ru/employers/3529', 'alternate_url': 'https://hh.ru/employer/3529', 'logo_urls': {'240': 'https://hhcdn.ru/employer-logo/5756157.png', '90': 'https://hhcdn.ru/employer-logo/5756156.png', 'original': 'https://hhcdn.ru/employer-logo-original/1033849.png'}, 'vacancies_url': 'https://api.hh.ru/vacancies?employer_id=3529', 'trusted': True}, 'snippet': {'requirement': 'Специалист со средним профессиональным, неполным высшим или высшим образованием. Имеешь опыт работы в сфере продаж, обслуживания и консультирования клиентов от...', 'responsibility': 'Доброжелателен и готов помогать клиентам. Предлагать продукты и услуги Сбера. Консультировать клиентов по возникающим вопросам. Помогать клиентам оформлять услуги и...'}, 'contacts': None, 'schedule': None, 'working_days': [], 'working_time_intervals': [], 'working_time_modes': [], 'accept_temporary': False, 'professional_roles': [{'id': '70', 'name': 'Менеджер по продажам, менеджер по работе с клиентами'}], 'accept_incomplete_resumes': True}, {'id': '53814007', 'premium': False, 'name': 'Старший клиентский менеджер', 'department': {'id': '3529-3529-prof', 'name': 'Сбер для экспертов'}, 'has_test': False, 'response_letter_required': False, 'area': {'id': '247', 'name': 'Дзержинск (Нижегородская область)', 'url': 'https://api.hh.ru/areas/247'}, 'salary': {'from': 47350, 'to': None, 'currency': 'RUR', 'gross': True}, 'type': {'id': 'open', 'name': 'Открытая'}, 'address': None, 'response_url': None, 'sort_point_distance': None, 'published_at': '2023-03-13T14:15:15+0300', 'created_at': '2023-03-13T14:15:15+0300', 'archived': False, 'apply_alternate_url': 'https://hh.ru/applicant/vacancy_response?vacancyId=53814007', 'insider_interview': None, 'url': 'https://api.hh.ru/vacancies/53814007?host=hh.ru', 'adv_response_url': None, 'alternate_url': 'https://hh.ru/vacancy/53814007', 'relations': [], 'employer': {'id': '3529', 'name': 'СБЕР', 'url': 'https://api.hh.ru/employers/3529', 'alternate_url': 'https://hh.ru/employer/3529', 'logo_urls': {'240': 'https://hhcdn.ru/employer-logo/5756157.png', '90': 'https://hhcdn.ru/employer-logo/5756156.png', 'original': 'https://hhcdn.ru/employer-logo-original/1033849.png'}, 'vacancies_url': 'https://api.hh.ru/vacancies?employer_id=3529', 'trusted': True}, 'snippet': {'requirement': 'Специалист со средним профессиональным, неполным высшим или высшим образованием. Имеешь опыт работы в сфере продаж, обслуживания и консультирования клиентов от...', 'responsibility': 'Предлагать продукты и услуги Сбера. Консультировать клиентов по возникающим вопросам. Помогать клиентам оформлять услуги и необходимые для них документы. '}, 'contacts': None, 'schedule': None, 'working_days': [], 'working_time_intervals': [], 'working_time_modes': [], 'accept_temporary': False, 'professional_roles': [{'id': '105', 'name': 'Руководитель отдела клиентского обслуживания'}], 'accept_incomplete_resumes': False}, {'id': '69590738', 'premium': False, 'name': 'Старший менеджер по обслуживанию (с.Раздольное)', 'department': {'id': '3529-3529-prof', 'name': 'Сбер для экспертов'}, 'has_test': False, 'response_letter_required': False, 'area': {'id': '1480', 'name': 'Моздок', 'url': 'https://api.hh.ru/areas/1480'}, 'salary': {'from': 17400, 'to': None, 'currency': 'RUR', 'gross': True}, 'type': {'id': 'open', 'name': 'Открытая'}, 'address': {'city': 'Раздольное', 'street': None, 'building': None, 'lat': 43.698294, 'lng': 44.535337, 'description': None, 'raw': 'Раздольное', 'metro': None, 'metro_stations': [], 'id': '11675998'}, 'response_url': None, 'sort_point_distance': None, 'published_at': '2023-03-22T09:22:36+0300', 'created_at': '2023-03-22T09:22:36+0300', 'archived': False, 'apply_alternate_url': 'https://hh.ru/applicant/vacancy_response?vacancyId=69590738', 'insider_interview': None, 'url': 'https://api.hh.ru/vacancies/69590738?host=hh.ru', 'adv_response_url': None, 'alternate_url': 'https://hh.ru/vacancy/69590738', 'relations': [], 'employer': {'id': '3529', 'name': 'СБЕР', 'url': 'https://api.hh.ru/employers/3529', 'alternate_url': 'https://hh.ru/employer/3529', 'logo_urls': {'240': 'https://hhcdn.ru/employer-logo/5756157.png', '90': 'https://hhcdn.ru/employer-logo/5756156.png', 'original': 'https://hhcdn.ru/employer-logo-original/1033849.png'}, 'vacancies_url': 'https://api.hh.ru/vacancies?employer_id=3529', 'trusted': True}, 'snippet': {'requirement': 'Специалист со средним профессиональным, неполным высшим или высшим образованием. Хочешь работать в надежной компании. Имеешь опыт работы в сфере продаж...', 'responsibility': 'Проводить кассовые операции: прием, выдача, обмен денег. Предлагать продукты и сервисы Сбера. Консультировать клиентов по возникающим вопросам.'}, 'contacts': None, 'schedule': None, 'working_days': [], 'working_time_intervals': [], 'working_time_modes': [], 'accept_temporary': False, 'professional_roles': [{'id': '40', 'name': 'Другое'}], 'accept_incomplete_resumes': True}, {'id': '76605371', 'premium': False, 'name': 'Менеджер по работе с клиентами (село Спасо-Барда)', 'department': {'id': '3529-3529-prof', 'name': 'Сбер для экспертов'}, 'has_test': False, 'response_letter_required': False, 'area': {'id': '4634', 'name': 'Усть-Кишерть', 'url': 'https://api.hh.ru/areas/4634'}, 'salary': {'from': 15500, 'to': None, 'currency': 'RUR', 'gross': True}, 'type': {'id': 'open', 'name': 'Открытая'}, 'address': {'city': 'Спасо-Барда', 'street': None, 'building': None, 'lat': 57.365201, 'lng': 57.359389, 'description': None, 'raw': 'Спасо-Барда', 'metro': None, 'metro_stations': [], 'id': '11620537'}, 'response_url': None, 'sort_point_distance': None, 'published_at': '2023-03-05T17:28:33+0300', 'created_at': '2023-03-05T17:28:33+0300', 'archived': False, 'apply_alternate_url': 'https://hh.ru/applicant/vacancy_response?vacancyId=76605371', 'insider_interview': None, 'url': 'https://api.hh.ru/vacancies/76605371?host=hh.ru', 'adv_response_url': None, 'alternate_url': 'https://hh.ru/vacancy/76605371', 'relations': [], 'employer': {'id': '3529', 'name': 'СБЕР', 'url': 'https://api.hh.ru/employers/3529', 'alternate_url': 'https://hh.ru/employer/3529', 'logo_urls': {'240': 'https://hhcdn.ru/employer-logo/5756157.png', '90': 'https://hhcdn.ru/employer-logo/5756156.png', 'original': 'https://hhcdn.ru/employer-logo-original/1033849.png'}, 'vacancies_url': 'https://api.hh.ru/vacancies?employer_id=3529', 'trusted': True}, 'snippet': {'requirement': 'Специалист со средним профессиональным, неполным высшим или высшим образованием. Готов к работе, предполагающей ежедневное проведение однотипных операций.', 'responsibility': 'Осуществлять операции по обслуживанию клиентов. Проводить кассовые операции: прием, выдача, обмен денег. Предлагать продукты и сервисы Сбера. Консультировать клиентов по...'}, 'contacts': None, 'schedule': None, 'working_days': [], 'working_time_intervals': [], 'working_time_modes': [], 'accept_temporary': False, 'professional_roles': [{'id': '70', 'name': 'Менеджер по продажам, менеджер по работе с клиентами'}], 'accept_incomplete_resumes': True}, {'id': '77463570', 'premium': False, 'name': 'Менеджер по работе с клиентами (Кулевчи)', 'department': {'id': '3529-3529-prof', 'name': 'Сбер для экспертов'}, 'has_test': False, 'response_letter_required': False, 'area': {'id': '5784', 'name': 'Варна (Челябинская область)', 'url': 'https://api.hh.ru/areas/5784'}, 'salary': {'from': 6800, 'to': None, 'currency': 'RUR', 'gross': True}, 'type': {'id': 'open', 'name': 'Открытая'}, 'address': {'city': 'Кулевчи', 'street': None, 'building': None, 'lat': 53.161306, 'lng': 61.423889, 'description': None, 'raw': 'Кулевчи', 'metro': None, 'metro_stations': [], 'id': '11875883'}, 'response_url': None, 'sort_point_distance': None, 'published_at': '2023-02-28T09:12:54+0300', 'created_at': '2023-02-28T09:12:54+0300', 'archived': False, 'apply_alternate_url': 'https://hh.ru/applicant/vacancy_response?vacancyId=77463570', 'insider_interview': None, 'url': 'https://api.hh.ru/vacancies/77463570?host=hh.ru', 'adv_response_url': None, 'alternate_url': 'https://hh.ru/vacancy/77463570', 'relations': [], 'employer': {'id': '3529', 'name': 'СБЕР', 'url': 'https://api.hh.ru/employers/3529', 'alternate_url': 'https://hh.ru/employer/3529', 'logo_urls': {'240': 'https://hhcdn.ru/employer-logo/5756157.png', '90': 'https://hhcdn.ru/employer-logo/5756156.png', 'original': 'https://hhcdn.ru/employer-logo-original/1033849.png'}, 'vacancies_url': 'https://api.hh.ru/vacancies?employer_id=3529', 'trusted': True}, 'snippet': {'requirement': 'Специалист со средним профессиональным, неполным высшим или высшим образованием. Готов к работе, предполагающей ежедневное проведение однотипных операций.', 'responsibility': 'Осуществлять операции по обслуживанию клиентов. Проводить кассовые операции: прием, выдача, обмен денег. Предлагать продукты и сервисы Сбера. Консультировать клиентов по...'}, 'contacts': None, 'schedule': None, 'working_days': [], 'working_time_intervals': [], 'working_time_modes': [], 'accept_temporary': False, 'professional_roles': [{'id': '70', 'name': 'Менеджер по продажам, менеджер по работе с клиентами'}], 'accept_incomplete_resumes': True}, {'id': '78409200', 'premium': False, 'name': 'Старший клиентский менеджер CIB', 'department': {'id': '3529-3529-prof', 'name': 'Сбер для экспертов'}, 'has_test': False, 'response_letter_required': False, 'area': {'id': '99', 'name': 'Уфа', 'url': 'https://api.hh.ru/areas/99'}, 'salary': None, 'type': {'id': 'open', 'name': 'Открытая'}, 'address': None, 'response_url': None, 'sort_point_distance': None, 'published_at': '2023-03-22T14:20:42+0300', 'created_at': '2023-03-22T14:20:42+0300', 'archived': False, 'apply_alternate_url': 'https://hh.ru/applicant/vacancy_response?vacancyId=78409200', 'insider_interview': None, 'url': 'https://api.hh.ru/vacancies/78409200?host=hh.ru', 'adv_response_url': None, 'alternate_url': 'https://hh.ru/vacancy/78409200', 'relations': [], 'employer': {'id': '3529', 'name': 'СБЕР', 'url': 'https://api.hh.ru/employers/3529', 'alternate_url': 'https://hh.ru/employer/3529', 'logo_urls': {'240': 'https://hhcdn.ru/employer-logo/5756157.png', '90': 'https://hhcdn.ru/employer-logo/5756156.png', 'original': 'https://hhcdn.ru/employer-logo-original/1033849.png'}, 'vacancies_url': 'https://api.hh.ru/vacancies?employer_id=3529', 'trusted': True}, 'snippet': {'requirement': 'Высшее образование в одном из направлений: финансы, банки, экономика или бухгалтерия. Опыт привлечения клиентов сегмента крупнейший, крупный или средний бизнес...', 'responsibility': 'Продвижение продуктов и услуг Сбера клиентам крупнейшего бизнеса. Структурирование сделки, подготовка материалов и заключения для кредитного комитета. Защита вопросов на...'}, 'contacts': None, 'schedule': None, 'working_days': [], 'working_time_intervals': [], 'working_time_modes': [], 'accept_temporary': False, 'professional_roles': [{'id': '134', 'name': 'Финансовый аналитик, инвестиционный аналитик'}], 'accept_incomplete_resumes': False}, {'id': '78531669', 'premium': False, 'name': 'Старший инженер отдела администрирования средств защиты', 'department': {'id': '3529-3529-kiber', 'name': 'Сбер. Кибербезопасность'}, 'has_test': False, 'response_letter_required': False, 'area': {'id': '4', 'name': 'Новосибирск', 'url': 'https://api.hh.ru/areas/4'}, 'salary': None, 'type': {'id': 'open', 'name': 'Открытая'}, 'address': {'city': 'Новосибирск', 'street': 'проспект Димитрова', 'building': '2', 'lat': 55.028027, 'lng': 82.907135, 'description': None, 'raw': 'Новосибирск, проспект Димитрова, 2', 'metro': {'station_name': 'Площадь Ленина', 'line_name': 'Ленинская', 'station_id': '52.297', 'line_id': '52', 'lat': 55.029941, 'lng': 82.92069}, 'metro_stations': [{'station_name': 'Площадь Ленина', 'line_name': 'Ленинская', 'station_id': '52.297', 'line_id': '52', 'lat': 55.029941, 'lng': 82.92069}], 'id': '253375'}, 'response_url': None, 'sort_point_distance': None, 'published_at': '2023-03-25T07:56:52+0300', 'created_at': '2023-03-25T07:56:52+0300', 'archived': False, 'apply_alternate_url': 'https://hh.ru/applicant/vacancy_response?vacancyId=78531669', 'insider_interview': None, 'url': 'https://api.hh.ru/vacancies/78531669?host=hh.ru', 'adv_response_url': None, 'alternate_url': 'https://hh.ru/vacancy/78531669', 'relations': [], 'employer': {'id': '3529', 'name': 'СБЕР', 'url': 'https://api.hh.ru/employers/3529', 'alternate_url': 'https://hh.ru/employer/3529', 'logo_urls': {'240': 'https://hhcdn.ru/employer-logo/5756157.png', '90': 'https://hhcdn.ru/employer-logo/5756156.png', 'original': 'https://hhcdn.ru/employer-logo-original/1033849.png'}, 'vacancies_url': 'https://api.hh.ru/vacancies?employer_id=3529', 'trusted': True}, 'snippet': {'requirement': 'Высшее образование по направлению кибербезопасности или ИТ. Знание стека протоколов TCP/IP, законодательной и нормативной базы РФ и БР в...', 'responsibility': 'Администрирование и учёт средств защиты критичных информационных ресурсов и объектов критической информационной инфраструктуры. Обеспечение работоспособности средств защиты критичных информационных ресурсов...'}, 'contacts': None, 'schedule': None, 'working_days': [], 'working_time_intervals': [], 'working_time_modes': [], 'accept_temporary': False, 'professional_roles': [{'id': '116', 'name': 'Специалист по информационной безопасности'}], 'accept_incomplete_resumes': False}, {'id': '73392837', 'premium': False, 'name': 'Frontend-разработчик (ATMoSphere.Host)', 'department': {'id': '3529-3529-it', 'name': 'Сбер. IT'}, 'has_test': False, 'response_letter_required': False, 'area': {'id': '1', 'name': 'Москва', 'url': 'https://api.hh.ru/areas/1'}, 'salary': None, 'type': {'id': 'open', 'name': 'Открытая'}, 'address': {'city': 'Москва', 'street': 'Кутузовский проспект', 'building': '32', 'lat': 55.740421, 'lng': 37.532071, 'description': None, 'raw': 'Москва, Кутузовский проспект, 32', 'metro': {'station_name': 'Кутузовская', 'line_name': 'МЦК', 'station_id': '95.536', 'line_id': '95', 'lat': 55.740833, 'lng': 37.533333}, 'metro_stations': [{'station_name': 'Кутузовская', 'line_name': 'МЦК', 'station_id': '95.536', 'line_id': '95', 'lat': 55.740833, 'lng': 37.533333}], 'id': '823806'}, 'response_url': None, 'sort_point_distance': None, 'published_at': '2023-03-07T15:48:35+0300', 'created_at': '2023-03-07T15:48:35+0300', 'archived': False, 'apply_alternate_url': 'https://hh.ru/applicant/vacancy_response?vacancyId=73392837', 'insider_interview': None, 'url': 'https://api.hh.ru/vacancies/73392837?host=hh.ru', 'adv_response_url': None, 'alternate_url': 'https://hh.ru/vacancy/73392837', 'relations': [], 'employer': {'id': '3529', 'name': 'СБЕР', 'url': 'https://api.hh.ru/employers/3529', 'alternate_url': 'https://hh.ru/employer/3529', 'logo_urls': {'240': 'https://hhcdn.ru/employer-logo/5756157.png', '90': 'https://hhcdn.ru/employer-logo/5756156.png', 'original': 'https://hhcdn.ru/employer-logo-original/1033849.png'}, 'vacancies_url': 'https://api.hh.ru/vacancies?employer_id=3529', 'trusted': True}, 'snippet': {'requirement': 'Опыт проектирования промышленных решений и работы в роли системного аналитика от 3-х лет или архитектором от 2-х лет. ', 'responsibility': 'Мониторинг и управление работоспособностью устройствами самообслуживания (УС) Банка (ATM, ИПТ, RATM, TCR, СУО, ПОСТАМАТЫ, ADM и др). Автоматизация минимум 90...'}, 'contacts': None, 'schedule': None, 'working_days': [], 'working_time_intervals': [], 'working_time_modes': [], 'accept_temporary': False, 'professional_roles': [{'id': '96', 'name': 'Программист, разработчик'}], 'accept_incomplete_resumes': False}, {'id': '75572004', 'premium': False, 'name': 'Старший менеджер по обслуживанию', 'department': {'id': '3529-3529-prof', 'name': 'Сбер для экспертов'}, 'has_test': False, 'response_letter_required': False, 'area': {'id': '5812', 'name': 'Фершампенуаз (Челябинская область)', 'url': 'https://api.hh.ru/areas/5812'}, 'salary': {'from': 21600, 'to': None, 'currency': 'RUR', 'gross': True}, 'type': {'id': 'open', 'name': 'Открытая'}, 'address': {'city': 'Остроленский', 'street': None, 'building': None, 'lat': 53.684426, 'lng': 59.724797, 'description': None, 'raw': 'Остроленский', 'metro': None, 'metro_stations': [], 'id': '11876491'}, 'response_url': None, 'sort_point_distance': None, 'published_at': '2023-03-10T16:43:35+0300', 'created_at': '2023-03-10T16:43:35+0300', 'archived': False, 'apply_alternate_url': 'https://hh.ru/applicant/vacancy_response?vacancyId=75572004', 'insider_interview': None, 'url': 'https://api.hh.ru/vacancies/75572004?host=hh.ru', 'adv_response_url': None, 'alternate_url': 'https://hh.ru/vacancy/75572004', 'relations': [], 'employer': {'id': '3529', 'name': 'СБЕР', 'url': 'https://api.hh.ru/employers/3529', 'alternate_url': 'https://hh.ru/employer/3529', 'logo_urls': {'240': 'https://hhcdn.ru/employer-logo/5756157.png', '90': 'https://hhcdn.ru/employer-logo/5756156.png', 'original': 'https://hhcdn.ru/employer-logo-original/1033849.png'}, 'vacancies_url': 'https://api.hh.ru/vacancies?employer_id=3529', 'trusted': True}, 'snippet': {'requirement': 'Специалист со средним профессиональным, неполным высшим или высшим образованием. Хочешь работать в надежной компании. Имеешь опыт работы в сфере продаж...', 'responsibility': 'Проводить кассовые операции: прием, выдача, обмен денег. Предлагать продукты и сервисы Сбера. Консультировать клиентов по возникающим вопросам.'}, 'contacts': None, 'schedule': None, 'working_days': [], 'working_time_intervals': [], 'working_time_modes': [], 'accept_temporary': False, 'professional_roles': [{'id': '70', 'name': 'Менеджер по продажам, менеджер по работе с клиентами'}], 'accept_incomplete_resumes': True}, {'id': '75573048', 'premium': False, 'name': 'Старший менеджер по обслуживанию', 'department': {'id': '3529-3529-prof', 'name': 'Сбер для экспертов'}, 'has_test': False, 'response_letter_required': False, 'area': {'id': '5811', 'name': 'Уйское (Челябинская область)', 'url': 'https://api.hh.ru/areas/5811'}, 'salary': {'from': 10800, 'to': None, 'currency': 'RUR', 'gross': True}, 'type': {'id': 'open', 'name': 'Открытая'}, 'address': {'city': 'Кидыш', 'street': None, 'building': None, 'lat': 54.149899, 'lng': 60.089459, 'description': None, 'raw': 'Кидыш', 'metro': None, 'metro_stations': [], 'id': '11875812'}, 'response_url': None, 'sort_point_distance': None, 'published_at': '2023-03-10T17:49:24+0300', 'created_at': '2023-03-10T17:49:24+0300', 'archived': False, 'apply_alternate_url': 'https://hh.ru/applicant/vacancy_response?vacancyId=75573048', 'insider_interview': None, 'url': 'https://api.hh.ru/vacancies/75573048?host=hh.ru', 'adv_response_url': None, 'alternate_url': 'https://hh.ru/vacancy/75573048', 'relations': [], 'employer': {'id': '3529', 'name': 'СБЕР', 'url': 'https://api.hh.ru/employers/3529', 'alternate_url': 'https://hh.ru/employer/3529', 'logo_urls': {'240': 'https://hhcdn.ru/employer-logo/5756157.png', '90': 'https://hhcdn.ru/employer-logo/5756156.png', 'original': 'https://hhcdn.ru/employer-logo-original/1033849.png'}, 'vacancies_url': 'https://api.hh.ru/vacancies?employer_id=3529', 'trusted': True}, 'snippet': {'requirement': 'Специалист со средним профессиональным, неполным высшим или высшим образованием. Хочешь работать в надежной компании. Имеешь опыт работы в сфере продаж...', 'responsibility': 'Проводить кассовые операции: прием, выдача, обмен денег. Предлагать продукты и сервисы Сбера. Консультировать клиентов по возникающим вопросам.'}, 'contacts': None, 'schedule': None, 'working_days': [], 'working_time_intervals': [], 'working_time_modes': [], 'accept_temporary': False, 'professional_roles': [{'id': '70', 'name': 'Менеджер по продажам, менеджер по работе с клиентами'}], 'accept_incomplete_resumes': True}, {'id': '75614893', 'premium': False, 'name': 'Старший менеджер по обслуживанию', 'department': {'id': '3529-3529-prof', 'name': 'Сбер для экспертов'}, 'has_test': False, 'response_letter_required': False, 'area': {'id': '4108', 'name': 'Верхнетуломский', 'url': 'https://api.hh.ru/areas/4108'}, 'salary': {'from': 53600, 'to': None, 'currency': 'RUR', 'gross': True}, 'type': {'id': 'open', 'name': 'Открытая'}, 'address': {'city': 'Верхнетуломский', 'street': None, 'building': None, 'lat': 68.60735, 'lng': 31.799499, 'description': None, 'raw': 'Верхнетуломский', 'metro': None, 'metro_stations': [], 'id': '12269709'}, 'response_url': None, 'sort_point_distance': None, 'published_at': '2023-03-11T13:47:04+0300', 'created_at': '2023-03-11T13:47:04+0300', 'archived': False, 'apply_alternate_url': 'https://hh.ru/applicant/vacancy_response?vacancyId=75614893', 'insider_interview': None, 'url': 'https://api.hh.ru/vacancies/75614893?host=hh.ru', 'adv_response_url': None, 'alternate_url': 'https://hh.ru/vacancy/75614893', 'relations': [], 'employer': {'id': '3529', 'name': 'СБЕР', 'url': 'https://api.hh.ru/employers/3529', 'alternate_url': 'https://hh.ru/employer/3529', 'logo_urls': {'240': 'https://hhcdn.ru/employer-logo/5756157.png', '90': 'https://hhcdn.ru/employer-logo/5756156.png', 'original': 'https://hhcdn.ru/employer-logo-original/1033849.png'}, 'vacancies_url': 'https://api.hh.ru/vacancies?employer_id=3529', 'trusted': True}, 'snippet': {'requirement': 'Специалист со средним профессиональным, неполным высшим или высшим образованием. Владеешь программами Microsoft Office, Outlook. Готов к работе, предполагающей ежедневное проведение...', 'responsibility': 'Доброжелателен и готов помогать клиентам. Осуществлять операции по обслуживанию клиентов. Проводить кассовые операции: прием, выдача, обмен денег. Предлагать продукты и...'}, 'contacts': None, 'schedule': None, 'working_days': [], 'working_time_intervals': [], 'working_time_modes': [], 'accept_temporary': False, 'professional_roles': [{'id': '57', 'name': 'Кредитный специалист'}], 'accept_incomplete_resumes': True}, {'id': '77213490', 'premium': False, 'name': 'Android разработчик (Рекламная платформа)', 'department': {'id': '3529-3529-it', 'name': 'Сбер. IT'}, 'has_test': False, 'response_letter_required': False, 'area': {'id': '1', 'name': 'Москва', 'url': 'https://api.hh.ru/areas/1'}, 'salary': None, 'type': {'id': 'open', 'name': 'Открытая'}, 'address': {'city': 'Москва', 'street': 'Оружейный переулок', 'building': '41', 'lat': 55.773631, 'lng': 37.60558, 'description': None, 'raw': 'Москва, Оружейный переулок, 41', 'metro': None, 'metro_stations': [], 'id': '808064'}, 'response_url': None, 'sort_point_distance': None, 'published_at': '2023-03-21T16:03:50+0300', 'created_at': '2023-03-21T16:03:50+0300', 'archived': False, 'apply_alternate_url': 'https://hh.ru/applicant/vacancy_response?vacancyId=77213490', 'insider_interview': None, 'url': 'https://api.hh.ru/vacancies/77213490?host=hh.ru', 'adv_response_url': None, 'alternate_url': 'https://hh.ru/vacancy/77213490', 'relations': [], 'employer': {'id': '3529', 'name': 'СБЕР', 'url': 'https://api.hh.ru/employers/3529', 'alternate_url': 'https://hh.ru/employer/3529', 'logo_urls': {'240': 'https://hhcdn.ru/employer-logo/5756157.png', '90': 'https://hhcdn.ru/employer-logo/5756156.png', 'original': 'https://hhcdn.ru/employer-logo-original/1033849.png'}, 'vacancies_url': 'https://api.hh.ru/vacancies?employer_id=3529', 'trusted': True}, 'snippet': {'requirement': 'Опыт в мобильной разработке под Android не менее 2 лет. Уверенное знание Java/Kotlin. Понимание особенностей клиент-серверных приложений. ', 'responsibility': 'Разрабатывать рекламное SDK с поддержкой стандартных рекламных форматов, включая видео и аудиорекламу. Разрабатывать рекламное SDK с поддержкой нестандартных рекламных форматов...'}, 'contacts': None, 'schedule': None, 'working_days': [], 'working_time_intervals': [], 'working_time_modes': [], 'accept_temporary': False, 'professional_roles': [{'id': '96', 'name': 'Программист, разработчик'}], 'accept_incomplete_resumes': False}, {'id': '77464344', 'premium': False, 'name': 'Менеджер по работе с клиентами (Варшавка)', 'department': {'id': '3529-3529-prof', 'name': 'Сбер для экспертов'}, 'has_test': False, 'response_letter_required': False, 'area': {'id': '5795', 'name': 'Локомотивный (Челябинская область)', 'url': 'https://api.hh.ru/areas/5795'}, 'salary': {'from': 6800, 'to': None, 'currency': 'RUR', 'gross': True}, 'type': {'id': 'open', 'name': 'Открытая'}, 'address': {'city': 'Варшавка', 'street': None, 'building': None, 'lat': 52.845741, 'lng': 60.337861, 'description': None, 'raw': 'Варшавка', 'metro': None, 'metro_stations': [], 'id': '12825359'}, 'response_url': None, 'sort_point_distance': None, 'published_at': '2023-02-28T09:24:29+0300', 'created_at': '2023-02-28T09:24:29+0300', 'archived': False, 'apply_alternate_url': 'https://hh.ru/applicant/vacancy_response?vacancyId=77464344', 'insider_interview': None, 'url': 'https://api.hh.ru/vacancies/77464344?host=hh.ru', 'adv_response_url': None, 'alternate_url': 'https://hh.ru/vacancy/77464344', 'relations': [], 'employer': {'id': '3529', 'name': 'СБЕР', 'url': 'https://api.hh.ru/employers/3529', 'alternate_url': 'https://hh.ru/employer/3529', 'logo_urls': {'240': 'https://hhcdn.ru/employer-logo/5756157.png', '90': 'https://hhcdn.ru/employer-logo/5756156.png', 'original': 'https://hhcdn.ru/employer-logo-original/1033849.png'}, 'vacancies_url': 'https://api.hh.ru/vacancies?employer_id=3529', 'trusted': True}, 'snippet': {'requirement': 'Специалист со средним профессиональным, неполным высшим или высшим образованием. Готов к работе, предполагающей ежедневное проведение однотипных операций.', 'responsibility': 'Осуществлять операции по обслуживанию клиентов. Проводить кассовые операции: прием, выдача, обмен денег. Предлагать продукты и сервисы Сбера. Консультировать клиентов по...'}, 'contacts': None, 'schedule': None, 'working_days': [], 'working_time_intervals': [], 'working_time_modes': [], 'accept_temporary': False, 'professional_roles': [{'id': '70', 'name': 'Менеджер по продажам, менеджер по работе с клиентами'}], 'accept_incomplete_resumes': True}, {'id': '77909687', 'premium': False, 'name': 'Менеджер по работе с клиентами (Нагайбакский)', 'department': {'id': '3529-3529-prof', 'name': 'Сбер для экспертов'}, 'has_test': False, 'response_letter_required': False, 'area': {'id': '5812', 'name': 'Фершампенуаз (Челябинская область)', 'url': 'https://api.hh.ru/areas/5812'}, 'salary': {'from': 13500, 'to': None, 'currency': 'RUR', 'gross': True}, 'type': {'id': 'open', 'name': 'Открытая'}, 'address': {'city': 'Нагайбакский', 'street': None, 'building': None, 'lat': 53.546204, 'lng': 59.533537, 'description': None, 'raw': 'Нагайбакский', 'metro': None, 'metro_stations': [], 'id': '11876017'}, 'response_url': None, 'sort_point_distance': None, 'published_at': '2023-03-10T16:49:06+0300', 'created_at': '2023-03-10T16:49:06+0300', 'archived': False, 'apply_alternate_url': 'https://hh.ru/applicant/vacancy_response?vacancyId=77909687', 'insider_interview': None, 'url': 'https://api.hh.ru/vacancies/77909687?host=hh.ru', 'adv_response_url': None, 'alternate_url': 'https://hh.ru/vacancy/77909687', 'relations': [], 'employer': {'id': '3529', 'name': 'СБЕР', 'url': 'https://api.hh.ru/employers/3529', 'alternate_url': 'https://hh.ru/employer/3529', 'logo_urls': {'240': 'https://hhcdn.ru/employer-logo/5756157.png', '90': 'https://hhcdn.ru/employer-logo/5756156.png', 'original': 'https://hhcdn.ru/employer-logo-original/1033849.png'}, 'vacancies_url': 'https://api.hh.ru/vacancies?employer_id=3529', 'trusted': True}, 'snippet': {'requirement': 'Специалист со средним профессиональным, неполным высшим или высшим образованием. Готов к работе, предполагающей ежедневное проведение однотипных операций.', 'responsibility': 'Осуществлять операции по обслуживанию клиентов. Проводить кассовые операции: прием, выдача, обмен денег. Предлагать продукты и сервисы Сбера. Консультировать клиентов по...'}, 'contacts': None, 'schedule': None, 'working_days': [], 'working_time_intervals': [], 'working_time_modes': [], 'accept_temporary': False, 'professional_roles': [{'id': '70', 'name': 'Менеджер по продажам, менеджер по работе с клиентами'}], 'accept_incomplete_resumes': True}, {'id': '78327209', 'premium': False, 'name': 'Старший менеджер по обслуживанию', 'department': {'id': '3529-3529-prof', 'name': 'Сбер для экспертов'}, 'has_test': False, 'response_letter_required': False, 'area': {'id': '1049', 'name': 'Усинск', 'url': 'https://api.hh.ru/areas/1049'}, 'salary': {'from': 68500, 'to': None, 'currency': 'RUR', 'gross': True}, 'type': {'id': 'open', 'name': 'Открытая'}, 'address': {'city': 'Усинск', 'street': None, 'building': None, 'lat': 65.994155, 'lng': 57.55701, 'description': None, 'raw': 'Усинск', 'metro': None, 'metro_stations': [], 'id': '11639909'}, 'response_url': None, 'sort_point_distance': None, 'published_at': '2023-03-21T08:28:48+0300', 'created_at': '2023-03-21T08:28:48+0300', 'archived': False, 'apply_alternate_url': 'https://hh.ru/applicant/vacancy_response?vacancyId=78327209', 'insider_interview': None, 'url': 'https://api.hh.ru/vacancies/78327209?host=hh.ru', 'adv_response_url': None, 'alternate_url': 'https://hh.ru/vacancy/78327209', 'relations': [], 'employer': {'id': '3529', 'name': 'СБЕР', 'url': 'https://api.hh.ru/employers/3529', 'alternate_url': 'https://hh.ru/employer/3529', 'logo_urls': {'240': 'https://hhcdn.ru/employer-logo/5756157.png', '90': 'https://hhcdn.ru/employer-logo/5756156.png', 'original': 'https://hhcdn.ru/employer-logo-original/1033849.png'}, 'vacancies_url': 'https://api.hh.ru/vacancies?employer_id=3529', 'trusted': True}, 'snippet': {'requirement': 'Специалист со средним профессиональным, неполным высшим или высшим образованием. Владеешь программами Microsoft Office, Outlook. Готов к работе, предполагающей ежедневное проведение...', 'responsibility': 'Доброжелателен и готов помогать клиентам. Осуществлять операции по обслуживанию клиентов. Проводить кассовые операции: прием, выдача, обмен денег. Предлагать продукты и...'}, 'contacts': None, 'schedule': None, 'working_days': [], 'working_time_intervals': [], 'working_time_modes': [], 'accept_temporary': False, 'professional_roles': [{'id': '70', 'name': 'Менеджер по продажам, менеджер по работе с клиентами'}], 'accept_incomplete_resumes': True}, {'id': '73819595', 'premium': False, 'name': 'Инженер дежурной смены (Управление Баз данных)', 'department': {'id': '3529-3529-it', 'name': 'Сбер. IT'}, 'has_test': False, 'response_letter_required': False, 'area': {'id': '1', 'name': 'Москва', 'url': 'https://api.hh.ru/areas/1'}, 'salary': None, 'type': {'id': 'open', 'name': 'Открытая'}, 'address': None, 'response_url': None, 'sort_point_distance': None, 'published_at': '2023-03-14T17:30:58+0300', 'created_at': '2023-03-14T17:30:58+0300', 'archived': False, 'apply_alternate_url': 'https://hh.ru/applicant/vacancy_response?vacancyId=73819595', 'insider_interview': None, 'url': 'https://api.hh.ru/vacancies/73819595?host=hh.ru', 'adv_response_url': None, 'alternate_url': 'https://hh.ru/vacancy/73819595', 'relations': [], 'employer': {'id': '3529', 'name': 'СБЕР', 'url': 'https://api.hh.ru/employers/3529', 'alternate_url': 'https://hh.ru/employer/3529', 'logo_urls': {'240': 'https://hhcdn.ru/employer-logo/5756157.png', '90': 'https://hhcdn.ru/employer-logo/5756156.png', 'original': 'https://hhcdn.ru/employer-logo-original/1033849.png'}, 'vacancies_url': 'https://api.hh.ru/vacancies?employer_id=3529', 'trusted': True}, 'snippet': {'requirement': 'Имел Высшее образование (желательно ИТ). Знал возможности нижних уровней ИТ-инфраструктуры. Знал языки запросов SQL, имел опыт работы с любой...', 'responsibility': 'Обработка сообщений мониторинга по инструкциям. Выполнение типовых задач по сопровождению СУБД oracle, mssql, postgresql и др. Участие в решении инцидентов...'}, 'contacts': None, 'schedule': None, 'working_days': [], 'working_time_intervals': [], 'working_time_modes': [], 'accept_temporary': False, 'professional_roles': [{'id': '114', 'name': 'Системный инженер'}], 'accept_incomplete_resumes': False}, {'id': '74380676', 'premium': False, 'name': 'Старший инкассатор', 'department': {'id': '3529-3529-prof', 'name': 'Сбер для экспертов'}, 'has_test': False, 'response_letter_required': False, 'area': {'id': '1605', 'name': 'Красный Кут', 'url': 'https://api.hh.ru/areas/1605'}, 'salary': {'from': 31700, 'to': None, 'currency': 'RUR', 'gross': True}, 'type': {'id': 'open', 'name': 'Открытая'}, 'address': None, 'response_url': None, 'sort_point_distance': None, 'published_at': '2023-03-03T15:45:38+0300', 'created_at': '2023-03-03T15:45:38+0300', 'archived': False, 'apply_alternate_url': 'https://hh.ru/applicant/vacancy_response?vacancyId=74380676', 'insider_interview': None, 'url': 'https://api.hh.ru/vacancies/74380676?host=hh.ru', 'adv_response_url': None, 'alternate_url': 'https://hh.ru/vacancy/74380676', 'relations': [], 'employer': {'id': '3529', 'name': 'СБЕР', 'url': 'https://api.hh.ru/employers/3529', 'alternate_url': 'https://hh.ru/employer/3529', 'logo_urls': {'240': 'https://hhcdn.ru/employer-logo/5756157.png', '90': 'https://hhcdn.ru/employer-logo/5756156.png', 'original': 'https://hhcdn.ru/employer-logo-original/1033849.png'}, 'vacancies_url': 'https://api.hh.ru/vacancies?employer_id=3529', 'trusted': True}, 'snippet': {'requirement': 'Готовность работать на маршруте вдвоем или по одному. Образование не ниже среднего. Хорошую физическую подготовку. Умение обращаться с оружием или...', 'responsibility': 'Оказывать инкассаторские услуги клиентам банка. Обеспечивать сохранность перевозимых ценностей, автотранспорта.'}, 'contacts': None, 'schedule': None, 'working_days': [], 'working_time_intervals': [], 'working_time_modes': [], 'accept_temporary': False, 'professional_roles': [{'id': '90', 'name': 'Охранник'}], 'accept_incomplete_resumes': False}, {'id': '77009709', 'premium': False, 'name': 'Старший менеджер по обслуживанию', 'department': {'id': '3529-3529-prof', 'name': 'Сбер для экспертов'}, 'has_test': False, 'response_letter_required': False, 'area': {'id': '4494', 'name': 'Багаевская', 'url': 'https://api.hh.ru/areas/4494'}, 'salary': {'from': 34700, 'to': None, 'currency': 'RUR', 'gross': True}, 'type': {'id': 'open', 'name': 'Открытая'}, 'address': {'city': 'Багаевская', 'street': None, 'building': None, 'lat': 47.3120128, 'lng': 40.3834077, 'description': None, 'raw': 'Багаевская', 'metro': None, 'metro_stations': [], 'id': '11453466'}, 'response_url': None, 'sort_point_distance': None, 'published_at': '2023-03-17T12:42:08+0300', 'created_at': '2023-03-17T12:42:08+0300', 'archived': False, 'apply_alternate_url': 'https://hh.ru/applicant/vacancy_response?vacancyId=77009709', 'insider_interview': None, 'url': 'https://api.hh.ru/vacancies/77009709?host=hh.ru', 'adv_response_url': None, 'alternate_url': 'https://hh.ru/vacancy/77009709', 'relations': [], 'employer': {'id': '3529', 'name': 'СБЕР', 'url': 'https://api.hh.ru/employers/3529', 'alternate_url': 'https://hh.ru/employer/3529', 'logo_urls': {'240': 'https://hhcdn.ru/employer-logo/5756157.png', '90': 'https://hhcdn.ru/employer-logo/5756156.png', 'original': 'https://hhcdn.ru/employer-logo-original/1033849.png'}, 'vacancies_url': 'https://api.hh.ru/vacancies?employer_id=3529', 'trusted': True}, 'snippet': {'requirement': 'Специалист со средним профессиональным, неполным высшим или высшим образованием. Владеешь программами Microsoft Office, Outlook. Готов к работе, предполагающей ежедневное проведение...', 'responsibility': 'Доброжелателен и готов помогать клиентам. Осуществлять операции по обслуживанию клиентов. Проводить кассовые операции: прием, выдача, обмен денег. Предлагать продукты и...'}, 'contacts': None, 'schedule': None, 'working_days': [], 'working_time_intervals': [], 'working_time_modes': [], 'accept_temporary': False, 'professional_roles': [{'id': '57', 'name': 'Кредитный специалист'}], 'accept_incomplete_resumes': True}, {'id': '77818089', 'premium': False, 'name': 'Руководитель офиса', 'department': {'id': '3529-3529-prof', 'name': 'Сбер для экспертов'}, 'has_test': False, 'response_letter_required': False, 'area': {'id': '1208', 'name': 'Каргат', 'url': 'https://api.hh.ru/areas/1208'}, 'salary': None, 'type': {'id': 'open', 'name': 'Открытая'}, 'address': None, 'response_url': None, 'sort_point_distance': None, 'published_at': '2023-03-09T11:28:26+0300', 'created_at': '2023-03-09T11:28:26+0300', 'archived': False, 'apply_alternate_url': 'https://hh.ru/applicant/vacancy_response?vacancyId=77818089', 'insider_interview': None, 'url': 'https://api.hh.ru/vacancies/77818089?host=hh.ru', 'adv_response_url': None, 'alternate_url': 'https://hh.ru/vacancy/77818089', 'relations': [], 'employer': {'id': '3529', 'name': 'СБЕР', 'url': 'https://api.hh.ru/employers/3529', 'alternate_url': 'https://hh.ru/employer/3529', 'logo_urls': {'240': 'https://hhcdn.ru/employer-logo/5756157.png', '90': 'https://hhcdn.ru/employer-logo/5756156.png', 'original': 'https://hhcdn.ru/employer-logo-original/1033849.png'}, 'vacancies_url': 'https://api.hh.ru/vacancies?employer_id=3529', 'trusted': True}, 'snippet': {'requirement': 'Высшее профессиональное образование (экономическое/ финансовое/ техническое). Навыки эффективного управления и коммуникаций, консультирования и продаж, принятия управленческих решений, организационные способности.', 'responsibility': 'Организация эффективных продаж реализуемых продуктов и услуг в Банке. Внедрение и сопровождение единых стандартов работы. Организация работы с персоналом ВСП. '}, 'contacts': None, 'schedule': None, 'working_days': [], 'working_time_intervals': [], 'working_time_modes': [], 'accept_temporary': False, 'professional_roles': [{'id': '70', 'name': 'Менеджер по продажам, менеджер по работе с клиентами'}], 'accept_incomplete_resumes': False}, {'id': '77984879', 'premium': False, 'name': 'Devops engineer', 'department': {'id': '3529-3529-prof', 'name': 'Сбер для экспертов'}, 'has_test': False, 'response_letter_required': False, 'area': {'id': '2', 'name': 'Санкт-Петербург', 'url': 'https://api.hh.ru/areas/2'}, 'salary': None, 'type': {'id': 'open', 'name': 'Открытая'}, 'address': None, 'response_url': None, 'sort_point_distance': None, 'published_at': '2023-03-13T15:06:48+0300', 'created_at': '2023-03-13T15:06:48+0300', 'archived': False, 'apply_alternate_url': 'https://hh.ru/applicant/vacancy_response?vacancyId=77984879', 'insider_interview': None, 'url': 'https://api.hh.ru/vacancies/77984879?host=hh.ru', 'adv_response_url': None, 'alternate_url': 'https://hh.ru/vacancy/77984879', 'relations': [], 'employer': {'id': '3529', 'name': 'СБЕР', 'url': 'https://api.hh.ru/employers/3529', 'alternate_url': 'https://hh.ru/employer/3529', 'logo_urls': {'240': 'https://hhcdn.ru/employer-logo/5756157.png', '90': 'https://hhcdn.ru/employer-logo/5756156.png', 'original': 'https://hhcdn.ru/employer-logo-original/1033849.png'}, 'vacancies_url': 'https://api.hh.ru/vacancies?employer_id=3529', 'trusted': True}, 'snippet': {'requirement': 'Способность приступить к основным обязанностям без подробного наставничества (уверенный мидл). Уверенное знания k8s/openshift - опыт работы с кубером...', 'responsibility': 'Ведем поиск девопса на проект КФЮЛ - кредитная фабрика юр лиц, направление онлайн кредитование - сервис для выдачи онлайн кредитов нашим клиентам...'}, 'contacts': None, 'schedule': None, 'working_days': [], 'working_time_intervals': [], 'working_time_modes': [], 'accept_temporary': False, 'professional_roles': [{'id': '121', 'name': 'Специалист технической поддержки'}], 'accept_incomplete_resumes': False}, {'id': '78280967', 'premium': False, 'name': 'Системный аналитик (Брокерский Бизнес)', 'department': {'id': '3529-3529-prof', 'name': 'Сбер для экспертов'}, 'has_test': False, 'response_letter_required': False, 'area': {'id': '88', 'name': 'Казань', 'url': 'https://api.hh.ru/areas/88'}, 'salary': None, 'type': {'id': 'open', 'name': 'Открытая'}, 'address': None, 'response_url': None, 'sort_point_distance': None, 'published_at': '2023-03-20T14:01:15+0300', 'created_at': '2023-03-20T14:01:15+0300', 'archived': False, 'apply_alternate_url': 'https://hh.ru/applicant/vacancy_response?vacancyId=78280967', 'insider_interview': None, 'url': 'https://api.hh.ru/vacancies/78280967?host=hh.ru', 'adv_response_url': None, 'alternate_url': 'https://hh.ru/vacancy/78280967', 'relations': [], 'employer': {'id': '3529', 'name': 'СБЕР', 'url': 'https://api.hh.ru/employers/3529', 'alternate_url': 'https://hh.ru/employer/3529', 'logo_urls': {'240': 'https://hhcdn.ru/employer-logo/5756157.png', '90': 'https://hhcdn.ru/employer-logo/5756156.png', 'original': 'https://hhcdn.ru/employer-logo-original/1033849.png'}, 'vacancies_url': 'https://api.hh.ru/vacancies?employer_id=3529', 'trusted': True}, 'snippet': {'requirement': 'Понимание деятельности брокера на российском фондовом рынке. Опыт работы на позиции системного аналитика/технолога в ИТ-компании или финансовой организации...', 'responsibility': 'Выявлением требований и формированием бэклога. Анализом бизнес-требований, генерацией идей, проработкой технических решений, интеграционных взаимодействий. Участием в разработке архитектуры продуктов...'}, 'contacts': None, 'schedule': None, 'working_days': [], 'working_time_intervals': [], 'working_time_modes': [], 'accept_temporary': False, 'professional_roles': [{'id': '10', 'name': 'Аналитик'}], 'accept_incomplete_resumes': False}, {'id': '78454995', 'premium': False, 'name': 'Инженер по сопровождению / DevOps', 'department': {'id': '3529-3529-it', 'name': 'Сбер. IT'}, 'has_test': False, 'response_letter_required': False, 'area': {'id': '1', 'name': 'Москва', 'url': 'https://api.hh.ru/areas/1'}, 'salary': None, 'type': {'id': 'open', 'name': 'Открытая'}, 'address': {'city': 'Москва', 'street': 'Кутузовский проспект', 'building': '32к1', 'lat': 55.741338, 'lng': 37.531127, 'description': None, 'raw': 'Москва, Кутузовский проспект, 32к1', 'metro': {'station_name': 'Кутузовская', 'line_name': 'Филевская', 'station_id': '4.73', 'line_id': '4', 'lat': 55.740544, 'lng': 37.5341}, 'metro_stations': [{'station_name': 'Кутузовская', 'line_name': 'Филевская', 'station_id': '4.73', 'line_id': '4', 'lat': 55.740544, 'lng': 37.5341}, {'station_name': 'Кутузовская', 'line_name': 'МЦК', 'station_id': '95.536', 'line_id': '95', 'lat': 55.740833, 'lng': 37.533333}], 'id': '731097'}, 'response_url': None, 'sort_point_distance': None, 'published_at': '2023-03-23T13:51:55+0300', 'created_at': '2023-03-23T13:51:55+0300', 'archived': False, 'apply_alternate_url': 'https://hh.ru/applicant/vacancy_response?vacancyId=78454995', 'insider_interview': None, 'url': 'https://api.hh.ru/vacancies/78454995?host=hh.ru', 'adv_response_url': None, 'alternate_url': 'https://hh.ru/vacancy/78454995', 'relations': [], 'employer': {'id': '3529', 'name': 'СБЕР', 'url': 'https://api.hh.ru/employers/3529', 'alternate_url': 'https://hh.ru/employer/3529', 'logo_urls': {'240': 'https://hhcdn.ru/employer-logo/5756157.png', '90': 'https://hhcdn.ru/employer-logo/5756156.png', 'original': 'https://hhcdn.ru/employer-logo-original/1033849.png'}, 'vacancies_url': 'https://api.hh.ru/vacancies?employer_id=3529', 'trusted': True}, 'snippet': {'requirement': 'Большим плюсом будет опыт работы с OpenShift (или желанием его изучать). Хороших навыков коммуникации - приходится общаться с большим количеством коллег. ', 'responsibility': 'Отвечать на вопросы бизнес пользователей системы. Устанавливать обновления в промышленную и предпромышленную среды. Проводить приёмо-сдаточные испытания. Организовывать работу администраторов...'}, 'contacts': None, 'schedule': None, 'working_days': [], 'working_time_intervals': [], 'working_time_modes': [], 'accept_temporary': False, 'professional_roles': [{'id': '114', 'name': 'Системный инженер'}], 'accept_incomplete_resumes': False}, {'id': '73135563', 'premium': False, 'name': 'Клиентский менеджер прямых продаж', 'department': {'id': '3529-3529-stat', 'name': 'Сбер. Начало карьеры'}, 'has_test': False, 'response_letter_required': False, 'area': {'id': '2014', 'name': 'Сосновый Бор (Ленинградская область)', 'url': 'https://api.hh.ru/areas/2014'}, 'salary': {'from': 64800, 'to': None, 'currency': 'RUR', 'gross': True}, 'type': {'id': 'open', 'name': 'Открытая'}, 'address': {'city': 'Сосновый Бор', 'street': None, 'building': None, 'lat': 59.904224, 'lng': 29.092209, 'description': None, 'raw': 'Сосновый Бор', 'metro': None, 'metro_stations': [], 'id': '11629168'}, 'response_url': None, 'sort_point_distance': None, 'published_at': '2023-03-08T15:20:13+0300', 'created_at': '2023-03-08T15:20:13+0300', 'archived': False, 'apply_alternate_url': 'https://hh.ru/applicant/vacancy_response?vacancyId=73135563', 'insider_interview': None, 'url': 'https://api.hh.ru/vacancies/73135563?host=hh.ru', 'adv_response_url': None, 'alternate_url': 'https://hh.ru/vacancy/73135563', 'relations': [], 'employer': {'id': '3529', 'name': 'СБЕР', 'url': 'https://api.hh.ru/employers/3529', 'alternate_url': 'https://hh.ru/employer/3529', 'logo_urls': {'240': 'https://hhcdn.ru/employer-logo/5756157.png', '90': 'https://hhcdn.ru/employer-logo/5756156.png', 'original': 'https://hhcdn.ru/employer-logo-original/1033849.png'}, 'vacancies_url': 'https://api.hh.ru/vacancies?employer_id=3529', 'trusted': True}, 'snippet': {'requirement': 'Специалист со средним профессиональным, неполным высшим или высшим образованием. Хочешь развивать навыки переговоров. Готов к высокому темпу работы.', 'responsibility': 'У каждого нашего клиента есть возможность получить квалифицированную консультацию и оформить продукт или сервис Сбера в удобном месте с помощью...'}, 'contacts': None, 'schedule': None, 'working_days': [], 'working_time_intervals': [], 'working_time_modes': [], 'accept_temporary': False, 'professional_roles': [{'id': '105', 'name': 'Руководитель отдела клиентского обслуживания'}], 'accept_incomplete_resumes': True}, {'id': '74149874', 'premium': False, 'name': 'Старший клиентский менеджер', 'department': {'id': '3529-3529-clients', 'name': 'Сбер. Работа с клиентами'}, 'has_test': False, 'response_letter_required': False, 'area': {'id': '1098', 'name': 'Остров', 'url': 'https://api.hh.ru/areas/1098'}, 'salary': {'from': 34600, 'to': None, 'currency': 'RUR', 'gross': True}, 'type': {'id': 'open', 'name': 'Открытая'}, 'address': {'city': 'Остров', 'street': None, 'building': None, 'lat': 57.345188, 'lng': 28.343806, 'description': None, 'raw': 'Остров', 'metro': None, 'metro_stations': [], 'id': '12404304'}, 'response_url': None, 'sort_point_distance': None, 'published_at': '2023-03-15T11:34:50+0300', 'created_at': '2023-03-15T11:34:50+0300', 'archived': False, 'apply_alternate_url': 'https://hh.ru/applicant/vacancy_response?vacancyId=74149874', 'insider_interview': None, 'url': 'https://api.hh.ru/vacancies/74149874?host=hh.ru', 'adv_response_url': None, 'alternate_url': 'https://hh.ru/vacancy/74149874', 'relations': [], 'employer': {'id': '3529', 'name': 'СБЕР', 'url': 'https://api.hh.ru/employers/3529', 'alternate_url': 'https://hh.ru/employer/3529', 'logo_urls': {'240': 'https://hhcdn.ru/employer-logo/5756157.png', '90': 'https://hhcdn.ru/employer-logo/5756156.png', 'original': 'https://hhcdn.ru/employer-logo-original/1033849.png'}, 'vacancies_url': 'https://api.hh.ru/vacancies?employer_id=3529', 'trusted': True}, 'snippet': {'requirement': 'Специалист со средним профессиональным, неполным высшим или высшим образованием. Имеешь опыт работы в сфере продаж, обслуживания и консультирования клиентов от...', 'responsibility': 'Доброжелателен и готов помогать клиентам. Предлагать продукты и услуги Сбера. Консультировать клиентов по возникающим вопросам. Помогать клиентам оформлять услуги и...'}, 'contacts': None, 'schedule': None, 'working_days': [], 'working_time_intervals': [], 'working_time_modes': [], 'accept_temporary': False, 'professional_roles': [{'id': '105', 'name': 'Руководитель отдела клиентского обслуживания'}], 'accept_incomplete_resumes': True}, {'id': '75849072', 'premium': False, 'name': 'Клиентский менеджер по работе со средним и крупным бизнесом', 'department': {'id': '3529-3529-lead', 'name': 'Сбер. Экспертам и руководителям'}, 'has_test': False, 'response_letter_required': False, 'area': {'id': '212', 'name': 'Тольятти', 'url': 'https://api.hh.ru/areas/212'}, 'salary': {'from': 82500, 'to': None, 'currency': 'RUR', 'gross': True}, 'type': {'id': 'open', 'name': 'Открытая'}, 'address': {'city': 'Тольятти', 'street': 'Юбилейная улица', 'building': '55', 'lat': 53.509014, 'lng': 49.2781, 'description': None, 'raw': 'Тольятти, Юбилейная улица, 55', 'metro': None, 'metro_stations': [], 'id': '469840'}, 'response_url': None, 'sort_point_distance': None, 'published_at': '2023-03-10T15:33:50+0300', 'created_at': '2023-03-10T15:33:50+0300', 'archived': False, 'apply_alternate_url': 'https://hh.ru/applicant/vacancy_response?vacancyId=75849072', 'insider_interview': None, 'url': 'https://api.hh.ru/vacancies/75849072?host=hh.ru', 'adv_response_url': None, 'alternate_url': 'https://hh.ru/vacancy/75849072', 'relations': [], 'employer': {'id': '3529', 'name': 'СБЕР', 'url': 'https://api.hh.ru/employers/3529', 'alternate_url': 'https://hh.ru/employer/3529', 'logo_urls': {'240': 'https://hhcdn.ru/employer-logo/5756157.png', '90': 'https://hhcdn.ru/employer-logo/5756156.png', 'original': 'https://hhcdn.ru/employer-logo-original/1033849.png'}, 'vacancies_url': 'https://api.hh.ru/vacancies?employer_id=3529', 'trusted': True}, 'snippet': {'requirement': 'Высшее образование - экономическое/юридическое/финансовое. Опыт успешных продаж банковских продуктов от 1 года. Высокие коммуникативные навыки. Знание корпоративных банковских продуктов. ', 'responsibility': 'Выстраивать коммуникации и обеспечивать развитие отношений с закрепленными клиентами, привлекая их на обслуживание в Банк. Выявлять потенциал развития бизнеса с...'}, 'contacts': None, 'schedule': None, 'working_days': [], 'working_time_intervals': [], 'working_time_modes': [], 'accept_temporary': False, 'professional_roles': [{'id': '71', 'name': 'Менеджер по работе с партнерами'}], 'accept_incomplete_resumes': False}, {'id': '77297316', 'premium': False, 'name': 'Менеджер по работе с клиентами (Сатламышево)', 'department': {'id': '3529-3529-prof', 'name': 'Сбер для экспертов'}, 'has_test': False, 'response_letter_required': False, 'area': {'id': '2727', 'name': 'Апастово', 'url': 'https://api.hh.ru/areas/2727'}, 'salary': {'from': 6800, 'to': None, 'currency': 'RUR', 'gross': True}, 'type': {'id': 'open', 'name': 'Открытая'}, 'address': {'city': 'Сатламышево', 'street': None, 'building': None, 'lat': 55.377823, 'lng': 48.462978, 'description': None, 'raw': 'Сатламышево', 'metro': None, 'metro_stations': [], 'id': '12183781'}, 'response_url': None, 'sort_point_distance': None, 'published_at': '2023-03-23T18:00:29+0300', 'created_at': '2023-03-23T18:00:29+0300', 'archived': False, 'apply_alternate_url': 'https://hh.ru/applicant/vacancy_response?vacancyId=77297316', 'insider_interview': None, 'url': 'https://api.hh.ru/vacancies/77297316?host=hh.ru', 'adv_response_url': None, 'alternate_url': 'https://hh.ru/vacancy/77297316', 'relations': [], 'employer': {'id': '3529', 'name': 'СБЕР', 'url': 'https://api.hh.ru/employers/3529', 'alternate_url': 'https://hh.ru/employer/3529', 'logo_urls': {'240': 'https://hhcdn.ru/employer-logo/5756157.png', '90': 'https://hhcdn.ru/employer-logo/5756156.png', 'original': 'https://hhcdn.ru/employer-logo-original/1033849.png'}, 'vacancies_url': 'https://api.hh.ru/vacancies?employer_id=3529', 'trusted': True}, 'snippet': {'requirement': 'Специалист со средним профессиональным, неполным высшим или высшим образованием. Готов к работе, предполагающей ежедневное проведение однотипных операций.', 'responsibility': 'Осуществлять операции по обслуживанию клиентов. Проводить кассовые операции: прием, выдача, обмен денег. Предлагать продукты и сервисы Сбера. Консультировать клиентов по...'}, 'contacts': None, 'schedule': None, 'working_days': [], 'working_time_intervals': [], 'working_time_modes': [], 'accept_temporary': False, 'professional_roles': [{'id': '70', 'name': 'Менеджер по продажам, менеджер по работе с клиентами'}], 'accept_incomplete_resumes': True}, {'id': '77772771', 'premium': False, 'name': 'Менеджер по сделкам с недвижимостью', 'department': {'id': '3529-3529-prof', 'name': 'Сбер для экспертов'}, 'has_test': False, 'response_letter_required': False, 'area': {'id': '88', 'name': 'Казань', 'url': 'https://api.hh.ru/areas/88'}, 'salary': {'from': 49000, 'to': None, 'currency': 'RUR', 'gross': True}, 'type': {'id': 'open', 'name': 'Открытая'}, 'address': None, 'response_url': None, 'sort_point_distance': None, 'published_at': '2023-03-23T11:44:04+0300', 'created_at': '2023-03-23T11:44:04+0300', 'archived': False, 'apply_alternate_url': 'https://hh.ru/applicant/vacancy_response?vacancyId=77772771', 'insider_interview': None, 'url': 'https://api.hh.ru/vacancies/77772771?host=hh.ru', 'adv_response_url': None, 'alternate_url': 'https://hh.ru/vacancy/77772771', 'relations': [], 'employer': {'id': '3529', 'name': 'СБЕР', 'url': 'https://api.hh.ru/employers/3529', 'alternate_url': 'https://hh.ru/employer/3529', 'logo_urls': {'240': 'https://hhcdn.ru/employer-logo/5756157.png', '90': 'https://hhcdn.ru/employer-logo/5756156.png', 'original': 'https://hhcdn.ru/employer-logo-original/1033849.png'}, 'vacancies_url': 'https://api.hh.ru/vacancies?employer_id=3529', 'trusted': True}, 'snippet': {'requirement': 'Специалист с высшим или неоконченном высшим образованием. Хочешь получить опыт работы в недвижимости, ипотечном кредитовании и построить карьеру в банковской...', 'responsibility': 'Дистанционно консультировать клиентов по ипотечным и жилищным программам, неипотечным сделкам, необходимому пакету документов для проведения сделки. Структурировать ипотечные сделки. '}, 'contacts': None, 'schedule': None, 'working_days': [], 'working_time_intervals': [], 'working_time_modes': [], 'accept_temporary': False, 'professional_roles': [{'id': '8', 'name': 'Администратор'}], 'accept_incomplete_resumes': False}, {'id': '77964607', 'premium': False, 'name': 'SRE-инженер', 'department': {'id': '3529-3529-prof', 'name': 'Сбер для экспертов'}, 'has_test': False, 'response_letter_required': False, 'area': {'id': '1', 'name': 'Москва', 'url': 'https://api.hh.ru/areas/1'}, 'salary': None, 'type': {'id': 'open', 'name': 'Открытая'}, 'address': None, 'response_url': None, 'sort_point_distance': None, 'published_at': '2023-03-13T11:45:17+0300', 'created_at': '2023-03-13T11:45:17+0300', 'archived': False, 'apply_alternate_url': 'https://hh.ru/applicant/vacancy_response?vacancyId=77964607', 'insider_interview': None, 'url': 'https://api.hh.ru/vacancies/77964607?host=hh.ru', 'adv_response_url': None, 'alternate_url': 'https://hh.ru/vacancy/77964607', 'relations': [], 'employer': {'id': '3529', 'name': 'СБЕР', 'url': 'https://api.hh.ru/employers/3529', 'alternate_url': 'https://hh.ru/employer/3529', 'logo_urls': {'240': 'https://hhcdn.ru/employer-logo/5756157.png', '90': 'https://hhcdn.ru/employer-logo/5756156.png', 'original': 'https://hhcdn.ru/employer-logo-original/1033849.png'}, 'vacancies_url': 'https://api.hh.ru/vacancies?employer_id=3529', 'trusted': True}, 'snippet': {'requirement': 'Высшее (Информационные технологии). Высшее (Математика). Опыт администрирования серверных ОС Linux от 3-х лет. Опыт администрирования БД от 2-х...', 'responsibility': 'Обеспечение бесперебойности и безопасности инфраструктуры: Dev, Stage, Production. Разработка и сопровождение CD. Разработка скриптов автоматизации рутинных задач администратора. '}, 'contacts': None, 'schedule': None, 'working_days': [], 'working_time_intervals': [], 'working_time_modes': [], 'accept_temporary': False, 'professional_roles': [{'id': '121', 'name': 'Специалист технической поддержки'}], 'accept_incomplete_resumes': False}, {'id': '75625210', 'premium': False, 'name': 'Старший менеджер по обслуживанию (п.Рязанцево)', 'department': {'id': '3529-3529-prof', 'name': 'Сбер для экспертов'}, 'has_test': False, 'response_letter_required': False, 'area': {'id': '6793', 'name': 'Берендеево', 'url': 'https://api.hh.ru/areas/6793'}, 'salary': {'from': 26000, 'to': None, 'currency': 'RUR', 'gross': True}, 'type': {'id': 'open', 'name': 'Открытая'}, 'address': {'city': 'Рязанцево', 'street': None, 'building': None, 'lat': 56.711691, 'lng': 39.209675, 'description': None, 'raw': 'Рязанцево', 'metro': None, 'metro_stations': [], 'id': '12483537'}, 'response_url': None, 'sort_point_distance': None, 'published_at': '2023-03-11T14:55:34+0300', 'created_at': '2023-03-11T14:55:34+0300', 'archived': False, 'apply_alternate_url': 'https://hh.ru/applicant/vacancy_response?vacancyId=75625210', 'insider_interview': None, 'url': 'https://api.hh.ru/vacancies/75625210?host=hh.ru', 'adv_response_url': None, 'alternate_url': 'https://hh.ru/vacancy/75625210', 'relations': [], 'employer': {'id': '3529', 'name': 'СБЕР', 'url': 'https://api.hh.ru/employers/3529', 'alternate_url': 'https://hh.ru/employer/3529', 'logo_urls': {'240': 'https://hhcdn.ru/employer-logo/5756157.png', '90': 'https://hhcdn.ru/employer-logo/5756156.png', 'original': 'https://hhcdn.ru/employer-logo-original/1033849.png'}, 'vacancies_url': 'https://api.hh.ru/vacancies?employer_id=3529', 'trusted': True}, 'snippet': {'requirement': 'Специалист со средним профессиональным, неполным высшим или высшим образованием. Хочешь работать в надежной компании. Имеешь опыт работы в сфере продаж...', 'responsibility': 'Проводить кассовые операции: прием, выдача, обмен денег. Предлагать продукты и сервисы Сбера. Консультировать клиентов по возникающим вопросам.'}, 'contacts': None, 'schedule': None, 'working_days': [], 'working_time_intervals': [], 'working_time_modes': [], 'accept_temporary': False, 'professional_roles': [{'id': '70', 'name': 'Менеджер по продажам, менеджер по работе с клиентами'}], 'accept_incomplete_resumes': True}, {'id': '75638125', 'premium': False, 'name': 'Старший специалист по взысканию задолженности', 'department': {'id': '3529-3529-stat', 'name': 'Сбер. Начало карьеры'}, 'has_test': False, 'response_letter_required': False, 'area': {'id': '66', 'name': 'Нижний Новгород', 'url': 'https://api.hh.ru/areas/66'}, 'salary': {'from': 65400, 'to': None, 'currency': 'RUR', 'gross': True}, 'type': {'id': 'open', 'name': 'Открытая'}, 'address': None, 'response_url': None, 'sort_point_distance': None, 'published_at': '2023-02-27T13:24:03+0300', 'created_at': '2023-02-27T13:24:03+0300', 'archived': False, 'apply_alternate_url': 'https://hh.ru/applicant/vacancy_response?vacancyId=75638125', 'insider_interview': None, 'url': 'https://api.hh.ru/vacancies/75638125?host=hh.ru', 'adv_response_url': None, 'alternate_url': 'https://hh.ru/vacancy/75638125', 'relations': [], 'employer': {'id': '3529', 'name': 'СБЕР', 'url': 'https://api.hh.ru/employers/3529', 'alternate_url': 'https://hh.ru/employer/3529', 'logo_urls': {'240': 'https://hhcdn.ru/employer-logo/5756157.png', '90': 'https://hhcdn.ru/employer-logo/5756156.png', 'original': 'https://hhcdn.ru/employer-logo-original/1033849.png'}, 'vacancies_url': 'https://api.hh.ru/vacancies?employer_id=3529', 'trusted': True}, 'snippet': {'requirement': 'Специалист со средним специальным, неоконченным высшим или высшим образованием. Готов к разъездной работе. Настойчив и умеешь справляться со стрессовыми ситуациями.', 'responsibility': 'Помогать клиентам, попавшим в тяжелую жизненную ситуацию. Выезжать на встречи к клиентам по месту жительства или работы. Вести переговоры с...'}, 'contacts': None, 'schedule': None, 'working_days': [], 'working_time_intervals': [], 'working_time_modes': [], 'accept_temporary': False, 'professional_roles': [{'id': '120', 'name': 'Специалист службы безопасности'}], 'accept_incomplete_resumes': False}, {'id': '75748264', 'premium': False, 'name': 'Старший менеджер по обслуживанию', 'department': {'id': '3529-3529-prof', 'name': 'Сбер для экспертов'}, 'has_test': False, 'response_letter_required': False, 'area': {'id': '4408', 'name': 'Красные Баки', 'url': 'https://api.hh.ru/areas/4408'}, 'salary': {'from': 27000, 'to': None, 'currency': 'RUR', 'gross': True}, 'type': {'id': 'open', 'name': 'Открытая'}, 'address': {'city': 'Красные Баки', 'street': None, 'building': None, 'lat': 57.128527, 'lng': 45.155884, 'description': None, 'raw': 'Красные Баки', 'metro': None, 'metro_stations': [], 'id': '11206966'}, 'response_url': None, 'sort_point_distance': None, 'published_at': '2023-03-13T18:22:38+0300', 'created_at': '2023-03-13T18:22:38+0300', 'archived': False, 'apply_alternate_url': 'https://hh.ru/applicant/vacancy_response?vacancyId=75748264', 'insider_interview': None, 'url': 'https://api.hh.ru/vacancies/75748264?host=hh.ru', 'adv_response_url': None, 'alternate_url': 'https://hh.ru/vacancy/75748264', 'relations': [], 'employer': {'id': '3529', 'name': 'СБЕР', 'url': 'https://api.hh.ru/employers/3529', 'alternate_url': 'https://hh.ru/employer/3529', 'logo_urls': {'240': 'https://hhcdn.ru/employer-logo/5756157.png', '90': 'https://hhcdn.ru/employer-logo/5756156.png', 'original': 'https://hhcdn.ru/employer-logo-original/1033849.png'}, 'vacancies_url': 'https://api.hh.ru/vacancies?employer_id=3529', 'trusted': True}, 'snippet': {'requirement': 'Специалист со средним профессиональным, неполным высшим или высшим образованием. Владеешь программами Microsoft Office, Outlook. Готов к работе, предполагающей ежедневное проведение...', 'responsibility': 'Доброжелателен и готов помогать клиентам. Осуществлять операции по обслуживанию клиентов. Проводить кассовые операции: прием, выдача, обмен денег. Предлагать продукты и...'}, 'contacts': None, 'schedule': None, 'working_days': [], 'working_time_intervals': [], 'working_time_modes': [], 'accept_temporary': False, 'professional_roles': [{'id': '57', 'name': 'Кредитный специалист'}], 'accept_incomplete_resumes': True}, {'id': '76223630', 'premium': False, 'name': 'Старший менеджер по обслуживанию', 'department': {'id': '3529-3529-prof', 'name': 'Сбер для экспертов'}, 'has_test': False, 'response_letter_required': False, 'area': {'id': '4402', 'name': 'Дальнее Константиново', 'url': 'https://api.hh.ru/areas/4402'}, 'salary': {'from': 30900, 'to': None, 'currency': 'RUR', 'gross': True}, 'type': {'id': 'open', 'name': 'Открытая'}, 'address': {'city': 'Дальнее Константиново', 'street': None, 'building': None, 'lat': 55.808857, 'lng': 44.089431, 'description': None, 'raw': 'Дальнее Константиново', 'metro': None, 'metro_stations': [], 'id': '11187340'}, 'response_url': None, 'sort_point_distance': None, 'published_at': '2023-02-24T13:12:13+0300', 'created_at': '2023-02-24T13:12:13+0300', 'archived': False, 'apply_alternate_url': 'https://hh.ru/applicant/vacancy_response?vacancyId=76223630', 'insider_interview': None, 'url': 'https://api.hh.ru/vacancies/76223630?host=hh.ru', 'adv_response_url': None, 'alternate_url': 'https://hh.ru/vacancy/76223630', 'relations': [], 'employer': {'id': '3529', 'name': 'СБЕР', 'url': 'https://api.hh.ru/employers/3529', 'alternate_url': 'https://hh.ru/employer/3529', 'logo_urls': {'240': 'https://hhcdn.ru/employer-logo/5756157.png', '90': 'https://hhcdn.ru/employer-logo/5756156.png', 'original': 'https://hhcdn.ru/employer-logo-original/1033849.png'}, 'vacancies_url': 'https://api.hh.ru/vacancies?employer_id=3529', 'trusted': True}, 'snippet': {'requirement': 'Специалист со средним профессиональным, неполным высшим или высшим образованием. Владеешь программами Microsoft Office, Outlook. Готов к работе, предполагающей ежедневное проведение...', 'responsibility': 'Доброжелателен и готов помогать клиентам. Осуществлять операции по обслуживанию клиентов. Проводить кассовые операции: прием, выдача, обмен денег. Предлагать продукты и...'}, 'contacts': None, 'schedule': None, 'working_days': [], 'working_time_intervals': [], 'working_time_modes': [], 'accept_temporary': False, 'professional_roles': [{'id': '57', 'name': 'Кредитный специалист'}], 'accept_incomplete_resumes': True}, {'id': '76328964', 'premium': False, 'name': 'Старший клиентский менеджер', 'department': {'id': '3529-3529-clients', 'name': 'Сбер. Работа с клиентами'}, 'has_test': False, 'response_letter_required': False, 'area': {'id': '3679', 'name': 'Урмары', 'url': 'https://api.hh.ru/areas/3679'}, 'salary': {'from': 34600, 'to': None, 'currency': 'RUR', 'gross': True}, 'type': {'id': 'open', 'name': 'Открытая'}, 'address': {'city': 'Урмары', 'street': None, 'building': None, 'lat': 55.682519, 'lng': 47.943698, 'description': None, 'raw': 'Урмары', 'metro': None, 'metro_stations': [], 'id': '12624199'}, 'response_url': None, 'sort_point_distance': None, 'published_at': '2023-02-26T12:32:46+0300', 'created_at': '2023-02-26T12:32:46+0300', 'archived': False, 'apply_alternate_url': 'https://hh.ru/applicant/vacancy_response?vacancyId=76328964', 'insider_interview': None, 'url': 'https://api.hh.ru/vacancies/76328964?host=hh.ru', 'adv_response_url': None, 'alternate_url': 'https://hh.ru/vacancy/76328964', 'relations': [], 'employer': {'id': '3529', 'name': 'СБЕР', 'url': 'https://api.hh.ru/employers/3529', 'alternate_url': 'https://hh.ru/employer/3529', 'logo_urls': {'240': 'https://hhcdn.ru/employer-logo/5756157.png', '90': 'https://hhcdn.ru/employer-logo/5756156.png', 'original': 'https://hhcdn.ru/employer-logo-original/1033849.png'}, 'vacancies_url': 'https://api.hh.ru/vacancies?employer_id=3529', 'trusted': True}, 'snippet': {'requirement': 'Специалист со средним профессиональным, неполным высшим или высшим образованием. Имеешь опыт работы в сфере продаж, обслуживания и консультирования клиентов от...', 'responsibility': 'Доброжелателен и готов помогать клиентам. Предлагать продукты и услуги Сбера. Консультировать клиентов по возникающим вопросам. Помогать клиентам оформлять услуги и...'}, 'contacts': None, 'schedule': None, 'working_days': [], 'working_time_intervals': [], 'working_time_modes': [], 'accept_temporary': False, 'professional_roles': [{'id': '105', 'name': 'Руководитель отдела клиентского обслуживания'}], 'accept_incomplete_resumes': True}, {'id': '78087515', 'premium': False, 'name': 'UX-исследователь', 'department': {'id': '3529-3529-prof', 'name': 'Сбер для экспертов'}, 'has_test': False, 'response_letter_required': False, 'area': {'id': '1', 'name': 'Москва', 'url': 'https://api.hh.ru/areas/1'}, 'salary': None, 'type': {'id': 'open', 'name': 'Открытая'}, 'address': None, 'response_url': None, 'sort_point_distance': None, 'published_at': '2023-03-15T13:25:16+0300', 'created_at': '2023-03-15T13:25:16+0300', 'archived': False, 'apply_alternate_url': 'https://hh.ru/applicant/vacancy_response?vacancyId=78087515', 'insider_interview': None, 'url': 'https://api.hh.ru/vacancies/78087515?host=hh.ru', 'adv_response_url': None, 'alternate_url': 'https://hh.ru/vacancy/78087515', 'relations': [], 'employer': {'id': '3529', 'name': 'СБЕР', 'url': 'https://api.hh.ru/employers/3529', 'alternate_url': 'https://hh.ru/employer/3529', 'logo_urls': {'240': 'https://hhcdn.ru/employer-logo/5756157.png', '90': 'https://hhcdn.ru/employer-logo/5756156.png', 'original': 'https://hhcdn.ru/employer-logo-original/1033849.png'}, 'vacancies_url': 'https://api.hh.ru/vacancies?employer_id=3529', 'trusted': True}, 'snippet': {'requirement': 'Опыт планирования и организации процесса исследований. Уверенное владение качественными и количественными методами исследований (WOZ, юзабилити-тестирования, опросы, глубинные интервью, тестирования...', 'responsibility': 'В Вашем распоряжении будут качественные и количественные инструменты исследований, накопленный и оцифрованный опыт взаимодействия наших клиентов с ботами. Обязанности. '}, 'contacts': None, 'schedule': None, 'working_days': [], 'working_time_intervals': [], 'working_time_modes': [], 'accept_temporary': False, 'professional_roles': [{'id': '40', 'name': 'Другое'}], 'accept_incomplete_resumes': False}, {'id': '78122066', 'premium': False, 'name': 'Старший инженер по эксплуатации инженерных систем', 'department': {'id': '3529-3529-prof', 'name': 'Сбер для экспертов'}, 'has_test': False, 'response_letter_required': False, 'area': {'id': '43', 'name': 'Калуга', 'url': 'https://api.hh.ru/areas/43'}, 'salary': None, 'type': {'id': 'open', 'name': 'Открытая'}, 'address': None, 'response_url': None, 'sort_point_distance': None, 'published_at': '2023-03-25T09:24:16+0300', 'created_at': '2023-03-25T09:24:16+0300', 'archived': False, 'apply_alternate_url': 'https://hh.ru/applicant/vacancy_response?vacancyId=78122066', 'insider_interview': None, 'url': 'https://api.hh.ru/vacancies/78122066?host=hh.ru', 'adv_response_url': None, 'alternate_url': 'https://hh.ru/vacancy/78122066', 'relations': [], 'employer': {'id': '3529', 'name': 'СБЕР', 'url': 'https://api.hh.ru/employers/3529', 'alternate_url': 'https://hh.ru/employer/3529', 'logo_urls': {'240': 'https://hhcdn.ru/employer-logo/5756157.png', '90': 'https://hhcdn.ru/employer-logo/5756156.png', 'original': 'https://hhcdn.ru/employer-logo-original/1033849.png'}, 'vacancies_url': 'https://api.hh.ru/vacancies?employer_id=3529', 'trusted': True}, 'snippet': {'requirement': 'Опыт работы в должности инженера по обслуживанию инженерных систем зданий от 3-х лет. Высшее техническое образование. Знание правил технической...', 'responsibility': 'Контроль рационального потребления энергоресурсов. Постоянное взаимодействие с ресурсоснабжающими организациями. Эффективное выстраивание работы с подрядчиками: постановка задач в рамках договорных отношений...'}, 'contacts': None, 'schedule': None, 'working_days': [], 'working_time_intervals': [], 'working_time_modes': [], 'accept_temporary': False, 'professional_roles': [{'id': '46', 'name': 'Инженер по эксплуатации'}], 'accept_incomplete_resumes': False}]\n"
     ]
    }
   ],
   "source": [
    "vacs = vacancies.get('items')\n",
    "print(vacs)"
   ]
  },
  {
   "cell_type": "code",
   "execution_count": 22,
   "metadata": {},
   "outputs": [
    {
     "data": {
      "application/vnd.jupyter.widget-view+json": {
       "model_id": "b341d5b7874f45d082699b10bf022635",
       "version_major": 2,
       "version_minor": 0
      },
      "text/plain": [
       "  0%|          | 0/20 [00:00<?, ?it/s]"
      ]
     },
     "metadata": {},
     "output_type": "display_data"
    }
   ],
   "source": [
    "all_vacancy_ids= []\n",
    "for i in tqdm(range(vacancies.get('pages'))):\n",
    "    url = f'https://api.hh.ru/vacancies?employer_id={sber}&page={i}&per_page={num_per_page}'\n",
    "    res = requests.get(url)\n",
    "    vacancies = res.json()\n",
    "    vacancy_ids = [el.get('id') for el in vacancies.get('items')]\n",
    "    all_vacancy_ids.extend(vacancy_ids)"
   ]
  },
  {
   "cell_type": "code",
   "execution_count": 23,
   "metadata": {},
   "outputs": [
    {
     "data": {
      "text/plain": [
       "2000"
      ]
     },
     "execution_count": 23,
     "metadata": {},
     "output_type": "execute_result"
    }
   ],
   "source": [
    "len(all_vacancy_ids)"
   ]
  },
  {
   "cell_type": "code",
   "execution_count": 33,
   "metadata": {},
   "outputs": [],
   "source": [
    "vac_id = 78405583\n",
    "url = f'https://api.hh.ru/vacancies/{vac_id}'\n",
    "res = requests.get(url)\n",
    "vacancy= res.json()"
   ]
  },
  {
   "cell_type": "code",
   "execution_count": 34,
   "metadata": {},
   "outputs": [
    {
     "data": {
      "text/plain": [
       "{'id': '78405583',\n",
       " 'premium': False,\n",
       " 'billing_type': {'id': 'standard', 'name': 'Стандарт'},\n",
       " 'relations': [],\n",
       " 'name': 'QA engineer Junior (нагрузочное тестирование)',\n",
       " 'insider_interview': None,\n",
       " 'response_letter_required': False,\n",
       " 'area': {'id': '2',\n",
       "  'name': 'Санкт-Петербург',\n",
       "  'url': 'https://api.hh.ru/areas/2'},\n",
       " 'salary': {'from': None, 'to': 47000, 'currency': 'RUR', 'gross': True},\n",
       " 'type': {'id': 'open', 'name': 'Открытая'},\n",
       " 'address': None,\n",
       " 'allow_messages': True,\n",
       " 'experience': {'id': 'noExperience', 'name': 'Нет опыта'},\n",
       " 'schedule': {'id': 'fullDay', 'name': 'Полный день'},\n",
       " 'employment': {'id': 'full', 'name': 'Полная занятость'},\n",
       " 'department': {'id': '3529-3529-it', 'name': 'Сбер. IT'},\n",
       " 'contacts': None,\n",
       " 'description': '<p><strong>Команда нагрузочного тестирования расширяется, и сейчас мы ищем начинающего инженера по нагрузочному тестированию.</strong></p> <p><strong>Мы быстрорастущая команда, которая тестирует «Сбербанк Онлайн», «Мессенджер», «ЕФС». У нас Вы научитесь выполнять нагрузочное тестирование распределенных высоконагруженных систем при помощи инструментов Performance Center и получите возможность познакомиться с платформой OpenShift Container Platform, Docker + Kubernetes и проектами на Spring Boot.</strong></p> <p><strong>Обязанности</strong></p> <p>· написание сценариев нагрузочного тестирования (НТ)</p> <p>· разработка и актуализация скриптов НТ</p> <p>· разработка эмуляторов/заглушек</p> <p>· проведение запусков НТ</p> <p>· анализ обнаруженных ошибок и подготовка отчетов по результатам НТ.</p> <p><strong>Требования</strong></p> <p>· знание любого языка программирования, наличие практики написания кода (любого) и готовность его показать</p> <p>· законченное (либо в ближайший 1-2 года будет закончено) высшее образование технической направленности (не гуманитарий). Специальность связанная с информатикой.</p> <p><strong>Условия</strong></p> <p>· команда профессионалов, готовых поддержать ваши инициативы</p> <p>· возможность работы с новыми технологиями</p> <p>· обучение за счёт компании</p> <p>· гибкий график (5/2, Сб и Вс - выходные дни), возможна дистанционная работа</p> <p>· красивый и комфортный офис в Санкт-Петербурге на п. Карла Фаберже д.8 (5 мин. от метро Ладожская)</p> <p>· ДМС (медицинское страхование)</p> <p>· прозрачная система бонусов и премий, достойная зарплата — размер обсудим на собеседовании.</p>',\n",
       " 'branded_description': '\\n<style>\\n.tmpl_hh_wrapper * {\\n  margin: 0;\\n  padding: 0;\\n  border: 0;\\n  -webkit-box-sizing: border-box;\\n          box-sizing: border-box;\\n}\\n\\n.hht-vacancydescription {\\n  padding: 0px;\\n}\\n\\n.tmpl_hh_wrapper .l-cell,\\n.tmpl_hh_wrapper .l-paddings {\\n  padding: 0px !important;\\n}\\n\\n.tmpl_hh_wrapper .b-vacancy-desc-wrapper {\\n  margin-top: 0px !important;\\n}\\n\\n.tmpl_hh_wrapper .b-vacancy-desc {\\n  overflow: visible !important;\\n  line-height: inherit;\\n}\\n\\n.tmpl_hh_content ol li p,\\n.tmpl_hh_content ul li p {\\n  font-weight: normal;\\n  margin: 0;\\n}\\n\\n.tmpl_hh_wrapper {\\n  width: 100%;\\n  position: relative;\\n  word-break: normal;\\n  overflow: hidden;\\n  font-family: \"Arial\", sans-serif;\\n  color: #FFFFFF;\\n  background-color: #080808;\\n}\\n\\nimg {\\n  vertical-align: middle;\\n}\\n\\nul {\\n  list-style-type: none !important;\\n  margin-left: 0 !important;\\n}\\n\\n.tmpl_hh_content p:first-child,\\n.tmpl_hh_content > strong:first-child,\\n.tmpl_hh_content div > strong:first-child {\\n  margin-top: 0 !important;\\n}\\n\\n.tmpl_hh_content {\\n  position: relative;\\n  padding: 1.875rem 1.875rem 2.8125rem;\\n  font-size: 0.875rem;\\n  line-height: 1.4285714286;\\ncolor:rgba(255,255,255,0.9);\\n}\\n\\n.tmpl_hh_content p > strong {\\n    font-weight:400;\\n    color: rgba(255,255,255,0.95);\\n  font-size: 1.375rem;\\n}\\n\\n.tmpl_hh_content p:not(:last-child) {\\n  margin-bottom: 1rem;\\n}\\n\\n.tmpl_hh_content ul:not(:last-child),\\n.tmpl_hh_content ol:not(:last-child) {\\n  margin-bottom: 2.8125rem;\\n}\\n\\n.tmpl_hh_content ul li,\\n.tmpl_hh_content ol li {\\n  position: relative;\\n  padding-left: 2.1875rem;\\n}\\n\\n.tmpl_hh_content ul li::before,\\n.tmpl_hh_content ol li::before {\\n  content: \"\";\\n  display: inline-block;\\n  background: url(https://hhcdn.ru/ichameleon/253841.svg) 0 0 no-repeat;\\n  width: 0.9375rem;\\n  height: 1.25rem;\\n  position: absolute;\\n  top: 0;\\n  left: 0.625rem;\\n}\\n\\n.tmpl_hh_content ul li:not(:last-child),\\n.tmpl_hh_content ol li:not(:last-child) {\\n  margin-bottom: 0.5rem;\\n}\\n\\n.tmpl_hh_content p,\\n.tmpl_hh_content ul,\\n.tmpl_hh_content ol {\\n  max-width: 31.25rem;\\n}\\n\\n.tmpl_hh_hero img {\\n  width: 100%;\\n  height: auto;\\n  -o-object-fit: cover;\\n     object-fit: cover;\\n}\\n\\n.tmpl_hh_stats:not(:last-child) {\\n  margin-bottom: 2.8125rem;\\n}\\n\\n.tmpl_hh_stats img {\\n  width: 100%;\\n  height: auto;\\n  -o-object-fit: cover;\\n     object-fit: cover;\\n}\\n\\n.tmpl_hh_decor {\\n  position: absolute;\\n}\\n\\n.tmpl_hh_decor1 {\\n  right: 0;\\n  top: 0;\\n}\\n\\n.tmpl_hh_decor2 {\\n  top: 50%;\\n  right: 0;\\n}\\n\\n.tmpl_hh_decor3 {\\n  bottom: 0;\\n  right: 0;\\n}\\n\\n.tmpl_hh_decor4 {\\n  top: 50%;\\n  left: 0;\\n}\\n\\n.tmpl_hh_decor5 {\\n  bottom: 0;\\n  left: 0;\\n}\\n\\n.tmpl_hh_footer {\\n  padding: 0 1.875rem 0.9375rem;\\n  position: relative;\\nz-index:2;\\n}\\n\\n.tmpl_hh_footer__title {\\n  background: -o-linear-gradient(206.81deg, #00D900 24.18%, #42E3B4 43%, #0FA8E0 79.62%, #333F48 99.08%);\\n  background: linear-gradient(243.19deg, #00D900 24.18%, #42E3B4 43%, #0FA8E0 79.62%, #333F48 99.08%);\\n  -webkit-background-clip: text;\\n  -webkit-text-fill-color: transparent;\\n  background-clip: text;\\n  text-fill-color: transparent;\\n  font-size: 1.875rem;\\n  display: inline-block;\\n    text-transform: uppercase;\\n}\\n\\n.tmpl_hh_footer__title:not(:last-child) {\\n  margin-bottom: 1.875rem;\\n}\\n\\n.tmpl_hh_footer__body {\\n  position: relative;\\n}\\n\\n.tmpl_hh_footer__item {\\n  padding: 0.625rem;\\n  width: 10.3125rem;\\n  height: 5rem;\\n  position: absolute;\\n  border: 1px solid;\\n  border-image-slice: 1;\\n  border-image-source: linear-gradient(232.3deg, #28DF6E -5.32%, rgba(30, 191, 159, 0) 14.35%, rgba(19, 158, 210, 0) 34.64%, rgba(19, 158, 210, 0.44) 73.94%);\\n  background: -o-linear-gradient(61.46deg, rgba(19, 17, 59, 0.33) 6.48%, rgba(22, 138, 61, 0.08) 74.44%, rgba(19, 17, 59, 0) 137.92%);\\n  background: linear-gradient(28.54deg, rgba(19, 17, 59, 0.33) 6.48%, rgba(22, 138, 61, 0.08) 74.44%, rgba(19, 17, 59, 0) 137.92%);\\n  -webkit-backdrop-filter: blur(2.71375px);\\n          backdrop-filter: blur(2.71375px);\\n  -webkit-transition: -webkit-transform 0.3s ease;\\n  transition: -webkit-transform 0.3s ease;\\n  -o-transition: transform 0.3s ease;\\n  transition: transform 0.3s ease;\\n  transition: transform 0.3s ease, -webkit-transform 0.3s ease;\\n}\\n\\n.tmpl_hh_footer__item:first-child {\\n  left: 0;\\n}\\n\\n.tmpl_hh_footer__item:nth-child(2) {\\n  left: 18%;\\n  -webkit-transform: translateY(56.25%);\\n      -ms-transform: translateY(56.25%);\\n          transform: translateY(56.25%);\\n  z-index: 2;\\n}\\n\\n.tmpl_hh_footer__item:nth-child(3) {\\n  left: 50%;\\n  -webkit-transform: translateX(-50%);\\n      -ms-transform: translateX(-50%);\\n          transform: translateX(-50%);\\n}\\n\\n.tmpl_hh_footer__item:nth-child(4) {\\n  right: 18%;\\n  -webkit-transform: translateY(56.25%);\\n      -ms-transform: translateY(56.25%);\\n          transform: translateY(56.25%);\\n  z-index: 2;\\n}\\n\\n.tmpl_hh_footer__item:last-child {\\n  right: 0;\\n}\\n\\n.tmpl_hh_footer__label:not(:last-child) {\\n  margin-bottom: 0.625rem;\\n}\\n\\n.tmpl_hh_footer__text {\\n  font-size: 0.75rem;\\n  line-height: 1.1666666667;\\n    color: rgba(255,255,255,0.9);\\n}\\n\\n.tmpl_hh_footer__company {\\n  text-align: center;\\n  margin-top: 13.125rem;\\n  font-size: 0.75rem;\\n  line-height: 1.3333333333;\\n  color: rgba(255, 255, 255, 0.75);\\n}\\n\\n@media (max-width: 63.6875em) {\\n.tmpl_hh_content p,\\n.tmpl_hh_content ul,\\n.tmpl_hh_content ol {\\n  max-width: 26.25rem;\\n}\\n  .tmpl_hh_footer__company {\\n    margin-top: 2.1875rem;\\n  }\\n  .tmpl_hh_footer__body {\\n    display: -ms-grid;\\n    display: grid;\\n    -ms-grid-columns: (1fr)[2];\\n    grid-template-columns: repeat(2, 1fr);\\n    gap: 0.625rem;\\n  }\\n\\n  .tmpl_hh_footer__item {\\n    position: relative;\\n    left: 0 !important;\\n    right: 0 !important;\\n    -webkit-transform: translate(0) !important;\\n        -ms-transform: translate(0) !important;\\n            transform: translate(0) !important;\\n    width: auto;\\n    height: 5.625rem;\\n  }\\n\\n  .tmpl_hh_footer__item:last-child {\\n    -ms-grid-column-span: 2;\\n    grid-column: span 2;\\n  }\\n}\\n\\n@media (min-width: 43.75em) and (any-hover: hover) {\\n  .tmpl_hh_footer__item:hover {\\n    z-index: 3;\\n    -webkit-transform: scale(1.05);\\n        -ms-transform: scale(1.05);\\n            transform: scale(1.05);\\n  }\\n}\\n\\n@media (min-width: 43.75em) {\\n  .tmpl_hh_footer__text-span1 {\\n    white-space: nowrap;\\n    display: inline-block;\\n  }\\n}\\n\\n@media (max-width: 43.6875em) {\\n.tmpl_hh_wrapper {\\n  width: 100%;\\n background: url(https://hhcdn.ru/ichameleon/254346.jpg) no-repeat 100% 0 / cover;\\n}\\n  .tmpl_hh_content p > strong {\\n    font-size: 1.25rem;\\n  }\\n\\n  .tmpl_hh_content ul:not(:last-child),\\n  .tmpl_hh_content ol:not(:last-child) {\\n    margin-bottom: 2.1875rem;\\n  }\\n\\n  .tmpl_hh_content {\\n    padding: 2.5rem 0.625rem;\\n    font-size: 0.875rem;\\n  }\\n\\n  .tmpl_hh_content p,\\n  .tmpl_hh_content ul,\\n  .tmpl_hh_content ol {\\n    max-width: none;\\n  }\\n\\n  .tmpl_hh_stats {\\n    padding: 0 0.9375rem;\\n    text-align: center;\\n  }\\n\\n  .tmpl_hh_stats:not(:last-child) {\\n    margin-bottom: 2.1875rem;\\n  }\\n\\n  .tmpl_hh_decor {\\n    display: none;\\n  }\\n\\n  .tmpl_hh_footer__title {\\n    font-size: 1.25rem;\\n  }\\n\\n  .tmpl_hh_footer__title:not(:last-child) {\\n    margin-bottom: 1.875rem;\\n  }\\n\\n  .tmpl_hh_footer__text-span2 {\\n    white-space: nowrap;\\n    display: inline-block;\\n  }\\n\\n  .tmpl_hh_footer {\\n    padding: 0 0.9375rem 0.9375rem;\\n  }\\n}\\n\\n@media (max-width: 21.875em) {\\n.tmpl_hh_wrapper {\\n background: url(https://hhcdn.ru/ichameleon/254346.jpg) no-repeat 100% 100% / cover;\\n}\\n}\\n\\n@media (any-hover: hover) {\\n  .tmpl_hh_footer__item:nth-child(2):hover {\\n    -webkit-transform: translateY(56.25%) scale(1.05);\\n        -ms-transform: translateY(56.25%) scale(1.05);\\n            transform: translateY(56.25%) scale(1.05);\\n  }\\n\\n  .tmpl_hh_footer__item:nth-child(3):hover {\\n    -webkit-transform: translateX(-50%) scale(1.05);\\n        -ms-transform: translateX(-50%) scale(1.05);\\n            transform: translateX(-50%) scale(1.05);\\n  }\\n\\n  .tmpl_hh_footer__item:nth-child(4):hover {\\n    -webkit-transform: translateY(56.25%) scale(1.05);\\n        -ms-transform: translateY(56.25%) scale(1.05);\\n            transform: translateY(56.25%) scale(1.05);\\n  }\\n}\\n</style>\\n \\t\\t<div class=\"tmpl_hh_wrapper\">\\n  \\t\\t\\t<div class=\"tmpl_hh_hero\">\\n  \\t\\t\\t\\t<picture>\\n  \\t\\t\\t\\t\\t<source srcset=\"https://hhcdn.ru/file/17344126.svg\" media=\"(max-width: 500px)\"></source>\\n  \\t\\t\\t\\t\\t<img src=\"https://hhcdn.ru/ichameleon/254347.png\" alt=\"\">\\n  \\t\\t\\t\\t</picture>\\n  \\t\\t\\t</div>\\n  \\t\\t\\t<div class=\"tmpl_hh_content\">\\n  \\t\\t\\t\\t<div class=\"tmpl_hh_stats\">\\n  \\t\\t\\t\\t\\t<picture>\\n  \\t\\t\\t\\t\\t\\t<source srcset=\"https://hhcdn.ru/ichameleon/253833.svg\" media=\"(max-width: 500px)\"></source>\\n  \\t\\t\\t\\t\\t\\t<img src=\"https://hhcdn.ru/ichameleon/254640.png\" alt=\"\">\\n  \\t\\t\\t\\t\\t</picture>\\n  \\t\\t\\t\\t</div>\\n  \\t\\t\\t\\t<p><strong>Команда нагрузочного тестирования расширяется, и сейчас мы ищем начинающего инженера по нагрузочному тестированию.</strong></p> <p><strong>Мы быстрорастущая команда, которая тестирует «Сбербанк Онлайн», «Мессенджер», «ЕФС». У нас Вы научитесь выполнять нагрузочное тестирование распределенных высоконагруженных систем при помощи инструментов Performance Center и получите возможность познакомиться с платформой OpenShift Container Platform, Docker + Kubernetes и проектами на Spring Boot.</strong></p> <p><strong>Обязанности</strong></p> <p>· написание сценариев нагрузочного тестирования (НТ)</p> <p>· разработка и актуализация скриптов НТ</p> <p>· разработка эмуляторов/заглушек</p> <p>· проведение запусков НТ</p> <p>· анализ обнаруженных ошибок и подготовка отчетов по результатам НТ.</p> <p><strong>Требования</strong></p> <p>· знание любого языка программирования, наличие практики написания кода (любого) и готовность его показать</p> <p>· законченное (либо в ближайший 1-2 года будет закончено) высшее образование технической направленности (не гуманитарий). Специальность связанная с информатикой.</p> <p><strong>Условия</strong></p> <p>· команда профессионалов, готовых поддержать ваши инициативы</p> <p>· возможность работы с новыми технологиями</p> <p>· обучение за счёт компании</p> <p>· гибкий график (5/2, Сб и Вс - выходные дни), возможна дистанционная работа</p> <p>· красивый и комфортный офис в Санкт-Петербурге на п. Карла Фаберже д.8 (5 мин. от метро Ладожская)</p> <p>· ДМС (медицинское страхование)</p> <p>· прозрачная система бонусов и премий, достойная зарплата — размер обсудим на собеседовании.</p><div class=\"tmpl_hh_decor tmpl_hh_decor1\">\\n  \\t\\t\\t\\t\\t<img src=\"https://hhcdn.ru/ichameleon/253822.svg\" alt=\"\">\\n  \\t\\t\\t\\t</div>\\n  \\t\\t\\t\\t<div class=\"tmpl_hh_decor tmpl_hh_decor2\">\\n  \\t\\t\\t\\t\\t<img src=\"https://hhcdn.ru/ichameleon/253821.svg\" alt=\"\">\\n  \\t\\t\\t\\t</div>\\n  \\t\\t\\t\\t<div class=\"tmpl_hh_decor tmpl_hh_decor3\">\\n  \\t\\t\\t\\t\\t<img src=\"https://hhcdn.ru/ichameleon/254106.png\" alt=\"\">\\n  \\t\\t\\t\\t</div>\\n  \\t\\t\\t\\t<div class=\"tmpl_hh_decor tmpl_hh_decor4\">\\n  \\t\\t\\t\\t\\t<img src=\"https://hhcdn.ru/ichameleon/253840.svg\" alt=\"\">\\n  \\t\\t\\t\\t</div>\\n  \\t\\t\\t</div>\\n  \\t\\t\\t<div class=\"tmpl_hh_footer\">\\n  \\t\\t\\t\\t<div class=\"tmpl_hh_footer__title\">\\n  \\t\\t\\t\\t\\tСбер для IT\\n  \\t\\t\\t\\t</div>\\n  \\t\\t\\t\\t<div class=\"tmpl_hh_footer__body\">\\n  \\t\\t\\t\\t\\t<div class=\"tmpl_hh_footer__item\">\\n  \\t\\t\\t\\t\\t\\t<div class=\"tmpl_hh_footer__label\">\\n  \\t\\t\\t\\t\\t\\t\\t<img src=\"https://hhcdn.ru/ichameleon/253828.svg\" alt=\"\">\\n  \\t\\t\\t\\t\\t\\t</div>\\n  \\t\\t\\t\\t\\t\\t<p class=\"tmpl_hh_footer__text\">\\n  \\t\\t\\t\\t\\t\\t\\tцифровых<br> людей\\n  \\t\\t\\t\\t\\t\\t</p>\\n  \\t\\t\\t\\t\\t</div>\\n  \\t\\t\\t\\t\\t<div class=\"tmpl_hh_footer__item\">\\n  \\t\\t\\t\\t\\t\\t<div class=\"tmpl_hh_footer__label\">\\n  \\t\\t\\t\\t\\t\\t\\t<img src=\"https://hhcdn.ru/ichameleon/253827.svg\" alt=\"\">\\n  \\t\\t\\t\\t\\t\\t</div>\\n  \\t\\t\\t\\t\\t\\t<p class=\"tmpl_hh_footer__text\">\\n  \\t\\t\\t\\t\\t\\t\\tвнедрений в год,<br><span class=\"tmpl_hh_footer__text-span tmpl_hh_footer__text-span1\">изменения каждые\\xa030\\xa0сек </span>\\n  \\t\\t\\t\\t\\t\\t</p>\\n  \\t\\t\\t\\t\\t</div>\\n  \\t\\t\\t\\t\\t<div class=\"tmpl_hh_footer__item\">\\n  \\t\\t\\t\\t\\t\\t<div class=\"tmpl_hh_footer__label\">\\n  \\t\\t\\t\\t\\t\\t\\t<img src=\"https://hhcdn.ru/ichameleon/253826.svg\" alt=\"\">\\n  \\t\\t\\t\\t\\t\\t</div>\\n  \\t\\t\\t\\t\\t\\t<p class=\"tmpl_hh_footer__text\">\\n  \\t\\t\\t\\t\\t\\t\\t<span class=\"tmpl_hh_footer__text-span tmpl_hh_footer__text-span1\">объем хранимых</span><br>данных\\n  \\t\\t\\t\\t\\t\\t</p>\\n  \\t\\t\\t\\t\\t</div>\\n  \\t\\t\\t\\t\\t<div class=\"tmpl_hh_footer__item\">\\n  \\t\\t\\t\\t\\t\\t<div class=\"tmpl_hh_footer__label\">\\n  \\t\\t\\t\\t\\t\\t\\t<img src=\"https://hhcdn.ru/ichameleon/253824.svg\" alt=\"\">\\n  \\t\\t\\t\\t\\t\\t</div>\\n  \\t\\t\\t\\t\\t\\t<p class=\"tmpl_hh_footer__text\">\\n  \\t\\t\\t\\t\\t\\t\\tтранзакций<br>в секунду\\n  \\t\\t\\t\\t\\t\\t</p>\\n  \\t\\t\\t\\t\\t</div>\\n  \\t\\t\\t\\t\\t<div class=\"tmpl_hh_footer__item\">\\n  \\t\\t\\t\\t\\t\\t<div class=\"tmpl_hh_footer__label\">\\n  \\t\\t\\t\\t\\t\\t\\t<img src=\"https://hhcdn.ru/ichameleon/253823.svg\" alt=\"\">\\n  \\t\\t\\t\\t\\t\\t</div>\\n  \\t\\t\\t\\t\\t\\t<p class=\"tmpl_hh_footer__text\">\\n  \\t\\t\\t\\t\\t\\t\\tдоступ<br>к суперкомпьютеру\\n  \\t\\t\\t\\t\\t\\t</p>\\n  \\t\\t\\t\\t\\t</div>\\n  \\t\\t\\t\\t</div>\\n  \\t\\t\\t\\t<div class=\"tmpl_hh_footer__company\">\\n  \\t\\t\\t\\t\\tПАО Сбербанк <br> представляет бренд Сбер\\n  \\t\\t\\t\\t</div>\\n  \\t\\t\\t</div>\\n \\t\\t\\t\\t<div class=\"tmpl_hh_decor tmpl_hh_decor5\">\\n  \\t\\t\\t\\t\\t<img src=\"https://hhcdn.ru/ichameleon/254303.svg\" alt=\"\">\\n  \\t\\t\\t\\t</div>\\n  \\t\\t</div>\\n',\n",
       " 'vacancy_constructor_template': None,\n",
       " 'key_skills': [{'name': 'Нагрузочное тестирование'}],\n",
       " 'accept_handicapped': False,\n",
       " 'accept_kids': False,\n",
       " 'archived': False,\n",
       " 'response_url': None,\n",
       " 'specializations': [],\n",
       " 'professional_roles': [{'id': '124', 'name': 'Тестировщик'}],\n",
       " 'code': None,\n",
       " 'hidden': False,\n",
       " 'quick_responses_allowed': False,\n",
       " 'driver_license_types': [],\n",
       " 'accept_incomplete_resumes': False,\n",
       " 'employer': {'id': '3529',\n",
       "  'name': 'СБЕР',\n",
       "  'url': 'https://api.hh.ru/employers/3529',\n",
       "  'alternate_url': 'https://hh.ru/employer/3529',\n",
       "  'logo_urls': {'240': 'https://hhcdn.ru/employer-logo/5756157.png',\n",
       "   '90': 'https://hhcdn.ru/employer-logo/5756156.png',\n",
       "   'original': 'https://hhcdn.ru/employer-logo-original/1033849.png'},\n",
       "  'vacancies_url': 'https://api.hh.ru/vacancies?employer_id=3529',\n",
       "  'trusted': True},\n",
       " 'published_at': '2023-03-22T13:26:03+0300',\n",
       " 'created_at': '2023-03-22T13:26:03+0300',\n",
       " 'initial_created_at': '2023-03-22T13:26:03+0300',\n",
       " 'negotiations_url': None,\n",
       " 'suitable_resumes_url': None,\n",
       " 'apply_alternate_url': 'https://hh.ru/applicant/vacancy_response?vacancyId=78405583',\n",
       " 'has_test': True,\n",
       " 'test': {'required': True},\n",
       " 'alternate_url': 'https://hh.ru/vacancy/78405583',\n",
       " 'working_days': [],\n",
       " 'working_time_intervals': [],\n",
       " 'working_time_modes': [],\n",
       " 'accept_temporary': False,\n",
       " 'languages': []}"
      ]
     },
     "execution_count": 34,
     "metadata": {},
     "output_type": "execute_result"
    }
   ],
   "source": [
    "vacancy"
   ]
  },
  {
   "cell_type": "code",
   "execution_count": 38,
   "metadata": {},
   "outputs": [
    {
     "name": "stdout",
     "output_type": "stream",
     "text": [
      "1\n",
      "2\n",
      "3\n",
      "4\n",
      "5\n",
      "6\n",
      "7\n",
      "8\n",
      "9\n",
      "10\n"
     ]
    }
   ],
   "source": [
    "#этим куском поделились коллеги, т.к. я не поняла как можно было по другому достать поля c описанием и ключевыми навыками\n",
    "vacancy_all_info = []\n",
    "for ii in range(10): \n",
    "    x=70*ii\n",
    "    ii+=1\n",
    "    y=70*ii\n",
    "    for i in range(x, y): \n",
    "        vac_id = all_vacancy_ids[i]\n",
    "        url = f'https://api.hh.ru/vacancies/{vac_id}'\n",
    "        res = requests.get(url)\n",
    "        vacancy = res.json()\n",
    "        vacancy_all_info.append(vacancy)\n",
    "    print(ii)\n",
    "    time.sleep(180)"
   ]
  },
  {
   "cell_type": "code",
   "execution_count": 39,
   "metadata": {},
   "outputs": [],
   "source": [
    "all_vac_info = pd.DataFrame(vacancy_all_info, columns = ['id','name','description','published_at','key_skills'])"
   ]
  },
  {
   "cell_type": "code",
   "execution_count": 40,
   "metadata": {},
   "outputs": [
    {
     "data": {
      "text/html": [
       "<div>\n",
       "<style scoped>\n",
       "    .dataframe tbody tr th:only-of-type {\n",
       "        vertical-align: middle;\n",
       "    }\n",
       "\n",
       "    .dataframe tbody tr th {\n",
       "        vertical-align: top;\n",
       "    }\n",
       "\n",
       "    .dataframe thead th {\n",
       "        text-align: right;\n",
       "    }\n",
       "</style>\n",
       "<table border=\"1\" class=\"dataframe\">\n",
       "  <thead>\n",
       "    <tr style=\"text-align: right;\">\n",
       "      <th></th>\n",
       "      <th>id</th>\n",
       "      <th>name</th>\n",
       "      <th>description</th>\n",
       "      <th>published_at</th>\n",
       "      <th>key_skills</th>\n",
       "    </tr>\n",
       "  </thead>\n",
       "  <tbody>\n",
       "    <tr>\n",
       "      <th>0</th>\n",
       "      <td>78405583</td>\n",
       "      <td>QA engineer Junior (нагрузочное тестирование)</td>\n",
       "      <td>&lt;p&gt;&lt;strong&gt;Команда нагрузочного тестирования р...</td>\n",
       "      <td>2023-03-22T13:26:03+0300</td>\n",
       "      <td>[{'name': 'Нагрузочное тестирование'}]</td>\n",
       "    </tr>\n",
       "    <tr>\n",
       "      <th>1</th>\n",
       "      <td>78398724</td>\n",
       "      <td>Тестировщик (QA – engineer)</td>\n",
       "      <td>&lt;p&gt;&lt;strong&gt;Наш проект&lt;/strong&gt; - возможность п...</td>\n",
       "      <td>2023-03-22T11:53:24+0300</td>\n",
       "      <td>[]</td>\n",
       "    </tr>\n",
       "    <tr>\n",
       "      <th>2</th>\n",
       "      <td>77873277</td>\n",
       "      <td>Стажер</td>\n",
       "      <td>&lt;p&gt;Мы приглашаем исследователей в области маши...</td>\n",
       "      <td>2023-03-10T11:13:27+0300</td>\n",
       "      <td>[]</td>\n",
       "    </tr>\n",
       "    <tr>\n",
       "      <th>3</th>\n",
       "      <td>78507522</td>\n",
       "      <td>Project manager</td>\n",
       "      <td>&lt;p&gt;Мы занимаемся построением рекомендательной ...</td>\n",
       "      <td>2023-03-24T13:15:24+0300</td>\n",
       "      <td>[{'name': 'SQL'}, {'name': 'BPMN'}, {'name': '...</td>\n",
       "    </tr>\n",
       "    <tr>\n",
       "      <th>4</th>\n",
       "      <td>75175324</td>\n",
       "      <td>Финансовый консультант</td>\n",
       "      <td>&lt;p&gt; &lt;/p&gt; &lt;p&gt;&lt;strong&gt;Финансовый консультант &lt;/s...</td>\n",
       "      <td>2023-03-14T11:22:39+0300</td>\n",
       "      <td>[{'name': 'Деловое общение'}, {'name': 'Активн...</td>\n",
       "    </tr>\n",
       "    <tr>\n",
       "      <th>...</th>\n",
       "      <td>...</td>\n",
       "      <td>...</td>\n",
       "      <td>...</td>\n",
       "      <td>...</td>\n",
       "      <td>...</td>\n",
       "    </tr>\n",
       "    <tr>\n",
       "      <th>695</th>\n",
       "      <td>78518147</td>\n",
       "      <td>Персональный менеджер СберПервый</td>\n",
       "      <td>&lt;p&gt;Сбер — лучший работодатель России. У нас бо...</td>\n",
       "      <td>2023-03-24T15:11:33+0300</td>\n",
       "      <td>[]</td>\n",
       "    </tr>\n",
       "    <tr>\n",
       "      <th>696</th>\n",
       "      <td>77463661</td>\n",
       "      <td>Старший менеджер по обслуживанию</td>\n",
       "      <td>&lt;p&gt;Сбер — лучший работодатель России. У нас бо...</td>\n",
       "      <td>2023-02-28T09:14:45+0300</td>\n",
       "      <td>[]</td>\n",
       "    </tr>\n",
       "    <tr>\n",
       "      <th>697</th>\n",
       "      <td>78398563</td>\n",
       "      <td>Старший специалист организационно-администрати...</td>\n",
       "      <td>&lt;p&gt;Сбер — лучший работодатель России. У нас 14...</td>\n",
       "      <td>2023-03-22T11:50:48+0300</td>\n",
       "      <td>[]</td>\n",
       "    </tr>\n",
       "    <tr>\n",
       "      <th>698</th>\n",
       "      <td>77836821</td>\n",
       "      <td>Менеджер по работе с партнерами жилищного кред...</td>\n",
       "      <td>&lt;p&gt;.&lt;/p&gt; &lt;p&gt;&lt;strong&gt;Обязанности&lt;/strong&gt;&lt;/p&gt; &lt;...</td>\n",
       "      <td>2023-03-09T14:27:35+0300</td>\n",
       "      <td>[]</td>\n",
       "    </tr>\n",
       "    <tr>\n",
       "      <th>699</th>\n",
       "      <td>78449050</td>\n",
       "      <td>Старший менеджер по нефинансовым сервисам</td>\n",
       "      <td>&lt;p&gt;У нас безграничные возможности горизонтальн...</td>\n",
       "      <td>2023-03-23T12:24:55+0300</td>\n",
       "      <td>[]</td>\n",
       "    </tr>\n",
       "  </tbody>\n",
       "</table>\n",
       "<p>700 rows × 5 columns</p>\n",
       "</div>"
      ],
      "text/plain": [
       "           id                                               name  \\\n",
       "0    78405583      QA engineer Junior (нагрузочное тестирование)   \n",
       "1    78398724                        Тестировщик (QA – engineer)   \n",
       "2    77873277                                             Стажер   \n",
       "3    78507522                                    Project manager   \n",
       "4    75175324                             Финансовый консультант   \n",
       "..        ...                                                ...   \n",
       "695  78518147                   Персональный менеджер СберПервый   \n",
       "696  77463661                   Старший менеджер по обслуживанию   \n",
       "697  78398563  Старший специалист организационно-администрати...   \n",
       "698  77836821  Менеджер по работе с партнерами жилищного кред...   \n",
       "699  78449050          Старший менеджер по нефинансовым сервисам   \n",
       "\n",
       "                                           description  \\\n",
       "0    <p><strong>Команда нагрузочного тестирования р...   \n",
       "1    <p><strong>Наш проект</strong> - возможность п...   \n",
       "2    <p>Мы приглашаем исследователей в области маши...   \n",
       "3    <p>Мы занимаемся построением рекомендательной ...   \n",
       "4    <p> </p> <p><strong>Финансовый консультант </s...   \n",
       "..                                                 ...   \n",
       "695  <p>Сбер — лучший работодатель России. У нас бо...   \n",
       "696  <p>Сбер — лучший работодатель России. У нас бо...   \n",
       "697  <p>Сбер — лучший работодатель России. У нас 14...   \n",
       "698  <p>.</p> <p><strong>Обязанности</strong></p> <...   \n",
       "699  <p>У нас безграничные возможности горизонтальн...   \n",
       "\n",
       "                 published_at  \\\n",
       "0    2023-03-22T13:26:03+0300   \n",
       "1    2023-03-22T11:53:24+0300   \n",
       "2    2023-03-10T11:13:27+0300   \n",
       "3    2023-03-24T13:15:24+0300   \n",
       "4    2023-03-14T11:22:39+0300   \n",
       "..                        ...   \n",
       "695  2023-03-24T15:11:33+0300   \n",
       "696  2023-02-28T09:14:45+0300   \n",
       "697  2023-03-22T11:50:48+0300   \n",
       "698  2023-03-09T14:27:35+0300   \n",
       "699  2023-03-23T12:24:55+0300   \n",
       "\n",
       "                                            key_skills  \n",
       "0               [{'name': 'Нагрузочное тестирование'}]  \n",
       "1                                                   []  \n",
       "2                                                   []  \n",
       "3    [{'name': 'SQL'}, {'name': 'BPMN'}, {'name': '...  \n",
       "4    [{'name': 'Деловое общение'}, {'name': 'Активн...  \n",
       "..                                                 ...  \n",
       "695                                                 []  \n",
       "696                                                 []  \n",
       "697                                                 []  \n",
       "698                                                 []  \n",
       "699                                                 []  \n",
       "\n",
       "[700 rows x 5 columns]"
      ]
     },
     "execution_count": 40,
     "metadata": {},
     "output_type": "execute_result"
    }
   ],
   "source": [
    "all_vac_info"
   ]
  },
  {
   "cell_type": "code",
   "execution_count": 47,
   "metadata": {},
   "outputs": [
    {
     "name": "stdout",
     "output_type": "stream",
     "text": [
      "id                                             object\n",
      "name                                           object\n",
      "description                                    object\n",
      "published_at    datetime64[ns, pytz.FixedOffset(180)]\n",
      "key_skills                                     object\n",
      "dtype: object\n"
     ]
    }
   ],
   "source": [
    "all_vac_info['published_at'] = pd.to_datetime(all_vac_info['published_at'])\n",
    "print (all_vac_info.dtypes)"
   ]
  },
  {
   "cell_type": "code",
   "execution_count": 48,
   "metadata": {},
   "outputs": [
    {
     "data": {
      "text/html": [
       "<div>\n",
       "<style scoped>\n",
       "    .dataframe tbody tr th:only-of-type {\n",
       "        vertical-align: middle;\n",
       "    }\n",
       "\n",
       "    .dataframe tbody tr th {\n",
       "        vertical-align: top;\n",
       "    }\n",
       "\n",
       "    .dataframe thead th {\n",
       "        text-align: right;\n",
       "    }\n",
       "</style>\n",
       "<table border=\"1\" class=\"dataframe\">\n",
       "  <thead>\n",
       "    <tr style=\"text-align: right;\">\n",
       "      <th></th>\n",
       "      <th>id</th>\n",
       "      <th>name</th>\n",
       "      <th>description</th>\n",
       "      <th>published_at</th>\n",
       "      <th>key_skills</th>\n",
       "    </tr>\n",
       "  </thead>\n",
       "  <tbody>\n",
       "    <tr>\n",
       "      <th>0</th>\n",
       "      <td>78405583</td>\n",
       "      <td>QA engineer Junior (нагрузочное тестирование)</td>\n",
       "      <td>&lt;p&gt;&lt;strong&gt;Команда нагрузочного тестирования р...</td>\n",
       "      <td>2023-03-22 13:26:03+03:00</td>\n",
       "      <td>[{'name': 'Нагрузочное тестирование'}]</td>\n",
       "    </tr>\n",
       "    <tr>\n",
       "      <th>1</th>\n",
       "      <td>78398724</td>\n",
       "      <td>Тестировщик (QA – engineer)</td>\n",
       "      <td>&lt;p&gt;&lt;strong&gt;Наш проект&lt;/strong&gt; - возможность п...</td>\n",
       "      <td>2023-03-22 11:53:24+03:00</td>\n",
       "      <td>[]</td>\n",
       "    </tr>\n",
       "    <tr>\n",
       "      <th>2</th>\n",
       "      <td>77873277</td>\n",
       "      <td>Стажер</td>\n",
       "      <td>&lt;p&gt;Мы приглашаем исследователей в области маши...</td>\n",
       "      <td>2023-03-10 11:13:27+03:00</td>\n",
       "      <td>[]</td>\n",
       "    </tr>\n",
       "    <tr>\n",
       "      <th>3</th>\n",
       "      <td>78507522</td>\n",
       "      <td>Project manager</td>\n",
       "      <td>&lt;p&gt;Мы занимаемся построением рекомендательной ...</td>\n",
       "      <td>2023-03-24 13:15:24+03:00</td>\n",
       "      <td>[{'name': 'SQL'}, {'name': 'BPMN'}, {'name': '...</td>\n",
       "    </tr>\n",
       "    <tr>\n",
       "      <th>4</th>\n",
       "      <td>75175324</td>\n",
       "      <td>Финансовый консультант</td>\n",
       "      <td>&lt;p&gt; &lt;/p&gt; &lt;p&gt;&lt;strong&gt;Финансовый консультант &lt;/s...</td>\n",
       "      <td>2023-03-14 11:22:39+03:00</td>\n",
       "      <td>[{'name': 'Деловое общение'}, {'name': 'Активн...</td>\n",
       "    </tr>\n",
       "    <tr>\n",
       "      <th>...</th>\n",
       "      <td>...</td>\n",
       "      <td>...</td>\n",
       "      <td>...</td>\n",
       "      <td>...</td>\n",
       "      <td>...</td>\n",
       "    </tr>\n",
       "    <tr>\n",
       "      <th>695</th>\n",
       "      <td>78518147</td>\n",
       "      <td>Персональный менеджер СберПервый</td>\n",
       "      <td>&lt;p&gt;Сбер — лучший работодатель России. У нас бо...</td>\n",
       "      <td>2023-03-24 15:11:33+03:00</td>\n",
       "      <td>[]</td>\n",
       "    </tr>\n",
       "    <tr>\n",
       "      <th>696</th>\n",
       "      <td>77463661</td>\n",
       "      <td>Старший менеджер по обслуживанию</td>\n",
       "      <td>&lt;p&gt;Сбер — лучший работодатель России. У нас бо...</td>\n",
       "      <td>2023-02-28 09:14:45+03:00</td>\n",
       "      <td>[]</td>\n",
       "    </tr>\n",
       "    <tr>\n",
       "      <th>697</th>\n",
       "      <td>78398563</td>\n",
       "      <td>Старший специалист организационно-администрати...</td>\n",
       "      <td>&lt;p&gt;Сбер — лучший работодатель России. У нас 14...</td>\n",
       "      <td>2023-03-22 11:50:48+03:00</td>\n",
       "      <td>[]</td>\n",
       "    </tr>\n",
       "    <tr>\n",
       "      <th>698</th>\n",
       "      <td>77836821</td>\n",
       "      <td>Менеджер по работе с партнерами жилищного кред...</td>\n",
       "      <td>&lt;p&gt;.&lt;/p&gt; &lt;p&gt;&lt;strong&gt;Обязанности&lt;/strong&gt;&lt;/p&gt; &lt;...</td>\n",
       "      <td>2023-03-09 14:27:35+03:00</td>\n",
       "      <td>[]</td>\n",
       "    </tr>\n",
       "    <tr>\n",
       "      <th>699</th>\n",
       "      <td>78449050</td>\n",
       "      <td>Старший менеджер по нефинансовым сервисам</td>\n",
       "      <td>&lt;p&gt;У нас безграничные возможности горизонтальн...</td>\n",
       "      <td>2023-03-23 12:24:55+03:00</td>\n",
       "      <td>[]</td>\n",
       "    </tr>\n",
       "  </tbody>\n",
       "</table>\n",
       "<p>700 rows × 5 columns</p>\n",
       "</div>"
      ],
      "text/plain": [
       "           id                                               name  \\\n",
       "0    78405583      QA engineer Junior (нагрузочное тестирование)   \n",
       "1    78398724                        Тестировщик (QA – engineer)   \n",
       "2    77873277                                             Стажер   \n",
       "3    78507522                                    Project manager   \n",
       "4    75175324                             Финансовый консультант   \n",
       "..        ...                                                ...   \n",
       "695  78518147                   Персональный менеджер СберПервый   \n",
       "696  77463661                   Старший менеджер по обслуживанию   \n",
       "697  78398563  Старший специалист организационно-администрати...   \n",
       "698  77836821  Менеджер по работе с партнерами жилищного кред...   \n",
       "699  78449050          Старший менеджер по нефинансовым сервисам   \n",
       "\n",
       "                                           description  \\\n",
       "0    <p><strong>Команда нагрузочного тестирования р...   \n",
       "1    <p><strong>Наш проект</strong> - возможность п...   \n",
       "2    <p>Мы приглашаем исследователей в области маши...   \n",
       "3    <p>Мы занимаемся построением рекомендательной ...   \n",
       "4    <p> </p> <p><strong>Финансовый консультант </s...   \n",
       "..                                                 ...   \n",
       "695  <p>Сбер — лучший работодатель России. У нас бо...   \n",
       "696  <p>Сбер — лучший работодатель России. У нас бо...   \n",
       "697  <p>Сбер — лучший работодатель России. У нас 14...   \n",
       "698  <p>.</p> <p><strong>Обязанности</strong></p> <...   \n",
       "699  <p>У нас безграничные возможности горизонтальн...   \n",
       "\n",
       "                 published_at  \\\n",
       "0   2023-03-22 13:26:03+03:00   \n",
       "1   2023-03-22 11:53:24+03:00   \n",
       "2   2023-03-10 11:13:27+03:00   \n",
       "3   2023-03-24 13:15:24+03:00   \n",
       "4   2023-03-14 11:22:39+03:00   \n",
       "..                        ...   \n",
       "695 2023-03-24 15:11:33+03:00   \n",
       "696 2023-02-28 09:14:45+03:00   \n",
       "697 2023-03-22 11:50:48+03:00   \n",
       "698 2023-03-09 14:27:35+03:00   \n",
       "699 2023-03-23 12:24:55+03:00   \n",
       "\n",
       "                                            key_skills  \n",
       "0               [{'name': 'Нагрузочное тестирование'}]  \n",
       "1                                                   []  \n",
       "2                                                   []  \n",
       "3    [{'name': 'SQL'}, {'name': 'BPMN'}, {'name': '...  \n",
       "4    [{'name': 'Деловое общение'}, {'name': 'Активн...  \n",
       "..                                                 ...  \n",
       "695                                                 []  \n",
       "696                                                 []  \n",
       "697                                                 []  \n",
       "698                                                 []  \n",
       "699                                                 []  \n",
       "\n",
       "[700 rows x 5 columns]"
      ]
     },
     "execution_count": 48,
     "metadata": {},
     "output_type": "execute_result"
    }
   ],
   "source": [
    "all_vac_info\n"
   ]
  },
  {
   "cell_type": "code",
   "execution_count": 219,
   "metadata": {},
   "outputs": [],
   "source": [
    "publ_at = all_vac_info.groupby(['published_at']).count()"
   ]
  },
  {
   "cell_type": "code",
   "execution_count": 221,
   "metadata": {},
   "outputs": [],
   "source": [
    "publ_at_count = pd.DataFrame(publ_at, columns = ['id'])"
   ]
  },
  {
   "cell_type": "code",
   "execution_count": 222,
   "metadata": {},
   "outputs": [
    {
     "data": {
      "text/html": [
       "<div>\n",
       "<style scoped>\n",
       "    .dataframe tbody tr th:only-of-type {\n",
       "        vertical-align: middle;\n",
       "    }\n",
       "\n",
       "    .dataframe tbody tr th {\n",
       "        vertical-align: top;\n",
       "    }\n",
       "\n",
       "    .dataframe thead th {\n",
       "        text-align: right;\n",
       "    }\n",
       "</style>\n",
       "<table border=\"1\" class=\"dataframe\">\n",
       "  <thead>\n",
       "    <tr style=\"text-align: right;\">\n",
       "      <th></th>\n",
       "      <th>id</th>\n",
       "    </tr>\n",
       "    <tr>\n",
       "      <th>published_at</th>\n",
       "      <th></th>\n",
       "    </tr>\n",
       "  </thead>\n",
       "  <tbody>\n",
       "    <tr>\n",
       "      <th>2023-02-23 17:17:08+03:00</th>\n",
       "      <td>1</td>\n",
       "    </tr>\n",
       "    <tr>\n",
       "      <th>2023-02-24 10:56:10+03:00</th>\n",
       "      <td>1</td>\n",
       "    </tr>\n",
       "    <tr>\n",
       "      <th>2023-02-24 13:09:51+03:00</th>\n",
       "      <td>1</td>\n",
       "    </tr>\n",
       "    <tr>\n",
       "      <th>2023-02-24 17:38:01+03:00</th>\n",
       "      <td>1</td>\n",
       "    </tr>\n",
       "    <tr>\n",
       "      <th>2023-02-25 08:54:48+03:00</th>\n",
       "      <td>1</td>\n",
       "    </tr>\n",
       "    <tr>\n",
       "      <th>...</th>\n",
       "      <td>...</td>\n",
       "    </tr>\n",
       "    <tr>\n",
       "      <th>2023-03-25 05:24:20+03:00</th>\n",
       "      <td>1</td>\n",
       "    </tr>\n",
       "    <tr>\n",
       "      <th>2023-03-25 07:30:37+03:00</th>\n",
       "      <td>1</td>\n",
       "    </tr>\n",
       "    <tr>\n",
       "      <th>2023-03-25 09:24:15+03:00</th>\n",
       "      <td>1</td>\n",
       "    </tr>\n",
       "    <tr>\n",
       "      <th>2023-03-25 10:32:58+03:00</th>\n",
       "      <td>1</td>\n",
       "    </tr>\n",
       "    <tr>\n",
       "      <th>2023-03-25 11:14:03+03:00</th>\n",
       "      <td>1</td>\n",
       "    </tr>\n",
       "  </tbody>\n",
       "</table>\n",
       "<p>692 rows × 1 columns</p>\n",
       "</div>"
      ],
      "text/plain": [
       "                           id\n",
       "published_at                 \n",
       "2023-02-23 17:17:08+03:00   1\n",
       "2023-02-24 10:56:10+03:00   1\n",
       "2023-02-24 13:09:51+03:00   1\n",
       "2023-02-24 17:38:01+03:00   1\n",
       "2023-02-25 08:54:48+03:00   1\n",
       "...                        ..\n",
       "2023-03-25 05:24:20+03:00   1\n",
       "2023-03-25 07:30:37+03:00   1\n",
       "2023-03-25 09:24:15+03:00   1\n",
       "2023-03-25 10:32:58+03:00   1\n",
       "2023-03-25 11:14:03+03:00   1\n",
       "\n",
       "[692 rows x 1 columns]"
      ]
     },
     "execution_count": 222,
     "metadata": {},
     "output_type": "execute_result"
    }
   ],
   "source": [
    "publ_at_count "
   ]
  },
  {
   "cell_type": "code",
   "execution_count": 49,
   "metadata": {},
   "outputs": [
    {
     "name": "stderr",
     "output_type": "stream",
     "text": [
      "Matplotlib is building the font cache; this may take a moment.\n"
     ]
    }
   ],
   "source": [
    "import matplotlib.pyplot as plt"
   ]
  },
  {
   "cell_type": "code",
   "execution_count": 224,
   "metadata": {},
   "outputs": [
    {
     "data": {
      "text/plain": [
       "<AxesSubplot:xlabel='published_at'>"
      ]
     },
     "execution_count": 224,
     "metadata": {},
     "output_type": "execute_result"
    },
    {
     "data": {
      "image/png": "[encoded data removed]",
      "text/plain": [
       "<Figure size 432x288 with 1 Axes>"
      ]
     },
     "metadata": {
      "needs_background": "light"
     },
     "output_type": "display_data"
    }
   ],
   "source": [
    "#plt.plot(publ_at_count)\n",
    "#plt.show()\n",
    "publ_at_count.plot()"
   ]
  },
  {
   "cell_type": "code",
   "execution_count": 59,
   "metadata": {},
   "outputs": [],
   "source": [
    "dayned = all_vac_info['published_at'].dt.day_name()"
   ]
  },
  {
   "cell_type": "code",
   "execution_count": 62,
   "metadata": {},
   "outputs": [
    {
     "data": {
      "text/plain": [
       "Tuesday      140\n",
       "Thursday     134\n",
       "Friday       130\n",
       "Monday       127\n",
       "Wednesday    110\n",
       "Sunday        32\n",
       "Saturday      27\n",
       "Name: published_at, dtype: int64"
      ]
     },
     "execution_count": 62,
     "metadata": {},
     "output_type": "execute_result"
    }
   ],
   "source": [
    "dayned.value_counts()\n"
   ]
  },
  {
   "cell_type": "code",
   "execution_count": 238,
   "metadata": {},
   "outputs": [],
   "source": [
    "python_vac = all_vac_info[all_vac_info['description'].str.contains(\"python\")]"
   ]
  },
  {
   "cell_type": "code",
   "execution_count": 71,
   "metadata": {},
   "outputs": [
    {
     "data": {
      "text/html": [
       "<div>\n",
       "<style scoped>\n",
       "    .dataframe tbody tr th:only-of-type {\n",
       "        vertical-align: middle;\n",
       "    }\n",
       "\n",
       "    .dataframe tbody tr th {\n",
       "        vertical-align: top;\n",
       "    }\n",
       "\n",
       "    .dataframe thead th {\n",
       "        text-align: right;\n",
       "    }\n",
       "</style>\n",
       "<table border=\"1\" class=\"dataframe\">\n",
       "  <thead>\n",
       "    <tr style=\"text-align: right;\">\n",
       "      <th></th>\n",
       "      <th>id</th>\n",
       "      <th>name</th>\n",
       "      <th>description</th>\n",
       "      <th>published_at</th>\n",
       "      <th>key_skills</th>\n",
       "    </tr>\n",
       "  </thead>\n",
       "  <tbody>\n",
       "    <tr>\n",
       "      <th>122</th>\n",
       "      <td>78460878</td>\n",
       "      <td>Системный аналитик (junior)</td>\n",
       "      <td>&lt;p&gt;&lt;strong&gt;Описание:&lt;/strong&gt;&lt;/p&gt; &lt;p&gt;В команду...</td>\n",
       "      <td>2023-03-23 15:08:47+03:00</td>\n",
       "      <td>[]</td>\n",
       "    </tr>\n",
       "    <tr>\n",
       "      <th>181</th>\n",
       "      <td>78467089</td>\n",
       "      <td>Support-инженер (Junior)</td>\n",
       "      <td>&lt;p&gt; &lt;/p&gt; &lt;p&gt;&lt;strong&gt;Основные функции и задачи:...</td>\n",
       "      <td>2023-03-23 16:29:18+03:00</td>\n",
       "      <td>[]</td>\n",
       "    </tr>\n",
       "    <tr>\n",
       "      <th>191</th>\n",
       "      <td>78097813</td>\n",
       "      <td>Стажер Sber AI Lab</td>\n",
       "      <td>&lt;p&gt;Лаборатория искусственного интеллекта специ...</td>\n",
       "      <td>2023-03-15 15:59:35+03:00</td>\n",
       "      <td>[]</td>\n",
       "    </tr>\n",
       "    <tr>\n",
       "      <th>222</th>\n",
       "      <td>78147020</td>\n",
       "      <td>Python разработчик</td>\n",
       "      <td>&lt;p&gt;Приглашаем принять участие в конкурсе на ва...</td>\n",
       "      <td>2023-03-16 15:49:30+03:00</td>\n",
       "      <td>[]</td>\n",
       "    </tr>\n",
       "    <tr>\n",
       "      <th>448</th>\n",
       "      <td>77601725</td>\n",
       "      <td>Системный администратор</td>\n",
       "      <td>&lt;p&gt;Мы – сплоченная команда единомышленников, к...</td>\n",
       "      <td>2023-03-02 14:15:25+03:00</td>\n",
       "      <td>[{'name': 'Администрирование сетевого оборудов...</td>\n",
       "    </tr>\n",
       "    <tr>\n",
       "      <th>585</th>\n",
       "      <td>77872224</td>\n",
       "      <td>Стажер в Sber AI Lab</td>\n",
       "      <td>&lt;p&gt;Исследуй новые технологии в области рекомен...</td>\n",
       "      <td>2023-03-10 11:00:51+03:00</td>\n",
       "      <td>[]</td>\n",
       "    </tr>\n",
       "    <tr>\n",
       "      <th>632</th>\n",
       "      <td>77759165</td>\n",
       "      <td>Стажер Sber AI Lab (recsys)</td>\n",
       "      <td>&lt;p&gt;Исследуй новые технологии в области рекомен...</td>\n",
       "      <td>2023-03-07 12:18:19+03:00</td>\n",
       "      <td>[]</td>\n",
       "    </tr>\n",
       "    <tr>\n",
       "      <th>642</th>\n",
       "      <td>78518083</td>\n",
       "      <td>Data Science Specialist (Time Series)</td>\n",
       "      <td>&lt;p&gt;Мы команда AI в SberНадежности, занимаемся ...</td>\n",
       "      <td>2023-03-24 15:10:11+03:00</td>\n",
       "      <td>[]</td>\n",
       "    </tr>\n",
       "    <tr>\n",
       "      <th>653</th>\n",
       "      <td>78387709</td>\n",
       "      <td>Data Scientist в команду лояльности СберСпасибо</td>\n",
       "      <td>&lt;p&gt;Мы ищем талантливого молодого ML-разработчи...</td>\n",
       "      <td>2023-03-22 09:31:45+03:00</td>\n",
       "      <td>[{'name': 'ML-модель'}, {'name': 'Kaggle'}, {'...</td>\n",
       "    </tr>\n",
       "    <tr>\n",
       "      <th>662</th>\n",
       "      <td>78157240</td>\n",
       "      <td>Аналитик данных в Отдел маркетинговых исследов...</td>\n",
       "      <td>&lt;p&gt;В Управление стратегического маркетинга, От...</td>\n",
       "      <td>2023-03-17 01:40:17+03:00</td>\n",
       "      <td>[]</td>\n",
       "    </tr>\n",
       "  </tbody>\n",
       "</table>\n",
       "</div>"
      ],
      "text/plain": [
       "           id                                               name  \\\n",
       "122  78460878                        Системный аналитик (junior)   \n",
       "181  78467089                           Support-инженер (Junior)   \n",
       "191  78097813                                 Стажер Sber AI Lab   \n",
       "222  78147020                                 Python разработчик   \n",
       "448  77601725                            Системный администратор   \n",
       "585  77872224                               Стажер в Sber AI Lab   \n",
       "632  77759165                        Стажер Sber AI Lab (recsys)   \n",
       "642  78518083              Data Science Specialist (Time Series)   \n",
       "653  78387709    Data Scientist в команду лояльности СберСпасибо   \n",
       "662  78157240  Аналитик данных в Отдел маркетинговых исследов...   \n",
       "\n",
       "                                           description  \\\n",
       "122  <p><strong>Описание:</strong></p> <p>В команду...   \n",
       "181  <p> </p> <p><strong>Основные функции и задачи:...   \n",
       "191  <p>Лаборатория искусственного интеллекта специ...   \n",
       "222  <p>Приглашаем принять участие в конкурсе на ва...   \n",
       "448  <p>Мы – сплоченная команда единомышленников, к...   \n",
       "585  <p>Исследуй новые технологии в области рекомен...   \n",
       "632  <p>Исследуй новые технологии в области рекомен...   \n",
       "642  <p>Мы команда AI в SberНадежности, занимаемся ...   \n",
       "653  <p>Мы ищем талантливого молодого ML-разработчи...   \n",
       "662  <p>В Управление стратегического маркетинга, От...   \n",
       "\n",
       "                 published_at  \\\n",
       "122 2023-03-23 15:08:47+03:00   \n",
       "181 2023-03-23 16:29:18+03:00   \n",
       "191 2023-03-15 15:59:35+03:00   \n",
       "222 2023-03-16 15:49:30+03:00   \n",
       "448 2023-03-02 14:15:25+03:00   \n",
       "585 2023-03-10 11:00:51+03:00   \n",
       "632 2023-03-07 12:18:19+03:00   \n",
       "642 2023-03-24 15:10:11+03:00   \n",
       "653 2023-03-22 09:31:45+03:00   \n",
       "662 2023-03-17 01:40:17+03:00   \n",
       "\n",
       "                                            key_skills  \n",
       "122                                                 []  \n",
       "181                                                 []  \n",
       "191                                                 []  \n",
       "222                                                 []  \n",
       "448  [{'name': 'Администрирование сетевого оборудов...  \n",
       "585                                                 []  \n",
       "632                                                 []  \n",
       "642                                                 []  \n",
       "653  [{'name': 'ML-модель'}, {'name': 'Kaggle'}, {'...  \n",
       "662                                                 []  "
      ]
     },
     "execution_count": 71,
     "metadata": {},
     "output_type": "execute_result"
    }
   ],
   "source": [
    "python_vac"
   ]
  },
  {
   "cell_type": "code",
   "execution_count": 73,
   "metadata": {},
   "outputs": [],
   "source": [
    "python_v = pd.DataFrame(python_vac, columns = ['id','name','description','published_at','key_skills'])"
   ]
  },
  {
   "cell_type": "code",
   "execution_count": 74,
   "metadata": {},
   "outputs": [
    {
     "data": {
      "text/html": [
       "<div>\n",
       "<style scoped>\n",
       "    .dataframe tbody tr th:only-of-type {\n",
       "        vertical-align: middle;\n",
       "    }\n",
       "\n",
       "    .dataframe tbody tr th {\n",
       "        vertical-align: top;\n",
       "    }\n",
       "\n",
       "    .dataframe thead th {\n",
       "        text-align: right;\n",
       "    }\n",
       "</style>\n",
       "<table border=\"1\" class=\"dataframe\">\n",
       "  <thead>\n",
       "    <tr style=\"text-align: right;\">\n",
       "      <th></th>\n",
       "      <th>id</th>\n",
       "      <th>name</th>\n",
       "      <th>description</th>\n",
       "      <th>published_at</th>\n",
       "      <th>key_skills</th>\n",
       "    </tr>\n",
       "  </thead>\n",
       "  <tbody>\n",
       "    <tr>\n",
       "      <th>122</th>\n",
       "      <td>78460878</td>\n",
       "      <td>Системный аналитик (junior)</td>\n",
       "      <td>&lt;p&gt;&lt;strong&gt;Описание:&lt;/strong&gt;&lt;/p&gt; &lt;p&gt;В команду...</td>\n",
       "      <td>2023-03-23 15:08:47+03:00</td>\n",
       "      <td>[]</td>\n",
       "    </tr>\n",
       "    <tr>\n",
       "      <th>181</th>\n",
       "      <td>78467089</td>\n",
       "      <td>Support-инженер (Junior)</td>\n",
       "      <td>&lt;p&gt; &lt;/p&gt; &lt;p&gt;&lt;strong&gt;Основные функции и задачи:...</td>\n",
       "      <td>2023-03-23 16:29:18+03:00</td>\n",
       "      <td>[]</td>\n",
       "    </tr>\n",
       "    <tr>\n",
       "      <th>191</th>\n",
       "      <td>78097813</td>\n",
       "      <td>Стажер Sber AI Lab</td>\n",
       "      <td>&lt;p&gt;Лаборатория искусственного интеллекта специ...</td>\n",
       "      <td>2023-03-15 15:59:35+03:00</td>\n",
       "      <td>[]</td>\n",
       "    </tr>\n",
       "    <tr>\n",
       "      <th>222</th>\n",
       "      <td>78147020</td>\n",
       "      <td>Python разработчик</td>\n",
       "      <td>&lt;p&gt;Приглашаем принять участие в конкурсе на ва...</td>\n",
       "      <td>2023-03-16 15:49:30+03:00</td>\n",
       "      <td>[]</td>\n",
       "    </tr>\n",
       "    <tr>\n",
       "      <th>448</th>\n",
       "      <td>77601725</td>\n",
       "      <td>Системный администратор</td>\n",
       "      <td>&lt;p&gt;Мы – сплоченная команда единомышленников, к...</td>\n",
       "      <td>2023-03-02 14:15:25+03:00</td>\n",
       "      <td>[{'name': 'Администрирование сетевого оборудов...</td>\n",
       "    </tr>\n",
       "    <tr>\n",
       "      <th>585</th>\n",
       "      <td>77872224</td>\n",
       "      <td>Стажер в Sber AI Lab</td>\n",
       "      <td>&lt;p&gt;Исследуй новые технологии в области рекомен...</td>\n",
       "      <td>2023-03-10 11:00:51+03:00</td>\n",
       "      <td>[]</td>\n",
       "    </tr>\n",
       "    <tr>\n",
       "      <th>632</th>\n",
       "      <td>77759165</td>\n",
       "      <td>Стажер Sber AI Lab (recsys)</td>\n",
       "      <td>&lt;p&gt;Исследуй новые технологии в области рекомен...</td>\n",
       "      <td>2023-03-07 12:18:19+03:00</td>\n",
       "      <td>[]</td>\n",
       "    </tr>\n",
       "    <tr>\n",
       "      <th>642</th>\n",
       "      <td>78518083</td>\n",
       "      <td>Data Science Specialist (Time Series)</td>\n",
       "      <td>&lt;p&gt;Мы команда AI в SberНадежности, занимаемся ...</td>\n",
       "      <td>2023-03-24 15:10:11+03:00</td>\n",
       "      <td>[]</td>\n",
       "    </tr>\n",
       "    <tr>\n",
       "      <th>653</th>\n",
       "      <td>78387709</td>\n",
       "      <td>Data Scientist в команду лояльности СберСпасибо</td>\n",
       "      <td>&lt;p&gt;Мы ищем талантливого молодого ML-разработчи...</td>\n",
       "      <td>2023-03-22 09:31:45+03:00</td>\n",
       "      <td>[{'name': 'ML-модель'}, {'name': 'Kaggle'}, {'...</td>\n",
       "    </tr>\n",
       "    <tr>\n",
       "      <th>662</th>\n",
       "      <td>78157240</td>\n",
       "      <td>Аналитик данных в Отдел маркетинговых исследов...</td>\n",
       "      <td>&lt;p&gt;В Управление стратегического маркетинга, От...</td>\n",
       "      <td>2023-03-17 01:40:17+03:00</td>\n",
       "      <td>[]</td>\n",
       "    </tr>\n",
       "  </tbody>\n",
       "</table>\n",
       "</div>"
      ],
      "text/plain": [
       "           id                                               name  \\\n",
       "122  78460878                        Системный аналитик (junior)   \n",
       "181  78467089                           Support-инженер (Junior)   \n",
       "191  78097813                                 Стажер Sber AI Lab   \n",
       "222  78147020                                 Python разработчик   \n",
       "448  77601725                            Системный администратор   \n",
       "585  77872224                               Стажер в Sber AI Lab   \n",
       "632  77759165                        Стажер Sber AI Lab (recsys)   \n",
       "642  78518083              Data Science Specialist (Time Series)   \n",
       "653  78387709    Data Scientist в команду лояльности СберСпасибо   \n",
       "662  78157240  Аналитик данных в Отдел маркетинговых исследов...   \n",
       "\n",
       "                                           description  \\\n",
       "122  <p><strong>Описание:</strong></p> <p>В команду...   \n",
       "181  <p> </p> <p><strong>Основные функции и задачи:...   \n",
       "191  <p>Лаборатория искусственного интеллекта специ...   \n",
       "222  <p>Приглашаем принять участие в конкурсе на ва...   \n",
       "448  <p>Мы – сплоченная команда единомышленников, к...   \n",
       "585  <p>Исследуй новые технологии в области рекомен...   \n",
       "632  <p>Исследуй новые технологии в области рекомен...   \n",
       "642  <p>Мы команда AI в SberНадежности, занимаемся ...   \n",
       "653  <p>Мы ищем талантливого молодого ML-разработчи...   \n",
       "662  <p>В Управление стратегического маркетинга, От...   \n",
       "\n",
       "                 published_at  \\\n",
       "122 2023-03-23 15:08:47+03:00   \n",
       "181 2023-03-23 16:29:18+03:00   \n",
       "191 2023-03-15 15:59:35+03:00   \n",
       "222 2023-03-16 15:49:30+03:00   \n",
       "448 2023-03-02 14:15:25+03:00   \n",
       "585 2023-03-10 11:00:51+03:00   \n",
       "632 2023-03-07 12:18:19+03:00   \n",
       "642 2023-03-24 15:10:11+03:00   \n",
       "653 2023-03-22 09:31:45+03:00   \n",
       "662 2023-03-17 01:40:17+03:00   \n",
       "\n",
       "                                            key_skills  \n",
       "122                                                 []  \n",
       "181                                                 []  \n",
       "191                                                 []  \n",
       "222                                                 []  \n",
       "448  [{'name': 'Администрирование сетевого оборудов...  \n",
       "585                                                 []  \n",
       "632                                                 []  \n",
       "642                                                 []  \n",
       "653  [{'name': 'ML-модель'}, {'name': 'Kaggle'}, {'...  \n",
       "662                                                 []  "
      ]
     },
     "execution_count": 74,
     "metadata": {},
     "output_type": "execute_result"
    }
   ],
   "source": [
    "python_v"
   ]
  },
  {
   "cell_type": "code",
   "execution_count": 86,
   "metadata": {},
   "outputs": [
    {
     "data": {
      "text/plain": [
       "122                                                   []\n",
       "181                                                   []\n",
       "191                                                   []\n",
       "222                                                   []\n",
       "448    [{'name': 'Администрирование сетевого оборудов...\n",
       "585                                                   []\n",
       "632                                                   []\n",
       "642                                                   []\n",
       "653    [{'name': 'ML-модель'}, {'name': 'Kaggle'}, {'...\n",
       "662                                                   []\n",
       "Name: key_skills, dtype: object"
      ]
     },
     "execution_count": 86,
     "metadata": {},
     "output_type": "execute_result"
    }
   ],
   "source": [
    "python_v['key_skills']"
   ]
  },
  {
   "cell_type": "code",
   "execution_count": 78,
   "metadata": {},
   "outputs": [
    {
     "data": {
      "text/plain": [
       "Index(['id', 'name', 'description', 'published_at', 'key_skills'], dtype='object')"
      ]
     },
     "execution_count": 78,
     "metadata": {},
     "output_type": "execute_result"
    }
   ],
   "source": [
    "python_v.keys()"
   ]
  },
  {
   "cell_type": "code",
   "execution_count": 132,
   "metadata": {},
   "outputs": [
    {
     "data": {
      "text/html": [
       "<div>\n",
       "<style scoped>\n",
       "    .dataframe tbody tr th:only-of-type {\n",
       "        vertical-align: middle;\n",
       "    }\n",
       "\n",
       "    .dataframe tbody tr th {\n",
       "        vertical-align: top;\n",
       "    }\n",
       "\n",
       "    .dataframe thead th {\n",
       "        text-align: right;\n",
       "    }\n",
       "</style>\n",
       "<table border=\"1\" class=\"dataframe\">\n",
       "  <thead>\n",
       "    <tr style=\"text-align: right;\">\n",
       "      <th></th>\n",
       "      <th>0</th>\n",
       "      <th>1</th>\n",
       "      <th>2</th>\n",
       "      <th>3</th>\n",
       "      <th>4</th>\n",
       "      <th>5</th>\n",
       "      <th>6</th>\n",
       "      <th>7</th>\n",
       "      <th>8</th>\n",
       "      <th>9</th>\n",
       "    </tr>\n",
       "  </thead>\n",
       "  <tbody>\n",
       "    <tr>\n",
       "      <th>122</th>\n",
       "      <td>NaN</td>\n",
       "      <td>NaN</td>\n",
       "      <td>NaN</td>\n",
       "      <td>NaN</td>\n",
       "      <td>NaN</td>\n",
       "      <td>NaN</td>\n",
       "      <td>NaN</td>\n",
       "      <td>NaN</td>\n",
       "      <td>NaN</td>\n",
       "      <td>NaN</td>\n",
       "    </tr>\n",
       "    <tr>\n",
       "      <th>181</th>\n",
       "      <td>NaN</td>\n",
       "      <td>NaN</td>\n",
       "      <td>NaN</td>\n",
       "      <td>NaN</td>\n",
       "      <td>NaN</td>\n",
       "      <td>NaN</td>\n",
       "      <td>NaN</td>\n",
       "      <td>NaN</td>\n",
       "      <td>NaN</td>\n",
       "      <td>NaN</td>\n",
       "    </tr>\n",
       "    <tr>\n",
       "      <th>191</th>\n",
       "      <td>NaN</td>\n",
       "      <td>NaN</td>\n",
       "      <td>NaN</td>\n",
       "      <td>NaN</td>\n",
       "      <td>NaN</td>\n",
       "      <td>NaN</td>\n",
       "      <td>NaN</td>\n",
       "      <td>NaN</td>\n",
       "      <td>NaN</td>\n",
       "      <td>NaN</td>\n",
       "    </tr>\n",
       "    <tr>\n",
       "      <th>222</th>\n",
       "      <td>NaN</td>\n",
       "      <td>NaN</td>\n",
       "      <td>NaN</td>\n",
       "      <td>NaN</td>\n",
       "      <td>NaN</td>\n",
       "      <td>NaN</td>\n",
       "      <td>NaN</td>\n",
       "      <td>NaN</td>\n",
       "      <td>NaN</td>\n",
       "      <td>NaN</td>\n",
       "    </tr>\n",
       "    <tr>\n",
       "      <th>448</th>\n",
       "      <td>{'name': 'Администрирование сетевого оборудова...</td>\n",
       "      <td>{'name': 'Linux'}</td>\n",
       "      <td>{'name': 'Настройка ПК'}</td>\n",
       "      <td>{'name': 'Настройка сетевых подключений'}</td>\n",
       "      <td>NaN</td>\n",
       "      <td>NaN</td>\n",
       "      <td>NaN</td>\n",
       "      <td>NaN</td>\n",
       "      <td>NaN</td>\n",
       "      <td>NaN</td>\n",
       "    </tr>\n",
       "    <tr>\n",
       "      <th>585</th>\n",
       "      <td>NaN</td>\n",
       "      <td>NaN</td>\n",
       "      <td>NaN</td>\n",
       "      <td>NaN</td>\n",
       "      <td>NaN</td>\n",
       "      <td>NaN</td>\n",
       "      <td>NaN</td>\n",
       "      <td>NaN</td>\n",
       "      <td>NaN</td>\n",
       "      <td>NaN</td>\n",
       "    </tr>\n",
       "    <tr>\n",
       "      <th>632</th>\n",
       "      <td>NaN</td>\n",
       "      <td>NaN</td>\n",
       "      <td>NaN</td>\n",
       "      <td>NaN</td>\n",
       "      <td>NaN</td>\n",
       "      <td>NaN</td>\n",
       "      <td>NaN</td>\n",
       "      <td>NaN</td>\n",
       "      <td>NaN</td>\n",
       "      <td>NaN</td>\n",
       "    </tr>\n",
       "    <tr>\n",
       "      <th>642</th>\n",
       "      <td>NaN</td>\n",
       "      <td>NaN</td>\n",
       "      <td>NaN</td>\n",
       "      <td>NaN</td>\n",
       "      <td>NaN</td>\n",
       "      <td>NaN</td>\n",
       "      <td>NaN</td>\n",
       "      <td>NaN</td>\n",
       "      <td>NaN</td>\n",
       "      <td>NaN</td>\n",
       "    </tr>\n",
       "    <tr>\n",
       "      <th>653</th>\n",
       "      <td>{'name': 'ML-модель'}</td>\n",
       "      <td>{'name': 'Kaggle'}</td>\n",
       "      <td>{'name': 'СберСпасибо'}</td>\n",
       "      <td>{'name': 'МФТИ'}</td>\n",
       "      <td>{'name': 'SQL'}</td>\n",
       "      <td>{'name': 'Python'}</td>\n",
       "      <td>{'name': 'Машинное обучение'}</td>\n",
       "      <td>{'name': 'Data Analysis'}</td>\n",
       "      <td>{'name': 'Big Data'}</td>\n",
       "      <td>{'name': 'data'}</td>\n",
       "    </tr>\n",
       "    <tr>\n",
       "      <th>662</th>\n",
       "      <td>NaN</td>\n",
       "      <td>NaN</td>\n",
       "      <td>NaN</td>\n",
       "      <td>NaN</td>\n",
       "      <td>NaN</td>\n",
       "      <td>NaN</td>\n",
       "      <td>NaN</td>\n",
       "      <td>NaN</td>\n",
       "      <td>NaN</td>\n",
       "      <td>NaN</td>\n",
       "    </tr>\n",
       "  </tbody>\n",
       "</table>\n",
       "</div>"
      ],
      "text/plain": [
       "                                                     0                   1  \\\n",
       "122                                                NaN                 NaN   \n",
       "181                                                NaN                 NaN   \n",
       "191                                                NaN                 NaN   \n",
       "222                                                NaN                 NaN   \n",
       "448  {'name': 'Администрирование сетевого оборудова...   {'name': 'Linux'}   \n",
       "585                                                NaN                 NaN   \n",
       "632                                                NaN                 NaN   \n",
       "642                                                NaN                 NaN   \n",
       "653                              {'name': 'ML-модель'}  {'name': 'Kaggle'}   \n",
       "662                                                NaN                 NaN   \n",
       "\n",
       "                            2                                          3  \\\n",
       "122                       NaN                                        NaN   \n",
       "181                       NaN                                        NaN   \n",
       "191                       NaN                                        NaN   \n",
       "222                       NaN                                        NaN   \n",
       "448  {'name': 'Настройка ПК'}  {'name': 'Настройка сетевых подключений'}   \n",
       "585                       NaN                                        NaN   \n",
       "632                       NaN                                        NaN   \n",
       "642                       NaN                                        NaN   \n",
       "653   {'name': 'СберСпасибо'}                           {'name': 'МФТИ'}   \n",
       "662                       NaN                                        NaN   \n",
       "\n",
       "                   4                   5                              6  \\\n",
       "122              NaN                 NaN                            NaN   \n",
       "181              NaN                 NaN                            NaN   \n",
       "191              NaN                 NaN                            NaN   \n",
       "222              NaN                 NaN                            NaN   \n",
       "448              NaN                 NaN                            NaN   \n",
       "585              NaN                 NaN                            NaN   \n",
       "632              NaN                 NaN                            NaN   \n",
       "642              NaN                 NaN                            NaN   \n",
       "653  {'name': 'SQL'}  {'name': 'Python'}  {'name': 'Машинное обучение'}   \n",
       "662              NaN                 NaN                            NaN   \n",
       "\n",
       "                             7                     8                 9  \n",
       "122                        NaN                   NaN               NaN  \n",
       "181                        NaN                   NaN               NaN  \n",
       "191                        NaN                   NaN               NaN  \n",
       "222                        NaN                   NaN               NaN  \n",
       "448                        NaN                   NaN               NaN  \n",
       "585                        NaN                   NaN               NaN  \n",
       "632                        NaN                   NaN               NaN  \n",
       "642                        NaN                   NaN               NaN  \n",
       "653  {'name': 'Data Analysis'}  {'name': 'Big Data'}  {'name': 'data'}  \n",
       "662                        NaN                   NaN               NaN  "
      ]
     },
     "execution_count": 132,
     "metadata": {},
     "output_type": "execute_result"
    }
   ],
   "source": [
    "python_v.key_skills.apply(pd.Series)"
   ]
  },
  {
   "cell_type": "code",
   "execution_count": 134,
   "metadata": {},
   "outputs": [
    {
     "name": "stdout",
     "output_type": "stream",
     "text": [
      "[[], [], [], [], [{'name': 'Администрирование сетевого оборудования'}, {'name': 'Linux'}, {'name': 'Настройка ПК'}, {'name': 'Настройка сетевых подключений'}], [], [], [], [{'name': 'ML-модель'}, {'name': 'Kaggle'}, {'name': 'СберСпасибо'}, {'name': 'МФТИ'}, {'name': 'SQL'}, {'name': 'Python'}, {'name': 'Машинное обучение'}, {'name': 'Data Analysis'}, {'name': 'Big Data'}, {'name': 'data'}], []]\n"
     ]
    }
   ],
   "source": [
    "print (python_v.loc[:,'key_skills'].values.tolist())\n",
    "\n"
   ]
  },
  {
   "cell_type": "code",
   "execution_count": 171,
   "metadata": {},
   "outputs": [],
   "source": [
    "new_df = python_v.explode('key_skills')\n",
    "tmp = pd.DataFrame(list(new_df.pop('key_skills')),columns = ['skill'])\n"
   ]
  },
  {
   "cell_type": "code",
   "execution_count": 175,
   "metadata": {},
   "outputs": [],
   "source": [
    "#tmp\n",
    "key_skill = pd.DataFrame(tmp.skill.apply(pd.Series))"
   ]
  },
  {
   "cell_type": "code",
   "execution_count": 185,
   "metadata": {
    "scrolled": true
   },
   "outputs": [
    {
     "data": {
      "text/plain": [
       "Big Data                                   1\n",
       "МФТИ                                       1\n",
       "data                                       1\n",
       "ML-модель                                  1\n",
       "Настройка ПК                               1\n",
       "Kaggle                                     1\n",
       "Администрирование сетевого оборудования    1\n",
       "Машинное обучение                          1\n",
       "Linux                                      1\n",
       "Data Analysis                              1\n",
       "Python                                     1\n",
       "SQL                                        1\n",
       "Настройка сетевых подключений              1\n",
       "СберСпасибо                                1\n",
       "Name: name, dtype: int64"
      ]
     },
     "execution_count": 185,
     "metadata": {},
     "output_type": "execute_result"
    }
   ],
   "source": [
    "#key_skill\n",
    "key_skill.name.value_counts()\n"
   ]
  },
  {
   "cell_type": "code",
   "execution_count": 240,
   "metadata": {},
   "outputs": [],
   "source": [
    "vac_skill = pd.DataFrame(all_vac_info, columns = ['name','id','description','published_at','key_skills']) \n",
    "skill = []\n",
    "for i in range(len(vac_skill)): \n",
    "    if len(vac_skill['key_skills'][i]) != 0: \n",
    "        x=vac_skill['key_skills'][i]\n",
    "        for j in range(len(x)): \n",
    "            skill.append(x[j]['name'])"
   ]
  },
  {
   "cell_type": "code",
   "execution_count": 241,
   "metadata": {},
   "outputs": [],
   "source": [
    "skills = pd.DataFrame(skill, columns = ['name_skill'])"
   ]
  },
  {
   "cell_type": "code",
   "execution_count": 258,
   "metadata": {},
   "outputs": [
    {
     "data": {
      "text/plain": [
       "SQL                                    22\n",
       "Активные продажи                       21\n",
       "Работа с большим объемом информации    18\n",
       "Грамотная речь                         16\n",
       "Деловое общение                        15\n",
       "Работа в команде                       15\n",
       "MS Excel                               13\n",
       "MS Word                                12\n",
       "Аналитический склад ума                11\n",
       "Python                                 11\n",
       "Name: name_skill, dtype: int64"
      ]
     },
     "execution_count": 258,
     "metadata": {},
     "output_type": "execute_result"
    }
   ],
   "source": [
    "skills.name_skill.value_counts().head(10)"
   ]
  },
  {
   "cell_type": "code",
   "execution_count": 272,
   "metadata": {},
   "outputs": [
    {
     "name": "stdout",
     "output_type": "stream",
     "text": [
      "                                     counts\n",
      "unique_values                              \n",
      "SQL                                      22\n",
      "Активные продажи                         21\n",
      "Работа с большим объемом информации      18\n",
      "Грамотная речь                           16\n",
      "Работа в команде                         15\n",
      "Деловое общение                          15\n",
      "MS Excel                                 13\n",
      "MS Word                                  12\n",
      "Python                                   11\n",
      "Аналитический склад ума                  11\n"
     ]
    }
   ],
   "source": [
    "df = skills.value_counts().head(10).rename_axis('unique_values').to_frame('counts')\n",
    "print (df)\n",
    "               "
   ]
  },
  {
   "cell_type": "code",
   "execution_count": 279,
   "metadata": {},
   "outputs": [
    {
     "data": {
      "text/plain": [
       "<AxesSubplot:ylabel='counts'>"
      ]
     },
     "execution_count": 279,
     "metadata": {},
     "output_type": "execute_result"
    },
    {
     "data": {
      "image/png": "[encoded data removed]",
      "text/plain": [
       "<Figure size 432x288 with 1 Axes>"
      ]
     },
     "metadata": {},
     "output_type": "display_data"
    }
   ],
   "source": [
    "df.groupby(['unique_values']).sum().plot(kind='pie', y='counts', autopct='%1.0f%%', legend=False)"
   ]
  },
  {
   "cell_type": "code",
   "execution_count": null,
   "metadata": {},
   "outputs": [],
   "source": []
  }
 ],
 "metadata": {
  "kernelspec": {
   "display_name": "Python 3",
   "language": "python",
   "name": "python3"
  },
  "language_info": {
   "codemirror_mode": {
    "name": "ipython",
    "version": 3
   },
   "file_extension": ".py",
   "mimetype": "text/x-python",
   "name": "python",
   "nbconvert_exporter": "python",
   "pygments_lexer": "ipython3",
   "version": "3.8.8"
  }
 },
 "nbformat": 4,
 "nbformat_minor": 4
}
