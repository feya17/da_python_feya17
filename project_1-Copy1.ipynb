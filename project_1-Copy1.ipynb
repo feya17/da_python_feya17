{
 "cells": [
  {
   "cell_type": "code",
   "execution_count": null,
   "id": "1657d928",
   "metadata": {},
   "outputs": [],
   "source": [
    "!pip install cufflinks plotly\n",
    "!pip install chart_studio\n",
    "import requests\n",
    "from tqdm.auto import tqdm\n",
    "import time \n",
    "import json \n",
    "import os \n",
    "import pandas as pd\n",
    "import numpy as np\n",
    "from datetime import datetime \n",
    "import re\n",
    "from operator import itemgetter\n",
    "\n",
    "import plotly.express as px\n",
    "import plotly as py\n",
    "import plotly.graph_objs as go\n",
    "import chart_studio.plotly as py\n",
    "from plotly.offline import iplot\n",
    "from plotly.subplots import make_subplots\n",
    "import matplotlib.pyplot as plt\n",
    "import seaborn as sns\n",
    "import cufflinks\n",
    "cufflinks.go_offline()\n",
    "cufflinks.set_config_file(world_readable=True, theme='pearl', offline=True)\n",
    "import altair as alt\n",
    "\n",
    "from collections import defaultdict"
   ]
  },
  {
   "cell_type": "markdown",
   "id": "b1670b70",
   "metadata": {},
   "source": [
    "Скачиваем вакансии с HH.ru, в названии которых есть слово 'Аудитор'"
   ]
  },
  {
   "cell_type": "code",
   "execution_count": null,
   "id": "5c70f3f9",
   "metadata": {},
   "outputs": [],
   "source": [
    "page = 1\n",
    "num_per_page = 100\n",
    "test = 'NAME:Aудитор'\n",
    "url = f'https://api.hh.ru/vacancies?text={test}&page={page}&per_page={num_per_page}'"
   ]
  },
  {
   "cell_type": "code",
   "execution_count": null,
   "id": "7782ba90",
   "metadata": {},
   "outputs": [],
   "source": [
    "res = requests.get(url)\n",
    "vacancies = res.json()\n",
    "num_pages = vacancies.get('pages')\n",
    "num_pages"
   ]
  },
  {
   "cell_type": "code",
   "execution_count": null,
   "id": "334cbc2c",
   "metadata": {},
   "outputs": [],
   "source": [
    "vacancies = res.json()\n",
    "num_pages = vacancies.get('pages')\n",
    "vacancy_ids = [el.get('id') for el in vacancies.get('items')]"
   ]
  },
  {
   "cell_type": "code",
   "execution_count": null,
   "id": "26a02121",
   "metadata": {},
   "outputs": [],
   "source": [
    "all_vacancy_ids= []\n",
    "for i in tqdm(range(vacancies.get('pages'))):\n",
    "    url = f'https://api.hh.ru/vacancies?text={test}&page={i}&per_page={num_per_page}'\n",
    "    res = requests.get(url)\n",
    "    vacancies = res.json()\n",
    "    vacancy_ids = [el.get('id') for el in vacancies.get('items')]\n",
    "    all_vacancy_ids.extend(vacancy_ids)"
   ]
  },
  {
   "cell_type": "code",
   "execution_count": null,
   "id": "632f155b",
   "metadata": {},
   "outputs": [],
   "source": [
    "len (all_vacancy_ids)"
   ]
  },
  {
   "cell_type": "code",
   "execution_count": null,
   "id": "5859dc40",
   "metadata": {},
   "outputs": [],
   "source": [
    "vacancy_all_info = []\n",
    "for j in range(10): \n",
    "    x=80*j\n",
    "    j+=1\n",
    "    y=80*j\n",
    "    for i in range(x, y): \n",
    "        vac_id = all_vacancy_ids[i]\n",
    "        url = f'https://api.hh.ru/vacancies/{vac_id}'\n",
    "        res = requests.get(url)\n",
    "        vacancy = res.json()\n",
    "        vacancy_all_info.append(vacancy)\n",
    "    print(j)\n",
    "    time.sleep(180) "
   ]
  },
  {
   "cell_type": "code",
   "execution_count": null,
   "id": "dffb1e2d",
   "metadata": {},
   "outputs": [],
   "source": [
    "vacancy = pd.DataFrame(vacancy_all_info, columns = ['id', 'name','area','salary','description','experience', 'schedule', 'employment', 'employer', 'key_skills', \n",
    "                                                      'published_at' ])"
   ]
  },
  {
   "cell_type": "markdown",
   "id": "6e7cc981",
   "metadata": {},
   "source": [
    "Очищаем датафрейм для анализа данных"
   ]
  },
  {
   "cell_type": "code",
   "execution_count": null,
   "id": "e71a7e85",
   "metadata": {},
   "outputs": [],
   "source": [
    "#выведем значение словаря 'name' через функцию python\n",
    "def name (dictionary):\n",
    "    name_dictionary = dictionary ['name']\n",
    "    return name_dictionary\n"
   ]
  },
  {
   "cell_type": "code",
   "execution_count": null,
   "id": "5ce70261",
   "metadata": {},
   "outputs": [],
   "source": [
    "vacancy['area'] = vacancy['area'].apply(name)\n",
    "vacancy['experience'] = vacancy['experience'].apply(name)\n",
    "vacancy['schedule'] = vacancy['schedule'].apply(name)\n",
    "vacancy['employment'] = vacancy['employment'].apply(name)\n",
    "vacancy['employer'] = vacancy['employer'].apply(name)"
   ]
  },
  {
   "cell_type": "code",
   "execution_count": null,
   "id": "acfd8073",
   "metadata": {},
   "outputs": [],
   "source": [
    "#выведем значение словаря по полю salary from через функцию python\n",
    "def salary_from (dictionary):\n",
    "    if dictionary is None:\n",
    "        return None \n",
    "    else:\n",
    "         return dictionary ['from']"
   ]
  },
  {
   "cell_type": "code",
   "execution_count": null,
   "id": "981058ec",
   "metadata": {},
   "outputs": [],
   "source": [
    "#выведем значение словаря по полю salary to через функцию python\n",
    "def salary_to (dictionary):\n",
    "    if dictionary is None:\n",
    "        return None\n",
    "    else:\n",
    "        return dictionary ['to']"
   ]
  },
  {
   "cell_type": "code",
   "execution_count": null,
   "id": "7a203b65",
   "metadata": {},
   "outputs": [],
   "source": [
    "#выведем значение словаря по полю salary to через функцию python\n",
    "def salary_to (dictionary):\n",
    "    if dictionary is None:\n",
    "        return None\n",
    "    else:\n",
    "        return dictionary ['to']"
   ]
  },
  {
   "cell_type": "code",
   "execution_count": null,
   "id": "184e553b",
   "metadata": {},
   "outputs": [],
   "source": [
    "#выведем значение словаря по полю salary to через функцию python\n",
    "def currency (dictionary):\n",
    "    if dictionary is None:\n",
    "        return None\n",
    "    else:\n",
    "        return dictionary ['currency']"
   ]
  },
  {
   "cell_type": "code",
   "execution_count": null,
   "id": "a1dcef8f",
   "metadata": {},
   "outputs": [],
   "source": [
    "vacancy['salary_from'] = vacancy['salary'].apply(salary_from)\n",
    "vacancy['salary_to'] = vacancy['salary'].apply(salary_to)\n",
    "vacancy['currency'] = vacancy['salary'].apply(currency)"
   ]
  },
  {
   "cell_type": "code",
   "execution_count": null,
   "id": "f33e0451",
   "metadata": {},
   "outputs": [],
   "source": [
    "#удаляем колонку salary, т.к. она больше не нужна\n",
    "vacancy = vacancy.drop(columns=['salary'])"
   ]
  },
  {
   "cell_type": "code",
   "execution_count": null,
   "id": "d6ded457",
   "metadata": {},
   "outputs": [],
   "source": [
    "#переводим поле published_at в формат datetime\n",
    "vacancy['published_at'] = pd.to_datetime(vacancy['published_at'])"
   ]
  },
  {
   "cell_type": "code",
   "execution_count": null,
   "id": "975df9f7",
   "metadata": {},
   "outputs": [],
   "source": [
    "#выведем ключевые навыки для аудиторо в отдельный датафрейм\n",
    "skills = []\n",
    "for i in range(len(df_vacancy)): \n",
    "    if len(vacancy['key_skills'][i]) != 0: \n",
    "        x=vacancy['key_skills'][i]\n",
    "        for j in range(len(x)): \n",
    "            skills.append(x[j]['name'])"
   ]
  },
  {
   "cell_type": "code",
   "execution_count": null,
   "id": "41d62db0",
   "metadata": {},
   "outputs": [],
   "source": [
    "auditor_skills = pd.DataFrame(skills, columns = ['name_skill'])\n",
    "auditor_skills"
   ]
  },
  {
   "cell_type": "code",
   "execution_count": null,
   "id": "97617bca",
   "metadata": {},
   "outputs": [],
   "source": [
    "#запишем вакансии в файл csv\n",
    "vacancy.to_csv(\"вакансии_аудитор.csv\")"
   ]
  },
  {
   "cell_type": "markdown",
   "id": "1ffab891",
   "metadata": {},
   "source": [
    "Исследование вакансий аудиторов"
   ]
  },
  {
   "cell_type": "code",
   "execution_count": null,
   "id": "487f93e8",
   "metadata": {},
   "outputs": [],
   "source": [
    "#график публикации вакансий\n",
    "publ_at = vacancy.groupby(['published_at']).count()\n",
    "publ_at_count = pd.DataFrame(publ_at, columns = ['id'])\n",
    "publ_at_count.plot()"
   ]
  },
  {
   "cell_type": "code",
   "execution_count": null,
   "id": "3c1260bc",
   "metadata": {},
   "outputs": [],
   "source": [
    "#выведем топ-15 скиллов, необходимых аудиторам\n",
    "df = auditor_skills.value_counts().head(15).rename_axis('unique_values').to_frame('counts')\n",
    "print (df)"
   ]
  },
  {
   "cell_type": "code",
   "execution_count": null,
   "id": "9f34c36b",
   "metadata": {},
   "outputs": [],
   "source": [
    "df.groupby(['unique_values']).sum().plot(kind='pie', y='counts', autopct='%1.0f%%', legend=False)"
   ]
  },
  {
   "cell_type": "markdown",
   "id": "e73d73cc",
   "metadata": {},
   "source": [
    "Из диаграммы видно, что ключевыми навыками для аудиторов является знание основ аудита, опыт в проведении аудиторских проверок. Из личностных качеств - ответственность, умение работать в команде, грамотная речь и мобильность. "
   ]
  },
  {
   "cell_type": "code",
   "execution_count": null,
   "id": "b3abd9d0",
   "metadata": {},
   "outputs": [],
   "source": [
    "#соберем в отдельный датафрейм топ-15 работодателей, разместивших вакансии аудиторов\n",
    "top_15 = pd.DataFrame((vacancy.groupby('employer')[['id']].agg({'id': 'count'})\n",
    "          .sort_values(by='id', ascending=False))[:15].reset_index())"
   ]
  },
  {
   "cell_type": "code",
   "execution_count": null,
   "id": "032d25f4",
   "metadata": {},
   "outputs": [],
   "source": [
    "top_15"
   ]
  },
  {
   "cell_type": "code",
   "execution_count": null,
   "id": "f415ea68",
   "metadata": {},
   "outputs": [],
   "source": [
    "fig, ax = plt.subplots()\n",
    "top_15.plot(kind='barh', y=\"id\", x=\"employer\", ax=ax)"
   ]
  },
  {
   "cell_type": "markdown",
   "id": "77c2956e",
   "metadata": {},
   "source": [
    "Наибольший процент вакансии принадлежит компании GLOBALTEAM RUSSIA, которая предоставляет услуги:все виды мерчандайзинга;\n",
    "полевой аудит торговых точек на предмет соблюдения контрактных обязательств по представленности товаров и пр.;\n",
    "исследования, направленные на оценку потребительского опыта, полученного клиентом в процессе приобретения товара или услуги (тайный покупатель, тайный гость и пр.);мониторинг и анализ цен конкурентов;маркетинговые активности.\n",
    "СБЕР в поиске 12 сотрудников на должность аудитора. "
   ]
  },
  {
   "cell_type": "code",
   "execution_count": null,
   "id": "e79c5318",
   "metadata": {},
   "outputs": [],
   "source": [
    "vacancy['currency'].value_counts()"
   ]
  },
  {
   "cell_type": "code",
   "execution_count": null,
   "id": "4845ba66",
   "metadata": {},
   "outputs": [],
   "source": [
    "#выберем вакансии только в рублях\n",
    "rur_vac = vacancy.dropna()[vacancy.dropna()['currency'].str.contains(\"RUR\")]\n",
    "rur_vac.head()"
   ]
  },
  {
   "cell_type": "code",
   "execution_count": null,
   "id": "12a0f0e0",
   "metadata": {},
   "outputs": [],
   "source": [
    "#определим уровень заработной платы аудиторов в зависимости от опыта работы\n",
    "rur_vac.pivot(columns='experience', values='salary_to').iplot(\n",
    "        kind='box',\n",
    "        yTitle='salary',\n",
    "        title='Уровень зарплаты в зависимости от опыта работы')"
   ]
  },
  {
   "cell_type": "markdown",
   "id": "2ce691c5",
   "metadata": {},
   "source": [
    "Можно сделать вывод, что самый низкий уровень заработной платы у аудиторов без опыта работы. Максимальный доход получают специалисты с опытом от 3х лет и выше."
   ]
  },
  {
   "cell_type": "code",
   "execution_count": null,
   "id": "ddc4d94a",
   "metadata": {},
   "outputs": [],
   "source": [
    "rur_vac.iplot(\n",
    "    x='area',\n",
    "    y='salary_to',\n",
    "    # Specify the category\n",
    "    categories='employment',\n",
    "    xTitle='Город',\n",
    "    yTitle='Уровень зарплаты',\n",
    "    title='Уровень заработной платы аудиторов в зависимости от типа занятости в городах России')"
   ]
  },
  {
   "cell_type": "markdown",
   "id": "46c92c85",
   "metadata": {},
   "source": [
    "Наиболее высокооплачиваемыми являются вакансии с полной занятостью. "
   ]
  },
  {
   "cell_type": "code",
   "execution_count": null,
   "id": "8b0f4f98",
   "metadata": {},
   "outputs": [],
   "source": [
    "top_city_vac = rur_vac.loc[rur_vac['area'].isin(['Самара','Москва','Санкт-Петербург','Екатеринбург','Новосибирск','Казань',\n",
    "                                                'Нижний Новгород', 'Краснодар', 'Уфа'])]\n",
    "                         "
   ]
  },
  {
   "cell_type": "code",
   "execution_count": null,
   "id": "e6b1116f",
   "metadata": {},
   "outputs": [],
   "source": [
    "#Средние зарплаты аудиторов в рублях в крупнейших городах России\n",
    "alt.Chart(top_city_vac).mark_bar().encode(\n",
    "\n",
    "    y='mean(salary_to):Q',\n",
    "    x='area:N'\n",
    ")"
   ]
  },
  {
   "cell_type": "code",
   "execution_count": null,
   "id": "d8e46eb2",
   "metadata": {},
   "outputs": [],
   "source": [
    "#размер заработной платы в зависимости от города и компании-работодателя\n",
    "\n",
    "pivot = top_city_vac.pivot_table(\n",
    "    index=[\"area\"],\n",
    "    columns=[\"employer\"],\n",
    "    values=\"salary_to\",\n",
    "    aggfunc=np.average)\n",
    "sns.heatmap(pivot) # "
   ]
  },
  {
   "cell_type": "code",
   "execution_count": null,
   "id": "becd1a3b",
   "metadata": {},
   "outputs": [],
   "source": [
    "#выберем вакансии СБЕРа\n",
    "sber_vac = vacancy[vacancy['employer'].str.contains('СБЕР')]\n",
    "sber_vac"
   ]
  },
  {
   "cell_type": "code",
   "execution_count": null,
   "id": "09b0fe4e",
   "metadata": {},
   "outputs": [],
   "source": [
    "from sklearn.feature_extraction.text import TfidfVectorizer\n",
    "from sklearn.model_selection import train_test_split\n",
    "from sklearn import tree\n",
    "from sklearn.metrics import f1_score\n",
    "import nltk\n",
    "import ssl\n",
    "from nltk.corpus import stopwords\n",
    "import re\n",
    "import pymorphy2"
   ]
  },
  {
   "cell_type": "code",
   "execution_count": null,
   "id": "c1b64fcb",
   "metadata": {},
   "outputs": [],
   "source": [
    "sber_vac_2 = pd.DataFrame(sber_vac, columns = ['description'])\n",
    "sber_vac_2 "
   ]
  },
  {
   "cell_type": "code",
   "execution_count": null,
   "id": "7cf55838",
   "metadata": {},
   "outputs": [],
   "source": [
    "RANDOM_STATE = 222"
   ]
  },
  {
   "cell_type": "code",
   "execution_count": null,
   "id": "f7cc5707",
   "metadata": {},
   "outputs": [],
   "source": [
    "text_transformer = TfidfVectorizer()"
   ]
  },
  {
   "cell_type": "code",
   "execution_count": null,
   "id": "4667f7fc",
   "metadata": {},
   "outputs": [],
   "source": [
    "text = text_transformer.fit_transform(sber_vac_2['description'])"
   ]
  },
  {
   "cell_type": "code",
   "execution_count": null,
   "id": "186ea354",
   "metadata": {},
   "outputs": [],
   "source": [
    "text"
   ]
  },
  {
   "cell_type": "code",
   "execution_count": null,
   "id": "84900d0c",
   "metadata": {},
   "outputs": [],
   "source": [
    "import nltk\n",
    "import ssl\n",
    "\n",
    "try:\n",
    "    _create_unverified_https_context = ssl._create_unverified_context\n",
    "except AttributeError:\n",
    "    pass\n",
    "else:\n",
    "    ssl._create_default_https_context = _create_unverified_https_context\n",
    "\n",
    "nltk.download()"
   ]
  },
  {
   "cell_type": "code",
   "execution_count": null,
   "id": "44515a32",
   "metadata": {},
   "outputs": [],
   "source": [
    "nltk.download('stopwords')"
   ]
  },
  {
   "cell_type": "code",
   "execution_count": null,
   "id": "3058ad76",
   "metadata": {},
   "outputs": [],
   "source": [
    "stop_russian = stopwords.words('russian')"
   ]
  },
  {
   "cell_type": "code",
   "execution_count": null,
   "id": "09a7b7da",
   "metadata": {},
   "outputs": [],
   "source": [
    "text_transformer2 = TfidfVectorizer(stop_words=stop_russian, \n",
    "                                   ngram_range=(1,1), \n",
    "                                   lowercase=True)"
   ]
  },
  {
   "cell_type": "code",
   "execution_count": null,
   "id": "95488b56",
   "metadata": {},
   "outputs": [],
   "source": [
    "def remove_trash(list): \n",
    "    pattern = r'[^А-Яа-я]+'\n",
    "    try:\n",
    "      list = [re.sub(pattern, ' ', i) for i in list] \n",
    "#       print (list)\n",
    "    except Exception as e:\n",
    "      print(e)\n",
    "    return list"
   ]
  },
  {
   "cell_type": "code",
   "execution_count": null,
   "id": "722757b1",
   "metadata": {},
   "outputs": [],
   "source": [
    "sber_vac_2['text_clean'] = remove_trash(sber_vac_2['description'])"
   ]
  },
  {
   "cell_type": "code",
   "execution_count": null,
   "id": "6e41dd8d",
   "metadata": {},
   "outputs": [],
   "source": [
    "sber_vac_2"
   ]
  },
  {
   "cell_type": "code",
   "execution_count": null,
   "id": "9c7d56fd",
   "metadata": {},
   "outputs": [],
   "source": [
    "morph = pymorphy2.MorphAnalyzer()"
   ]
  },
  {
   "cell_type": "code",
   "execution_count": null,
   "id": "63f9d7e3",
   "metadata": {},
   "outputs": [],
   "source": [
    "def lemmatize(row):\n",
    "    t = []\n",
    "    text = row['text_clean']\n",
    "    for word in text.split():\n",
    "        if len(word)<=1:\n",
    "            continue\n",
    "        p = morph.parse(word)[0]\n",
    "        t.append(p.normal_form)\n",
    "    return \" \".join(t)"
   ]
  },
  {
   "cell_type": "code",
   "execution_count": null,
   "id": "ea20b3ca",
   "metadata": {},
   "outputs": [],
   "source": [
    "sber_vac_2['text_clean_norm'] = sber_vac_2.apply(lemmatize,axis=1)"
   ]
  },
  {
   "cell_type": "code",
   "execution_count": null,
   "id": "0abfe5b5",
   "metadata": {},
   "outputs": [],
   "source": [
    "sber_vac_2"
   ]
  },
  {
   "cell_type": "code",
   "execution_count": null,
   "id": "5c8321c7",
   "metadata": {},
   "outputs": [],
   "source": [
    "from collections import Counter\n",
    "\n",
    "vacancy_descr = sber_vac_2.text_clean_norm \n",
    "cloud = Counter(vacancy_descr)\n",
    "from wordcloud import WordCloud, STOPWORDS\n",
    "stopwords = set(STOPWORDS)\n",
    "cloud = ''\n",
    "for x in list(vacancy_descr):\n",
    "    cloud+=x+' '\n",
    "wordcloud = WordCloud(width = 800, height = 800, \n",
    "\n",
    "                stopwords = stopwords, \n",
    "                min_font_size = 8,background_color='white'\n",
    "                     ).generate(cloud)\n",
    "\n",
    "import matplotlib.pylab as plt\n",
    "plt.figure(figsize = (16, 16)) \n",
    "plt.imshow(wordcloud)\n",
    "plt.savefig('vacancy_cloud.png')\n"
   ]
  },
  {
   "cell_type": "code",
   "execution_count": null,
   "id": "96196668",
   "metadata": {},
   "outputs": [],
   "source": []
  }
 ],
 "metadata": {
  "kernelspec": {
   "display_name": "Python 3",
   "language": "python",
   "name": "python3"
  },
  "language_info": {
   "codemirror_mode": {
    "name": "ipython",
    "version": 3
   },
   "file_extension": ".py",
   "mimetype": "text/x-python",
   "name": "python",
   "nbconvert_exporter": "python",
   "pygments_lexer": "ipython3",
   "version": "3.8.8"
  }
 },
 "nbformat": 4,
 "nbformat_minor": 5
}
