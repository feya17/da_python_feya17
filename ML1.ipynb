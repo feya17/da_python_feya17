{
 "cells": [
  {
   "cell_type": "code",
   "execution_count": 1,
   "id": "220243d3",
   "metadata": {},
   "outputs": [
    {
     "name": "stderr",
     "output_type": "stream",
     "text": [
      "C:\\Users\\1\\anaconda3\\lib\\site-packages\\scipy\\__init__.py:138: UserWarning: A NumPy version >=1.16.5 and <1.23.0 is required for this version of SciPy (detected version 1.24.2)\n",
      "  warnings.warn(f\"A NumPy version >={np_minversion} and <{np_maxversion} is required for this version of \"\n"
     ]
    }
   ],
   "source": [
    "import pandas as pd\n",
    "from sklearn.model_selection import train_test_split\n",
    "from sklearn.linear_model import LinearRegression\n",
    "from sklearn.metrics import mean_squared_error"
   ]
  },
  {
   "cell_type": "code",
   "execution_count": 31,
   "id": "e85fc46b",
   "metadata": {},
   "outputs": [],
   "source": [
    "df = pd.read_excel ('boston_housing.xlsx'\n",
    "                   ,  header= None, \n",
    "                   names=['crim', 'zn', 'indus', 'chas', 'nox', 'rm', 'age', \n",
    "                          'dis', 'rad', 'tax', 'ptratio', 'black', 'lstat', 'medv']\n",
    "                 )"
   ]
  },
  {
   "cell_type": "code",
   "execution_count": 33,
   "id": "db290601",
   "metadata": {},
   "outputs": [
    {
     "data": {
      "text/html": [
       "<div>\n",
       "<style scoped>\n",
       "    .dataframe tbody tr th:only-of-type {\n",
       "        vertical-align: middle;\n",
       "    }\n",
       "\n",
       "    .dataframe tbody tr th {\n",
       "        vertical-align: top;\n",
       "    }\n",
       "\n",
       "    .dataframe thead th {\n",
       "        text-align: right;\n",
       "    }\n",
       "</style>\n",
       "<table border=\"1\" class=\"dataframe\">\n",
       "  <thead>\n",
       "    <tr style=\"text-align: right;\">\n",
       "      <th></th>\n",
       "      <th>crim</th>\n",
       "      <th>zn</th>\n",
       "      <th>indus</th>\n",
       "      <th>chas</th>\n",
       "      <th>nox</th>\n",
       "      <th>rm</th>\n",
       "      <th>age</th>\n",
       "      <th>dis</th>\n",
       "      <th>rad</th>\n",
       "      <th>tax</th>\n",
       "      <th>ptratio</th>\n",
       "      <th>black</th>\n",
       "      <th>lstat</th>\n",
       "      <th>medv</th>\n",
       "    </tr>\n",
       "  </thead>\n",
       "  <tbody>\n",
       "    <tr>\n",
       "      <th>0</th>\n",
       "      <td>0.00632</td>\n",
       "      <td>18.0</td>\n",
       "      <td>2.31</td>\n",
       "      <td>0</td>\n",
       "      <td>0.538</td>\n",
       "      <td>6.575</td>\n",
       "      <td>65.2</td>\n",
       "      <td>4.0900</td>\n",
       "      <td>1</td>\n",
       "      <td>296.0</td>\n",
       "      <td>15.3</td>\n",
       "      <td>396.90</td>\n",
       "      <td>4.98</td>\n",
       "      <td>24.0</td>\n",
       "    </tr>\n",
       "    <tr>\n",
       "      <th>1</th>\n",
       "      <td>0.02731</td>\n",
       "      <td>0.0</td>\n",
       "      <td>7.07</td>\n",
       "      <td>0</td>\n",
       "      <td>0.469</td>\n",
       "      <td>6.421</td>\n",
       "      <td>78.9</td>\n",
       "      <td>4.9671</td>\n",
       "      <td>2</td>\n",
       "      <td>242.0</td>\n",
       "      <td>17.8</td>\n",
       "      <td>396.90</td>\n",
       "      <td>9.14</td>\n",
       "      <td>21.6</td>\n",
       "    </tr>\n",
       "    <tr>\n",
       "      <th>2</th>\n",
       "      <td>0.02729</td>\n",
       "      <td>0.0</td>\n",
       "      <td>7.07</td>\n",
       "      <td>0</td>\n",
       "      <td>0.469</td>\n",
       "      <td>7.185</td>\n",
       "      <td>61.1</td>\n",
       "      <td>4.9671</td>\n",
       "      <td>2</td>\n",
       "      <td>242.0</td>\n",
       "      <td>17.8</td>\n",
       "      <td>392.83</td>\n",
       "      <td>4.03</td>\n",
       "      <td>34.7</td>\n",
       "    </tr>\n",
       "    <tr>\n",
       "      <th>3</th>\n",
       "      <td>0.03237</td>\n",
       "      <td>0.0</td>\n",
       "      <td>2.18</td>\n",
       "      <td>0</td>\n",
       "      <td>0.458</td>\n",
       "      <td>6.998</td>\n",
       "      <td>45.8</td>\n",
       "      <td>6.0622</td>\n",
       "      <td>3</td>\n",
       "      <td>222.0</td>\n",
       "      <td>18.7</td>\n",
       "      <td>394.63</td>\n",
       "      <td>2.94</td>\n",
       "      <td>33.4</td>\n",
       "    </tr>\n",
       "    <tr>\n",
       "      <th>4</th>\n",
       "      <td>0.06905</td>\n",
       "      <td>0.0</td>\n",
       "      <td>2.18</td>\n",
       "      <td>0</td>\n",
       "      <td>0.458</td>\n",
       "      <td>7.147</td>\n",
       "      <td>54.2</td>\n",
       "      <td>6.0622</td>\n",
       "      <td>3</td>\n",
       "      <td>222.0</td>\n",
       "      <td>18.7</td>\n",
       "      <td>396.90</td>\n",
       "      <td>5.33</td>\n",
       "      <td>36.2</td>\n",
       "    </tr>\n",
       "    <tr>\n",
       "      <th>...</th>\n",
       "      <td>...</td>\n",
       "      <td>...</td>\n",
       "      <td>...</td>\n",
       "      <td>...</td>\n",
       "      <td>...</td>\n",
       "      <td>...</td>\n",
       "      <td>...</td>\n",
       "      <td>...</td>\n",
       "      <td>...</td>\n",
       "      <td>...</td>\n",
       "      <td>...</td>\n",
       "      <td>...</td>\n",
       "      <td>...</td>\n",
       "      <td>...</td>\n",
       "    </tr>\n",
       "    <tr>\n",
       "      <th>287</th>\n",
       "      <td>0.03871</td>\n",
       "      <td>52.5</td>\n",
       "      <td>5.32</td>\n",
       "      <td>0</td>\n",
       "      <td>0.405</td>\n",
       "      <td>6.209</td>\n",
       "      <td>31.3</td>\n",
       "      <td>7.3172</td>\n",
       "      <td>6</td>\n",
       "      <td>293.0</td>\n",
       "      <td>16.6</td>\n",
       "      <td>396.90</td>\n",
       "      <td>7.14</td>\n",
       "      <td>23.2</td>\n",
       "    </tr>\n",
       "    <tr>\n",
       "      <th>288</th>\n",
       "      <td>0.04590</td>\n",
       "      <td>52.5</td>\n",
       "      <td>5.32</td>\n",
       "      <td>0</td>\n",
       "      <td>0.405</td>\n",
       "      <td>6.315</td>\n",
       "      <td>45.6</td>\n",
       "      <td>7.3172</td>\n",
       "      <td>6</td>\n",
       "      <td>293.0</td>\n",
       "      <td>16.6</td>\n",
       "      <td>396.90</td>\n",
       "      <td>7.60</td>\n",
       "      <td>22.3</td>\n",
       "    </tr>\n",
       "    <tr>\n",
       "      <th>289</th>\n",
       "      <td>0.04297</td>\n",
       "      <td>52.5</td>\n",
       "      <td>5.32</td>\n",
       "      <td>0</td>\n",
       "      <td>0.405</td>\n",
       "      <td>6.565</td>\n",
       "      <td>22.9</td>\n",
       "      <td>7.3172</td>\n",
       "      <td>6</td>\n",
       "      <td>293.0</td>\n",
       "      <td>16.6</td>\n",
       "      <td>371.72</td>\n",
       "      <td>9.51</td>\n",
       "      <td>24.8</td>\n",
       "    </tr>\n",
       "    <tr>\n",
       "      <th>290</th>\n",
       "      <td>0.03502</td>\n",
       "      <td>80.0</td>\n",
       "      <td>4.95</td>\n",
       "      <td>0</td>\n",
       "      <td>0.411</td>\n",
       "      <td>6.861</td>\n",
       "      <td>27.9</td>\n",
       "      <td>5.1167</td>\n",
       "      <td>4</td>\n",
       "      <td>245.0</td>\n",
       "      <td>19.2</td>\n",
       "      <td>396.90</td>\n",
       "      <td>3.33</td>\n",
       "      <td>28.5</td>\n",
       "    </tr>\n",
       "    <tr>\n",
       "      <th>291</th>\n",
       "      <td>0.07886</td>\n",
       "      <td>80.0</td>\n",
       "      <td>4.95</td>\n",
       "      <td>0</td>\n",
       "      <td>0.411</td>\n",
       "      <td>7.148</td>\n",
       "      <td>27.7</td>\n",
       "      <td>5.1167</td>\n",
       "      <td>4</td>\n",
       "      <td>245.0</td>\n",
       "      <td>19.2</td>\n",
       "      <td>396.90</td>\n",
       "      <td>3.56</td>\n",
       "      <td>37.3</td>\n",
       "    </tr>\n",
       "  </tbody>\n",
       "</table>\n",
       "<p>292 rows × 14 columns</p>\n",
       "</div>"
      ],
      "text/plain": [
       "        crim    zn  indus  chas    nox     rm   age     dis  rad    tax  \\\n",
       "0    0.00632  18.0   2.31     0  0.538  6.575  65.2  4.0900    1  296.0   \n",
       "1    0.02731   0.0   7.07     0  0.469  6.421  78.9  4.9671    2  242.0   \n",
       "2    0.02729   0.0   7.07     0  0.469  7.185  61.1  4.9671    2  242.0   \n",
       "3    0.03237   0.0   2.18     0  0.458  6.998  45.8  6.0622    3  222.0   \n",
       "4    0.06905   0.0   2.18     0  0.458  7.147  54.2  6.0622    3  222.0   \n",
       "..       ...   ...    ...   ...    ...    ...   ...     ...  ...    ...   \n",
       "287  0.03871  52.5   5.32     0  0.405  6.209  31.3  7.3172    6  293.0   \n",
       "288  0.04590  52.5   5.32     0  0.405  6.315  45.6  7.3172    6  293.0   \n",
       "289  0.04297  52.5   5.32     0  0.405  6.565  22.9  7.3172    6  293.0   \n",
       "290  0.03502  80.0   4.95     0  0.411  6.861  27.9  5.1167    4  245.0   \n",
       "291  0.07886  80.0   4.95     0  0.411  7.148  27.7  5.1167    4  245.0   \n",
       "\n",
       "     ptratio   black  lstat  medv  \n",
       "0       15.3  396.90   4.98  24.0  \n",
       "1       17.8  396.90   9.14  21.6  \n",
       "2       17.8  392.83   4.03  34.7  \n",
       "3       18.7  394.63   2.94  33.4  \n",
       "4       18.7  396.90   5.33  36.2  \n",
       "..       ...     ...    ...   ...  \n",
       "287     16.6  396.90   7.14  23.2  \n",
       "288     16.6  396.90   7.60  22.3  \n",
       "289     16.6  371.72   9.51  24.8  \n",
       "290     19.2  396.90   3.33  28.5  \n",
       "291     19.2  396.90   3.56  37.3  \n",
       "\n",
       "[292 rows x 14 columns]"
      ]
     },
     "execution_count": 33,
     "metadata": {},
     "output_type": "execute_result"
    }
   ],
   "source": [
    "df"
   ]
  },
  {
   "cell_type": "code",
   "execution_count": 34,
   "id": "13f74923",
   "metadata": {},
   "outputs": [],
   "source": [
    "X_train, X_test, y_train, y_test = train_test_split(df.drop('medv',axis=1), \n",
    "                                                    df['medv'], \n",
    "                                                    test_size=0.3, \n",
    "                                                    random_state=777)"
   ]
  },
  {
   "cell_type": "code",
   "execution_count": 35,
   "id": "0944801c",
   "metadata": {},
   "outputs": [
    {
     "name": "stdout",
     "output_type": "stream",
     "text": [
      "(204, 13)\n",
      "(88, 13)\n"
     ]
    }
   ],
   "source": [
    "print(X_train.shape)\n",
    "print(X_test.shape)"
   ]
  },
  {
   "cell_type": "code",
   "execution_count": 36,
   "id": "8980bee8",
   "metadata": {},
   "outputs": [],
   "source": [
    "first_model = LinearRegression()"
   ]
  },
  {
   "cell_type": "code",
   "execution_count": 37,
   "id": "1b693375",
   "metadata": {},
   "outputs": [
    {
     "name": "stdout",
     "output_type": "stream",
     "text": [
      "Wall time: 1.65 s\n"
     ]
    },
    {
     "data": {
      "text/plain": [
       "LinearRegression()"
      ]
     },
     "execution_count": 37,
     "metadata": {},
     "output_type": "execute_result"
    }
   ],
   "source": [
    "%%time\n",
    "first_model.fit(X_train, y_train)"
   ]
  },
  {
   "cell_type": "code",
   "execution_count": 39,
   "id": "d6cf9e07",
   "metadata": {},
   "outputs": [
    {
     "name": "stdout",
     "output_type": "stream",
     "text": [
      "[23.61355818 27.78891526 13.49273811 17.36683228 23.24928838 15.30411098\n",
      " 22.48767992 31.66291726 26.98480472 12.1327505  22.77899971 33.32077802\n",
      " 30.03645826 32.99457734 19.95215428 21.64183501 27.21176045 29.92891851\n",
      " 34.33441283 13.49009698 22.62512226 27.26186792 29.69321066 46.12034981\n",
      " 13.94463008 25.64909725 17.42087242 28.13268539 15.75207445 20.9858576\n",
      " 27.23809195 19.51478762 34.38404715 22.33250369 38.74461617 11.09082319\n",
      "  4.89903937 22.89351602 14.03534602 23.66436926 13.62577577 32.75378403\n",
      " 24.12133322  9.83237779 18.87988642 31.47360397 33.47149557 40.70325062\n",
      " 17.09709625 21.48588327 51.92437914 24.65413654 30.43215146 21.98749178\n",
      " 40.03442872 21.67795464 21.44367882 12.22704476 41.13128511 22.22887227\n",
      " 16.0205898  21.98420424 32.95991036 20.7669184  24.89174548  9.30098562\n",
      " 22.30091382 16.85938159 33.22838246 36.57899131 18.68850858 34.40643898\n",
      " 48.8721416  14.300749   31.88551954 17.90057114 22.92102031 27.88351029\n",
      " 18.65511527 30.09674046 21.19672094 25.19226772 26.80572652 28.81043767\n",
      " 40.10049935 44.55249913 27.14374341 24.68385825]\n"
     ]
    }
   ],
   "source": [
    "pred = first_model.predict(X_test)\n",
    "print (pred)"
   ]
  },
  {
   "cell_type": "code",
   "execution_count": 40,
   "id": "0481aec5",
   "metadata": {},
   "outputs": [
    {
     "name": "stdout",
     "output_type": "stream",
     "text": [
      "[26.79912136 42.39823804 39.4729123  45.45760765 19.6503324   9.03668249\n",
      " 20.54711678 19.79455998 20.32252631 41.94845408 10.00793543 18.1700122\n",
      " 23.62682342 17.86736674 15.5492466  26.39860531 16.8261713  22.99902382\n",
      " 25.63568429 26.22283564 22.62403968 16.42401165 15.07618592 19.42638989\n",
      " 31.63353616 34.54307687 31.52353839 35.62288439 37.01452432 22.68775678\n",
      " 28.47395108 20.08159387 21.03222895 16.57942682 25.04394264 48.25097102\n",
      " 30.08036242 34.47077746 17.91940291 19.80993496 43.15955393 24.17497764\n",
      " 20.37406494 26.98044131 20.9068202  26.02664321 33.96300597 25.40281237\n",
      " 23.84355933 32.34210822 17.09476797 13.97688726 16.09245352 48.15309421\n",
      " 20.41554513 18.20544656 43.1166703  21.2670046  27.01438668 24.48251119\n",
      " 21.55018811 20.07964512 16.67249703 21.18916168 34.67084251 19.37166419\n",
      " 33.83987946 29.08054418 19.39585035 24.89405814 26.43230393 25.50069411\n",
      " 46.43155409 13.57271724 44.89156687 42.98308532 31.87757604 44.1437307\n",
      " 19.50296002 25.16770219 26.55683353 22.22126824 33.83739165 22.66829146\n",
      " 20.11546875 34.26492477 25.81705067 18.14453561 17.66482521 37.11130857\n",
      " 26.54896744 14.33464854 15.41911814 33.02574975 29.38149712 22.6613705\n",
      " 27.74178217 25.60051085 38.08332502 36.73423547 16.15568972 20.22478364\n",
      " 25.52333602 22.53839295 19.93086478 29.81949479 23.07729299 29.95672474\n",
      " 19.82278039 19.17213703 21.80609422 23.34470085 35.92862962 35.26003306\n",
      " 28.32873437 20.24527479 30.56968222 21.23473118 12.82050355 31.72374035\n",
      " 24.57193437 24.56810059 21.22424428 46.91946727 19.84712123 25.99509773\n",
      " 22.90201242 14.77293512 21.23095348 22.52038819 22.14722439 43.98185561\n",
      " 29.52632046 15.57009025 23.68589845 28.0876562  28.61401192 27.59999274\n",
      " 13.56186524 22.71959685 18.88091253 12.34787475 17.86994277 17.77612091\n",
      " 26.37490667 35.1330959  20.13355843 34.78881081 28.99792458 28.96400403\n",
      " 35.44155031 31.81028439 28.55463362 16.03518167 24.06431697 28.48977312\n",
      " 41.80044924 20.66466711 26.06660156 16.26261614 29.60113784 32.44462437\n",
      " 37.23680859 20.76248149 41.85679957 14.44840064 15.48457197 12.46525824\n",
      " 49.4945024  23.30834379 31.48123284 28.01988428 12.76456725 22.34777705\n",
      " 21.62674405 23.33939304 22.46145166 21.8727253  17.69551766 36.43118526\n",
      " 21.17878607 21.76758043 42.01840865 21.1294284  27.0452563  16.53674079\n",
      " 39.63775612 20.96058545 25.81500025 35.37512377 31.61698013 18.67549766\n",
      " 26.82687431 37.55662144 12.38928487 16.44717064 42.83624166 22.01689182\n",
      " 13.91241677 33.24607928 21.59169018 23.95334368 20.09170466 19.51964421]\n"
     ]
    }
   ],
   "source": [
    "pred1 = first_model.predict(X_train)\n",
    "print (pred1)"
   ]
  },
  {
   "cell_type": "code",
   "execution_count": 41,
   "id": "acc778d2",
   "metadata": {},
   "outputs": [],
   "source": [
    "test_pred = X_test.copy()"
   ]
  },
  {
   "cell_type": "code",
   "execution_count": 42,
   "id": "02692917",
   "metadata": {},
   "outputs": [],
   "source": [
    "test_pred['predict'] = pred\n",
    "test_pred['real_medv'] = y_test"
   ]
  },
  {
   "cell_type": "code",
   "execution_count": 43,
   "id": "41f626a4",
   "metadata": {},
   "outputs": [
    {
     "data": {
      "text/html": [
       "<div>\n",
       "<style scoped>\n",
       "    .dataframe tbody tr th:only-of-type {\n",
       "        vertical-align: middle;\n",
       "    }\n",
       "\n",
       "    .dataframe tbody tr th {\n",
       "        vertical-align: top;\n",
       "    }\n",
       "\n",
       "    .dataframe thead th {\n",
       "        text-align: right;\n",
       "    }\n",
       "</style>\n",
       "<table border=\"1\" class=\"dataframe\">\n",
       "  <thead>\n",
       "    <tr style=\"text-align: right;\">\n",
       "      <th></th>\n",
       "      <th>predict</th>\n",
       "      <th>real_medv</th>\n",
       "    </tr>\n",
       "  </thead>\n",
       "  <tbody>\n",
       "    <tr>\n",
       "      <th>56</th>\n",
       "      <td>23.613558</td>\n",
       "      <td>24.7</td>\n",
       "    </tr>\n",
       "    <tr>\n",
       "      <th>219</th>\n",
       "      <td>27.788915</td>\n",
       "      <td>23.0</td>\n",
       "    </tr>\n",
       "    <tr>\n",
       "      <th>214</th>\n",
       "      <td>13.492738</td>\n",
       "      <td>23.7</td>\n",
       "    </tr>\n",
       "    <tr>\n",
       "      <th>61</th>\n",
       "      <td>17.366832</td>\n",
       "      <td>16.0</td>\n",
       "    </tr>\n",
       "    <tr>\n",
       "      <th>165</th>\n",
       "      <td>23.249288</td>\n",
       "      <td>25.0</td>\n",
       "    </tr>\n",
       "  </tbody>\n",
       "</table>\n",
       "</div>"
      ],
      "text/plain": [
       "       predict  real_medv\n",
       "56   23.613558       24.7\n",
       "219  27.788915       23.0\n",
       "214  13.492738       23.7\n",
       "61   17.366832       16.0\n",
       "165  23.249288       25.0"
      ]
     },
     "execution_count": 43,
     "metadata": {},
     "output_type": "execute_result"
    }
   ],
   "source": [
    "test_pred[['predict','real_medv']].head()"
   ]
  },
  {
   "cell_type": "code",
   "execution_count": 45,
   "id": "c16a4c21",
   "metadata": {},
   "outputs": [
    {
     "name": "stdout",
     "output_type": "stream",
     "text": [
      "Ошибка RMSE c random seed 777 на тестовой выборке = 11.518162544265023\n",
      "Ошибка RMSE c random seed 777 на обучающей выборке = 9.825775443032839\n"
     ]
    }
   ],
   "source": [
    "print('Ошибка RMSE c random seed 777 на тестовой выборке =',mean_squared_error(y_test, pred))\n",
    "print('Ошибка RMSE c random seed 777 на обучающей выборке =',mean_squared_error(y_train, pred1))"
   ]
  },
  {
   "cell_type": "code",
   "execution_count": 46,
   "id": "71a45411",
   "metadata": {},
   "outputs": [
    {
     "data": {
      "text/plain": [
       "11.197312615646547"
      ]
     },
     "execution_count": 46,
     "metadata": {},
     "output_type": "execute_result"
    }
   ],
   "source": [
    "pr = []\n",
    "\n",
    "\n",
    "for i in range(1000):\n",
    "    X_train, X_test, y_train, y_test = train_test_split(df.drop('medv',axis=1), \n",
    "                                                    df['medv'], \n",
    "                                                    test_size=0.3, \n",
    "                                                    random_state=i)\n",
    "    my_super_first_model = LinearRegression()\n",
    "    my_super_first_model.fit(X_train, y_train)\n",
    "    pred = my_super_first_model.predict(X_test)\n",
    "#     print('Ошибка c random seed=',i,' RMSE =',mean_squared_error(y_test, pred))\n",
    "    pr.append(mean_squared_error(y_test, pred))\n",
    "\n",
    "pd.Series(pr).mean()"
   ]
  },
  {
   "cell_type": "code",
   "execution_count": null,
   "id": "11529750",
   "metadata": {},
   "outputs": [],
   "source": []
  }
 ],
 "metadata": {
  "kernelspec": {
   "display_name": "Python 3",
   "language": "python",
   "name": "python3"
  },
  "language_info": {
   "codemirror_mode": {
    "name": "ipython",
    "version": 3
   },
   "file_extension": ".py",
   "mimetype": "text/x-python",
   "name": "python",
   "nbconvert_exporter": "python",
   "pygments_lexer": "ipython3",
   "version": "3.8.8"
  }
 },
 "nbformat": 4,
 "nbformat_minor": 5
}
