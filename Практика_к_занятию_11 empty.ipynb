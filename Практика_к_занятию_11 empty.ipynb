{
 "cells": [
  {
   "cell_type": "markdown",
   "metadata": {
    "id": "pDrecLU-4QjS"
   },
   "source": [
    "# Практика"
   ]
  },
  {
   "cell_type": "markdown",
   "metadata": {
    "id": "gUvTNDlMaV-a"
   },
   "source": [
    "## Определение вероятности. События\n",
    "\n",
    "Требуется сгенерировать необходимые выборки и произвести по ним расчеты"
   ]
  },
  {
   "cell_type": "markdown",
   "metadata": {
    "id": "5V70InEBTgup"
   },
   "source": [
    "### Задача 1\n",
    "Брошено две монеты. Найти вероятность того, что монеты выпали разными сторонами"
   ]
  },
  {
   "cell_type": "code",
   "execution_count": 23,
   "metadata": {
    "id": "88Iw-SL3jYQV"
   },
   "outputs": [],
   "source": [
    "import pandas as pd\n",
    "import numpy as np\n",
    "import matplotlib.pyplot as plt\n",
    "import random\n",
    "import scipy.stats as sts\n",
    "%matplotlib inline\n",
    "from itertools import product,combinations\n",
    "import warnings\n",
    "warnings.filterwarnings('ignore')"
   ]
  },
  {
   "cell_type": "code",
   "execution_count": 24,
   "metadata": {},
   "outputs": [
    {
     "name": "stdout",
     "output_type": "stream",
     "text": [
      "Монеты выпали разными сторонами\n"
     ]
    }
   ],
   "source": [
    "import random\n",
    "\n",
    "# определяем список возможных исходов\n",
    "outcomes = ['орел-орел', 'орел-решка', 'решка-орел', 'решка-решка']\n",
    "\n",
    "# генерируем случайный исход из списка \n",
    "outcome = random.choice(outcomes)\n",
    "\n",
    "# выводим результат\n",
    "if outcome == 'орел-решка' or outcome == 'решка-орел':\n",
    "    print('Монеты выпали разными сторонами')\n",
    "else:\n",
    "    print('Монеты выпали одной стороной')"
   ]
  },
  {
   "cell_type": "code",
   "execution_count": 25,
   "metadata": {},
   "outputs": [
    {
     "name": "stdout",
     "output_type": "stream",
     "text": [
      "Вероятность того, что монеты выпали разными сторонами 0.4\n"
     ]
    }
   ],
   "source": [
    "#определяем возможные исходы по каждой  монете\n",
    "M1 = ['Орел', 'Решка']\n",
    "M2 = ['Орел', 'Решка']\n",
    "\n",
    "# задаем число экспериментов\n",
    "n = 10\n",
    "\n",
    "# определяем значение вероятности\n",
    "x = 0\n",
    "y = 1\n",
    "while y <= n:\n",
    "  if random.choice(M1) != random.choice(M2):\n",
    "    x += 1\n",
    "    y += 1\n",
    "  else: y += 1\n",
    "P = x/n\n",
    "print(f'Вероятность того, что монеты выпали разными сторонами {P}')"
   ]
  },
  {
   "cell_type": "markdown",
   "metadata": {
    "id": "t0XOMos2Tl0e"
   },
   "source": [
    "### Задача 2\n",
    "Брошено три монеты. Описать множество всех элементарных событий. Найти вероятности следующих событий:\n",
    "\n",
    "\n",
    "1.   A = {не выпало ни одного герба}\n",
    "2.   B = {выпало четное число гербов}\n",
    "3.   C = {на третьей монете выпал герб}\n"
   ]
  },
  {
   "cell_type": "code",
   "execution_count": 26,
   "metadata": {},
   "outputs": [
    {
     "name": "stdout",
     "output_type": "stream",
     "text": [
      "P(A) = 0.125\n",
      "P(B) = 0.5\n",
      "P(C) = 0.5\n"
     ]
    }
   ],
   "source": [
    "#Множество всех элементарных событий\n",
    "outcomes = [('О','О','О'), ('О','О','Р'), ('О','Р','О'), ('О','Р','Р'), ('Р','О','О'), ('Р','О','Р'), ('Р','Р','О'), ('Р','Р','Р')]\n",
    "\n",
    "#Вероятность события A: P(A) = 1/8 (только один из 8 элементарных исходов удовлетворяет условию, что не выпало ни одного герба, а именно (О, О, О)).\n",
    "\n",
    "A = [outcome for outcome in outcomes if 'Р' not in outcome]\n",
    "P_A = len(A)/len(outcomes)\n",
    "\n",
    "#Вероятность события B: P(B) = 4/8 = 1/2 (из 8 элементарных исходов 4 удовлетворяют условию, что выпало четное число гербов: (О, О, О), (О, Р, Р), (Р, О, Р), (Р, Р, О)).\n",
    "B = [outcome for outcome in outcomes if outcome.count('Р') % 2 == 0]\n",
    "P_B = len(B)/len(outcomes)\n",
    "\n",
    "#Вероятность события C: P(C) = 1/2 (из 8 элементарных исходов 4 удовлетворяют условию, что на третьей монете выпал герб: (О, О, Р), (О, Р, Р), (Р, О, Р), (Р, Р, Р)).\n",
    "C = [outcome for outcome in outcomes if outcome[2] == 'Р']\n",
    "P_C = len(C)/len(outcomes)\n",
    "\n",
    "print(\"P(A) =\", P_A)\n",
    "print(\"P(B) =\", P_B)\n",
    "print(\"P(C) =\", P_C)\n"
   ]
  },
  {
   "cell_type": "markdown",
   "metadata": {},
   "source": [
    "Предлагается также решить задачи: \n",
    "\n",
    "### Задача 3\n",
    "Из двух претендентов E и L на ответственную должность три члена комиссии должны отобрать одного. Каждый член комиссии должен указать либо одного достойного, либо забраковать обоих. Претендент считается выбранным, если он был признана достойным хотя бы двумя членами комиссии.\n",
    "Найти вероятность событий:\n",
    "\n",
    "A = {рекомендован L}, B = {рекомендован E}\n"
   ]
  },
  {
   "cell_type": "code",
   "execution_count": 27,
   "metadata": {},
   "outputs": [
    {
     "name": "stdout",
     "output_type": "stream",
     "text": [
      "Вероятность события A (рекомендован L): 0.375\n",
      "Вероятность события B (рекомендован E): 0.375\n"
     ]
    }
   ],
   "source": [
    "# составляем все возможные комбинации решений каждого члена комиссии\n",
    "all_solutions = list(product(['рекомендован', 'не рекомендован'], repeat=3))\n",
    "\n",
    "# находим количество комбинаций, в которых L признан достойным хотя бы двумя членами комиссии\n",
    "count_L = 0\n",
    "for solution in all_solutions:\n",
    "    if solution.count('рекомендован') >= 2 and solution.count('не рекомендован') == 1 and solution[0] != 'approve':\n",
    "        count_L += 1\n",
    "\n",
    "# находим количество комбинаций, в которых E признан достойным хотя бы двумя членами комиссии\n",
    "count_E = 0\n",
    "for solution in all_solutions:\n",
    "    if solution.count('рекомендован') >= 2 and solution.count('не рекомендован') == 1 and solution[0] != 'approve':\n",
    "        count_E += 1\n",
    "\n",
    "# находим вероятность событий\n",
    "P_A = count_L / len(all_solutions)\n",
    "P_B = count_E / len(all_solutions)\n",
    "\n",
    "print(\"Вероятность события A (рекомендован L):\", P_A)\n",
    "print(\"Вероятность события B (рекомендован E):\", P_B)\n"
   ]
  },
  {
   "cell_type": "markdown",
   "metadata": {
    "id": "peM38mVfYa5B"
   },
   "source": [
    "### Задача 4\n",
    "Брошено две игральных кости. Описать множество элементарных событий. Найти вероятности событий:\n",
    "\n",
    "A = {вышло две \"шестерки\"}\n",
    "\n",
    "B = {сумма выпавших очков не меньше 11}\n",
    "\n",
    "C = {не выпала ни одна \"шестерка\"}"
   ]
  },
  {
   "cell_type": "code",
   "execution_count": 28,
   "metadata": {},
   "outputs": [
    {
     "name": "stdout",
     "output_type": "stream",
     "text": [
      "Множество элементарных событий: {(3, 4), (4, 3), (3, 1), (5, 4), (4, 6), (5, 1), (2, 2), (1, 6), (2, 5), (1, 3), (6, 2), (6, 5), (4, 2), (4, 5), (3, 3), (5, 6), (3, 6), (5, 3), (2, 4), (1, 2), (2, 1), (1, 5), (6, 1), (6, 4), (3, 2), (4, 1), (3, 5), (5, 2), (4, 4), (5, 5), (1, 1), (1, 4), (2, 3), (2, 6), (6, 6), (6, 3)}\n",
      "Вероятность события A: 0.027777777777777776\n",
      "Вероятность события B: 0.08333333333333333\n",
      "Вероятность события C: 0.6944444444444444\n"
     ]
    }
   ],
   "source": [
    "#Множество элементарных событий: {(1,1), (1,2), ..., (6,6)} - всего 36 исходов.\n",
    "#Вероятность события A:количество исходов, благоприятствующих A / общее количество исходов = 1/36\n",
    "#Вероятность события B:всего 3 исхода, благоприятствующих B.P(B) = 3/36 = 1/12\n",
    "#Вероятность события C:всего 30 исходов, благоприятствующих C.P(C) = 30/36 = 5/6\n",
    "\n",
    "results = set()\n",
    "for i in range(1, 7):\n",
    "    for j in range(1, 7):\n",
    "        results.add((i, j))\n",
    "\n",
    "A = {(6, 6)}\n",
    "B = {(5, 6), (6, 5), (6, 6)}\n",
    "C = results - {(6, i) for i in range(1, 7)} - {(i, 6) for i in range(1, 7)}\n",
    "\n",
    "print(\"Множество элементарных событий:\", results)\n",
    "print(\"Вероятность события A:\", len(A) / len(results))\n",
    "print(\"Вероятность события B:\", len(B) / len(results))\n",
    "print(\"Вероятность события C:\", len(C) / len(results))\n",
    "\n"
   ]
  },
  {
   "cell_type": "markdown",
   "metadata": {
    "id": "f-Bi0p8haclB"
   },
   "source": [
    "## Вероятность суммы событий"
   ]
  },
  {
   "cell_type": "markdown",
   "metadata": {
    "id": "g7A7QlvGTnwZ"
   },
   "source": [
    "### Задача 5\n",
    "Брошены две игральные кости. Найти вероятность события D = {выпала хотя бы одна шестёрка}\n"
   ]
  },
  {
   "cell_type": "code",
   "execution_count": 30,
   "metadata": {
    "id": "vjtTJN-kUp9D"
   },
   "outputs": [
    {
     "name": "stdout",
     "output_type": "stream",
     "text": [
      "вероятность события D = 0.298\n"
     ]
    }
   ],
   "source": [
    "#определяем количество испытаний\n",
    "n = 1000\n",
    "D = 0\n",
    "#определяем какое число выпадет на 1 и 2 игральной кости\n",
    "n1 = [random.choice(range(1,7)) for i in range(n)] \n",
    "n2 = [random.choice(range(1,7)) for i in range(n)] \n",
    "#вычисляем вероятность, что выпала хотя бы одна шестёрка\n",
    "for i in range(n):\n",
    "    if n1[i]==6 or n2[i] ==6 or (n1[i]==6 and n2[i] == 6):\n",
    "        D+=1\n",
    "print('вероятность события D =', D/n)"
   ]
  },
  {
   "cell_type": "markdown",
   "metadata": {
    "id": "R1bYSzQQbC6I"
   },
   "source": [
    "Предлагается также решить задачи: \n",
    "\n",
    "### Задача 6\n",
    "В телефонном номере три последние цифры стерлись. Считая, что все возможные значения стершихся цифр равновероятны, найти вероятность событий:\n",
    "\n",
    "A = {Стерлись различные цифры},\n",
    "\n",
    "B = {Стерлись одинаковые цифры},\n",
    "\n",
    "C = {Среди стершихся цифр хотя бы две совпадают},\n",
    "\n",
    "D = {Среди стершихся цифр хотя бы две различны}\n"
   ]
  },
  {
   "cell_type": "code",
   "execution_count": 34,
   "metadata": {},
   "outputs": [
    {
     "name": "stdout",
     "output_type": "stream",
     "text": [
      "Вероятность события A = 0.751\n",
      "Вероятность события B = 0.007\n",
      "Вероятность события C =  0.249\n",
      "Вероятность события D =  0.993\n"
     ]
    }
   ],
   "source": [
    "#определяем количество испытаний\n",
    "n = 1000\n",
    "A=0\n",
    "B=0\n",
    "C=0\n",
    "D=0\n",
    "#определяем три цифры \n",
    "n1 = [random.choice(range(0,10)) for i in range(n)] \n",
    "n2 = [random.choice(range(0,10)) for i in range(n)] \n",
    "n3 = [random.choice(range(0,10)) for i in range(n)] \n",
    "#вычисляем вероятность событий\n",
    "for i in range(n):\n",
    "    if n1[i]!=n2[i] and n2[i]!=n3[i] and n3[i]!=n1[i]:\n",
    "        A+=1\n",
    "    if n1[i]==n2[i] and n2[i]==n3[i] and n3[i]==n1[i]:\n",
    "        B+=1\n",
    "    if n1[i]==n2[i] or n2[i]==n3[i] or n3[i]==n1[i]:\n",
    "        C+=1\n",
    "    if n1[i]!=n2[i] or n2[i]!=n3[i] or n3[i]!=n1[i]:\n",
    "        D+=1\n",
    "\n",
    "print('Вероятность события A =', A/n)\n",
    "print('Вероятность события B =', B/n)\n",
    "print('Вероятность события C = ', C/n)\n",
    "print('Вероятность события D = ', D/n)"
   ]
  },
  {
   "cell_type": "markdown",
   "metadata": {
    "id": "RnugkR8BalK_"
   },
   "source": [
    "## Случайные величины"
   ]
  },
  {
   "cell_type": "markdown",
   "metadata": {
    "id": "yLoZDZ17UVsp"
   },
   "source": [
    "### Задача 7\n",
    "В лотерее имеется 10 билетов, из которых один выигрышный. Размер выигрыша 10 ден. ед.; стоимость билета 1 ден ед. Найти закон распределения случайной величины X, равной чистому выигрышу участника лотереи, который вытаскивает билет первым."
   ]
  },
  {
   "cell_type": "code",
   "execution_count": 35,
   "metadata": {
    "id": "oNk432sKUqzT"
   },
   "outputs": [
    {
     "data": {
      "text/plain": [
       "array([0, 1, 0, 0, 0, 0, 0, 0, 0, 0])"
      ]
     },
     "execution_count": 35,
     "metadata": {},
     "output_type": "execute_result"
    }
   ],
   "source": [
    "# задаётся один параметр -- вероятность успеха\n",
    "bernoulli_rv = sts.bernoulli(0.1) \n",
    "bernoulli_rv.rvs(10)"
   ]
  },
  {
   "cell_type": "code",
   "execution_count": 41,
   "metadata": {},
   "outputs": [
    {
     "name": "stdout",
     "output_type": "stream",
     "text": [
      "Проигрыш -1 денежных единиц\n"
     ]
    }
   ],
   "source": [
    "# определяем номер выигрышного билета\n",
    "win_ticket = random.randint(1, 10) \n",
    "#считаем выигрыш\n",
    "if win_ticket == 1: \n",
    "    money_win = 10 - 1 \n",
    "    print(\"Выигрыш\", money_win, \"денежных единиц\")\n",
    "else: \n",
    "    money_win = -1 \n",
    "    print(\"Проигрыш\", money_win, \"денежных единиц\")"
   ]
  },
  {
   "cell_type": "markdown",
   "metadata": {
    "id": "U-NK9liSbpvb"
   },
   "source": [
    "Предлагается также решить задачу: \n",
    "\n",
    "### Задача 8\n",
    "Брошены две игральные кости. Найти закон распределения случайной величины $X$, равной сумме выпавших очков. Найти вероятности событий ${X <= 4}$, ${X > 4}$"
   ]
  },
  {
   "cell_type": "code",
   "execution_count": null,
   "metadata": {},
   "outputs": [],
   "source": [
    "#не получилось решить, сложно "
   ]
  },
  {
   "cell_type": "markdown",
   "metadata": {
    "id": "shgW4D83awjK"
   },
   "source": [
    "## Условные вероятности"
   ]
  },
  {
   "cell_type": "markdown",
   "metadata": {
    "id": "Fbu1RFZwWZrk"
   },
   "source": [
    "### Задача 9\n",
    "Из колоды (36 карт) вынимают последовательно без возвращения две карты. Найти вероятность того, что первой картой была шестерка, а второй — семерка. Найти условную вероятность того же события при условии, что обе карты бубновой масти.\n"
   ]
  },
  {
   "cell_type": "code",
   "execution_count": 42,
   "metadata": {
    "id": "037o56awW9-E"
   },
   "outputs": [
    {
     "name": "stdout",
     "output_type": "stream",
     "text": [
      "Вероятность того, что первой картой была шестерка, а второй — семерка 0.012698412698412697\n"
     ]
    }
   ],
   "source": [
    "# вероятность того, что первой картой была шестерка, а второй - семерка\n",
    "p1 = 4 / 36 #4 шестерки в колоде\n",
    "p2 = 4 / 35 #4 семерки из оставшихся карт\n",
    "p = p1 * p2\n",
    "print('Вероятность того, что первой картой была шестерка, а второй — семерка', p)\n"
   ]
  },
  {
   "cell_type": "code",
   "execution_count": 43,
   "metadata": {},
   "outputs": [
    {
     "name": "stdout",
     "output_type": "stream",
     "text": [
      "Вероятность того же события при условии, что обе карты бубновой масти = 0.027777777777777776\n"
     ]
    }
   ],
   "source": [
    "# Найти условную вероятность того же события при условии, что обе карты бубновой масти\n",
    "bubi = 9 / 36 #9 карт буби\n",
    "bubi_2 = 8 / 35 #осталось 8 буби и 35 карт\n",
    "bubi_3 = bubi * bubi_2 #2 карты буби вероятность\n",
    "p_cond = (2 / 36) * (1 / 35) / bubi_3\n",
    "print('Вероятность того же события при условии, что обе карты бубновой масти =', p_cond)\n"
   ]
  },
  {
   "cell_type": "markdown",
   "metadata": {
    "id": "hNVxtaz5c57b"
   },
   "source": [
    "Предлагается также решить задачу: \n",
    "\n",
    "### Задача 10\n",
    "Из урны, содержащей два белых и три черных шара, последовательно извлекают два шара; вынутые шары не возвращаются. Если первый шар оказался черным, то перед вторым извлечением в урну добавляют белый шар. В противном случае состав оставшихся шаров не меняют. Найти вероятности событий:\n",
    "\n",
    "$A$ = {извлечены два белых шара},\n",
    "\n",
    "$B$ = {извлечены два черных шара}\n",
    "\n",
    "Указание. Пусть событие $C_1$ = {первый шар белый}, событие $C_2$ = {второй шар белый}. Тогда $A = C_1C_2$, $B = \\overline C_1 \\overline C_2$ "
   ]
  },
  {
   "cell_type": "code",
   "execution_count": 50,
   "metadata": {
    "id": "WSLnhk2sdBt_"
   },
   "outputs": [
    {
     "name": "stdout",
     "output_type": "stream",
     "text": [
      "Вероятность события \"извлечены два белых шара\" = 0.087\n",
      "Вероятность события \"извлечены два черных шара\" = 0.258\n"
     ]
    }
   ],
   "source": [
    "# заполняем урну\n",
    "Urn_full =['white', 'white', 'black', 'black', 'black'] \n",
    "A=0 \n",
    "B=0\n",
    "i=0\n",
    "# задаем число экспериментов\n",
    "n=1000\n",
    "# генерируем выборку\n",
    "while i<n:\n",
    "    i+=1\n",
    "    Urn_full =['white', 'white', 'black', 'black', 'black'] \n",
    "    x=random.choice(Urn_full)\n",
    "    # Убираем первый шар\n",
    "    Urn_full.remove(x)\n",
    "    Urn_full2=Urn_full\n",
    "    \n",
    " # Если первый шар оказался черным, то перед вторым извлечением в урну добавляют белый шар     \n",
    "    if x == 'black': \n",
    "        Urn_full.append('white')\n",
    "        Urn_full2=Urn_full\n",
    "    \n",
    "    y=random.choice(Urn_full2)\n",
    "     \n",
    "    \n",
    "    if x =='white' and y == 'white':\n",
    "        A+=1 \n",
    "    elif x =='black' and y == 'black':\n",
    "        B+=1 \n",
    "   \n",
    "print('Вероятность события \"извлечены два белых шара\" =', A/n)\n",
    "print('Вероятность события \"извлечены два черных шара\" =', B/n)"
   ]
  },
  {
   "cell_type": "code",
   "execution_count": null,
   "metadata": {},
   "outputs": [],
   "source": []
  }
 ],
 "metadata": {
  "colab": {
   "collapsed_sections": [],
   "name": "Практика к занятию 11.ipynb",
   "provenance": []
  },
  "kernelspec": {
   "display_name": "Python 3",
   "language": "python",
   "name": "python3"
  },
  "language_info": {
   "codemirror_mode": {
    "name": "ipython",
    "version": 3
   },
   "file_extension": ".py",
   "mimetype": "text/x-python",
   "name": "python",
   "nbconvert_exporter": "python",
   "pygments_lexer": "ipython3",
   "version": "3.8.8"
  }
 },
 "nbformat": 4,
 "nbformat_minor": 1
}
